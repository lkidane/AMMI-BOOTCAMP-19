{
  "nbformat": 4,
  "nbformat_minor": 0,
  "metadata": {
    "colab": {
      "name": "AMMI_Day_3",
      "provenance": []
    },
    "kernelspec": {
      "name": "python3",
      "display_name": "Python 3"
    }
  },
  "cells": [
    {
      "cell_type": "markdown",
      "metadata": {
        "id": "TmRaU_Lx6Gc7",
        "colab_type": "text"
      },
      "source": [
        "# AMMI Day 3"
      ]
    },
    {
      "cell_type": "markdown",
      "metadata": {
        "id": "aCQdMAux6Irf",
        "colab_type": "text"
      },
      "source": [
        "## Morning Session\n",
        "### Numpy\n",
        "### Data Visualization"
      ]
    },
    {
      "cell_type": "code",
      "metadata": {
        "id": "94HzdIY4z2qB",
        "colab_type": "code",
        "colab": {}
      },
      "source": [
        "import pandas as pd\n",
        "iris = pd.read_csv('https://archive.ics.uci.edu/ml/machine-learning-databases/iris/iris.data', header=None)\n",
        "iris_array = iris[[0, 1, 2, 3]].values"
      ],
      "execution_count": 0,
      "outputs": []
    },
    {
      "cell_type": "markdown",
      "metadata": {
        "id": "c5oeVcVFuo6f",
        "colab_type": "text"
      },
      "source": [
        "## Numpy"
      ]
    },
    {
      "cell_type": "markdown",
      "metadata": {
        "id": "GAjX0HH3Sjuv",
        "colab_type": "text"
      },
      "source": [
        "Compute the areas of some rectangles"
      ]
    },
    {
      "cell_type": "code",
      "metadata": {
        "id": "_SS0W7rjSp82",
        "colab_type": "code",
        "colab": {}
      },
      "source": [
        "_lengths = [5, 4, 8, 3, 9]\n",
        "_breadths = [10, 11, 29, 24, 32]"
      ],
      "execution_count": 0,
      "outputs": []
    },
    {
      "cell_type": "code",
      "metadata": {
        "id": "6IOKBV4uuTl-",
        "colab_type": "code",
        "outputId": "61d9d451-5950-4ba3-92a2-447a2122ce37",
        "colab": {
          "base_uri": "https://localhost:8080/",
          "height": 34
        }
      },
      "source": [
        "_areas = []\n",
        "\n",
        "for i, j in zip(_lengths, _breadths):\n",
        "  _areas.append(i * j)\n",
        "print(_areas)"
      ],
      "execution_count": 0,
      "outputs": [
        {
          "output_type": "stream",
          "text": [
            "[50, 44, 232, 72, 288]\n"
          ],
          "name": "stdout"
        }
      ]
    },
    {
      "cell_type": "code",
      "metadata": {
        "id": "axKleS47u1CB",
        "colab_type": "code",
        "outputId": "9e776629-8d82-4301-d13b-9e01bf03819d",
        "colab": {
          "base_uri": "https://localhost:8080/",
          "height": 34
        }
      },
      "source": [
        "_areas = map(lambda l, b: l * b, _lengths, _breadths)\n",
        "print(list(_areas))"
      ],
      "execution_count": 0,
      "outputs": [
        {
          "output_type": "stream",
          "text": [
            "[50, 44, 232, 72, 288]\n"
          ],
          "name": "stdout"
        }
      ]
    },
    {
      "cell_type": "markdown",
      "metadata": {
        "id": "anZVEBHZvGwv",
        "colab_type": "text"
      },
      "source": [
        "That was easy, so lets perform other mathematical operations:\n",
        "* find maximum values\n",
        "* find minimum values\n",
        "* sum up the values\n",
        "* etc"
      ]
    },
    {
      "cell_type": "code",
      "metadata": {
        "id": "8iibLxtUvVYB",
        "colab_type": "code",
        "colab": {}
      },
      "source": [
        "import numpy as np"
      ],
      "execution_count": 0,
      "outputs": []
    },
    {
      "cell_type": "code",
      "metadata": {
        "id": "d4ySGi-J3sH_",
        "colab_type": "code",
        "outputId": "b8d8f16d-28e9-4427-d965-bfaffc4cfc29",
        "colab": {
          "base_uri": "https://localhost:8080/",
          "height": 34
        }
      },
      "source": [
        "print(_lengths)"
      ],
      "execution_count": 0,
      "outputs": [
        {
          "output_type": "stream",
          "text": [
            "[5, 4, 8, 3, 9]\n"
          ],
          "name": "stdout"
        }
      ]
    },
    {
      "cell_type": "code",
      "metadata": {
        "id": "9UYAnvtOvaAx",
        "colab_type": "code",
        "outputId": "768b0ae2-9d8b-41c0-ce5f-6c9262af1f6b",
        "colab": {
          "base_uri": "https://localhost:8080/",
          "height": 34
        }
      },
      "source": [
        "_l_array = np.asarray(_lengths)\n",
        "print(_l_array)"
      ],
      "execution_count": 0,
      "outputs": [
        {
          "output_type": "stream",
          "text": [
            "[5 4 8 3 9]\n"
          ],
          "name": "stdout"
        }
      ]
    },
    {
      "cell_type": "code",
      "metadata": {
        "id": "3ulQzu9yv4hM",
        "colab_type": "code",
        "outputId": "f87eb447-5d9d-4222-f778-13dbc359ba87",
        "colab": {
          "base_uri": "https://localhost:8080/",
          "height": 34
        }
      },
      "source": [
        "_b_array = np.asarray(_breadths)\n",
        "\n",
        "\n",
        "_areas_array = _l_array * _b_array\n",
        "print(_areas_array)"
      ],
      "execution_count": 0,
      "outputs": [
        {
          "output_type": "stream",
          "text": [
            "[ 50  44 232  72 288]\n"
          ],
          "name": "stdout"
        }
      ]
    },
    {
      "cell_type": "markdown",
      "metadata": {
        "id": "i05AIrchxmE4",
        "colab_type": "text"
      },
      "source": [
        "check length"
      ]
    },
    {
      "cell_type": "code",
      "metadata": {
        "id": "a6SlWTnAxoAC",
        "colab_type": "code",
        "outputId": "4201a5b5-6b39-4a34-91e4-64e3908f8c2c",
        "colab": {
          "base_uri": "https://localhost:8080/",
          "height": 34
        }
      },
      "source": [
        "print(len(_areas_array))"
      ],
      "execution_count": 0,
      "outputs": [
        {
          "output_type": "stream",
          "text": [
            "5\n"
          ],
          "name": "stdout"
        }
      ]
    },
    {
      "cell_type": "markdown",
      "metadata": {
        "id": "gXz5P6oCxtHT",
        "colab_type": "text"
      },
      "source": [
        "print value at an index"
      ]
    },
    {
      "cell_type": "code",
      "metadata": {
        "id": "-1pvh0qzxw8z",
        "colab_type": "code",
        "outputId": "01c87fbe-a9b5-476a-a517-1031f0d1e478",
        "colab": {
          "base_uri": "https://localhost:8080/",
          "height": 34
        }
      },
      "source": [
        "print(_areas_array[0])"
      ],
      "execution_count": 0,
      "outputs": [
        {
          "output_type": "stream",
          "text": [
            "50\n"
          ],
          "name": "stdout"
        }
      ]
    },
    {
      "cell_type": "code",
      "metadata": {
        "id": "dP4be-tIxxDI",
        "colab_type": "code",
        "outputId": "a6afaae8-2b90-43dc-e5ed-06adf9b7d5c4",
        "colab": {
          "base_uri": "https://localhost:8080/",
          "height": 34
        }
      },
      "source": [
        "print(_areas_array[1])"
      ],
      "execution_count": 0,
      "outputs": [
        {
          "output_type": "stream",
          "text": [
            "44\n"
          ],
          "name": "stdout"
        }
      ]
    },
    {
      "cell_type": "markdown",
      "metadata": {
        "id": "pUIvPltPxJ6m",
        "colab_type": "text"
      },
      "source": [
        "Perform comparisons"
      ]
    },
    {
      "cell_type": "code",
      "metadata": {
        "id": "P3sUQ1yjxQf2",
        "colab_type": "code",
        "outputId": "3be1862f-210f-403f-a485-ec54aa630551",
        "colab": {
          "base_uri": "https://localhost:8080/",
          "height": 34
        }
      },
      "source": [
        "print(_areas_array > 100)"
      ],
      "execution_count": 0,
      "outputs": [
        {
          "output_type": "stream",
          "text": [
            "[False False  True False  True]\n"
          ],
          "name": "stdout"
        }
      ]
    },
    {
      "cell_type": "markdown",
      "metadata": {
        "id": "D2fj7OlLx-z5",
        "colab_type": "text"
      },
      "source": [
        "2D Array"
      ]
    },
    {
      "cell_type": "code",
      "metadata": {
        "id": "G3BSi3TkyART",
        "colab_type": "code",
        "colab": {}
      },
      "source": [
        "_boxes = np.array([_lengths, _breadths])"
      ],
      "execution_count": 0,
      "outputs": []
    },
    {
      "cell_type": "code",
      "metadata": {
        "id": "361wTQKPyKNM",
        "colab_type": "code",
        "outputId": "92f9469c-0937-4790-db83-3580c0221932",
        "colab": {
          "base_uri": "https://localhost:8080/",
          "height": 51
        }
      },
      "source": [
        "print(_boxes)"
      ],
      "execution_count": 0,
      "outputs": [
        {
          "output_type": "stream",
          "text": [
            "[[ 5  4  8  3  9]\n",
            " [10 11 29 24 32]]\n"
          ],
          "name": "stdout"
        }
      ]
    },
    {
      "cell_type": "code",
      "metadata": {
        "id": "J6Z_Vtt8yOG5",
        "colab_type": "code",
        "outputId": "5e13e6c1-3873-43f0-9fc7-bf30443d6f4f",
        "colab": {
          "base_uri": "https://localhost:8080/",
          "height": 34
        }
      },
      "source": [
        "print(_boxes.shape)"
      ],
      "execution_count": 0,
      "outputs": [
        {
          "output_type": "stream",
          "text": [
            "(2, 5)\n"
          ],
          "name": "stdout"
        }
      ]
    },
    {
      "cell_type": "markdown",
      "metadata": {
        "id": "QFmR67hWygqI",
        "colab_type": "text"
      },
      "source": [
        "Can we subset?"
      ]
    },
    {
      "cell_type": "markdown",
      "metadata": {
        "id": "dJaG78Koyjr6",
        "colab_type": "text"
      },
      "source": [
        "Print 1st row"
      ]
    },
    {
      "cell_type": "code",
      "metadata": {
        "id": "L41cbvdo4vdn",
        "colab_type": "code",
        "outputId": "65d81e7b-d773-4432-8380-2397807b2eba",
        "colab": {
          "base_uri": "https://localhost:8080/",
          "height": 34
        }
      },
      "source": [
        "print(_boxes[0])"
      ],
      "execution_count": 0,
      "outputs": [
        {
          "output_type": "stream",
          "text": [
            "[5 4 8 3 9]\n"
          ],
          "name": "stdout"
        }
      ]
    },
    {
      "cell_type": "markdown",
      "metadata": {
        "id": "Y8T4dES8ylQV",
        "colab_type": "text"
      },
      "source": [
        "Print 2nd row"
      ]
    },
    {
      "cell_type": "code",
      "metadata": {
        "id": "jBOwjPhH5OxM",
        "colab_type": "code",
        "outputId": "ed09568a-0c37-445c-cf00-95a31c8ce696",
        "colab": {
          "base_uri": "https://localhost:8080/",
          "height": 34
        }
      },
      "source": [
        "print(_boxes[1])"
      ],
      "execution_count": 0,
      "outputs": [
        {
          "output_type": "stream",
          "text": [
            "[10 11 29 24 32]\n"
          ],
          "name": "stdout"
        }
      ]
    },
    {
      "cell_type": "markdown",
      "metadata": {
        "id": "COSsg_-vynmb",
        "colab_type": "text"
      },
      "source": [
        "Print 1st item in 2nd row"
      ]
    },
    {
      "cell_type": "code",
      "metadata": {
        "id": "Jq2G5nh05Tj9",
        "colab_type": "code",
        "outputId": "1c7534ae-ace4-44f5-e060-a2b237c413e5",
        "colab": {
          "base_uri": "https://localhost:8080/",
          "height": 34
        }
      },
      "source": [
        "print(_boxes[1][0])"
      ],
      "execution_count": 0,
      "outputs": [
        {
          "output_type": "stream",
          "text": [
            "10\n"
          ],
          "name": "stdout"
        }
      ]
    },
    {
      "cell_type": "markdown",
      "metadata": {
        "id": "92xC-V9s1HpS",
        "colab_type": "text"
      },
      "source": [
        "working with `iris_array`"
      ]
    },
    {
      "cell_type": "markdown",
      "metadata": {
        "id": "HKH7jZoy1O1t",
        "colab_type": "text"
      },
      "source": [
        "print top 3 rows"
      ]
    },
    {
      "cell_type": "code",
      "metadata": {
        "id": "rAjuUjrS5fma",
        "colab_type": "code",
        "outputId": "cb712ed5-5163-4362-e006-955310e90c94",
        "colab": {
          "base_uri": "https://localhost:8080/",
          "height": 119
        }
      },
      "source": [
        "print(iris_array[:6])"
      ],
      "execution_count": 0,
      "outputs": [
        {
          "output_type": "stream",
          "text": [
            "[[5.1 3.5 1.4 0.2]\n",
            " [4.9 3.  1.4 0.2]\n",
            " [4.7 3.2 1.3 0.2]\n",
            " [4.6 3.1 1.5 0.2]\n",
            " [5.  3.6 1.4 0.2]\n",
            " [5.4 3.9 1.7 0.4]]\n"
          ],
          "name": "stdout"
        }
      ]
    },
    {
      "cell_type": "code",
      "metadata": {
        "id": "_ZDGlhoi5p92",
        "colab_type": "code",
        "outputId": "a04a2ae7-a3b7-47a0-daeb-62d5619bec94",
        "colab": {
          "base_uri": "https://localhost:8080/",
          "height": 34
        }
      },
      "source": [
        "print(iris_array[2].shape)"
      ],
      "execution_count": 0,
      "outputs": [
        {
          "output_type": "stream",
          "text": [
            "(4,)\n"
          ],
          "name": "stdout"
        }
      ]
    },
    {
      "cell_type": "markdown",
      "metadata": {
        "id": "gKm2bQ-21Rm1",
        "colab_type": "text"
      },
      "source": [
        "print mean of all values in column 0"
      ]
    },
    {
      "cell_type": "code",
      "metadata": {
        "id": "utYBEcZ67D74",
        "colab_type": "code",
        "outputId": "0de2f600-abb4-4a84-a327-1c6f76cb8d05",
        "colab": {
          "base_uri": "https://localhost:8080/",
          "height": 34
        }
      },
      "source": [
        "# get one column (you need to specify all the rows)\n",
        "print(iris_array[:3][0])"
      ],
      "execution_count": 0,
      "outputs": [
        {
          "output_type": "stream",
          "text": [
            "[5.1 3.5 1.4 0.2]\n"
          ],
          "name": "stdout"
        }
      ]
    },
    {
      "cell_type": "code",
      "metadata": {
        "id": "hz7nTrLb705e",
        "colab_type": "code",
        "outputId": "ca5f0ddb-a41e-4be7-d304-a4ed6b3c5bc6",
        "colab": {
          "base_uri": "https://localhost:8080/",
          "height": 34
        }
      },
      "source": [
        "print(iris_array[2])"
      ],
      "execution_count": 0,
      "outputs": [
        {
          "output_type": "stream",
          "text": [
            "[4.7 3.2 1.3 0.2]\n"
          ],
          "name": "stdout"
        }
      ]
    },
    {
      "cell_type": "code",
      "metadata": {
        "id": "iy9e7JKk1fPt",
        "colab_type": "code",
        "outputId": "55f95304-0ed4-4501-8248-a9c5ea8678b3",
        "colab": {
          "base_uri": "https://localhost:8080/",
          "height": 34
        }
      },
      "source": [
        "print(np.mean(iris_array[0:,0]))"
      ],
      "execution_count": 0,
      "outputs": [
        {
          "output_type": "stream",
          "text": [
            "5.843333333333334\n"
          ],
          "name": "stdout"
        }
      ]
    },
    {
      "cell_type": "markdown",
      "metadata": {
        "id": "sDpkHTGm13cz",
        "colab_type": "text"
      },
      "source": [
        "median"
      ]
    },
    {
      "cell_type": "code",
      "metadata": {
        "id": "XYnQuBQU8qWm",
        "colab_type": "code",
        "outputId": "1d029894-96ed-4c6f-9990-062ca110265d",
        "colab": {
          "base_uri": "https://localhost:8080/",
          "height": 34
        }
      },
      "source": [
        "print(np.median(iris_array[:, 0]))"
      ],
      "execution_count": 0,
      "outputs": [
        {
          "output_type": "stream",
          "text": [
            "5.8\n"
          ],
          "name": "stdout"
        }
      ]
    },
    {
      "cell_type": "markdown",
      "metadata": {
        "id": "tgZf_r4I164J",
        "colab_type": "text"
      },
      "source": [
        "standard deviation"
      ]
    },
    {
      "cell_type": "code",
      "metadata": {
        "id": "8OVGElQy8wTB",
        "colab_type": "code",
        "outputId": "50f6dd78-235b-49fb-c49e-bff38ecbaf8c",
        "colab": {
          "base_uri": "https://localhost:8080/",
          "height": 34
        }
      },
      "source": [
        "print(np.std(iris_array[:, 0]))"
      ],
      "execution_count": 0,
      "outputs": [
        {
          "output_type": "stream",
          "text": [
            "0.8253012917851409\n"
          ],
          "name": "stdout"
        }
      ]
    },
    {
      "cell_type": "code",
      "metadata": {
        "id": "A5hAJb-81-Cx",
        "colab_type": "code",
        "colab": {}
      },
      "source": [
        "correlation coefficient"
      ],
      "execution_count": 0,
      "outputs": []
    },
    {
      "cell_type": "code",
      "metadata": {
        "id": "J1Rz_dOi87gO",
        "colab_type": "code",
        "outputId": "76a799fc-d791-4766-d6ef-a61872eae9da",
        "colab": {
          "base_uri": "https://localhost:8080/",
          "height": 51
        }
      },
      "source": [
        "print(np.corrcoef(iris_array[0], iris_array[1]))"
      ],
      "execution_count": 0,
      "outputs": [
        {
          "output_type": "stream",
          "text": [
            "[[1.         0.99599866]\n",
            " [0.99599866 1.        ]]\n"
          ],
          "name": "stdout"
        }
      ]
    },
    {
      "cell_type": "markdown",
      "metadata": {
        "id": "saX6Jzie2UZi",
        "colab_type": "text"
      },
      "source": [
        "sum"
      ]
    },
    {
      "cell_type": "markdown",
      "metadata": {
        "id": "3W56yOfP2Vtl",
        "colab_type": "text"
      },
      "source": [
        "### Generate some data"
      ]
    },
    {
      "cell_type": "code",
      "metadata": {
        "id": "EC99GMJj2Zxo",
        "colab_type": "code",
        "colab": {}
      },
      "source": [
        "heights = np.random.normal(1.6, 0.1, 5000)\n",
        "weights = np.random.normal(65, 15, 5000)"
      ],
      "execution_count": 0,
      "outputs": []
    },
    {
      "cell_type": "code",
      "metadata": {
        "id": "L7ufEHKK_IUG",
        "colab_type": "code",
        "outputId": "e5ef5d44-f4c3-4d5e-9c9e-3e5134c5eb24",
        "colab": {
          "base_uri": "https://localhost:8080/",
          "height": 34
        }
      },
      "source": [
        "print(weights[:2])"
      ],
      "execution_count": 0,
      "outputs": [
        {
          "output_type": "stream",
          "text": [
            "[80.48 52.85]\n"
          ],
          "name": "stdout"
        }
      ]
    },
    {
      "cell_type": "code",
      "metadata": {
        "id": "SZfx3eRa2tcJ",
        "colab_type": "code",
        "outputId": "e9a481d8-a910-4e40-d828-30c6dec6c382",
        "colab": {
          "base_uri": "https://localhost:8080/",
          "height": 34
        }
      },
      "source": [
        "print(heights[:2])"
      ],
      "execution_count": 0,
      "outputs": [
        {
          "output_type": "stream",
          "text": [
            "[1.54184892 1.63307693]\n"
          ],
          "name": "stdout"
        }
      ]
    },
    {
      "cell_type": "markdown",
      "metadata": {
        "id": "zXV2wICk23aA",
        "colab_type": "text"
      },
      "source": [
        "truncate to 2 decimal places"
      ]
    },
    {
      "cell_type": "code",
      "metadata": {
        "id": "3zoFkxos_VKq",
        "colab_type": "code",
        "colab": {}
      },
      "source": [
        "heights = np.round(heights, 2)\n",
        "weights = np.round(weights, 2)"
      ],
      "execution_count": 0,
      "outputs": []
    },
    {
      "cell_type": "markdown",
      "metadata": {
        "id": "rCrKvFkS26bU",
        "colab_type": "text"
      },
      "source": [
        "make a 2D array"
      ]
    },
    {
      "cell_type": "code",
      "metadata": {
        "id": "ITKr9bbY2-Wg",
        "colab_type": "code",
        "outputId": "ec1140e4-afbc-4ee3-8af7-7f89867a1cc6",
        "colab": {
          "base_uri": "https://localhost:8080/",
          "height": 102
        }
      },
      "source": [
        "persons = np.column_stack( (heights, weights) )\n",
        "print(persons[:5])"
      ],
      "execution_count": 0,
      "outputs": [
        {
          "output_type": "stream",
          "text": [
            "[[ 1.54 80.48]\n",
            " [ 1.63 52.85]\n",
            " [ 1.54 49.52]\n",
            " [ 1.5  66.69]\n",
            " [ 1.69 80.89]]\n"
          ],
          "name": "stdout"
        }
      ]
    },
    {
      "cell_type": "markdown",
      "metadata": {
        "id": "UEgmsmH63iNj",
        "colab_type": "text"
      },
      "source": [
        "### Plotting"
      ]
    },
    {
      "cell_type": "code",
      "metadata": {
        "id": "X597bHKx30gs",
        "colab_type": "code",
        "colab": {}
      },
      "source": [
        "import matplotlib.pyplot as plt\n",
        "%matplotlib inline"
      ],
      "execution_count": 0,
      "outputs": []
    },
    {
      "cell_type": "code",
      "metadata": {
        "id": "es1gSTwi4RKe",
        "colab_type": "code",
        "colab": {}
      },
      "source": [
        "year = [1990, 1991, 1992, 1993, 1994, 1995, 1996, 1997, 1998, 1999, 2000]\n",
        "pop = [7.24, 7.05, 6.70, 6.30, 6.01, 5.93, 6.12, 6.52, 7.06, 7.59, 8.03]"
      ],
      "execution_count": 0,
      "outputs": []
    },
    {
      "cell_type": "code",
      "metadata": {
        "id": "zJacOtUEDie1",
        "colab_type": "code",
        "colab": {}
      },
      "source": [
        "year = np.asarray(year)\n",
        "pop = np.asarray(pop)"
      ],
      "execution_count": 0,
      "outputs": []
    },
    {
      "cell_type": "markdown",
      "metadata": {
        "id": "H-kQkk-O7qCT",
        "colab_type": "text"
      },
      "source": [
        "Can we plot a time series?"
      ]
    },
    {
      "cell_type": "code",
      "metadata": {
        "id": "AFWD4TLT7eZc",
        "colab_type": "code",
        "outputId": "8aca8321-fe45-4c70-dba9-4c19b5f741a8",
        "colab": {
          "base_uri": "https://localhost:8080/",
          "height": 269
        }
      },
      "source": [
        "plt.plot(year, pop)\n",
        "plt.show()"
      ],
      "execution_count": 0,
      "outputs": [
        {
          "output_type": "display_data",
          "data": {
            "image/png": "[encoded data removed]",
            "text/plain": [
              "<Figure size 432x288 with 1 Axes>"
            ]
          },
          "metadata": {
            "tags": []
          }
        }
      ]
    },
    {
      "cell_type": "markdown",
      "metadata": {
        "id": "4C8ssNyN8bUP",
        "colab_type": "text"
      },
      "source": [
        "Let's add axis labels"
      ]
    },
    {
      "cell_type": "code",
      "metadata": {
        "id": "Lduz2pUy8dm2",
        "colab_type": "code",
        "outputId": "e1125177-cbf9-48f3-96c3-c04ebcfbb502",
        "colab": {
          "base_uri": "https://localhost:8080/",
          "height": 295
        }
      },
      "source": [
        "plt.plot(year, pop)\n",
        "plt.xlabel('Year')\n",
        "plt.ylabel('Population (M)')\n",
        "\n",
        "# Give the chart a label\n",
        "plt.title('Population for Country X')\n",
        "\n",
        "# Control the numbers shown on the vertical axis\n",
        "plt.yticks([0, 2, 4, 6, 8, 10], ['0', '2M', '4M', '6M', '8M', '10M'])\n",
        "plt.show()"
      ],
      "execution_count": 0,
      "outputs": [
        {
          "output_type": "display_data",
          "data": {
            "image/png": "[encoded data removed]",
            "text/plain": [
              "<Figure size 432x288 with 1 Axes>"
            ]
          },
          "metadata": {
            "tags": []
          }
        }
      ]
    },
    {
      "cell_type": "markdown",
      "metadata": {
        "id": "gM7bmjnl7w8D",
        "colab_type": "text"
      },
      "source": [
        "Can we plot a scatter diagram?"
      ]
    },
    {
      "cell_type": "code",
      "metadata": {
        "id": "2jiM0-X670NY",
        "colab_type": "code",
        "outputId": "c90dc29a-7b1a-4f7e-e2c9-6e34eb829844",
        "colab": {
          "base_uri": "https://localhost:8080/",
          "height": 286
        }
      },
      "source": [
        "plt.scatter(year, pop)"
      ],
      "execution_count": 0,
      "outputs": [
        {
          "output_type": "execute_result",
          "data": {
            "text/plain": [
              "<matplotlib.collections.PathCollection at 0x7f77e3b54518>"
            ]
          },
          "metadata": {
            "tags": []
          },
          "execution_count": 63
        },
        {
          "output_type": "display_data",
          "data": {
            "image/png": "[encoded data removed]",
            "text/plain": [
              "<Figure size 432x288 with 1 Axes>"
            ]
          },
          "metadata": {
            "tags": []
          }
        }
      ]
    },
    {
      "cell_type": "markdown",
      "metadata": {
        "id": "8eGU6U_j70iw",
        "colab_type": "text"
      },
      "source": [
        "can we plot a histogram?"
      ]
    },
    {
      "cell_type": "code",
      "metadata": {
        "id": "7uynsGnUFYqM",
        "colab_type": "code",
        "outputId": "688fa68d-2bcf-4760-c3ef-5f22da471558",
        "colab": {
          "base_uri": "https://localhost:8080/",
          "height": 269
        }
      },
      "source": [
        "plt.hist(iris_array[:,0], bins=5)\n",
        "plt.show()"
      ],
      "execution_count": 0,
      "outputs": [
        {
          "output_type": "display_data",
          "data": {
            "image/png": "[encoded data removed]",
            "text/plain": [
              "<Figure size 432x288 with 1 Axes>"
            ]
          },
          "metadata": {
            "tags": []
          }
        }
      ]
    },
    {
      "cell_type": "markdown",
      "metadata": {
        "id": "S6q9_HuQ6Ocj",
        "colab_type": "text"
      },
      "source": [
        "## Afternoon Session\n",
        "### Pandas\n",
        "### Data Processing"
      ]
    },
    {
      "cell_type": "markdown",
      "metadata": {
        "id": "FMF8Cw38-DQ5",
        "colab_type": "text"
      },
      "source": [
        "### Pandas"
      ]
    },
    {
      "cell_type": "code",
      "metadata": {
        "id": "ep1JcBuE-G5L",
        "colab_type": "code",
        "colab": {}
      },
      "source": [
        "import pandas as pd"
      ],
      "execution_count": 0,
      "outputs": []
    },
    {
      "cell_type": "markdown",
      "metadata": {
        "id": "uhcHhKqf_esv",
        "colab_type": "text"
      },
      "source": [
        "Recall our dictionary"
      ]
    },
    {
      "cell_type": "code",
      "metadata": {
        "id": "9fgp-Jcu6ATd",
        "colab_type": "code",
        "outputId": "9094377f-b1bc-4375-ffea-e5ac6722d022",
        "colab": {
          "base_uri": "https://localhost:8080/",
          "height": 68
        }
      },
      "source": [
        "_countries_list = ['Kenya', 'Rwanda', 'Uganda']\n",
        "_temperatures_list = [17, 19, 21]\n",
        "\n",
        "for i in range(len(_countries_list)):\n",
        "  print('country: {} temperature: {}'.format(_countries_list[i], _temperatures_list[i]))"
      ],
      "execution_count": 0,
      "outputs": [
        {
          "output_type": "stream",
          "text": [
            "country: Kenya temperature: 17\n",
            "country: Rwanda temperature: 19\n",
            "country: Uganda temperature: 21\n"
          ],
          "name": "stdout"
        }
      ]
    },
    {
      "cell_type": "code",
      "metadata": {
        "id": "v664NagDuc0-",
        "colab_type": "code",
        "outputId": "b7ea9544-d3d2-4f5a-a9ae-f3bf3a014274",
        "colab": {
          "base_uri": "https://localhost:8080/",
          "height": 68
        }
      },
      "source": [
        "for k, v in zip(_countries_list, _temperatures_list):\n",
        "  print(k,v)"
      ],
      "execution_count": 0,
      "outputs": [
        {
          "output_type": "stream",
          "text": [
            "Kenya 17\n",
            "Rwanda 19\n",
            "Uganda 21\n"
          ],
          "name": "stdout"
        }
      ]
    },
    {
      "cell_type": "code",
      "metadata": {
        "id": "7C2dfpeYu7FD",
        "colab_type": "code",
        "outputId": "21bfb78c-3289-4b75-923f-700489582423",
        "colab": {
          "base_uri": "https://localhost:8080/",
          "height": 34
        }
      },
      "source": [
        "_dict = dict(country=_countries_list, temperature=_temperatures_list)\n",
        "print(_dict)"
      ],
      "execution_count": 0,
      "outputs": [
        {
          "output_type": "stream",
          "text": [
            "{'country': ['Kenya', 'Rwanda', 'Uganda'], 'temperature': [17, 19, 21]}\n"
          ],
          "name": "stdout"
        }
      ]
    },
    {
      "cell_type": "code",
      "metadata": {
        "id": "X5qCc1HDvK1v",
        "colab_type": "code",
        "outputId": "a3e8a887-ab09-4845-9006-2897061df52b",
        "colab": {
          "base_uri": "https://localhost:8080/",
          "height": 85
        }
      },
      "source": [
        "_df = pd.DataFrame(_dict)\n",
        "print(_df)"
      ],
      "execution_count": 0,
      "outputs": [
        {
          "output_type": "stream",
          "text": [
            "  country  temperature\n",
            "0   Kenya           17\n",
            "1  Rwanda           19\n",
            "2  Uganda           21\n"
          ],
          "name": "stdout"
        }
      ]
    },
    {
      "cell_type": "code",
      "metadata": {
        "id": "Lwicc4YF_hs8",
        "colab_type": "code",
        "outputId": "0edaaec0-20ba-4c4d-86d6-daded2950828",
        "colab": {
          "base_uri": "https://localhost:8080/",
          "height": 34
        }
      },
      "source": [
        "_countries_dict = {'Kenya': 17, 'Rwanda': 19, 'Uganda': 21}\n",
        "print(_countries_dict)"
      ],
      "execution_count": 0,
      "outputs": [
        {
          "output_type": "stream",
          "text": [
            "{'Kenya': 17, 'Rwanda': 19, 'Uganda': 21}\n"
          ],
          "name": "stdout"
        }
      ]
    },
    {
      "cell_type": "markdown",
      "metadata": {
        "id": "-UPy5dv7_nNa",
        "colab_type": "text"
      },
      "source": [
        "Can we see the same information as a table?"
      ]
    },
    {
      "cell_type": "code",
      "metadata": {
        "id": "3hIY9UaW_rhb",
        "colab_type": "code",
        "outputId": "c2bdfdff-0db0-4641-dc30-9bf50edae9e3",
        "colab": {
          "base_uri": "https://localhost:8080/",
          "height": 34
        }
      },
      "source": [
        "_countries_1 = {'Country': _countries_list, 'Temperature': _temperatures_list}\n",
        "print(_countries_1)"
      ],
      "execution_count": 0,
      "outputs": [
        {
          "output_type": "stream",
          "text": [
            "{'Country': ['Kenya', 'Rwanda', 'Uganda'], 'Temperature': [17, 19, 21]}\n"
          ],
          "name": "stdout"
        }
      ]
    },
    {
      "cell_type": "code",
      "metadata": {
        "id": "gHZtqgD7APXy",
        "colab_type": "code",
        "colab": {}
      },
      "source": [
        "_countries_2 = pd.DataFrame(_countries_1)"
      ],
      "execution_count": 0,
      "outputs": []
    },
    {
      "cell_type": "markdown",
      "metadata": {
        "id": "bEtjQazHAcA7",
        "colab_type": "text"
      },
      "source": [
        "Let's see the top n"
      ]
    },
    {
      "cell_type": "code",
      "metadata": {
        "id": "4GYShvFitgkP",
        "colab_type": "code",
        "outputId": "52e2e014-f449-4ae5-e1c2-7c65da4953ba",
        "colab": {
          "base_uri": "https://localhost:8080/",
          "height": 142
        }
      },
      "source": [
        "_countries_2.head()"
      ],
      "execution_count": 0,
      "outputs": [
        {
          "output_type": "execute_result",
          "data": {
            "text/html": [
              "<div>\n",
              "<style scoped>\n",
              "    .dataframe tbody tr th:only-of-type {\n",
              "        vertical-align: middle;\n",
              "    }\n",
              "\n",
              "    .dataframe tbody tr th {\n",
              "        vertical-align: top;\n",
              "    }\n",
              "\n",
              "    .dataframe thead th {\n",
              "        text-align: right;\n",
              "    }\n",
              "</style>\n",
              "<table border=\"1\" class=\"dataframe\">\n",
              "  <thead>\n",
              "    <tr style=\"text-align: right;\">\n",
              "      <th></th>\n",
              "      <th>Country</th>\n",
              "      <th>Temperature</th>\n",
              "    </tr>\n",
              "  </thead>\n",
              "  <tbody>\n",
              "    <tr>\n",
              "      <th>0</th>\n",
              "      <td>Kenya</td>\n",
              "      <td>17</td>\n",
              "    </tr>\n",
              "    <tr>\n",
              "      <th>1</th>\n",
              "      <td>Rwanda</td>\n",
              "      <td>19</td>\n",
              "    </tr>\n",
              "    <tr>\n",
              "      <th>2</th>\n",
              "      <td>Uganda</td>\n",
              "      <td>21</td>\n",
              "    </tr>\n",
              "  </tbody>\n",
              "</table>\n",
              "</div>"
            ],
            "text/plain": [
              "  Country  Temperature\n",
              "0   Kenya           17\n",
              "1  Rwanda           19\n",
              "2  Uganda           21"
            ]
          },
          "metadata": {
            "tags": []
          },
          "execution_count": 81
        }
      ]
    },
    {
      "cell_type": "code",
      "metadata": {
        "id": "O7OcW_iJuFFd",
        "colab_type": "code",
        "outputId": "42f8c244-1c78-46e9-f94c-cc82ba59f14d",
        "colab": {
          "base_uri": "https://localhost:8080/",
          "height": 34
        }
      },
      "source": [
        "print(type(_countries_2))"
      ],
      "execution_count": 0,
      "outputs": [
        {
          "output_type": "stream",
          "text": [
            "<class 'pandas.core.frame.DataFrame'>\n"
          ],
          "name": "stdout"
        }
      ]
    },
    {
      "cell_type": "markdown",
      "metadata": {
        "id": "E777J81TAqVR",
        "colab_type": "text"
      },
      "source": [
        "Let's add indexes"
      ]
    },
    {
      "cell_type": "code",
      "metadata": {
        "id": "iH3YOMViAZEu",
        "colab_type": "code",
        "colab": {}
      },
      "source": [
        "_countries_2.index = ['KE', 'RW', 'UG']"
      ],
      "execution_count": 0,
      "outputs": []
    },
    {
      "cell_type": "markdown",
      "metadata": {
        "id": "0WU-SGg4BO1I",
        "colab_type": "text"
      },
      "source": [
        "View the DataFrame Again"
      ]
    },
    {
      "cell_type": "code",
      "metadata": {
        "id": "LYdzChBBvqtJ",
        "colab_type": "code",
        "outputId": "2d7e3acf-075c-4d97-94db-87fbf1f51041",
        "colab": {
          "base_uri": "https://localhost:8080/",
          "height": 142
        }
      },
      "source": [
        "_countries_2"
      ],
      "execution_count": 0,
      "outputs": [
        {
          "output_type": "execute_result",
          "data": {
            "text/html": [
              "<div>\n",
              "<style scoped>\n",
              "    .dataframe tbody tr th:only-of-type {\n",
              "        vertical-align: middle;\n",
              "    }\n",
              "\n",
              "    .dataframe tbody tr th {\n",
              "        vertical-align: top;\n",
              "    }\n",
              "\n",
              "    .dataframe thead th {\n",
              "        text-align: right;\n",
              "    }\n",
              "</style>\n",
              "<table border=\"1\" class=\"dataframe\">\n",
              "  <thead>\n",
              "    <tr style=\"text-align: right;\">\n",
              "      <th></th>\n",
              "      <th>Country</th>\n",
              "      <th>Temperature</th>\n",
              "    </tr>\n",
              "  </thead>\n",
              "  <tbody>\n",
              "    <tr>\n",
              "      <th>KE</th>\n",
              "      <td>Kenya</td>\n",
              "      <td>17</td>\n",
              "    </tr>\n",
              "    <tr>\n",
              "      <th>RW</th>\n",
              "      <td>Rwanda</td>\n",
              "      <td>19</td>\n",
              "    </tr>\n",
              "    <tr>\n",
              "      <th>UG</th>\n",
              "      <td>Uganda</td>\n",
              "      <td>21</td>\n",
              "    </tr>\n",
              "  </tbody>\n",
              "</table>\n",
              "</div>"
            ],
            "text/plain": [
              "   Country  Temperature\n",
              "KE   Kenya           17\n",
              "RW  Rwanda           19\n",
              "UG  Uganda           21"
            ]
          },
          "metadata": {
            "tags": []
          },
          "execution_count": 89
        }
      ]
    },
    {
      "cell_type": "markdown",
      "metadata": {
        "id": "KntTDkkuBnpF",
        "colab_type": "text"
      },
      "source": [
        "Fetch more data to work with"
      ]
    },
    {
      "cell_type": "code",
      "metadata": {
        "id": "Ysezb5iuCBY0",
        "colab_type": "code",
        "outputId": "420fa318-ce37-4803-a0b4-c01ac2b506db",
        "colab": {
          "base_uri": "https://localhost:8080/",
          "height": 122
        }
      },
      "source": [
        "from google.colab import drive\n",
        "drive.mount('/content/gdrive')"
      ],
      "execution_count": 0,
      "outputs": [
        {
          "output_type": "stream",
          "text": [
            "Go to this URL in a browser: https://accounts.google.com/o/oauth2/auth?client_id=947318989803-6bn6qk8qdgf4n4g3pfee6491hc0brc4i.apps.googleusercontent.com&redirect_uri=urn%3Aietf%3Awg%3Aoauth%3A2.0%3Aoob&scope=email%20https%3A%2F%2Fwww.googleapis.com%2Fauth%2Fdocs.test%20https%3A%2F%2Fwww.googleapis.com%2Fauth%2Fdrive%20https%3A%2F%2Fwww.googleapis.com%2Fauth%2Fdrive.photos.readonly%20https%3A%2F%2Fwww.googleapis.com%2Fauth%2Fpeopleapi.readonly&response_type=code\n",
            "\n",
            "Enter your authorization code:\n",
            "··········\n",
            "Mounted at /content/gdrive\n"
          ],
          "name": "stdout"
        }
      ]
    },
    {
      "cell_type": "code",
      "metadata": {
        "id": "5f_GKmB4CViD",
        "colab_type": "code",
        "colab": {}
      },
      "source": [
        "df = pd.read_csv('/content/gdrive/My Drive/gapminder/population_total.csv')"
      ],
      "execution_count": 0,
      "outputs": []
    },
    {
      "cell_type": "code",
      "metadata": {
        "id": "bZlAGL8GwYhL",
        "colab_type": "code",
        "colab": {}
      },
      "source": [
        "_iris = pd.read_csv('https://archive.ics.uci.edu/ml/machine-learning-databases/iris/iris.data', header=None)"
      ],
      "execution_count": 0,
      "outputs": []
    },
    {
      "cell_type": "markdown",
      "metadata": {
        "id": "y68gPym1C0ui",
        "colab_type": "text"
      },
      "source": [
        "How many columns are in this data?"
      ]
    },
    {
      "cell_type": "code",
      "metadata": {
        "id": "8Uuj89K1yUDq",
        "colab_type": "code",
        "outputId": "6a025211-bdef-4b80-c06c-4ed5b0dc992b",
        "colab": {
          "base_uri": "https://localhost:8080/",
          "height": 187
        }
      },
      "source": [
        "_iris.info()"
      ],
      "execution_count": 0,
      "outputs": [
        {
          "output_type": "stream",
          "text": [
            "<class 'pandas.core.frame.DataFrame'>\n",
            "RangeIndex: 150 entries, 0 to 149\n",
            "Data columns (total 5 columns):\n",
            "0    150 non-null float64\n",
            "1    150 non-null float64\n",
            "2    150 non-null float64\n",
            "3    150 non-null float64\n",
            "4    150 non-null object\n",
            "dtypes: float64(4), object(1)\n",
            "memory usage: 5.9+ KB\n"
          ],
          "name": "stdout"
        }
      ]
    },
    {
      "cell_type": "code",
      "metadata": {
        "id": "89SG07hR2pXZ",
        "colab_type": "code",
        "outputId": "f15d401c-393f-4e67-bcd6-c75ae32ccef5",
        "colab": {
          "base_uri": "https://localhost:8080/",
          "height": 204
        }
      },
      "source": [
        "_iris.head()"
      ],
      "execution_count": 0,
      "outputs": [
        {
          "output_type": "execute_result",
          "data": {
            "text/html": [
              "<div>\n",
              "<style scoped>\n",
              "    .dataframe tbody tr th:only-of-type {\n",
              "        vertical-align: middle;\n",
              "    }\n",
              "\n",
              "    .dataframe tbody tr th {\n",
              "        vertical-align: top;\n",
              "    }\n",
              "\n",
              "    .dataframe thead th {\n",
              "        text-align: right;\n",
              "    }\n",
              "</style>\n",
              "<table border=\"1\" class=\"dataframe\">\n",
              "  <thead>\n",
              "    <tr style=\"text-align: right;\">\n",
              "      <th></th>\n",
              "      <th>0</th>\n",
              "      <th>1</th>\n",
              "      <th>2</th>\n",
              "      <th>3</th>\n",
              "      <th>4</th>\n",
              "    </tr>\n",
              "  </thead>\n",
              "  <tbody>\n",
              "    <tr>\n",
              "      <th>0</th>\n",
              "      <td>5.1</td>\n",
              "      <td>3.5</td>\n",
              "      <td>1.4</td>\n",
              "      <td>0.2</td>\n",
              "      <td>Iris-setosa</td>\n",
              "    </tr>\n",
              "    <tr>\n",
              "      <th>1</th>\n",
              "      <td>4.9</td>\n",
              "      <td>3.0</td>\n",
              "      <td>1.4</td>\n",
              "      <td>0.2</td>\n",
              "      <td>Iris-setosa</td>\n",
              "    </tr>\n",
              "    <tr>\n",
              "      <th>2</th>\n",
              "      <td>4.7</td>\n",
              "      <td>3.2</td>\n",
              "      <td>1.3</td>\n",
              "      <td>0.2</td>\n",
              "      <td>Iris-setosa</td>\n",
              "    </tr>\n",
              "    <tr>\n",
              "      <th>3</th>\n",
              "      <td>4.6</td>\n",
              "      <td>3.1</td>\n",
              "      <td>1.5</td>\n",
              "      <td>0.2</td>\n",
              "      <td>Iris-setosa</td>\n",
              "    </tr>\n",
              "    <tr>\n",
              "      <th>4</th>\n",
              "      <td>5.0</td>\n",
              "      <td>3.6</td>\n",
              "      <td>1.4</td>\n",
              "      <td>0.2</td>\n",
              "      <td>Iris-setosa</td>\n",
              "    </tr>\n",
              "  </tbody>\n",
              "</table>\n",
              "</div>"
            ],
            "text/plain": [
              "     0    1    2    3            4\n",
              "0  5.1  3.5  1.4  0.2  Iris-setosa\n",
              "1  4.9  3.0  1.4  0.2  Iris-setosa\n",
              "2  4.7  3.2  1.3  0.2  Iris-setosa\n",
              "3  4.6  3.1  1.5  0.2  Iris-setosa\n",
              "4  5.0  3.6  1.4  0.2  Iris-setosa"
            ]
          },
          "metadata": {
            "tags": []
          },
          "execution_count": 97
        }
      ]
    },
    {
      "cell_type": "code",
      "metadata": {
        "id": "E5IRAi1EynLr",
        "colab_type": "code",
        "outputId": "967cde19-de57-423b-bae5-cb0f371c0a5a",
        "colab": {
          "base_uri": "https://localhost:8080/",
          "height": 1000
        }
      },
      "source": [
        "df.info(verbose=True)"
      ],
      "execution_count": 0,
      "outputs": [
        {
          "output_type": "stream",
          "text": [
            "<class 'pandas.core.frame.DataFrame'>\n",
            "RangeIndex: 195 entries, 0 to 194\n",
            "Data columns (total 302 columns):\n",
            "country    object\n",
            "1800       int64\n",
            "1801       int64\n",
            "1802       int64\n",
            "1803       int64\n",
            "1804       int64\n",
            "1805       int64\n",
            "1806       int64\n",
            "1807       int64\n",
            "1808       int64\n",
            "1809       int64\n",
            "1810       int64\n",
            "1811       int64\n",
            "1812       int64\n",
            "1813       int64\n",
            "1814       int64\n",
            "1815       int64\n",
            "1816       int64\n",
            "1817       int64\n",
            "1818       int64\n",
            "1819       int64\n",
            "1820       int64\n",
            "1821       int64\n",
            "1822       int64\n",
            "1823       int64\n",
            "1824       int64\n",
            "1825       int64\n",
            "1826       int64\n",
            "1827       int64\n",
            "1828       int64\n",
            "1829       int64\n",
            "1830       int64\n",
            "1831       int64\n",
            "1832       int64\n",
            "1833       int64\n",
            "1834       int64\n",
            "1835       int64\n",
            "1836       int64\n",
            "1837       int64\n",
            "1838       int64\n",
            "1839       int64\n",
            "1840       int64\n",
            "1841       int64\n",
            "1842       int64\n",
            "1843       int64\n",
            "1844       int64\n",
            "1845       int64\n",
            "1846       int64\n",
            "1847       int64\n",
            "1848       int64\n",
            "1849       int64\n",
            "1850       int64\n",
            "1851       int64\n",
            "1852       int64\n",
            "1853       int64\n",
            "1854       int64\n",
            "1855       int64\n",
            "1856       int64\n",
            "1857       int64\n",
            "1858       int64\n",
            "1859       int64\n",
            "1860       int64\n",
            "1861       int64\n",
            "1862       int64\n",
            "1863       int64\n",
            "1864       int64\n",
            "1865       int64\n",
            "1866       int64\n",
            "1867       int64\n",
            "1868       int64\n",
            "1869       int64\n",
            "1870       int64\n",
            "1871       int64\n",
            "1872       int64\n",
            "1873       int64\n",
            "1874       int64\n",
            "1875       int64\n",
            "1876       int64\n",
            "1877       int64\n",
            "1878       int64\n",
            "1879       int64\n",
            "1880       int64\n",
            "1881       int64\n",
            "1882       int64\n",
            "1883       int64\n",
            "1884       int64\n",
            "1885       int64\n",
            "1886       int64\n",
            "1887       int64\n",
            "1888       int64\n",
            "1889       int64\n",
            "1890       int64\n",
            "1891       int64\n",
            "1892       int64\n",
            "1893       int64\n",
            "1894       int64\n",
            "1895       int64\n",
            "1896       int64\n",
            "1897       int64\n",
            "1898       int64\n",
            "1899       int64\n",
            "1900       int64\n",
            "1901       int64\n",
            "1902       int64\n",
            "1903       int64\n",
            "1904       int64\n",
            "1905       int64\n",
            "1906       int64\n",
            "1907       int64\n",
            "1908       int64\n",
            "1909       int64\n",
            "1910       int64\n",
            "1911       int64\n",
            "1912       int64\n",
            "1913       int64\n",
            "1914       int64\n",
            "1915       int64\n",
            "1916       int64\n",
            "1917       int64\n",
            "1918       int64\n",
            "1919       int64\n",
            "1920       int64\n",
            "1921       int64\n",
            "1922       int64\n",
            "1923       int64\n",
            "1924       int64\n",
            "1925       int64\n",
            "1926       int64\n",
            "1927       int64\n",
            "1928       int64\n",
            "1929       int64\n",
            "1930       int64\n",
            "1931       int64\n",
            "1932       int64\n",
            "1933       int64\n",
            "1934       int64\n",
            "1935       int64\n",
            "1936       int64\n",
            "1937       int64\n",
            "1938       int64\n",
            "1939       int64\n",
            "1940       int64\n",
            "1941       int64\n",
            "1942       int64\n",
            "1943       int64\n",
            "1944       int64\n",
            "1945       int64\n",
            "1946       int64\n",
            "1947       int64\n",
            "1948       int64\n",
            "1949       int64\n",
            "1950       int64\n",
            "1951       int64\n",
            "1952       int64\n",
            "1953       int64\n",
            "1954       int64\n",
            "1955       int64\n",
            "1956       int64\n",
            "1957       int64\n",
            "1958       int64\n",
            "1959       int64\n",
            "1960       int64\n",
            "1961       int64\n",
            "1962       int64\n",
            "1963       int64\n",
            "1964       int64\n",
            "1965       int64\n",
            "1966       int64\n",
            "1967       int64\n",
            "1968       int64\n",
            "1969       int64\n",
            "1970       int64\n",
            "1971       int64\n",
            "1972       int64\n",
            "1973       int64\n",
            "1974       int64\n",
            "1975       int64\n",
            "1976       int64\n",
            "1977       int64\n",
            "1978       int64\n",
            "1979       int64\n",
            "1980       int64\n",
            "1981       int64\n",
            "1982       int64\n",
            "1983       int64\n",
            "1984       int64\n",
            "1985       int64\n",
            "1986       int64\n",
            "1987       int64\n",
            "1988       int64\n",
            "1989       int64\n",
            "1990       int64\n",
            "1991       int64\n",
            "1992       int64\n",
            "1993       int64\n",
            "1994       int64\n",
            "1995       int64\n",
            "1996       int64\n",
            "1997       int64\n",
            "1998       int64\n",
            "1999       int64\n",
            "2000       int64\n",
            "2001       int64\n",
            "2002       int64\n",
            "2003       int64\n",
            "2004       int64\n",
            "2005       int64\n",
            "2006       int64\n",
            "2007       int64\n",
            "2008       int64\n",
            "2009       int64\n",
            "2010       int64\n",
            "2011       int64\n",
            "2012       int64\n",
            "2013       int64\n",
            "2014       int64\n",
            "2015       int64\n",
            "2016       int64\n",
            "2017       int64\n",
            "2018       int64\n",
            "2019       int64\n",
            "2020       int64\n",
            "2021       int64\n",
            "2022       int64\n",
            "2023       int64\n",
            "2024       int64\n",
            "2025       int64\n",
            "2026       int64\n",
            "2027       int64\n",
            "2028       int64\n",
            "2029       int64\n",
            "2030       int64\n",
            "2031       int64\n",
            "2032       int64\n",
            "2033       int64\n",
            "2034       int64\n",
            "2035       int64\n",
            "2036       int64\n",
            "2037       int64\n",
            "2038       int64\n",
            "2039       int64\n",
            "2040       int64\n",
            "2041       int64\n",
            "2042       int64\n",
            "2043       int64\n",
            "2044       int64\n",
            "2045       int64\n",
            "2046       int64\n",
            "2047       int64\n",
            "2048       int64\n",
            "2049       int64\n",
            "2050       int64\n",
            "2051       int64\n",
            "2052       int64\n",
            "2053       int64\n",
            "2054       int64\n",
            "2055       int64\n",
            "2056       int64\n",
            "2057       int64\n",
            "2058       int64\n",
            "2059       int64\n",
            "2060       int64\n",
            "2061       int64\n",
            "2062       int64\n",
            "2063       int64\n",
            "2064       int64\n",
            "2065       int64\n",
            "2066       int64\n",
            "2067       int64\n",
            "2068       int64\n",
            "2069       int64\n",
            "2070       int64\n",
            "2071       int64\n",
            "2072       int64\n",
            "2073       int64\n",
            "2074       int64\n",
            "2075       int64\n",
            "2076       int64\n",
            "2077       int64\n",
            "2078       int64\n",
            "2079       int64\n",
            "2080       int64\n",
            "2081       int64\n",
            "2082       int64\n",
            "2083       int64\n",
            "2084       int64\n",
            "2085       int64\n",
            "2086       int64\n",
            "2087       int64\n",
            "2088       int64\n",
            "2089       int64\n",
            "2090       int64\n",
            "2091       int64\n",
            "2092       int64\n",
            "2093       int64\n",
            "2094       int64\n",
            "2095       int64\n",
            "2096       int64\n",
            "2097       int64\n",
            "2098       int64\n",
            "2099       int64\n",
            "2100       int64\n",
            "dtypes: int64(301), object(1)\n",
            "memory usage: 460.2+ KB\n"
          ],
          "name": "stdout"
        }
      ]
    },
    {
      "cell_type": "code",
      "metadata": {
        "id": "DXNuN-bN2_Ga",
        "colab_type": "code",
        "outputId": "d830ecbd-5931-4eba-8d85-077e8ae490da",
        "colab": {
          "base_uri": "https://localhost:8080/",
          "height": 253
        }
      },
      "source": [
        "df.head()"
      ],
      "execution_count": 0,
      "outputs": [
        {
          "output_type": "execute_result",
          "data": {
            "text/html": [
              "<div>\n",
              "<style scoped>\n",
              "    .dataframe tbody tr th:only-of-type {\n",
              "        vertical-align: middle;\n",
              "    }\n",
              "\n",
              "    .dataframe tbody tr th {\n",
              "        vertical-align: top;\n",
              "    }\n",
              "\n",
              "    .dataframe thead th {\n",
              "        text-align: right;\n",
              "    }\n",
              "</style>\n",
              "<table border=\"1\" class=\"dataframe\">\n",
              "  <thead>\n",
              "    <tr style=\"text-align: right;\">\n",
              "      <th></th>\n",
              "      <th>country</th>\n",
              "      <th>1800</th>\n",
              "      <th>1801</th>\n",
              "      <th>1802</th>\n",
              "      <th>1803</th>\n",
              "      <th>1804</th>\n",
              "      <th>1805</th>\n",
              "      <th>1806</th>\n",
              "      <th>1807</th>\n",
              "      <th>1808</th>\n",
              "      <th>1809</th>\n",
              "      <th>1810</th>\n",
              "      <th>1811</th>\n",
              "      <th>1812</th>\n",
              "      <th>1813</th>\n",
              "      <th>1814</th>\n",
              "      <th>1815</th>\n",
              "      <th>1816</th>\n",
              "      <th>1817</th>\n",
              "      <th>1818</th>\n",
              "      <th>1819</th>\n",
              "      <th>1820</th>\n",
              "      <th>1821</th>\n",
              "      <th>1822</th>\n",
              "      <th>1823</th>\n",
              "      <th>1824</th>\n",
              "      <th>1825</th>\n",
              "      <th>1826</th>\n",
              "      <th>1827</th>\n",
              "      <th>1828</th>\n",
              "      <th>1829</th>\n",
              "      <th>1830</th>\n",
              "      <th>1831</th>\n",
              "      <th>1832</th>\n",
              "      <th>1833</th>\n",
              "      <th>1834</th>\n",
              "      <th>1835</th>\n",
              "      <th>1836</th>\n",
              "      <th>1837</th>\n",
              "      <th>1838</th>\n",
              "      <th>...</th>\n",
              "      <th>2061</th>\n",
              "      <th>2062</th>\n",
              "      <th>2063</th>\n",
              "      <th>2064</th>\n",
              "      <th>2065</th>\n",
              "      <th>2066</th>\n",
              "      <th>2067</th>\n",
              "      <th>2068</th>\n",
              "      <th>2069</th>\n",
              "      <th>2070</th>\n",
              "      <th>2071</th>\n",
              "      <th>2072</th>\n",
              "      <th>2073</th>\n",
              "      <th>2074</th>\n",
              "      <th>2075</th>\n",
              "      <th>2076</th>\n",
              "      <th>2077</th>\n",
              "      <th>2078</th>\n",
              "      <th>2079</th>\n",
              "      <th>2080</th>\n",
              "      <th>2081</th>\n",
              "      <th>2082</th>\n",
              "      <th>2083</th>\n",
              "      <th>2084</th>\n",
              "      <th>2085</th>\n",
              "      <th>2086</th>\n",
              "      <th>2087</th>\n",
              "      <th>2088</th>\n",
              "      <th>2089</th>\n",
              "      <th>2090</th>\n",
              "      <th>2091</th>\n",
              "      <th>2092</th>\n",
              "      <th>2093</th>\n",
              "      <th>2094</th>\n",
              "      <th>2095</th>\n",
              "      <th>2096</th>\n",
              "      <th>2097</th>\n",
              "      <th>2098</th>\n",
              "      <th>2099</th>\n",
              "      <th>2100</th>\n",
              "    </tr>\n",
              "  </thead>\n",
              "  <tbody>\n",
              "    <tr>\n",
              "      <th>0</th>\n",
              "      <td>Afghanistan</td>\n",
              "      <td>3280000</td>\n",
              "      <td>3280000</td>\n",
              "      <td>3280000</td>\n",
              "      <td>3280000</td>\n",
              "      <td>3280000</td>\n",
              "      <td>3280000</td>\n",
              "      <td>3280000</td>\n",
              "      <td>3280000</td>\n",
              "      <td>3280000</td>\n",
              "      <td>3280000</td>\n",
              "      <td>3280000</td>\n",
              "      <td>3280000</td>\n",
              "      <td>3280000</td>\n",
              "      <td>3280000</td>\n",
              "      <td>3290000</td>\n",
              "      <td>3290000</td>\n",
              "      <td>3300000</td>\n",
              "      <td>3300000</td>\n",
              "      <td>3310000</td>\n",
              "      <td>3320000</td>\n",
              "      <td>3320000</td>\n",
              "      <td>3330000</td>\n",
              "      <td>3340000</td>\n",
              "      <td>3350000</td>\n",
              "      <td>3360000</td>\n",
              "      <td>3380000</td>\n",
              "      <td>3390000</td>\n",
              "      <td>3400000</td>\n",
              "      <td>3420000</td>\n",
              "      <td>3430000</td>\n",
              "      <td>3450000</td>\n",
              "      <td>3470000</td>\n",
              "      <td>3480000</td>\n",
              "      <td>3500000</td>\n",
              "      <td>3520000</td>\n",
              "      <td>3540000</td>\n",
              "      <td>3550000</td>\n",
              "      <td>3570000</td>\n",
              "      <td>3590000</td>\n",
              "      <td>...</td>\n",
              "      <td>67700000</td>\n",
              "      <td>68200000</td>\n",
              "      <td>68600000</td>\n",
              "      <td>68900000</td>\n",
              "      <td>69300000</td>\n",
              "      <td>69700000</td>\n",
              "      <td>70000000</td>\n",
              "      <td>70300000</td>\n",
              "      <td>70600000</td>\n",
              "      <td>70800000</td>\n",
              "      <td>71100000</td>\n",
              "      <td>71300000</td>\n",
              "      <td>71500000</td>\n",
              "      <td>71700000</td>\n",
              "      <td>71800000</td>\n",
              "      <td>72000000</td>\n",
              "      <td>72100000</td>\n",
              "      <td>72200000</td>\n",
              "      <td>72300000</td>\n",
              "      <td>72300000</td>\n",
              "      <td>72400000</td>\n",
              "      <td>72400000</td>\n",
              "      <td>72400000</td>\n",
              "      <td>72400000</td>\n",
              "      <td>72400000</td>\n",
              "      <td>72300000</td>\n",
              "      <td>72300000</td>\n",
              "      <td>72200000</td>\n",
              "      <td>72100000</td>\n",
              "      <td>72000000</td>\n",
              "      <td>71900000</td>\n",
              "      <td>71800000</td>\n",
              "      <td>71600000</td>\n",
              "      <td>71500000</td>\n",
              "      <td>71300000</td>\n",
              "      <td>71200000</td>\n",
              "      <td>71000000</td>\n",
              "      <td>70800000</td>\n",
              "      <td>70600000</td>\n",
              "      <td>70400000</td>\n",
              "    </tr>\n",
              "    <tr>\n",
              "      <th>1</th>\n",
              "      <td>Albania</td>\n",
              "      <td>410000</td>\n",
              "      <td>412000</td>\n",
              "      <td>413000</td>\n",
              "      <td>414000</td>\n",
              "      <td>416000</td>\n",
              "      <td>417000</td>\n",
              "      <td>418000</td>\n",
              "      <td>420000</td>\n",
              "      <td>421000</td>\n",
              "      <td>422000</td>\n",
              "      <td>424000</td>\n",
              "      <td>425000</td>\n",
              "      <td>426000</td>\n",
              "      <td>428000</td>\n",
              "      <td>429000</td>\n",
              "      <td>431000</td>\n",
              "      <td>432000</td>\n",
              "      <td>434000</td>\n",
              "      <td>435000</td>\n",
              "      <td>437000</td>\n",
              "      <td>439000</td>\n",
              "      <td>440000</td>\n",
              "      <td>442000</td>\n",
              "      <td>444000</td>\n",
              "      <td>446000</td>\n",
              "      <td>448000</td>\n",
              "      <td>449000</td>\n",
              "      <td>451000</td>\n",
              "      <td>453000</td>\n",
              "      <td>455000</td>\n",
              "      <td>457000</td>\n",
              "      <td>459000</td>\n",
              "      <td>461000</td>\n",
              "      <td>463000</td>\n",
              "      <td>466000</td>\n",
              "      <td>468000</td>\n",
              "      <td>470000</td>\n",
              "      <td>472000</td>\n",
              "      <td>474000</td>\n",
              "      <td>...</td>\n",
              "      <td>2450000</td>\n",
              "      <td>2430000</td>\n",
              "      <td>2410000</td>\n",
              "      <td>2390000</td>\n",
              "      <td>2370000</td>\n",
              "      <td>2350000</td>\n",
              "      <td>2330000</td>\n",
              "      <td>2310000</td>\n",
              "      <td>2290000</td>\n",
              "      <td>2270000</td>\n",
              "      <td>2250000</td>\n",
              "      <td>2220000</td>\n",
              "      <td>2200000</td>\n",
              "      <td>2180000</td>\n",
              "      <td>2160000</td>\n",
              "      <td>2140000</td>\n",
              "      <td>2110000</td>\n",
              "      <td>2090000</td>\n",
              "      <td>2070000</td>\n",
              "      <td>2050000</td>\n",
              "      <td>2030000</td>\n",
              "      <td>2010000</td>\n",
              "      <td>1980000</td>\n",
              "      <td>1960000</td>\n",
              "      <td>1940000</td>\n",
              "      <td>1920000</td>\n",
              "      <td>1900000</td>\n",
              "      <td>1880000</td>\n",
              "      <td>1860000</td>\n",
              "      <td>1840000</td>\n",
              "      <td>1820000</td>\n",
              "      <td>1800000</td>\n",
              "      <td>1780000</td>\n",
              "      <td>1760000</td>\n",
              "      <td>1740000</td>\n",
              "      <td>1720000</td>\n",
              "      <td>1710000</td>\n",
              "      <td>1690000</td>\n",
              "      <td>1670000</td>\n",
              "      <td>1660000</td>\n",
              "    </tr>\n",
              "    <tr>\n",
              "      <th>2</th>\n",
              "      <td>Algeria</td>\n",
              "      <td>2500000</td>\n",
              "      <td>2510000</td>\n",
              "      <td>2520000</td>\n",
              "      <td>2530000</td>\n",
              "      <td>2540000</td>\n",
              "      <td>2550000</td>\n",
              "      <td>2560000</td>\n",
              "      <td>2570000</td>\n",
              "      <td>2580000</td>\n",
              "      <td>2590000</td>\n",
              "      <td>2600000</td>\n",
              "      <td>2600000</td>\n",
              "      <td>2610000</td>\n",
              "      <td>2630000</td>\n",
              "      <td>2640000</td>\n",
              "      <td>2650000</td>\n",
              "      <td>2660000</td>\n",
              "      <td>2670000</td>\n",
              "      <td>2690000</td>\n",
              "      <td>2700000</td>\n",
              "      <td>2710000</td>\n",
              "      <td>2730000</td>\n",
              "      <td>2740000</td>\n",
              "      <td>2760000</td>\n",
              "      <td>2770000</td>\n",
              "      <td>2790000</td>\n",
              "      <td>2810000</td>\n",
              "      <td>2820000</td>\n",
              "      <td>2840000</td>\n",
              "      <td>2860000</td>\n",
              "      <td>2880000</td>\n",
              "      <td>2900000</td>\n",
              "      <td>2920000</td>\n",
              "      <td>2940000</td>\n",
              "      <td>2960000</td>\n",
              "      <td>2980000</td>\n",
              "      <td>3000000</td>\n",
              "      <td>3020000</td>\n",
              "      <td>3040000</td>\n",
              "      <td>...</td>\n",
              "      <td>60500000</td>\n",
              "      <td>60700000</td>\n",
              "      <td>60800000</td>\n",
              "      <td>61000000</td>\n",
              "      <td>61100000</td>\n",
              "      <td>61300000</td>\n",
              "      <td>61400000</td>\n",
              "      <td>61500000</td>\n",
              "      <td>61600000</td>\n",
              "      <td>61700000</td>\n",
              "      <td>61800000</td>\n",
              "      <td>61900000</td>\n",
              "      <td>61900000</td>\n",
              "      <td>62000000</td>\n",
              "      <td>62100000</td>\n",
              "      <td>62200000</td>\n",
              "      <td>62200000</td>\n",
              "      <td>62300000</td>\n",
              "      <td>62400000</td>\n",
              "      <td>62400000</td>\n",
              "      <td>62500000</td>\n",
              "      <td>62500000</td>\n",
              "      <td>62600000</td>\n",
              "      <td>62600000</td>\n",
              "      <td>62700000</td>\n",
              "      <td>62700000</td>\n",
              "      <td>62700000</td>\n",
              "      <td>62800000</td>\n",
              "      <td>62800000</td>\n",
              "      <td>62800000</td>\n",
              "      <td>62800000</td>\n",
              "      <td>62800000</td>\n",
              "      <td>62800000</td>\n",
              "      <td>62800000</td>\n",
              "      <td>62800000</td>\n",
              "      <td>62800000</td>\n",
              "      <td>62700000</td>\n",
              "      <td>62700000</td>\n",
              "      <td>62600000</td>\n",
              "      <td>62600000</td>\n",
              "    </tr>\n",
              "    <tr>\n",
              "      <th>3</th>\n",
              "      <td>Andorra</td>\n",
              "      <td>2650</td>\n",
              "      <td>2650</td>\n",
              "      <td>2650</td>\n",
              "      <td>2650</td>\n",
              "      <td>2650</td>\n",
              "      <td>2650</td>\n",
              "      <td>2650</td>\n",
              "      <td>2650</td>\n",
              "      <td>2650</td>\n",
              "      <td>2650</td>\n",
              "      <td>2650</td>\n",
              "      <td>2660</td>\n",
              "      <td>2660</td>\n",
              "      <td>2660</td>\n",
              "      <td>2660</td>\n",
              "      <td>2670</td>\n",
              "      <td>2670</td>\n",
              "      <td>2680</td>\n",
              "      <td>2680</td>\n",
              "      <td>2690</td>\n",
              "      <td>2700</td>\n",
              "      <td>2710</td>\n",
              "      <td>2720</td>\n",
              "      <td>2730</td>\n",
              "      <td>2740</td>\n",
              "      <td>2760</td>\n",
              "      <td>2770</td>\n",
              "      <td>2790</td>\n",
              "      <td>2800</td>\n",
              "      <td>2820</td>\n",
              "      <td>2840</td>\n",
              "      <td>2850</td>\n",
              "      <td>2870</td>\n",
              "      <td>2890</td>\n",
              "      <td>2910</td>\n",
              "      <td>2930</td>\n",
              "      <td>2950</td>\n",
              "      <td>2970</td>\n",
              "      <td>2990</td>\n",
              "      <td>...</td>\n",
              "      <td>72800</td>\n",
              "      <td>72300</td>\n",
              "      <td>71900</td>\n",
              "      <td>71400</td>\n",
              "      <td>70900</td>\n",
              "      <td>70500</td>\n",
              "      <td>70100</td>\n",
              "      <td>69600</td>\n",
              "      <td>69200</td>\n",
              "      <td>68900</td>\n",
              "      <td>68500</td>\n",
              "      <td>68100</td>\n",
              "      <td>67800</td>\n",
              "      <td>67500</td>\n",
              "      <td>67200</td>\n",
              "      <td>66900</td>\n",
              "      <td>66600</td>\n",
              "      <td>66400</td>\n",
              "      <td>66200</td>\n",
              "      <td>66000</td>\n",
              "      <td>65800</td>\n",
              "      <td>65600</td>\n",
              "      <td>65400</td>\n",
              "      <td>65300</td>\n",
              "      <td>65100</td>\n",
              "      <td>65000</td>\n",
              "      <td>64800</td>\n",
              "      <td>64700</td>\n",
              "      <td>64600</td>\n",
              "      <td>64500</td>\n",
              "      <td>64300</td>\n",
              "      <td>64200</td>\n",
              "      <td>64100</td>\n",
              "      <td>63900</td>\n",
              "      <td>63800</td>\n",
              "      <td>63700</td>\n",
              "      <td>63500</td>\n",
              "      <td>63400</td>\n",
              "      <td>63300</td>\n",
              "      <td>63100</td>\n",
              "    </tr>\n",
              "    <tr>\n",
              "      <th>4</th>\n",
              "      <td>Angola</td>\n",
              "      <td>1570000</td>\n",
              "      <td>1570000</td>\n",
              "      <td>1570000</td>\n",
              "      <td>1570000</td>\n",
              "      <td>1570000</td>\n",
              "      <td>1570000</td>\n",
              "      <td>1570000</td>\n",
              "      <td>1570000</td>\n",
              "      <td>1570000</td>\n",
              "      <td>1570000</td>\n",
              "      <td>1570000</td>\n",
              "      <td>1570000</td>\n",
              "      <td>1570000</td>\n",
              "      <td>1570000</td>\n",
              "      <td>1570000</td>\n",
              "      <td>1580000</td>\n",
              "      <td>1580000</td>\n",
              "      <td>1580000</td>\n",
              "      <td>1590000</td>\n",
              "      <td>1590000</td>\n",
              "      <td>1600000</td>\n",
              "      <td>1600000</td>\n",
              "      <td>1610000</td>\n",
              "      <td>1620000</td>\n",
              "      <td>1630000</td>\n",
              "      <td>1630000</td>\n",
              "      <td>1640000</td>\n",
              "      <td>1650000</td>\n",
              "      <td>1660000</td>\n",
              "      <td>1670000</td>\n",
              "      <td>1690000</td>\n",
              "      <td>1700000</td>\n",
              "      <td>1710000</td>\n",
              "      <td>1720000</td>\n",
              "      <td>1740000</td>\n",
              "      <td>1750000</td>\n",
              "      <td>1760000</td>\n",
              "      <td>1770000</td>\n",
              "      <td>1790000</td>\n",
              "      <td>...</td>\n",
              "      <td>96500000</td>\n",
              "      <td>98500000</td>\n",
              "      <td>100000000</td>\n",
              "      <td>102000000</td>\n",
              "      <td>104000000</td>\n",
              "      <td>106000000</td>\n",
              "      <td>108000000</td>\n",
              "      <td>110000000</td>\n",
              "      <td>112000000</td>\n",
              "      <td>114000000</td>\n",
              "      <td>116000000</td>\n",
              "      <td>118000000</td>\n",
              "      <td>120000000</td>\n",
              "      <td>122000000</td>\n",
              "      <td>124000000</td>\n",
              "      <td>126000000</td>\n",
              "      <td>129000000</td>\n",
              "      <td>131000000</td>\n",
              "      <td>133000000</td>\n",
              "      <td>135000000</td>\n",
              "      <td>137000000</td>\n",
              "      <td>139000000</td>\n",
              "      <td>141000000</td>\n",
              "      <td>143000000</td>\n",
              "      <td>145000000</td>\n",
              "      <td>147000000</td>\n",
              "      <td>148000000</td>\n",
              "      <td>150000000</td>\n",
              "      <td>152000000</td>\n",
              "      <td>154000000</td>\n",
              "      <td>156000000</td>\n",
              "      <td>158000000</td>\n",
              "      <td>160000000</td>\n",
              "      <td>162000000</td>\n",
              "      <td>164000000</td>\n",
              "      <td>166000000</td>\n",
              "      <td>167000000</td>\n",
              "      <td>169000000</td>\n",
              "      <td>171000000</td>\n",
              "      <td>173000000</td>\n",
              "    </tr>\n",
              "  </tbody>\n",
              "</table>\n",
              "<p>5 rows × 302 columns</p>\n",
              "</div>"
            ],
            "text/plain": [
              "       country     1800     1801  ...       2098       2099       2100\n",
              "0  Afghanistan  3280000  3280000  ...   70800000   70600000   70400000\n",
              "1      Albania   410000   412000  ...    1690000    1670000    1660000\n",
              "2      Algeria  2500000  2510000  ...   62700000   62600000   62600000\n",
              "3      Andorra     2650     2650  ...      63400      63300      63100\n",
              "4       Angola  1570000  1570000  ...  169000000  171000000  173000000\n",
              "\n",
              "[5 rows x 302 columns]"
            ]
          },
          "metadata": {
            "tags": []
          },
          "execution_count": 100
        }
      ]
    },
    {
      "cell_type": "markdown",
      "metadata": {
        "id": "cee_GpFKC4Zw",
        "colab_type": "text"
      },
      "source": [
        "How many rows are in this data?"
      ]
    },
    {
      "cell_type": "markdown",
      "metadata": {
        "id": "KACzHfeAC7LS",
        "colab_type": "text"
      },
      "source": [
        "Perform summary statistics"
      ]
    },
    {
      "cell_type": "code",
      "metadata": {
        "id": "HFRMrZqY3TnN",
        "colab_type": "code",
        "outputId": "44bc7073-f054-422f-b5a1-55de5b0ebe6d",
        "colab": {
          "base_uri": "https://localhost:8080/",
          "height": 297
        }
      },
      "source": [
        "iris.describe()"
      ],
      "execution_count": 0,
      "outputs": [
        {
          "output_type": "execute_result",
          "data": {
            "text/html": [
              "<div>\n",
              "<style scoped>\n",
              "    .dataframe tbody tr th:only-of-type {\n",
              "        vertical-align: middle;\n",
              "    }\n",
              "\n",
              "    .dataframe tbody tr th {\n",
              "        vertical-align: top;\n",
              "    }\n",
              "\n",
              "    .dataframe thead th {\n",
              "        text-align: right;\n",
              "    }\n",
              "</style>\n",
              "<table border=\"1\" class=\"dataframe\">\n",
              "  <thead>\n",
              "    <tr style=\"text-align: right;\">\n",
              "      <th></th>\n",
              "      <th>0</th>\n",
              "      <th>1</th>\n",
              "      <th>2</th>\n",
              "      <th>3</th>\n",
              "    </tr>\n",
              "  </thead>\n",
              "  <tbody>\n",
              "    <tr>\n",
              "      <th>count</th>\n",
              "      <td>150.000000</td>\n",
              "      <td>150.000000</td>\n",
              "      <td>150.000000</td>\n",
              "      <td>150.000000</td>\n",
              "    </tr>\n",
              "    <tr>\n",
              "      <th>mean</th>\n",
              "      <td>5.843333</td>\n",
              "      <td>3.054000</td>\n",
              "      <td>3.758667</td>\n",
              "      <td>1.198667</td>\n",
              "    </tr>\n",
              "    <tr>\n",
              "      <th>std</th>\n",
              "      <td>0.828066</td>\n",
              "      <td>0.433594</td>\n",
              "      <td>1.764420</td>\n",
              "      <td>0.763161</td>\n",
              "    </tr>\n",
              "    <tr>\n",
              "      <th>min</th>\n",
              "      <td>4.300000</td>\n",
              "      <td>2.000000</td>\n",
              "      <td>1.000000</td>\n",
              "      <td>0.100000</td>\n",
              "    </tr>\n",
              "    <tr>\n",
              "      <th>25%</th>\n",
              "      <td>5.100000</td>\n",
              "      <td>2.800000</td>\n",
              "      <td>1.600000</td>\n",
              "      <td>0.300000</td>\n",
              "    </tr>\n",
              "    <tr>\n",
              "      <th>50%</th>\n",
              "      <td>5.800000</td>\n",
              "      <td>3.000000</td>\n",
              "      <td>4.350000</td>\n",
              "      <td>1.300000</td>\n",
              "    </tr>\n",
              "    <tr>\n",
              "      <th>75%</th>\n",
              "      <td>6.400000</td>\n",
              "      <td>3.300000</td>\n",
              "      <td>5.100000</td>\n",
              "      <td>1.800000</td>\n",
              "    </tr>\n",
              "    <tr>\n",
              "      <th>max</th>\n",
              "      <td>7.900000</td>\n",
              "      <td>4.400000</td>\n",
              "      <td>6.900000</td>\n",
              "      <td>2.500000</td>\n",
              "    </tr>\n",
              "  </tbody>\n",
              "</table>\n",
              "</div>"
            ],
            "text/plain": [
              "                0           1           2           3\n",
              "count  150.000000  150.000000  150.000000  150.000000\n",
              "mean     5.843333    3.054000    3.758667    1.198667\n",
              "std      0.828066    0.433594    1.764420    0.763161\n",
              "min      4.300000    2.000000    1.000000    0.100000\n",
              "25%      5.100000    2.800000    1.600000    0.300000\n",
              "50%      5.800000    3.000000    4.350000    1.300000\n",
              "75%      6.400000    3.300000    5.100000    1.800000\n",
              "max      7.900000    4.400000    6.900000    2.500000"
            ]
          },
          "metadata": {
            "tags": []
          },
          "execution_count": 104
        }
      ]
    },
    {
      "cell_type": "markdown",
      "metadata": {
        "id": "G5uL0kvuC_EE",
        "colab_type": "text"
      },
      "source": [
        "Show data for the year 2000"
      ]
    },
    {
      "cell_type": "code",
      "metadata": {
        "id": "DpFY-IHh3ukU",
        "colab_type": "code",
        "outputId": "c0eac196-6dd2-46c2-d5c4-6dfbc0eb9a69",
        "colab": {
          "base_uri": "https://localhost:8080/",
          "height": 204
        }
      },
      "source": [
        "df_2000 = df[['country', '2000']]\n",
        "df_2000.head()"
      ],
      "execution_count": 0,
      "outputs": [
        {
          "output_type": "execute_result",
          "data": {
            "text/html": [
              "<div>\n",
              "<style scoped>\n",
              "    .dataframe tbody tr th:only-of-type {\n",
              "        vertical-align: middle;\n",
              "    }\n",
              "\n",
              "    .dataframe tbody tr th {\n",
              "        vertical-align: top;\n",
              "    }\n",
              "\n",
              "    .dataframe thead th {\n",
              "        text-align: right;\n",
              "    }\n",
              "</style>\n",
              "<table border=\"1\" class=\"dataframe\">\n",
              "  <thead>\n",
              "    <tr style=\"text-align: right;\">\n",
              "      <th></th>\n",
              "      <th>country</th>\n",
              "      <th>2000</th>\n",
              "    </tr>\n",
              "  </thead>\n",
              "  <tbody>\n",
              "    <tr>\n",
              "      <th>0</th>\n",
              "      <td>Afghanistan</td>\n",
              "      <td>20100000</td>\n",
              "    </tr>\n",
              "    <tr>\n",
              "      <th>1</th>\n",
              "      <td>Albania</td>\n",
              "      <td>3120000</td>\n",
              "    </tr>\n",
              "    <tr>\n",
              "      <th>2</th>\n",
              "      <td>Algeria</td>\n",
              "      <td>31200000</td>\n",
              "    </tr>\n",
              "    <tr>\n",
              "      <th>3</th>\n",
              "      <td>Andorra</td>\n",
              "      <td>65400</td>\n",
              "    </tr>\n",
              "    <tr>\n",
              "      <th>4</th>\n",
              "      <td>Angola</td>\n",
              "      <td>16400000</td>\n",
              "    </tr>\n",
              "  </tbody>\n",
              "</table>\n",
              "</div>"
            ],
            "text/plain": [
              "       country      2000\n",
              "0  Afghanistan  20100000\n",
              "1      Albania   3120000\n",
              "2      Algeria  31200000\n",
              "3      Andorra     65400\n",
              "4       Angola  16400000"
            ]
          },
          "metadata": {
            "tags": []
          },
          "execution_count": 107
        }
      ]
    },
    {
      "cell_type": "markdown",
      "metadata": {
        "id": "apYLAiWyDnep",
        "colab_type": "text"
      },
      "source": [
        "Show data for 1990 and 2000"
      ]
    },
    {
      "cell_type": "code",
      "metadata": {
        "id": "tSWVXDG_4NCl",
        "colab_type": "code",
        "outputId": "79dfd671-73d5-4c5e-c4b3-52f55afbe61f",
        "colab": {
          "base_uri": "https://localhost:8080/",
          "height": 204
        }
      },
      "source": [
        "df[['country', '1990', '2000']].head()"
      ],
      "execution_count": 0,
      "outputs": [
        {
          "output_type": "execute_result",
          "data": {
            "text/html": [
              "<div>\n",
              "<style scoped>\n",
              "    .dataframe tbody tr th:only-of-type {\n",
              "        vertical-align: middle;\n",
              "    }\n",
              "\n",
              "    .dataframe tbody tr th {\n",
              "        vertical-align: top;\n",
              "    }\n",
              "\n",
              "    .dataframe thead th {\n",
              "        text-align: right;\n",
              "    }\n",
              "</style>\n",
              "<table border=\"1\" class=\"dataframe\">\n",
              "  <thead>\n",
              "    <tr style=\"text-align: right;\">\n",
              "      <th></th>\n",
              "      <th>country</th>\n",
              "      <th>1990</th>\n",
              "      <th>2000</th>\n",
              "    </tr>\n",
              "  </thead>\n",
              "  <tbody>\n",
              "    <tr>\n",
              "      <th>0</th>\n",
              "      <td>Afghanistan</td>\n",
              "      <td>12200000</td>\n",
              "      <td>20100000</td>\n",
              "    </tr>\n",
              "    <tr>\n",
              "      <th>1</th>\n",
              "      <td>Albania</td>\n",
              "      <td>3280000</td>\n",
              "      <td>3120000</td>\n",
              "    </tr>\n",
              "    <tr>\n",
              "      <th>2</th>\n",
              "      <td>Algeria</td>\n",
              "      <td>25900000</td>\n",
              "      <td>31200000</td>\n",
              "    </tr>\n",
              "    <tr>\n",
              "      <th>3</th>\n",
              "      <td>Andorra</td>\n",
              "      <td>54500</td>\n",
              "      <td>65400</td>\n",
              "    </tr>\n",
              "    <tr>\n",
              "      <th>4</th>\n",
              "      <td>Angola</td>\n",
              "      <td>12200000</td>\n",
              "      <td>16400000</td>\n",
              "    </tr>\n",
              "  </tbody>\n",
              "</table>\n",
              "</div>"
            ],
            "text/plain": [
              "       country      1990      2000\n",
              "0  Afghanistan  12200000  20100000\n",
              "1      Albania   3280000   3120000\n",
              "2      Algeria  25900000  31200000\n",
              "3      Andorra     54500     65400\n",
              "4       Angola  12200000  16400000"
            ]
          },
          "metadata": {
            "tags": []
          },
          "execution_count": 109
        }
      ]
    },
    {
      "cell_type": "markdown",
      "metadata": {
        "id": "efN81NAyDtkY",
        "colab_type": "text"
      },
      "source": [
        "Show data from rows 10 to 15"
      ]
    },
    {
      "cell_type": "code",
      "metadata": {
        "id": "O8rFVNnHGZJw",
        "colab_type": "code",
        "outputId": "d3d6a2d9-d927-4dd4-e3ab-11dacd728cdb",
        "colab": {
          "base_uri": "https://localhost:8080/",
          "height": 253
        }
      },
      "source": [
        "df[10:15]"
      ],
      "execution_count": 0,
      "outputs": [
        {
          "output_type": "execute_result",
          "data": {
            "text/html": [
              "<div>\n",
              "<style scoped>\n",
              "    .dataframe tbody tr th:only-of-type {\n",
              "        vertical-align: middle;\n",
              "    }\n",
              "\n",
              "    .dataframe tbody tr th {\n",
              "        vertical-align: top;\n",
              "    }\n",
              "\n",
              "    .dataframe thead th {\n",
              "        text-align: right;\n",
              "    }\n",
              "</style>\n",
              "<table border=\"1\" class=\"dataframe\">\n",
              "  <thead>\n",
              "    <tr style=\"text-align: right;\">\n",
              "      <th></th>\n",
              "      <th>country</th>\n",
              "      <th>1800</th>\n",
              "      <th>1801</th>\n",
              "      <th>1802</th>\n",
              "      <th>1803</th>\n",
              "      <th>1804</th>\n",
              "      <th>1805</th>\n",
              "      <th>1806</th>\n",
              "      <th>1807</th>\n",
              "      <th>1808</th>\n",
              "      <th>1809</th>\n",
              "      <th>1810</th>\n",
              "      <th>1811</th>\n",
              "      <th>1812</th>\n",
              "      <th>1813</th>\n",
              "      <th>1814</th>\n",
              "      <th>1815</th>\n",
              "      <th>1816</th>\n",
              "      <th>1817</th>\n",
              "      <th>1818</th>\n",
              "      <th>1819</th>\n",
              "      <th>1820</th>\n",
              "      <th>1821</th>\n",
              "      <th>1822</th>\n",
              "      <th>1823</th>\n",
              "      <th>1824</th>\n",
              "      <th>1825</th>\n",
              "      <th>1826</th>\n",
              "      <th>1827</th>\n",
              "      <th>1828</th>\n",
              "      <th>1829</th>\n",
              "      <th>1830</th>\n",
              "      <th>1831</th>\n",
              "      <th>1832</th>\n",
              "      <th>1833</th>\n",
              "      <th>1834</th>\n",
              "      <th>1835</th>\n",
              "      <th>1836</th>\n",
              "      <th>1837</th>\n",
              "      <th>1838</th>\n",
              "      <th>...</th>\n",
              "      <th>2061</th>\n",
              "      <th>2062</th>\n",
              "      <th>2063</th>\n",
              "      <th>2064</th>\n",
              "      <th>2065</th>\n",
              "      <th>2066</th>\n",
              "      <th>2067</th>\n",
              "      <th>2068</th>\n",
              "      <th>2069</th>\n",
              "      <th>2070</th>\n",
              "      <th>2071</th>\n",
              "      <th>2072</th>\n",
              "      <th>2073</th>\n",
              "      <th>2074</th>\n",
              "      <th>2075</th>\n",
              "      <th>2076</th>\n",
              "      <th>2077</th>\n",
              "      <th>2078</th>\n",
              "      <th>2079</th>\n",
              "      <th>2080</th>\n",
              "      <th>2081</th>\n",
              "      <th>2082</th>\n",
              "      <th>2083</th>\n",
              "      <th>2084</th>\n",
              "      <th>2085</th>\n",
              "      <th>2086</th>\n",
              "      <th>2087</th>\n",
              "      <th>2088</th>\n",
              "      <th>2089</th>\n",
              "      <th>2090</th>\n",
              "      <th>2091</th>\n",
              "      <th>2092</th>\n",
              "      <th>2093</th>\n",
              "      <th>2094</th>\n",
              "      <th>2095</th>\n",
              "      <th>2096</th>\n",
              "      <th>2097</th>\n",
              "      <th>2098</th>\n",
              "      <th>2099</th>\n",
              "      <th>2100</th>\n",
              "    </tr>\n",
              "  </thead>\n",
              "  <tbody>\n",
              "    <tr>\n",
              "      <th>10</th>\n",
              "      <td>Azerbaijan</td>\n",
              "      <td>880000</td>\n",
              "      <td>880000</td>\n",
              "      <td>880000</td>\n",
              "      <td>880000</td>\n",
              "      <td>880000</td>\n",
              "      <td>880000</td>\n",
              "      <td>880000</td>\n",
              "      <td>880000</td>\n",
              "      <td>880000</td>\n",
              "      <td>880000</td>\n",
              "      <td>880000</td>\n",
              "      <td>880000</td>\n",
              "      <td>881000</td>\n",
              "      <td>882000</td>\n",
              "      <td>884000</td>\n",
              "      <td>886000</td>\n",
              "      <td>888000</td>\n",
              "      <td>891000</td>\n",
              "      <td>894000</td>\n",
              "      <td>898000</td>\n",
              "      <td>902000</td>\n",
              "      <td>906000</td>\n",
              "      <td>911000</td>\n",
              "      <td>916000</td>\n",
              "      <td>922000</td>\n",
              "      <td>928000</td>\n",
              "      <td>935000</td>\n",
              "      <td>942000</td>\n",
              "      <td>949000</td>\n",
              "      <td>957000</td>\n",
              "      <td>966000</td>\n",
              "      <td>975000</td>\n",
              "      <td>984000</td>\n",
              "      <td>993000</td>\n",
              "      <td>1000000</td>\n",
              "      <td>1010000</td>\n",
              "      <td>1020000</td>\n",
              "      <td>1030000</td>\n",
              "      <td>1040000</td>\n",
              "      <td>...</td>\n",
              "      <td>10800000</td>\n",
              "      <td>10800000</td>\n",
              "      <td>10800000</td>\n",
              "      <td>10700000</td>\n",
              "      <td>10700000</td>\n",
              "      <td>10700000</td>\n",
              "      <td>10700000</td>\n",
              "      <td>10600000</td>\n",
              "      <td>10600000</td>\n",
              "      <td>10600000</td>\n",
              "      <td>10500000</td>\n",
              "      <td>10500000</td>\n",
              "      <td>10500000</td>\n",
              "      <td>10400000</td>\n",
              "      <td>10400000</td>\n",
              "      <td>10300000</td>\n",
              "      <td>10300000</td>\n",
              "      <td>10300000</td>\n",
              "      <td>10200000</td>\n",
              "      <td>10200000</td>\n",
              "      <td>10200000</td>\n",
              "      <td>10100000</td>\n",
              "      <td>10100000</td>\n",
              "      <td>10100000</td>\n",
              "      <td>10000000</td>\n",
              "      <td>10000000</td>\n",
              "      <td>9960000</td>\n",
              "      <td>9930000</td>\n",
              "      <td>9900000</td>\n",
              "      <td>9870000</td>\n",
              "      <td>9840000</td>\n",
              "      <td>9810000</td>\n",
              "      <td>9780000</td>\n",
              "      <td>9750000</td>\n",
              "      <td>9720000</td>\n",
              "      <td>9690000</td>\n",
              "      <td>9650000</td>\n",
              "      <td>9620000</td>\n",
              "      <td>9590000</td>\n",
              "      <td>9560000</td>\n",
              "    </tr>\n",
              "    <tr>\n",
              "      <th>11</th>\n",
              "      <td>Bahamas</td>\n",
              "      <td>27400</td>\n",
              "      <td>27400</td>\n",
              "      <td>27400</td>\n",
              "      <td>27400</td>\n",
              "      <td>27400</td>\n",
              "      <td>27400</td>\n",
              "      <td>27400</td>\n",
              "      <td>27400</td>\n",
              "      <td>27400</td>\n",
              "      <td>27400</td>\n",
              "      <td>27400</td>\n",
              "      <td>27400</td>\n",
              "      <td>27400</td>\n",
              "      <td>27400</td>\n",
              "      <td>27400</td>\n",
              "      <td>27400</td>\n",
              "      <td>27400</td>\n",
              "      <td>27400</td>\n",
              "      <td>27400</td>\n",
              "      <td>27400</td>\n",
              "      <td>27400</td>\n",
              "      <td>27400</td>\n",
              "      <td>27400</td>\n",
              "      <td>27400</td>\n",
              "      <td>27500</td>\n",
              "      <td>27500</td>\n",
              "      <td>27500</td>\n",
              "      <td>27500</td>\n",
              "      <td>27500</td>\n",
              "      <td>27500</td>\n",
              "      <td>27600</td>\n",
              "      <td>27600</td>\n",
              "      <td>27600</td>\n",
              "      <td>27600</td>\n",
              "      <td>27600</td>\n",
              "      <td>27700</td>\n",
              "      <td>27700</td>\n",
              "      <td>27700</td>\n",
              "      <td>27700</td>\n",
              "      <td>...</td>\n",
              "      <td>482000</td>\n",
              "      <td>483000</td>\n",
              "      <td>483000</td>\n",
              "      <td>483000</td>\n",
              "      <td>483000</td>\n",
              "      <td>483000</td>\n",
              "      <td>483000</td>\n",
              "      <td>483000</td>\n",
              "      <td>483000</td>\n",
              "      <td>483000</td>\n",
              "      <td>483000</td>\n",
              "      <td>483000</td>\n",
              "      <td>483000</td>\n",
              "      <td>482000</td>\n",
              "      <td>482000</td>\n",
              "      <td>482000</td>\n",
              "      <td>481000</td>\n",
              "      <td>481000</td>\n",
              "      <td>481000</td>\n",
              "      <td>480000</td>\n",
              "      <td>480000</td>\n",
              "      <td>479000</td>\n",
              "      <td>478000</td>\n",
              "      <td>478000</td>\n",
              "      <td>477000</td>\n",
              "      <td>477000</td>\n",
              "      <td>476000</td>\n",
              "      <td>475000</td>\n",
              "      <td>475000</td>\n",
              "      <td>474000</td>\n",
              "      <td>473000</td>\n",
              "      <td>473000</td>\n",
              "      <td>472000</td>\n",
              "      <td>472000</td>\n",
              "      <td>471000</td>\n",
              "      <td>470000</td>\n",
              "      <td>470000</td>\n",
              "      <td>469000</td>\n",
              "      <td>468000</td>\n",
              "      <td>468000</td>\n",
              "    </tr>\n",
              "    <tr>\n",
              "      <th>12</th>\n",
              "      <td>Bahrain</td>\n",
              "      <td>64500</td>\n",
              "      <td>64500</td>\n",
              "      <td>64500</td>\n",
              "      <td>64500</td>\n",
              "      <td>64500</td>\n",
              "      <td>64500</td>\n",
              "      <td>64500</td>\n",
              "      <td>64500</td>\n",
              "      <td>64500</td>\n",
              "      <td>64500</td>\n",
              "      <td>64500</td>\n",
              "      <td>64500</td>\n",
              "      <td>64500</td>\n",
              "      <td>64500</td>\n",
              "      <td>64500</td>\n",
              "      <td>64500</td>\n",
              "      <td>64500</td>\n",
              "      <td>64500</td>\n",
              "      <td>64500</td>\n",
              "      <td>64500</td>\n",
              "      <td>64500</td>\n",
              "      <td>64500</td>\n",
              "      <td>64500</td>\n",
              "      <td>64500</td>\n",
              "      <td>64500</td>\n",
              "      <td>64500</td>\n",
              "      <td>64500</td>\n",
              "      <td>64500</td>\n",
              "      <td>64500</td>\n",
              "      <td>64500</td>\n",
              "      <td>64500</td>\n",
              "      <td>64500</td>\n",
              "      <td>64500</td>\n",
              "      <td>64500</td>\n",
              "      <td>64500</td>\n",
              "      <td>64500</td>\n",
              "      <td>64500</td>\n",
              "      <td>64500</td>\n",
              "      <td>64500</td>\n",
              "      <td>...</td>\n",
              "      <td>2410000</td>\n",
              "      <td>2420000</td>\n",
              "      <td>2420000</td>\n",
              "      <td>2420000</td>\n",
              "      <td>2430000</td>\n",
              "      <td>2430000</td>\n",
              "      <td>2430000</td>\n",
              "      <td>2440000</td>\n",
              "      <td>2440000</td>\n",
              "      <td>2440000</td>\n",
              "      <td>2440000</td>\n",
              "      <td>2440000</td>\n",
              "      <td>2440000</td>\n",
              "      <td>2440000</td>\n",
              "      <td>2440000</td>\n",
              "      <td>2440000</td>\n",
              "      <td>2440000</td>\n",
              "      <td>2430000</td>\n",
              "      <td>2430000</td>\n",
              "      <td>2420000</td>\n",
              "      <td>2420000</td>\n",
              "      <td>2420000</td>\n",
              "      <td>2410000</td>\n",
              "      <td>2400000</td>\n",
              "      <td>2400000</td>\n",
              "      <td>2390000</td>\n",
              "      <td>2380000</td>\n",
              "      <td>2370000</td>\n",
              "      <td>2360000</td>\n",
              "      <td>2350000</td>\n",
              "      <td>2340000</td>\n",
              "      <td>2330000</td>\n",
              "      <td>2320000</td>\n",
              "      <td>2310000</td>\n",
              "      <td>2300000</td>\n",
              "      <td>2290000</td>\n",
              "      <td>2280000</td>\n",
              "      <td>2270000</td>\n",
              "      <td>2260000</td>\n",
              "      <td>2250000</td>\n",
              "    </tr>\n",
              "    <tr>\n",
              "      <th>13</th>\n",
              "      <td>Bangladesh</td>\n",
              "      <td>19200000</td>\n",
              "      <td>19300000</td>\n",
              "      <td>19300000</td>\n",
              "      <td>19300000</td>\n",
              "      <td>19400000</td>\n",
              "      <td>19400000</td>\n",
              "      <td>19500000</td>\n",
              "      <td>19500000</td>\n",
              "      <td>19500000</td>\n",
              "      <td>19600000</td>\n",
              "      <td>19600000</td>\n",
              "      <td>19700000</td>\n",
              "      <td>19700000</td>\n",
              "      <td>19700000</td>\n",
              "      <td>19800000</td>\n",
              "      <td>19800000</td>\n",
              "      <td>19900000</td>\n",
              "      <td>19900000</td>\n",
              "      <td>20000000</td>\n",
              "      <td>20100000</td>\n",
              "      <td>20100000</td>\n",
              "      <td>20200000</td>\n",
              "      <td>20300000</td>\n",
              "      <td>20300000</td>\n",
              "      <td>20400000</td>\n",
              "      <td>20500000</td>\n",
              "      <td>20500000</td>\n",
              "      <td>20600000</td>\n",
              "      <td>20700000</td>\n",
              "      <td>20800000</td>\n",
              "      <td>20900000</td>\n",
              "      <td>21000000</td>\n",
              "      <td>21100000</td>\n",
              "      <td>21100000</td>\n",
              "      <td>21200000</td>\n",
              "      <td>21300000</td>\n",
              "      <td>21400000</td>\n",
              "      <td>21500000</td>\n",
              "      <td>21600000</td>\n",
              "      <td>...</td>\n",
              "      <td>203000000</td>\n",
              "      <td>202000000</td>\n",
              "      <td>202000000</td>\n",
              "      <td>202000000</td>\n",
              "      <td>202000000</td>\n",
              "      <td>201000000</td>\n",
              "      <td>201000000</td>\n",
              "      <td>200000000</td>\n",
              "      <td>200000000</td>\n",
              "      <td>199000000</td>\n",
              "      <td>199000000</td>\n",
              "      <td>198000000</td>\n",
              "      <td>198000000</td>\n",
              "      <td>197000000</td>\n",
              "      <td>196000000</td>\n",
              "      <td>196000000</td>\n",
              "      <td>195000000</td>\n",
              "      <td>194000000</td>\n",
              "      <td>193000000</td>\n",
              "      <td>193000000</td>\n",
              "      <td>192000000</td>\n",
              "      <td>191000000</td>\n",
              "      <td>190000000</td>\n",
              "      <td>189000000</td>\n",
              "      <td>188000000</td>\n",
              "      <td>187000000</td>\n",
              "      <td>186000000</td>\n",
              "      <td>186000000</td>\n",
              "      <td>185000000</td>\n",
              "      <td>184000000</td>\n",
              "      <td>183000000</td>\n",
              "      <td>182000000</td>\n",
              "      <td>181000000</td>\n",
              "      <td>180000000</td>\n",
              "      <td>179000000</td>\n",
              "      <td>178000000</td>\n",
              "      <td>177000000</td>\n",
              "      <td>176000000</td>\n",
              "      <td>175000000</td>\n",
              "      <td>174000000</td>\n",
              "    </tr>\n",
              "    <tr>\n",
              "      <th>14</th>\n",
              "      <td>Barbados</td>\n",
              "      <td>81700</td>\n",
              "      <td>81700</td>\n",
              "      <td>81700</td>\n",
              "      <td>81700</td>\n",
              "      <td>81700</td>\n",
              "      <td>81700</td>\n",
              "      <td>81700</td>\n",
              "      <td>81700</td>\n",
              "      <td>81700</td>\n",
              "      <td>81700</td>\n",
              "      <td>81700</td>\n",
              "      <td>81800</td>\n",
              "      <td>81900</td>\n",
              "      <td>82100</td>\n",
              "      <td>82400</td>\n",
              "      <td>82700</td>\n",
              "      <td>83100</td>\n",
              "      <td>83600</td>\n",
              "      <td>84100</td>\n",
              "      <td>84800</td>\n",
              "      <td>85500</td>\n",
              "      <td>86200</td>\n",
              "      <td>87100</td>\n",
              "      <td>88000</td>\n",
              "      <td>89000</td>\n",
              "      <td>90100</td>\n",
              "      <td>91300</td>\n",
              "      <td>92500</td>\n",
              "      <td>93900</td>\n",
              "      <td>95300</td>\n",
              "      <td>96800</td>\n",
              "      <td>98400</td>\n",
              "      <td>100000</td>\n",
              "      <td>102000</td>\n",
              "      <td>103000</td>\n",
              "      <td>105000</td>\n",
              "      <td>107000</td>\n",
              "      <td>109000</td>\n",
              "      <td>110000</td>\n",
              "      <td>...</td>\n",
              "      <td>273000</td>\n",
              "      <td>272000</td>\n",
              "      <td>272000</td>\n",
              "      <td>271000</td>\n",
              "      <td>271000</td>\n",
              "      <td>270000</td>\n",
              "      <td>270000</td>\n",
              "      <td>269000</td>\n",
              "      <td>269000</td>\n",
              "      <td>268000</td>\n",
              "      <td>268000</td>\n",
              "      <td>267000</td>\n",
              "      <td>267000</td>\n",
              "      <td>266000</td>\n",
              "      <td>266000</td>\n",
              "      <td>265000</td>\n",
              "      <td>265000</td>\n",
              "      <td>265000</td>\n",
              "      <td>264000</td>\n",
              "      <td>264000</td>\n",
              "      <td>263000</td>\n",
              "      <td>263000</td>\n",
              "      <td>263000</td>\n",
              "      <td>262000</td>\n",
              "      <td>262000</td>\n",
              "      <td>261000</td>\n",
              "      <td>261000</td>\n",
              "      <td>260000</td>\n",
              "      <td>260000</td>\n",
              "      <td>260000</td>\n",
              "      <td>259000</td>\n",
              "      <td>259000</td>\n",
              "      <td>258000</td>\n",
              "      <td>258000</td>\n",
              "      <td>257000</td>\n",
              "      <td>257000</td>\n",
              "      <td>256000</td>\n",
              "      <td>256000</td>\n",
              "      <td>256000</td>\n",
              "      <td>255000</td>\n",
              "    </tr>\n",
              "  </tbody>\n",
              "</table>\n",
              "<p>5 rows × 302 columns</p>\n",
              "</div>"
            ],
            "text/plain": [
              "       country      1800      1801  ...       2098       2099       2100\n",
              "10  Azerbaijan    880000    880000  ...    9620000    9590000    9560000\n",
              "11     Bahamas     27400     27400  ...     469000     468000     468000\n",
              "12     Bahrain     64500     64500  ...    2270000    2260000    2250000\n",
              "13  Bangladesh  19200000  19300000  ...  176000000  175000000  174000000\n",
              "14    Barbados     81700     81700  ...     256000     256000     255000\n",
              "\n",
              "[5 rows x 302 columns]"
            ]
          },
          "metadata": {
            "tags": []
          },
          "execution_count": 51
        }
      ]
    },
    {
      "cell_type": "markdown",
      "metadata": {
        "id": "OakVLGA0Effj",
        "colab_type": "text"
      },
      "source": [
        "Extract the following columns into a new DataFrame\n",
        "* country\n",
        "* 1980\n",
        "* 1990\n",
        "* 2000"
      ]
    },
    {
      "cell_type": "code",
      "metadata": {
        "id": "1uW6vdwhGt_r",
        "colab_type": "code",
        "colab": {}
      },
      "source": [
        "new_df = df[['country', '1980', '1990', '2000']]"
      ],
      "execution_count": 0,
      "outputs": []
    },
    {
      "cell_type": "markdown",
      "metadata": {
        "id": "TkGkYUHfFH_B",
        "colab_type": "text"
      },
      "source": [
        "show the new DataFrame"
      ]
    },
    {
      "cell_type": "code",
      "metadata": {
        "id": "gsRDAMKHGx6k",
        "colab_type": "code",
        "outputId": "422b4b09-0e65-4763-f221-31a288abff2d",
        "colab": {
          "base_uri": "https://localhost:8080/",
          "height": 204
        }
      },
      "source": [
        "new_df.head()"
      ],
      "execution_count": 0,
      "outputs": [
        {
          "output_type": "execute_result",
          "data": {
            "text/html": [
              "<div>\n",
              "<style scoped>\n",
              "    .dataframe tbody tr th:only-of-type {\n",
              "        vertical-align: middle;\n",
              "    }\n",
              "\n",
              "    .dataframe tbody tr th {\n",
              "        vertical-align: top;\n",
              "    }\n",
              "\n",
              "    .dataframe thead th {\n",
              "        text-align: right;\n",
              "    }\n",
              "</style>\n",
              "<table border=\"1\" class=\"dataframe\">\n",
              "  <thead>\n",
              "    <tr style=\"text-align: right;\">\n",
              "      <th></th>\n",
              "      <th>country</th>\n",
              "      <th>1980</th>\n",
              "      <th>1990</th>\n",
              "      <th>2000</th>\n",
              "    </tr>\n",
              "  </thead>\n",
              "  <tbody>\n",
              "    <tr>\n",
              "      <th>0</th>\n",
              "      <td>Afghanistan</td>\n",
              "      <td>13200000</td>\n",
              "      <td>12200000</td>\n",
              "      <td>20100000</td>\n",
              "    </tr>\n",
              "    <tr>\n",
              "      <th>1</th>\n",
              "      <td>Albania</td>\n",
              "      <td>2680000</td>\n",
              "      <td>3280000</td>\n",
              "      <td>3120000</td>\n",
              "    </tr>\n",
              "    <tr>\n",
              "      <th>2</th>\n",
              "      <td>Algeria</td>\n",
              "      <td>19300000</td>\n",
              "      <td>25900000</td>\n",
              "      <td>31200000</td>\n",
              "    </tr>\n",
              "    <tr>\n",
              "      <th>3</th>\n",
              "      <td>Andorra</td>\n",
              "      <td>36100</td>\n",
              "      <td>54500</td>\n",
              "      <td>65400</td>\n",
              "    </tr>\n",
              "    <tr>\n",
              "      <th>4</th>\n",
              "      <td>Angola</td>\n",
              "      <td>8930000</td>\n",
              "      <td>12200000</td>\n",
              "      <td>16400000</td>\n",
              "    </tr>\n",
              "  </tbody>\n",
              "</table>\n",
              "</div>"
            ],
            "text/plain": [
              "       country      1980      1990      2000\n",
              "0  Afghanistan  13200000  12200000  20100000\n",
              "1      Albania   2680000   3280000   3120000\n",
              "2      Algeria  19300000  25900000  31200000\n",
              "3      Andorra     36100     54500     65400\n",
              "4       Angola   8930000  12200000  16400000"
            ]
          },
          "metadata": {
            "tags": []
          },
          "execution_count": 112
        }
      ]
    },
    {
      "cell_type": "markdown",
      "metadata": {
        "id": "ugx6uOwKFYa4",
        "colab_type": "text"
      },
      "source": [
        "Set the country as the index"
      ]
    },
    {
      "cell_type": "code",
      "metadata": {
        "id": "Gc9qzGNXHAiy",
        "colab_type": "code",
        "outputId": "7cd9f61b-011f-48d7-f0a7-1a5a2d11d3a9",
        "colab": {
          "base_uri": "https://localhost:8080/",
          "height": 235
        }
      },
      "source": [
        "new_df.set_index(['country'], inplace=True)\n",
        "new_df.head()"
      ],
      "execution_count": 0,
      "outputs": [
        {
          "output_type": "execute_result",
          "data": {
            "text/html": [
              "<div>\n",
              "<style scoped>\n",
              "    .dataframe tbody tr th:only-of-type {\n",
              "        vertical-align: middle;\n",
              "    }\n",
              "\n",
              "    .dataframe tbody tr th {\n",
              "        vertical-align: top;\n",
              "    }\n",
              "\n",
              "    .dataframe thead th {\n",
              "        text-align: right;\n",
              "    }\n",
              "</style>\n",
              "<table border=\"1\" class=\"dataframe\">\n",
              "  <thead>\n",
              "    <tr style=\"text-align: right;\">\n",
              "      <th></th>\n",
              "      <th>1980</th>\n",
              "      <th>1990</th>\n",
              "      <th>2000</th>\n",
              "    </tr>\n",
              "    <tr>\n",
              "      <th>country</th>\n",
              "      <th></th>\n",
              "      <th></th>\n",
              "      <th></th>\n",
              "    </tr>\n",
              "  </thead>\n",
              "  <tbody>\n",
              "    <tr>\n",
              "      <th>Afghanistan</th>\n",
              "      <td>13200000</td>\n",
              "      <td>12200000</td>\n",
              "      <td>20100000</td>\n",
              "    </tr>\n",
              "    <tr>\n",
              "      <th>Albania</th>\n",
              "      <td>2680000</td>\n",
              "      <td>3280000</td>\n",
              "      <td>3120000</td>\n",
              "    </tr>\n",
              "    <tr>\n",
              "      <th>Algeria</th>\n",
              "      <td>19300000</td>\n",
              "      <td>25900000</td>\n",
              "      <td>31200000</td>\n",
              "    </tr>\n",
              "    <tr>\n",
              "      <th>Andorra</th>\n",
              "      <td>36100</td>\n",
              "      <td>54500</td>\n",
              "      <td>65400</td>\n",
              "    </tr>\n",
              "    <tr>\n",
              "      <th>Angola</th>\n",
              "      <td>8930000</td>\n",
              "      <td>12200000</td>\n",
              "      <td>16400000</td>\n",
              "    </tr>\n",
              "  </tbody>\n",
              "</table>\n",
              "</div>"
            ],
            "text/plain": [
              "                 1980      1990      2000\n",
              "country                                  \n",
              "Afghanistan  13200000  12200000  20100000\n",
              "Albania       2680000   3280000   3120000\n",
              "Algeria      19300000  25900000  31200000\n",
              "Andorra         36100     54500     65400\n",
              "Angola        8930000  12200000  16400000"
            ]
          },
          "metadata": {
            "tags": []
          },
          "execution_count": 113
        }
      ]
    },
    {
      "cell_type": "markdown",
      "metadata": {
        "id": "_Xo5YJ1XHSxl",
        "colab_type": "text"
      },
      "source": [
        "show 1980 data for Angola"
      ]
    },
    {
      "cell_type": "code",
      "metadata": {
        "id": "hnRCHEQqHJxB",
        "colab_type": "code",
        "outputId": "5a172944-0529-4db3-ae42-6893f8afeab8",
        "colab": {
          "base_uri": "https://localhost:8080/",
          "height": 111
        }
      },
      "source": [
        "new_df.loc[['Angola'], ['1980']]"
      ],
      "execution_count": 0,
      "outputs": [
        {
          "output_type": "execute_result",
          "data": {
            "text/html": [
              "<div>\n",
              "<style scoped>\n",
              "    .dataframe tbody tr th:only-of-type {\n",
              "        vertical-align: middle;\n",
              "    }\n",
              "\n",
              "    .dataframe tbody tr th {\n",
              "        vertical-align: top;\n",
              "    }\n",
              "\n",
              "    .dataframe thead th {\n",
              "        text-align: right;\n",
              "    }\n",
              "</style>\n",
              "<table border=\"1\" class=\"dataframe\">\n",
              "  <thead>\n",
              "    <tr style=\"text-align: right;\">\n",
              "      <th></th>\n",
              "      <th>1980</th>\n",
              "    </tr>\n",
              "    <tr>\n",
              "      <th>country</th>\n",
              "      <th></th>\n",
              "    </tr>\n",
              "  </thead>\n",
              "  <tbody>\n",
              "    <tr>\n",
              "      <th>Angola</th>\n",
              "      <td>8930000</td>\n",
              "    </tr>\n",
              "  </tbody>\n",
              "</table>\n",
              "</div>"
            ],
            "text/plain": [
              "            1980\n",
              "country         \n",
              "Angola   8930000"
            ]
          },
          "metadata": {
            "tags": []
          },
          "execution_count": 114
        }
      ]
    },
    {
      "cell_type": "code",
      "metadata": {
        "id": "-Swv995FHa28",
        "colab_type": "code",
        "outputId": "f83225bb-11e5-4036-a3c3-d282c91f65b2",
        "colab": {
          "base_uri": "https://localhost:8080/",
          "height": 142
        }
      },
      "source": [
        "new_df.loc[['Angola', 'Zimbabwe'], ['1980', '2000']]"
      ],
      "execution_count": 0,
      "outputs": [
        {
          "output_type": "execute_result",
          "data": {
            "text/html": [
              "<div>\n",
              "<style scoped>\n",
              "    .dataframe tbody tr th:only-of-type {\n",
              "        vertical-align: middle;\n",
              "    }\n",
              "\n",
              "    .dataframe tbody tr th {\n",
              "        vertical-align: top;\n",
              "    }\n",
              "\n",
              "    .dataframe thead th {\n",
              "        text-align: right;\n",
              "    }\n",
              "</style>\n",
              "<table border=\"1\" class=\"dataframe\">\n",
              "  <thead>\n",
              "    <tr style=\"text-align: right;\">\n",
              "      <th></th>\n",
              "      <th>1980</th>\n",
              "      <th>2000</th>\n",
              "    </tr>\n",
              "    <tr>\n",
              "      <th>country</th>\n",
              "      <th></th>\n",
              "      <th></th>\n",
              "    </tr>\n",
              "  </thead>\n",
              "  <tbody>\n",
              "    <tr>\n",
              "      <th>Angola</th>\n",
              "      <td>8930000</td>\n",
              "      <td>16400000</td>\n",
              "    </tr>\n",
              "    <tr>\n",
              "      <th>Zimbabwe</th>\n",
              "      <td>7160000</td>\n",
              "      <td>12200000</td>\n",
              "    </tr>\n",
              "  </tbody>\n",
              "</table>\n",
              "</div>"
            ],
            "text/plain": [
              "             1980      2000\n",
              "country                    \n",
              "Angola    8930000  16400000\n",
              "Zimbabwe  7160000  12200000"
            ]
          },
          "metadata": {
            "tags": []
          },
          "execution_count": 115
        }
      ]
    },
    {
      "cell_type": "markdown",
      "metadata": {
        "id": "180GLPd_J5W1",
        "colab_type": "text"
      },
      "source": [
        "Let's apply a filter"
      ]
    },
    {
      "cell_type": "code",
      "metadata": {
        "id": "LYLTAVxQ5VDV",
        "colab_type": "code",
        "outputId": "f19f064b-32b4-40b3-bf4c-ccfe03989849",
        "colab": {
          "base_uri": "https://localhost:8080/",
          "height": 34
        }
      },
      "source": [
        "print(type(new_df[['1980']]))"
      ],
      "execution_count": 0,
      "outputs": [
        {
          "output_type": "stream",
          "text": [
            "<class 'pandas.core.frame.DataFrame'>\n"
          ],
          "name": "stdout"
        }
      ]
    },
    {
      "cell_type": "code",
      "metadata": {
        "id": "xXtYudbd5ibd",
        "colab_type": "code",
        "outputId": "3204fe3d-6271-452f-b393-920a9e291bbf",
        "colab": {
          "base_uri": "https://localhost:8080/",
          "height": 235
        }
      },
      "source": [
        "new_df[['1980']].head()"
      ],
      "execution_count": 0,
      "outputs": [
        {
          "output_type": "execute_result",
          "data": {
            "text/html": [
              "<div>\n",
              "<style scoped>\n",
              "    .dataframe tbody tr th:only-of-type {\n",
              "        vertical-align: middle;\n",
              "    }\n",
              "\n",
              "    .dataframe tbody tr th {\n",
              "        vertical-align: top;\n",
              "    }\n",
              "\n",
              "    .dataframe thead th {\n",
              "        text-align: right;\n",
              "    }\n",
              "</style>\n",
              "<table border=\"1\" class=\"dataframe\">\n",
              "  <thead>\n",
              "    <tr style=\"text-align: right;\">\n",
              "      <th></th>\n",
              "      <th>1980</th>\n",
              "    </tr>\n",
              "    <tr>\n",
              "      <th>country</th>\n",
              "      <th></th>\n",
              "    </tr>\n",
              "  </thead>\n",
              "  <tbody>\n",
              "    <tr>\n",
              "      <th>Afghanistan</th>\n",
              "      <td>13200000</td>\n",
              "    </tr>\n",
              "    <tr>\n",
              "      <th>Albania</th>\n",
              "      <td>2680000</td>\n",
              "    </tr>\n",
              "    <tr>\n",
              "      <th>Algeria</th>\n",
              "      <td>19300000</td>\n",
              "    </tr>\n",
              "    <tr>\n",
              "      <th>Andorra</th>\n",
              "      <td>36100</td>\n",
              "    </tr>\n",
              "    <tr>\n",
              "      <th>Angola</th>\n",
              "      <td>8930000</td>\n",
              "    </tr>\n",
              "  </tbody>\n",
              "</table>\n",
              "</div>"
            ],
            "text/plain": [
              "                 1980\n",
              "country              \n",
              "Afghanistan  13200000\n",
              "Albania       2680000\n",
              "Algeria      19300000\n",
              "Andorra         36100\n",
              "Angola        8930000"
            ]
          },
          "metadata": {
            "tags": []
          },
          "execution_count": 118
        }
      ]
    },
    {
      "cell_type": "code",
      "metadata": {
        "id": "D7brRdYU5Y4W",
        "colab_type": "code",
        "outputId": "bbc2e502-5b42-44cb-e3ec-b53a56d330d0",
        "colab": {
          "base_uri": "https://localhost:8080/",
          "height": 34
        }
      },
      "source": [
        "print(type(new_df['1980']))"
      ],
      "execution_count": 0,
      "outputs": [
        {
          "output_type": "stream",
          "text": [
            "<class 'pandas.core.series.Series'>\n"
          ],
          "name": "stdout"
        }
      ]
    },
    {
      "cell_type": "code",
      "metadata": {
        "id": "7xfd2Me85oK-",
        "colab_type": "code",
        "outputId": "fa66d404-f10f-41b7-9ff1-3c6335ed068f",
        "colab": {
          "base_uri": "https://localhost:8080/",
          "height": 493
        }
      },
      "source": [
        "print(new_df['1980'].values)"
      ],
      "execution_count": 0,
      "outputs": [
        {
          "output_type": "stream",
          "text": [
            "[ 13200000   2680000  19300000     36100   8930000     73400  28100000\n",
            "   3100000  14600000   7610000   6150000    211000    360000  81500000\n",
            "    252000   9630000   9870000    144000   3720000    409000   5590000\n",
            "   4180000   1000000 121000000    194000   8880000   6820000   4120000\n",
            "   6690000   8620000  24500000    287000   2280000   4510000  11300000\n",
            " 994000000  27700000    308000  26400000   1840000   2390000   8290000\n",
            "   4600000   9840000    685000  10300000   5120000    359000     75300\n",
            "   5810000   7980000  44100000   4580000    255000   2390000   1470000\n",
            "  35300000    635000   4790000  54100000    729000    604000   5020000\n",
            "  78300000  10800000   9630000     89000   7280000   4510000    801000\n",
            "    780000   5690000       724   3680000  10800000    228000 697000000\n",
            " 147000000  38700000  13700000   3430000   3740000  56400000   2160000\n",
            " 118000000   2370000  14900000  16300000     59300   1370000   3610000\n",
            "   3260000   2520000   2610000   1310000   1890000   3220000     25900\n",
            "   3430000    364000   1920000   8720000   6160000  13800000    158000\n",
            "   7090000    333000     30600   1530000    966000  69400000     73000\n",
            "   4010000     26700   1690000    581000  20000000  11800000  33400000\n",
            "   1010000      7490  14900000  14100000   3150000   3250000   5990000\n",
            "  73500000  17500000   4090000   1150000  78100000     12200   1510000\n",
            "   1980000   3300000   3180000  17400000  47400000  35500000   9800000\n",
            "    224000  22600000 138000000   5140000    156000     21400     94900\n",
            "   9740000   5590000   8910000     66300   3370000   2410000   5000000\n",
            "   1840000    231000   6360000  29800000  38100000   4710000  37800000\n",
            "  15000000     43200    118000    101000  14500000    363000    603000\n",
            "   8320000   6300000   8930000   3910000  18700000  47400000    588000\n",
            "   2720000     93000   1090000   6370000  44000000   2880000      8050\n",
            "  12500000  50000000   1040000  56300000 230000000   2920000  15900000\n",
            "    116000  15300000  54400000   8120000   5890000   7160000]\n"
          ],
          "name": "stdout"
        }
      ]
    },
    {
      "cell_type": "code",
      "metadata": {
        "id": "4H-r70PjHhKi",
        "colab_type": "code",
        "outputId": "848818a9-16ff-4fdf-b651-469e555c0ff7",
        "colab": {
          "base_uri": "https://localhost:8080/",
          "height": 1000
        }
      },
      "source": [
        "new_df['1980'] > 8000000"
      ],
      "execution_count": 0,
      "outputs": [
        {
          "output_type": "execute_result",
          "data": {
            "text/plain": [
              "country\n",
              "Afghanistan                True\n",
              "Albania                   False\n",
              "Algeria                    True\n",
              "Andorra                   False\n",
              "Angola                     True\n",
              "Antigua and Barbuda       False\n",
              "Argentina                  True\n",
              "Armenia                   False\n",
              "Australia                  True\n",
              "Austria                   False\n",
              "Azerbaijan                False\n",
              "Bahamas                   False\n",
              "Bahrain                   False\n",
              "Bangladesh                 True\n",
              "Barbados                  False\n",
              "Belarus                    True\n",
              "Belgium                    True\n",
              "Belize                    False\n",
              "Benin                     False\n",
              "Bhutan                    False\n",
              "Bolivia                   False\n",
              "Bosnia and Herzegovina    False\n",
              "Botswana                  False\n",
              "Brazil                     True\n",
              "Brunei                    False\n",
              "Bulgaria                   True\n",
              "Burkina Faso              False\n",
              "Burundi                   False\n",
              "Cambodia                  False\n",
              "Cameroon                   True\n",
              "                          ...  \n",
              "Sudan                      True\n",
              "Suriname                  False\n",
              "Swaziland                 False\n",
              "Sweden                     True\n",
              "Switzerland               False\n",
              "Syria                      True\n",
              "Tajikistan                False\n",
              "Tanzania                   True\n",
              "Thailand                   True\n",
              "Timor-Leste               False\n",
              "Togo                      False\n",
              "Tonga                     False\n",
              "Trinidad and Tobago       False\n",
              "Tunisia                   False\n",
              "Turkey                     True\n",
              "Turkmenistan              False\n",
              "Tuvalu                    False\n",
              "Uganda                     True\n",
              "Ukraine                    True\n",
              "United Arab Emirates      False\n",
              "United Kingdom             True\n",
              "United States              True\n",
              "Uruguay                   False\n",
              "Uzbekistan                 True\n",
              "Vanuatu                   False\n",
              "Venezuela                  True\n",
              "Vietnam                    True\n",
              "Yemen                      True\n",
              "Zambia                    False\n",
              "Zimbabwe                  False\n",
              "Name: 1980, Length: 195, dtype: bool"
            ]
          },
          "metadata": {
            "tags": []
          },
          "execution_count": 124
        }
      ]
    },
    {
      "cell_type": "code",
      "metadata": {
        "id": "gkbBxwzIIN5b",
        "colab_type": "code",
        "outputId": "b7f95777-0f9d-4e12-9da7-5a7707fb82e6",
        "colab": {
          "base_uri": "https://localhost:8080/",
          "height": 1000
        }
      },
      "source": [
        "my_filter = new_df['1980'] > 8000000\n",
        "new_df[my_filter]"
      ],
      "execution_count": 0,
      "outputs": [
        {
          "output_type": "execute_result",
          "data": {
            "text/html": [
              "<div>\n",
              "<style scoped>\n",
              "    .dataframe tbody tr th:only-of-type {\n",
              "        vertical-align: middle;\n",
              "    }\n",
              "\n",
              "    .dataframe tbody tr th {\n",
              "        vertical-align: top;\n",
              "    }\n",
              "\n",
              "    .dataframe thead th {\n",
              "        text-align: right;\n",
              "    }\n",
              "</style>\n",
              "<table border=\"1\" class=\"dataframe\">\n",
              "  <thead>\n",
              "    <tr style=\"text-align: right;\">\n",
              "      <th></th>\n",
              "      <th>1980</th>\n",
              "      <th>1990</th>\n",
              "      <th>2000</th>\n",
              "    </tr>\n",
              "    <tr>\n",
              "      <th>country</th>\n",
              "      <th></th>\n",
              "      <th></th>\n",
              "      <th></th>\n",
              "    </tr>\n",
              "  </thead>\n",
              "  <tbody>\n",
              "    <tr>\n",
              "      <th>Afghanistan</th>\n",
              "      <td>13200000</td>\n",
              "      <td>12200000</td>\n",
              "      <td>20100000</td>\n",
              "    </tr>\n",
              "    <tr>\n",
              "      <th>Algeria</th>\n",
              "      <td>19300000</td>\n",
              "      <td>25900000</td>\n",
              "      <td>31200000</td>\n",
              "    </tr>\n",
              "    <tr>\n",
              "      <th>Angola</th>\n",
              "      <td>8930000</td>\n",
              "      <td>12200000</td>\n",
              "      <td>16400000</td>\n",
              "    </tr>\n",
              "    <tr>\n",
              "      <th>Argentina</th>\n",
              "      <td>28100000</td>\n",
              "      <td>32700000</td>\n",
              "      <td>37100000</td>\n",
              "    </tr>\n",
              "    <tr>\n",
              "      <th>Australia</th>\n",
              "      <td>14600000</td>\n",
              "      <td>17000000</td>\n",
              "      <td>19100000</td>\n",
              "    </tr>\n",
              "    <tr>\n",
              "      <th>Bangladesh</th>\n",
              "      <td>81500000</td>\n",
              "      <td>106000000</td>\n",
              "      <td>132000000</td>\n",
              "    </tr>\n",
              "    <tr>\n",
              "      <th>Belarus</th>\n",
              "      <td>9630000</td>\n",
              "      <td>10200000</td>\n",
              "      <td>9930000</td>\n",
              "    </tr>\n",
              "    <tr>\n",
              "      <th>Belgium</th>\n",
              "      <td>9870000</td>\n",
              "      <td>10000000</td>\n",
              "      <td>10300000</td>\n",
              "    </tr>\n",
              "    <tr>\n",
              "      <th>Brazil</th>\n",
              "      <td>121000000</td>\n",
              "      <td>149000000</td>\n",
              "      <td>175000000</td>\n",
              "    </tr>\n",
              "    <tr>\n",
              "      <th>Bulgaria</th>\n",
              "      <td>8880000</td>\n",
              "      <td>8840000</td>\n",
              "      <td>8000000</td>\n",
              "    </tr>\n",
              "    <tr>\n",
              "      <th>Cameroon</th>\n",
              "      <td>8620000</td>\n",
              "      <td>11700000</td>\n",
              "      <td>15300000</td>\n",
              "    </tr>\n",
              "    <tr>\n",
              "      <th>Canada</th>\n",
              "      <td>24500000</td>\n",
              "      <td>27700000</td>\n",
              "      <td>30700000</td>\n",
              "    </tr>\n",
              "    <tr>\n",
              "      <th>Chile</th>\n",
              "      <td>11300000</td>\n",
              "      <td>13200000</td>\n",
              "      <td>15300000</td>\n",
              "    </tr>\n",
              "    <tr>\n",
              "      <th>China</th>\n",
              "      <td>994000000</td>\n",
              "      <td>1170000000</td>\n",
              "      <td>1280000000</td>\n",
              "    </tr>\n",
              "    <tr>\n",
              "      <th>Colombia</th>\n",
              "      <td>27700000</td>\n",
              "      <td>34300000</td>\n",
              "      <td>40400000</td>\n",
              "    </tr>\n",
              "    <tr>\n",
              "      <th>Congo, Dem. Rep.</th>\n",
              "      <td>26400000</td>\n",
              "      <td>34600000</td>\n",
              "      <td>47100000</td>\n",
              "    </tr>\n",
              "    <tr>\n",
              "      <th>Cote d'Ivoire</th>\n",
              "      <td>8290000</td>\n",
              "      <td>12300000</td>\n",
              "      <td>16700000</td>\n",
              "    </tr>\n",
              "    <tr>\n",
              "      <th>Cuba</th>\n",
              "      <td>9840000</td>\n",
              "      <td>10600000</td>\n",
              "      <td>11200000</td>\n",
              "    </tr>\n",
              "    <tr>\n",
              "      <th>Czech Republic</th>\n",
              "      <td>10300000</td>\n",
              "      <td>10300000</td>\n",
              "      <td>10300000</td>\n",
              "    </tr>\n",
              "    <tr>\n",
              "      <th>Egypt</th>\n",
              "      <td>44100000</td>\n",
              "      <td>57400000</td>\n",
              "      <td>69900000</td>\n",
              "    </tr>\n",
              "    <tr>\n",
              "      <th>Ethiopia</th>\n",
              "      <td>35300000</td>\n",
              "      <td>48100000</td>\n",
              "      <td>66500000</td>\n",
              "    </tr>\n",
              "    <tr>\n",
              "      <th>France</th>\n",
              "      <td>54100000</td>\n",
              "      <td>57000000</td>\n",
              "      <td>59600000</td>\n",
              "    </tr>\n",
              "    <tr>\n",
              "      <th>Germany</th>\n",
              "      <td>78300000</td>\n",
              "      <td>79100000</td>\n",
              "      <td>81500000</td>\n",
              "    </tr>\n",
              "    <tr>\n",
              "      <th>Ghana</th>\n",
              "      <td>10800000</td>\n",
              "      <td>14600000</td>\n",
              "      <td>18900000</td>\n",
              "    </tr>\n",
              "    <tr>\n",
              "      <th>Greece</th>\n",
              "      <td>9630000</td>\n",
              "      <td>10200000</td>\n",
              "      <td>11100000</td>\n",
              "    </tr>\n",
              "    <tr>\n",
              "      <th>Hungary</th>\n",
              "      <td>10800000</td>\n",
              "      <td>10400000</td>\n",
              "      <td>10200000</td>\n",
              "    </tr>\n",
              "    <tr>\n",
              "      <th>India</th>\n",
              "      <td>697000000</td>\n",
              "      <td>870000000</td>\n",
              "      <td>1050000000</td>\n",
              "    </tr>\n",
              "    <tr>\n",
              "      <th>Indonesia</th>\n",
              "      <td>147000000</td>\n",
              "      <td>181000000</td>\n",
              "      <td>212000000</td>\n",
              "    </tr>\n",
              "    <tr>\n",
              "      <th>Iran</th>\n",
              "      <td>38700000</td>\n",
              "      <td>56200000</td>\n",
              "      <td>66100000</td>\n",
              "    </tr>\n",
              "    <tr>\n",
              "      <th>Iraq</th>\n",
              "      <td>13700000</td>\n",
              "      <td>17500000</td>\n",
              "      <td>23600000</td>\n",
              "    </tr>\n",
              "    <tr>\n",
              "      <th>...</th>\n",
              "      <td>...</td>\n",
              "      <td>...</td>\n",
              "      <td>...</td>\n",
              "    </tr>\n",
              "    <tr>\n",
              "      <th>Netherlands</th>\n",
              "      <td>14100000</td>\n",
              "      <td>15000000</td>\n",
              "      <td>15900000</td>\n",
              "    </tr>\n",
              "    <tr>\n",
              "      <th>Nigeria</th>\n",
              "      <td>73500000</td>\n",
              "      <td>95300000</td>\n",
              "      <td>122000000</td>\n",
              "    </tr>\n",
              "    <tr>\n",
              "      <th>North Korea</th>\n",
              "      <td>17500000</td>\n",
              "      <td>20300000</td>\n",
              "      <td>22900000</td>\n",
              "    </tr>\n",
              "    <tr>\n",
              "      <th>Pakistan</th>\n",
              "      <td>78100000</td>\n",
              "      <td>108000000</td>\n",
              "      <td>139000000</td>\n",
              "    </tr>\n",
              "    <tr>\n",
              "      <th>Peru</th>\n",
              "      <td>17400000</td>\n",
              "      <td>21800000</td>\n",
              "      <td>25900000</td>\n",
              "    </tr>\n",
              "    <tr>\n",
              "      <th>Philippines</th>\n",
              "      <td>47400000</td>\n",
              "      <td>61900000</td>\n",
              "      <td>78000000</td>\n",
              "    </tr>\n",
              "    <tr>\n",
              "      <th>Poland</th>\n",
              "      <td>35500000</td>\n",
              "      <td>38000000</td>\n",
              "      <td>38600000</td>\n",
              "    </tr>\n",
              "    <tr>\n",
              "      <th>Portugal</th>\n",
              "      <td>9800000</td>\n",
              "      <td>9950000</td>\n",
              "      <td>10400000</td>\n",
              "    </tr>\n",
              "    <tr>\n",
              "      <th>Romania</th>\n",
              "      <td>22600000</td>\n",
              "      <td>23500000</td>\n",
              "      <td>22100000</td>\n",
              "    </tr>\n",
              "    <tr>\n",
              "      <th>Russia</th>\n",
              "      <td>138000000</td>\n",
              "      <td>148000000</td>\n",
              "      <td>146000000</td>\n",
              "    </tr>\n",
              "    <tr>\n",
              "      <th>Saudi Arabia</th>\n",
              "      <td>9740000</td>\n",
              "      <td>16300000</td>\n",
              "      <td>20800000</td>\n",
              "    </tr>\n",
              "    <tr>\n",
              "      <th>Serbia</th>\n",
              "      <td>8910000</td>\n",
              "      <td>9520000</td>\n",
              "      <td>9490000</td>\n",
              "    </tr>\n",
              "    <tr>\n",
              "      <th>South Africa</th>\n",
              "      <td>29800000</td>\n",
              "      <td>37600000</td>\n",
              "      <td>45700000</td>\n",
              "    </tr>\n",
              "    <tr>\n",
              "      <th>South Korea</th>\n",
              "      <td>38100000</td>\n",
              "      <td>42900000</td>\n",
              "      <td>47400000</td>\n",
              "    </tr>\n",
              "    <tr>\n",
              "      <th>Spain</th>\n",
              "      <td>37800000</td>\n",
              "      <td>39300000</td>\n",
              "      <td>40900000</td>\n",
              "    </tr>\n",
              "    <tr>\n",
              "      <th>Sri Lanka</th>\n",
              "      <td>15000000</td>\n",
              "      <td>17300000</td>\n",
              "      <td>18800000</td>\n",
              "    </tr>\n",
              "    <tr>\n",
              "      <th>Sudan</th>\n",
              "      <td>14500000</td>\n",
              "      <td>20100000</td>\n",
              "      <td>27300000</td>\n",
              "    </tr>\n",
              "    <tr>\n",
              "      <th>Sweden</th>\n",
              "      <td>8320000</td>\n",
              "      <td>8570000</td>\n",
              "      <td>8880000</td>\n",
              "    </tr>\n",
              "    <tr>\n",
              "      <th>Syria</th>\n",
              "      <td>8930000</td>\n",
              "      <td>12400000</td>\n",
              "      <td>16400000</td>\n",
              "    </tr>\n",
              "    <tr>\n",
              "      <th>Tanzania</th>\n",
              "      <td>18700000</td>\n",
              "      <td>25500000</td>\n",
              "      <td>34200000</td>\n",
              "    </tr>\n",
              "    <tr>\n",
              "      <th>Thailand</th>\n",
              "      <td>47400000</td>\n",
              "      <td>56600000</td>\n",
              "      <td>63000000</td>\n",
              "    </tr>\n",
              "    <tr>\n",
              "      <th>Turkey</th>\n",
              "      <td>44000000</td>\n",
              "      <td>53900000</td>\n",
              "      <td>63200000</td>\n",
              "    </tr>\n",
              "    <tr>\n",
              "      <th>Uganda</th>\n",
              "      <td>12500000</td>\n",
              "      <td>17400000</td>\n",
              "      <td>24000000</td>\n",
              "    </tr>\n",
              "    <tr>\n",
              "      <th>Ukraine</th>\n",
              "      <td>50000000</td>\n",
              "      <td>51500000</td>\n",
              "      <td>48800000</td>\n",
              "    </tr>\n",
              "    <tr>\n",
              "      <th>United Kingdom</th>\n",
              "      <td>56300000</td>\n",
              "      <td>57200000</td>\n",
              "      <td>59000000</td>\n",
              "    </tr>\n",
              "    <tr>\n",
              "      <th>United States</th>\n",
              "      <td>230000000</td>\n",
              "      <td>253000000</td>\n",
              "      <td>282000000</td>\n",
              "    </tr>\n",
              "    <tr>\n",
              "      <th>Uzbekistan</th>\n",
              "      <td>15900000</td>\n",
              "      <td>20500000</td>\n",
              "      <td>24800000</td>\n",
              "    </tr>\n",
              "    <tr>\n",
              "      <th>Venezuela</th>\n",
              "      <td>15300000</td>\n",
              "      <td>19900000</td>\n",
              "      <td>24500000</td>\n",
              "    </tr>\n",
              "    <tr>\n",
              "      <th>Vietnam</th>\n",
              "      <td>54400000</td>\n",
              "      <td>68200000</td>\n",
              "      <td>80300000</td>\n",
              "    </tr>\n",
              "    <tr>\n",
              "      <th>Yemen</th>\n",
              "      <td>8120000</td>\n",
              "      <td>12100000</td>\n",
              "      <td>17900000</td>\n",
              "    </tr>\n",
              "  </tbody>\n",
              "</table>\n",
              "<p>71 rows × 3 columns</p>\n",
              "</div>"
            ],
            "text/plain": [
              "                       1980        1990        2000\n",
              "country                                            \n",
              "Afghanistan        13200000    12200000    20100000\n",
              "Algeria            19300000    25900000    31200000\n",
              "Angola              8930000    12200000    16400000\n",
              "Argentina          28100000    32700000    37100000\n",
              "Australia          14600000    17000000    19100000\n",
              "Bangladesh         81500000   106000000   132000000\n",
              "Belarus             9630000    10200000     9930000\n",
              "Belgium             9870000    10000000    10300000\n",
              "Brazil            121000000   149000000   175000000\n",
              "Bulgaria            8880000     8840000     8000000\n",
              "Cameroon            8620000    11700000    15300000\n",
              "Canada             24500000    27700000    30700000\n",
              "Chile              11300000    13200000    15300000\n",
              "China             994000000  1170000000  1280000000\n",
              "Colombia           27700000    34300000    40400000\n",
              "Congo, Dem. Rep.   26400000    34600000    47100000\n",
              "Cote d'Ivoire       8290000    12300000    16700000\n",
              "Cuba                9840000    10600000    11200000\n",
              "Czech Republic     10300000    10300000    10300000\n",
              "Egypt              44100000    57400000    69900000\n",
              "Ethiopia           35300000    48100000    66500000\n",
              "France             54100000    57000000    59600000\n",
              "Germany            78300000    79100000    81500000\n",
              "Ghana              10800000    14600000    18900000\n",
              "Greece              9630000    10200000    11100000\n",
              "Hungary            10800000    10400000    10200000\n",
              "India             697000000   870000000  1050000000\n",
              "Indonesia         147000000   181000000   212000000\n",
              "Iran               38700000    56200000    66100000\n",
              "Iraq               13700000    17500000    23600000\n",
              "...                     ...         ...         ...\n",
              "Netherlands        14100000    15000000    15900000\n",
              "Nigeria            73500000    95300000   122000000\n",
              "North Korea        17500000    20300000    22900000\n",
              "Pakistan           78100000   108000000   139000000\n",
              "Peru               17400000    21800000    25900000\n",
              "Philippines        47400000    61900000    78000000\n",
              "Poland             35500000    38000000    38600000\n",
              "Portugal            9800000     9950000    10400000\n",
              "Romania            22600000    23500000    22100000\n",
              "Russia            138000000   148000000   146000000\n",
              "Saudi Arabia        9740000    16300000    20800000\n",
              "Serbia              8910000     9520000     9490000\n",
              "South Africa       29800000    37600000    45700000\n",
              "South Korea        38100000    42900000    47400000\n",
              "Spain              37800000    39300000    40900000\n",
              "Sri Lanka          15000000    17300000    18800000\n",
              "Sudan              14500000    20100000    27300000\n",
              "Sweden              8320000     8570000     8880000\n",
              "Syria               8930000    12400000    16400000\n",
              "Tanzania           18700000    25500000    34200000\n",
              "Thailand           47400000    56600000    63000000\n",
              "Turkey             44000000    53900000    63200000\n",
              "Uganda             12500000    17400000    24000000\n",
              "Ukraine            50000000    51500000    48800000\n",
              "United Kingdom     56300000    57200000    59000000\n",
              "United States     230000000   253000000   282000000\n",
              "Uzbekistan         15900000    20500000    24800000\n",
              "Venezuela          15300000    19900000    24500000\n",
              "Vietnam            54400000    68200000    80300000\n",
              "Yemen               8120000    12100000    17900000\n",
              "\n",
              "[71 rows x 3 columns]"
            ]
          },
          "metadata": {
            "tags": []
          },
          "execution_count": 125
        }
      ]
    },
    {
      "cell_type": "markdown",
      "metadata": {
        "id": "dyn8kWJhJ-K5",
        "colab_type": "text"
      },
      "source": [
        "Let's combine filters"
      ]
    },
    {
      "cell_type": "code",
      "metadata": {
        "id": "DXF2BJUhKAMt",
        "colab_type": "code",
        "outputId": "f1dd2078-14f4-48aa-8635-2eabd794b179",
        "colab": {
          "base_uri": "https://localhost:8080/",
          "height": 235
        }
      },
      "source": [
        "new_df[np.logical_and(new_df['1980'] > 7000000, new_df['1980'] < 8000000)]"
      ],
      "execution_count": 0,
      "outputs": [
        {
          "output_type": "execute_result",
          "data": {
            "text/html": [
              "<div>\n",
              "<style scoped>\n",
              "    .dataframe tbody tr th:only-of-type {\n",
              "        vertical-align: middle;\n",
              "    }\n",
              "\n",
              "    .dataframe tbody tr th {\n",
              "        vertical-align: top;\n",
              "    }\n",
              "\n",
              "    .dataframe thead th {\n",
              "        text-align: right;\n",
              "    }\n",
              "</style>\n",
              "<table border=\"1\" class=\"dataframe\">\n",
              "  <thead>\n",
              "    <tr style=\"text-align: right;\">\n",
              "      <th></th>\n",
              "      <th>1980</th>\n",
              "      <th>1990</th>\n",
              "      <th>2000</th>\n",
              "    </tr>\n",
              "    <tr>\n",
              "      <th>country</th>\n",
              "      <th></th>\n",
              "      <th></th>\n",
              "      <th></th>\n",
              "    </tr>\n",
              "  </thead>\n",
              "  <tbody>\n",
              "    <tr>\n",
              "      <th>Austria</th>\n",
              "      <td>7610000</td>\n",
              "      <td>7720000</td>\n",
              "      <td>8070000</td>\n",
              "    </tr>\n",
              "    <tr>\n",
              "      <th>Ecuador</th>\n",
              "      <td>7980000</td>\n",
              "      <td>10200000</td>\n",
              "      <td>12600000</td>\n",
              "    </tr>\n",
              "    <tr>\n",
              "      <th>Guatemala</th>\n",
              "      <td>7280000</td>\n",
              "      <td>9260000</td>\n",
              "      <td>11700000</td>\n",
              "    </tr>\n",
              "    <tr>\n",
              "      <th>Mali</th>\n",
              "      <td>7090000</td>\n",
              "      <td>8470000</td>\n",
              "      <td>11000000</td>\n",
              "    </tr>\n",
              "    <tr>\n",
              "      <th>Zimbabwe</th>\n",
              "      <td>7160000</td>\n",
              "      <td>10200000</td>\n",
              "      <td>12200000</td>\n",
              "    </tr>\n",
              "  </tbody>\n",
              "</table>\n",
              "</div>"
            ],
            "text/plain": [
              "              1980      1990      2000\n",
              "country                               \n",
              "Austria    7610000   7720000   8070000\n",
              "Ecuador    7980000  10200000  12600000\n",
              "Guatemala  7280000   9260000  11700000\n",
              "Mali       7090000   8470000  11000000\n",
              "Zimbabwe   7160000  10200000  12200000"
            ]
          },
          "metadata": {
            "tags": []
          },
          "execution_count": 126
        }
      ]
    },
    {
      "cell_type": "markdown",
      "metadata": {
        "id": "s8lt5GNZKvtz",
        "colab_type": "text"
      },
      "source": [
        "### Data Processing\n",
        "\n",
        "Assignment: https://www.kaggle.com/AnalyzeBoston/crimes-in-boston/download"
      ]
    }
  ]
}