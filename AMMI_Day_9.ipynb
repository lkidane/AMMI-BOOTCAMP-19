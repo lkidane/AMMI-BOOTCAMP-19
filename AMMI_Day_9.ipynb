{
  "nbformat": 4,
  "nbformat_minor": 0,
  "metadata": {
    "colab": {
      "name": "AMMI_Day_9.ipynb",
      "provenance": []
    },
    "kernelspec": {
      "name": "python3",
      "display_name": "Python 3"
    },
    "accelerator": "GPU"
  },
  "cells": [
    {
      "cell_type": "markdown",
      "metadata": {
        "id": "n56nI9Vu-LXS",
        "colab_type": "text"
      },
      "source": [
        "# AMMI Day 9"
      ]
    },
    {
      "cell_type": "markdown",
      "metadata": {
        "id": "omhVB-kS-ONF",
        "colab_type": "text"
      },
      "source": [
        "## Morning Session\n",
        "### Sequence Models - Time Series Data - RNN - GRU - LSTM"
      ]
    },
    {
      "cell_type": "code",
      "metadata": {
        "id": "lNO-Ovt3yK3h",
        "colab_type": "code",
        "colab": {
          "base_uri": "https://localhost:8080/",
          "height": 523
        },
        "outputId": "7288871e-8621-4f95-c377-8f0052eb1ed2"
      },
      "source": [
        "!pip install tensorflow-gpu==2.0.0.beta0"
      ],
      "execution_count": 1,
      "outputs": [
        {
          "output_type": "stream",
          "text": [
            "Collecting tensorflow-gpu==2.0.0.beta0\n",
            "\u001b[?25l  Downloading https://files.pythonhosted.org/packages/e8/7e/87c4c94686cda7066f52cbca4c344248516490acdd6b258ec6b8a805d956/tensorflow_gpu-2.0.0b0-cp36-cp36m-manylinux1_x86_64.whl (348.8MB)\n",
            "\u001b[K     |████████████████████████████████| 348.9MB 88kB/s \n",
            "\u001b[?25hRequirement already satisfied: gast>=0.2.0 in /usr/local/lib/python3.6/dist-packages (from tensorflow-gpu==2.0.0.beta0) (0.2.2)\n",
            "Requirement already satisfied: keras-preprocessing>=1.0.5 in /usr/local/lib/python3.6/dist-packages (from tensorflow-gpu==2.0.0.beta0) (1.1.0)\n",
            "Requirement already satisfied: protobuf>=3.6.1 in /usr/local/lib/python3.6/dist-packages (from tensorflow-gpu==2.0.0.beta0) (3.7.1)\n",
            "Requirement already satisfied: absl-py>=0.7.0 in /usr/local/lib/python3.6/dist-packages (from tensorflow-gpu==2.0.0.beta0) (0.8.0)\n",
            "Requirement already satisfied: astor>=0.6.0 in /usr/local/lib/python3.6/dist-packages (from tensorflow-gpu==2.0.0.beta0) (0.8.0)\n",
            "Collecting tf-estimator-nightly<1.14.0.dev2019060502,>=1.14.0.dev2019060501 (from tensorflow-gpu==2.0.0.beta0)\n",
            "\u001b[?25l  Downloading https://files.pythonhosted.org/packages/32/dd/99c47dd007dcf10d63fd895611b063732646f23059c618a373e85019eb0e/tf_estimator_nightly-1.14.0.dev2019060501-py2.py3-none-any.whl (496kB)\n",
            "\u001b[K     |████████████████████████████████| 501kB 28.2MB/s \n",
            "\u001b[?25hRequirement already satisfied: wrapt>=1.11.1 in /usr/local/lib/python3.6/dist-packages (from tensorflow-gpu==2.0.0.beta0) (1.11.2)\n",
            "Requirement already satisfied: grpcio>=1.8.6 in /usr/local/lib/python3.6/dist-packages (from tensorflow-gpu==2.0.0.beta0) (1.15.0)\n",
            "Requirement already satisfied: numpy<2.0,>=1.14.5 in /usr/local/lib/python3.6/dist-packages (from tensorflow-gpu==2.0.0.beta0) (1.16.5)\n",
            "Collecting tb-nightly<1.14.0a20190604,>=1.14.0a20190603 (from tensorflow-gpu==2.0.0.beta0)\n",
            "\u001b[?25l  Downloading https://files.pythonhosted.org/packages/a4/96/571b875cd81dda9d5dfa1422a4f9d749e67c0a8d4f4f0b33a4e5f5f35e27/tb_nightly-1.14.0a20190603-py3-none-any.whl (3.1MB)\n",
            "\u001b[K     |████████████████████████████████| 3.1MB 16.4MB/s \n",
            "\u001b[?25hRequirement already satisfied: keras-applications>=1.0.6 in /usr/local/lib/python3.6/dist-packages (from tensorflow-gpu==2.0.0.beta0) (1.0.8)\n",
            "Requirement already satisfied: wheel>=0.26 in /usr/local/lib/python3.6/dist-packages (from tensorflow-gpu==2.0.0.beta0) (0.33.6)\n",
            "Requirement already satisfied: google-pasta>=0.1.6 in /usr/local/lib/python3.6/dist-packages (from tensorflow-gpu==2.0.0.beta0) (0.1.7)\n",
            "Requirement already satisfied: six>=1.10.0 in /usr/local/lib/python3.6/dist-packages (from tensorflow-gpu==2.0.0.beta0) (1.12.0)\n",
            "Requirement already satisfied: termcolor>=1.1.0 in /usr/local/lib/python3.6/dist-packages (from tensorflow-gpu==2.0.0.beta0) (1.1.0)\n",
            "Requirement already satisfied: setuptools in /usr/local/lib/python3.6/dist-packages (from protobuf>=3.6.1->tensorflow-gpu==2.0.0.beta0) (41.2.0)\n",
            "Requirement already satisfied: werkzeug>=0.11.15 in /usr/local/lib/python3.6/dist-packages (from tb-nightly<1.14.0a20190604,>=1.14.0a20190603->tensorflow-gpu==2.0.0.beta0) (0.16.0)\n",
            "Requirement already satisfied: markdown>=2.6.8 in /usr/local/lib/python3.6/dist-packages (from tb-nightly<1.14.0a20190604,>=1.14.0a20190603->tensorflow-gpu==2.0.0.beta0) (3.1.1)\n",
            "Requirement already satisfied: h5py in /usr/local/lib/python3.6/dist-packages (from keras-applications>=1.0.6->tensorflow-gpu==2.0.0.beta0) (2.8.0)\n",
            "Installing collected packages: tf-estimator-nightly, tb-nightly, tensorflow-gpu\n",
            "Successfully installed tb-nightly-1.14.0a20190603 tensorflow-gpu-2.0.0b0 tf-estimator-nightly-1.14.0.dev2019060501\n"
          ],
          "name": "stdout"
        }
      ]
    },
    {
      "cell_type": "code",
      "metadata": {
        "id": "wNM54FCKyzo6",
        "colab_type": "code",
        "colab": {
          "base_uri": "https://localhost:8080/",
          "height": 55
        },
        "outputId": "125a86ea-1547-4915-9895-5af5c75538fd"
      },
      "source": [
        "#this version of numpy is required to avoid an error related to numpy defaulting to not allowing pickle files\n",
        "!pip install numpy==1.16.2"
      ],
      "execution_count": 23,
      "outputs": [
        {
          "output_type": "stream",
          "text": [
            "Requirement already satisfied: numpy==1.16.2 in /usr/local/lib/python3.6/dist-packages (1.16.2)\n"
          ],
          "name": "stdout"
        }
      ]
    },
    {
      "cell_type": "code",
      "metadata": {
        "id": "FVocKHb2y_qE",
        "colab_type": "code",
        "colab": {
          "base_uri": "https://localhost:8080/",
          "height": 124
        },
        "outputId": "94a94a40-0072-4918-9230-ae45bc6d5944"
      },
      "source": [
        "!pip install pandas==0.24"
      ],
      "execution_count": 24,
      "outputs": [
        {
          "output_type": "stream",
          "text": [
            "Requirement already satisfied: pandas==0.24 in /usr/local/lib/python3.6/dist-packages (0.24.0)\n",
            "Requirement already satisfied: pytz>=2011k in /usr/local/lib/python3.6/dist-packages (from pandas==0.24) (2018.9)\n",
            "Requirement already satisfied: numpy>=1.12.0 in /usr/local/lib/python3.6/dist-packages (from pandas==0.24) (1.16.2)\n",
            "Requirement already satisfied: python-dateutil>=2.5.0 in /usr/local/lib/python3.6/dist-packages (from pandas==0.24) (2.5.3)\n",
            "Requirement already satisfied: six>=1.5 in /usr/local/lib/python3.6/dist-packages (from python-dateutil>=2.5.0->pandas==0.24) (1.12.0)\n"
          ],
          "name": "stdout"
        }
      ]
    },
    {
      "cell_type": "code",
      "metadata": {
        "id": "3OmloKEZzE-u",
        "colab_type": "code",
        "colab": {}
      },
      "source": [
        "import tensorflow as tf\n",
        "from tensorflow.keras import datasets, preprocessing, models, layers\n",
        "import numpy as np\n",
        "import pandas as pd"
      ],
      "execution_count": 0,
      "outputs": []
    },
    {
      "cell_type": "code",
      "metadata": {
        "id": "OLYTxYdDzM_2",
        "colab_type": "code",
        "colab": {
          "base_uri": "https://localhost:8080/",
          "height": 35
        },
        "outputId": "2ed38ba7-adc2-4b55-c2de-72fec5a9e387"
      },
      "source": [
        "from google.colab import drive\n",
        "drive.mount('/content/gdrive')"
      ],
      "execution_count": 114,
      "outputs": [
        {
          "output_type": "stream",
          "text": [
            "Mounted at /content/gdrive\n"
          ],
          "name": "stdout"
        }
      ]
    },
    {
      "cell_type": "code",
      "metadata": {
        "id": "e54TX6p6zWXz",
        "colab_type": "code",
        "colab": {}
      },
      "source": [
        "df = pd.read_csv('/content/gdrive/My Drive/temperature/jena_climate_2009_2016.csv')"
      ],
      "execution_count": 0,
      "outputs": []
    },
    {
      "cell_type": "code",
      "metadata": {
        "id": "JdxPpg8TDxG1",
        "colab_type": "code",
        "colab": {
          "base_uri": "https://localhost:8080/",
          "height": 364
        },
        "outputId": "881e3776-779b-4130-bfd0-0b855c79fab3"
      },
      "source": [
        "df.info()"
      ],
      "execution_count": 28,
      "outputs": [
        {
          "output_type": "stream",
          "text": [
            "<class 'pandas.core.frame.DataFrame'>\n",
            "RangeIndex: 420551 entries, 0 to 420550\n",
            "Data columns (total 15 columns):\n",
            "Date Time          420551 non-null object\n",
            "p (mbar)           420551 non-null float64\n",
            "T (degC)           420551 non-null float64\n",
            "Tpot (K)           420551 non-null float64\n",
            "Tdew (degC)        420551 non-null float64\n",
            "rh (%)             420551 non-null float64\n",
            "VPmax (mbar)       420551 non-null float64\n",
            "VPact (mbar)       420551 non-null float64\n",
            "VPdef (mbar)       420551 non-null float64\n",
            "sh (g/kg)          420551 non-null float64\n",
            "H2OC (mmol/mol)    420551 non-null float64\n",
            "rho (g/m**3)       420551 non-null float64\n",
            "wv (m/s)           420551 non-null float64\n",
            "max. wv (m/s)      420551 non-null float64\n",
            "wd (deg)           420551 non-null float64\n",
            "dtypes: float64(14), object(1)\n",
            "memory usage: 48.1+ MB\n"
          ],
          "name": "stdout"
        }
      ]
    },
    {
      "cell_type": "code",
      "metadata": {
        "id": "2u5FXV9-EEjM",
        "colab_type": "code",
        "colab": {
          "base_uri": "https://localhost:8080/",
          "height": 202
        },
        "outputId": "2e3de36e-cc9a-422d-c895-d9435b882784"
      },
      "source": [
        "df[['Date Time']].head()"
      ],
      "execution_count": 29,
      "outputs": [
        {
          "output_type": "execute_result",
          "data": {
            "text/html": [
              "<div>\n",
              "<style scoped>\n",
              "    .dataframe tbody tr th:only-of-type {\n",
              "        vertical-align: middle;\n",
              "    }\n",
              "\n",
              "    .dataframe tbody tr th {\n",
              "        vertical-align: top;\n",
              "    }\n",
              "\n",
              "    .dataframe thead th {\n",
              "        text-align: right;\n",
              "    }\n",
              "</style>\n",
              "<table border=\"1\" class=\"dataframe\">\n",
              "  <thead>\n",
              "    <tr style=\"text-align: right;\">\n",
              "      <th></th>\n",
              "      <th>Date Time</th>\n",
              "    </tr>\n",
              "  </thead>\n",
              "  <tbody>\n",
              "    <tr>\n",
              "      <th>0</th>\n",
              "      <td>01.01.2009 00:10:00</td>\n",
              "    </tr>\n",
              "    <tr>\n",
              "      <th>1</th>\n",
              "      <td>01.01.2009 00:20:00</td>\n",
              "    </tr>\n",
              "    <tr>\n",
              "      <th>2</th>\n",
              "      <td>01.01.2009 00:30:00</td>\n",
              "    </tr>\n",
              "    <tr>\n",
              "      <th>3</th>\n",
              "      <td>01.01.2009 00:40:00</td>\n",
              "    </tr>\n",
              "    <tr>\n",
              "      <th>4</th>\n",
              "      <td>01.01.2009 00:50:00</td>\n",
              "    </tr>\n",
              "  </tbody>\n",
              "</table>\n",
              "</div>"
            ],
            "text/plain": [
              "             Date Time\n",
              "0  01.01.2009 00:10:00\n",
              "1  01.01.2009 00:20:00\n",
              "2  01.01.2009 00:30:00\n",
              "3  01.01.2009 00:40:00\n",
              "4  01.01.2009 00:50:00"
            ]
          },
          "metadata": {
            "tags": []
          },
          "execution_count": 29
        }
      ]
    },
    {
      "cell_type": "code",
      "metadata": {
        "id": "FE7Mppi7zbQA",
        "colab_type": "code",
        "colab": {}
      },
      "source": [
        "df = df[['Date Time', 'T (degC)']]\n",
        "df['DateTime'] = pd.to_datetime(df['Date Time'], format=\"%d.%m.%Y %H:%M:%S\")"
      ],
      "execution_count": 0,
      "outputs": []
    },
    {
      "cell_type": "code",
      "metadata": {
        "id": "OyiN2UEqEPtf",
        "colab_type": "code",
        "colab": {
          "base_uri": "https://localhost:8080/",
          "height": 202
        },
        "outputId": "1166baa6-c105-4d6f-daaa-85dbb9cb7a61"
      },
      "source": [
        "df.head()"
      ],
      "execution_count": 31,
      "outputs": [
        {
          "output_type": "execute_result",
          "data": {
            "text/html": [
              "<div>\n",
              "<style scoped>\n",
              "    .dataframe tbody tr th:only-of-type {\n",
              "        vertical-align: middle;\n",
              "    }\n",
              "\n",
              "    .dataframe tbody tr th {\n",
              "        vertical-align: top;\n",
              "    }\n",
              "\n",
              "    .dataframe thead th {\n",
              "        text-align: right;\n",
              "    }\n",
              "</style>\n",
              "<table border=\"1\" class=\"dataframe\">\n",
              "  <thead>\n",
              "    <tr style=\"text-align: right;\">\n",
              "      <th></th>\n",
              "      <th>Date Time</th>\n",
              "      <th>T (degC)</th>\n",
              "      <th>DateTime</th>\n",
              "    </tr>\n",
              "  </thead>\n",
              "  <tbody>\n",
              "    <tr>\n",
              "      <th>0</th>\n",
              "      <td>01.01.2009 00:10:00</td>\n",
              "      <td>-8.02</td>\n",
              "      <td>2009-01-01 00:10:00</td>\n",
              "    </tr>\n",
              "    <tr>\n",
              "      <th>1</th>\n",
              "      <td>01.01.2009 00:20:00</td>\n",
              "      <td>-8.41</td>\n",
              "      <td>2009-01-01 00:20:00</td>\n",
              "    </tr>\n",
              "    <tr>\n",
              "      <th>2</th>\n",
              "      <td>01.01.2009 00:30:00</td>\n",
              "      <td>-8.51</td>\n",
              "      <td>2009-01-01 00:30:00</td>\n",
              "    </tr>\n",
              "    <tr>\n",
              "      <th>3</th>\n",
              "      <td>01.01.2009 00:40:00</td>\n",
              "      <td>-8.31</td>\n",
              "      <td>2009-01-01 00:40:00</td>\n",
              "    </tr>\n",
              "    <tr>\n",
              "      <th>4</th>\n",
              "      <td>01.01.2009 00:50:00</td>\n",
              "      <td>-8.27</td>\n",
              "      <td>2009-01-01 00:50:00</td>\n",
              "    </tr>\n",
              "  </tbody>\n",
              "</table>\n",
              "</div>"
            ],
            "text/plain": [
              "             Date Time  T (degC)            DateTime\n",
              "0  01.01.2009 00:10:00     -8.02 2009-01-01 00:10:00\n",
              "1  01.01.2009 00:20:00     -8.41 2009-01-01 00:20:00\n",
              "2  01.01.2009 00:30:00     -8.51 2009-01-01 00:30:00\n",
              "3  01.01.2009 00:40:00     -8.31 2009-01-01 00:40:00\n",
              "4  01.01.2009 00:50:00     -8.27 2009-01-01 00:50:00"
            ]
          },
          "metadata": {
            "tags": []
          },
          "execution_count": 31
        }
      ]
    },
    {
      "cell_type": "code",
      "metadata": {
        "id": "98J7ihTv0ADR",
        "colab_type": "code",
        "colab": {
          "base_uri": "https://localhost:8080/",
          "height": 1000
        },
        "outputId": "66056136-2c11-4720-d99a-7af9d2a6243a"
      },
      "source": [
        "df.set_index(['DateTime'])"
      ],
      "execution_count": 32,
      "outputs": [
        {
          "output_type": "execute_result",
          "data": {
            "text/html": [
              "<div>\n",
              "<style scoped>\n",
              "    .dataframe tbody tr th:only-of-type {\n",
              "        vertical-align: middle;\n",
              "    }\n",
              "\n",
              "    .dataframe tbody tr th {\n",
              "        vertical-align: top;\n",
              "    }\n",
              "\n",
              "    .dataframe thead th {\n",
              "        text-align: right;\n",
              "    }\n",
              "</style>\n",
              "<table border=\"1\" class=\"dataframe\">\n",
              "  <thead>\n",
              "    <tr style=\"text-align: right;\">\n",
              "      <th></th>\n",
              "      <th>Date Time</th>\n",
              "      <th>T (degC)</th>\n",
              "    </tr>\n",
              "    <tr>\n",
              "      <th>DateTime</th>\n",
              "      <th></th>\n",
              "      <th></th>\n",
              "    </tr>\n",
              "  </thead>\n",
              "  <tbody>\n",
              "    <tr>\n",
              "      <th>2009-01-01 00:10:00</th>\n",
              "      <td>01.01.2009 00:10:00</td>\n",
              "      <td>-8.02</td>\n",
              "    </tr>\n",
              "    <tr>\n",
              "      <th>2009-01-01 00:20:00</th>\n",
              "      <td>01.01.2009 00:20:00</td>\n",
              "      <td>-8.41</td>\n",
              "    </tr>\n",
              "    <tr>\n",
              "      <th>2009-01-01 00:30:00</th>\n",
              "      <td>01.01.2009 00:30:00</td>\n",
              "      <td>-8.51</td>\n",
              "    </tr>\n",
              "    <tr>\n",
              "      <th>2009-01-01 00:40:00</th>\n",
              "      <td>01.01.2009 00:40:00</td>\n",
              "      <td>-8.31</td>\n",
              "    </tr>\n",
              "    <tr>\n",
              "      <th>2009-01-01 00:50:00</th>\n",
              "      <td>01.01.2009 00:50:00</td>\n",
              "      <td>-8.27</td>\n",
              "    </tr>\n",
              "    <tr>\n",
              "      <th>2009-01-01 01:00:00</th>\n",
              "      <td>01.01.2009 01:00:00</td>\n",
              "      <td>-8.05</td>\n",
              "    </tr>\n",
              "    <tr>\n",
              "      <th>2009-01-01 01:10:00</th>\n",
              "      <td>01.01.2009 01:10:00</td>\n",
              "      <td>-7.62</td>\n",
              "    </tr>\n",
              "    <tr>\n",
              "      <th>2009-01-01 01:20:00</th>\n",
              "      <td>01.01.2009 01:20:00</td>\n",
              "      <td>-7.62</td>\n",
              "    </tr>\n",
              "    <tr>\n",
              "      <th>2009-01-01 01:30:00</th>\n",
              "      <td>01.01.2009 01:30:00</td>\n",
              "      <td>-7.91</td>\n",
              "    </tr>\n",
              "    <tr>\n",
              "      <th>2009-01-01 01:40:00</th>\n",
              "      <td>01.01.2009 01:40:00</td>\n",
              "      <td>-8.43</td>\n",
              "    </tr>\n",
              "    <tr>\n",
              "      <th>2009-01-01 01:50:00</th>\n",
              "      <td>01.01.2009 01:50:00</td>\n",
              "      <td>-8.76</td>\n",
              "    </tr>\n",
              "    <tr>\n",
              "      <th>2009-01-01 02:00:00</th>\n",
              "      <td>01.01.2009 02:00:00</td>\n",
              "      <td>-8.88</td>\n",
              "    </tr>\n",
              "    <tr>\n",
              "      <th>2009-01-01 02:10:00</th>\n",
              "      <td>01.01.2009 02:10:00</td>\n",
              "      <td>-8.85</td>\n",
              "    </tr>\n",
              "    <tr>\n",
              "      <th>2009-01-01 02:20:00</th>\n",
              "      <td>01.01.2009 02:20:00</td>\n",
              "      <td>-8.83</td>\n",
              "    </tr>\n",
              "    <tr>\n",
              "      <th>2009-01-01 02:30:00</th>\n",
              "      <td>01.01.2009 02:30:00</td>\n",
              "      <td>-8.66</td>\n",
              "    </tr>\n",
              "    <tr>\n",
              "      <th>2009-01-01 02:40:00</th>\n",
              "      <td>01.01.2009 02:40:00</td>\n",
              "      <td>-8.66</td>\n",
              "    </tr>\n",
              "    <tr>\n",
              "      <th>2009-01-01 02:50:00</th>\n",
              "      <td>01.01.2009 02:50:00</td>\n",
              "      <td>-8.70</td>\n",
              "    </tr>\n",
              "    <tr>\n",
              "      <th>2009-01-01 03:00:00</th>\n",
              "      <td>01.01.2009 03:00:00</td>\n",
              "      <td>-8.81</td>\n",
              "    </tr>\n",
              "    <tr>\n",
              "      <th>2009-01-01 03:10:00</th>\n",
              "      <td>01.01.2009 03:10:00</td>\n",
              "      <td>-8.84</td>\n",
              "    </tr>\n",
              "    <tr>\n",
              "      <th>2009-01-01 03:20:00</th>\n",
              "      <td>01.01.2009 03:20:00</td>\n",
              "      <td>-8.94</td>\n",
              "    </tr>\n",
              "    <tr>\n",
              "      <th>2009-01-01 03:30:00</th>\n",
              "      <td>01.01.2009 03:30:00</td>\n",
              "      <td>-8.94</td>\n",
              "    </tr>\n",
              "    <tr>\n",
              "      <th>2009-01-01 03:40:00</th>\n",
              "      <td>01.01.2009 03:40:00</td>\n",
              "      <td>-8.86</td>\n",
              "    </tr>\n",
              "    <tr>\n",
              "      <th>2009-01-01 03:50:00</th>\n",
              "      <td>01.01.2009 03:50:00</td>\n",
              "      <td>-8.99</td>\n",
              "    </tr>\n",
              "    <tr>\n",
              "      <th>2009-01-01 04:00:00</th>\n",
              "      <td>01.01.2009 04:00:00</td>\n",
              "      <td>-9.05</td>\n",
              "    </tr>\n",
              "    <tr>\n",
              "      <th>2009-01-01 04:10:00</th>\n",
              "      <td>01.01.2009 04:10:00</td>\n",
              "      <td>-9.23</td>\n",
              "    </tr>\n",
              "    <tr>\n",
              "      <th>2009-01-01 04:20:00</th>\n",
              "      <td>01.01.2009 04:20:00</td>\n",
              "      <td>-9.49</td>\n",
              "    </tr>\n",
              "    <tr>\n",
              "      <th>2009-01-01 04:30:00</th>\n",
              "      <td>01.01.2009 04:30:00</td>\n",
              "      <td>-9.50</td>\n",
              "    </tr>\n",
              "    <tr>\n",
              "      <th>2009-01-01 04:40:00</th>\n",
              "      <td>01.01.2009 04:40:00</td>\n",
              "      <td>-9.35</td>\n",
              "    </tr>\n",
              "    <tr>\n",
              "      <th>2009-01-01 04:50:00</th>\n",
              "      <td>01.01.2009 04:50:00</td>\n",
              "      <td>-9.47</td>\n",
              "    </tr>\n",
              "    <tr>\n",
              "      <th>2009-01-01 05:00:00</th>\n",
              "      <td>01.01.2009 05:00:00</td>\n",
              "      <td>-9.63</td>\n",
              "    </tr>\n",
              "    <tr>\n",
              "      <th>...</th>\n",
              "      <td>...</td>\n",
              "      <td>...</td>\n",
              "    </tr>\n",
              "    <tr>\n",
              "      <th>2016-12-31 19:10:00</th>\n",
              "      <td>31.12.2016 19:10:00</td>\n",
              "      <td>-0.98</td>\n",
              "    </tr>\n",
              "    <tr>\n",
              "      <th>2016-12-31 19:20:00</th>\n",
              "      <td>31.12.2016 19:20:00</td>\n",
              "      <td>-1.40</td>\n",
              "    </tr>\n",
              "    <tr>\n",
              "      <th>2016-12-31 19:30:00</th>\n",
              "      <td>31.12.2016 19:30:00</td>\n",
              "      <td>-1.47</td>\n",
              "    </tr>\n",
              "    <tr>\n",
              "      <th>2016-12-31 19:40:00</th>\n",
              "      <td>31.12.2016 19:40:00</td>\n",
              "      <td>-1.61</td>\n",
              "    </tr>\n",
              "    <tr>\n",
              "      <th>2016-12-31 19:50:00</th>\n",
              "      <td>31.12.2016 19:50:00</td>\n",
              "      <td>-1.65</td>\n",
              "    </tr>\n",
              "    <tr>\n",
              "      <th>2016-12-31 20:00:00</th>\n",
              "      <td>31.12.2016 20:00:00</td>\n",
              "      <td>-1.52</td>\n",
              "    </tr>\n",
              "    <tr>\n",
              "      <th>2016-12-31 20:10:00</th>\n",
              "      <td>31.12.2016 20:10:00</td>\n",
              "      <td>-1.40</td>\n",
              "    </tr>\n",
              "    <tr>\n",
              "      <th>2016-12-31 20:20:00</th>\n",
              "      <td>31.12.2016 20:20:00</td>\n",
              "      <td>-2.15</td>\n",
              "    </tr>\n",
              "    <tr>\n",
              "      <th>2016-12-31 20:30:00</th>\n",
              "      <td>31.12.2016 20:30:00</td>\n",
              "      <td>-3.19</td>\n",
              "    </tr>\n",
              "    <tr>\n",
              "      <th>2016-12-31 20:40:00</th>\n",
              "      <td>31.12.2016 20:40:00</td>\n",
              "      <td>-3.30</td>\n",
              "    </tr>\n",
              "    <tr>\n",
              "      <th>2016-12-31 20:50:00</th>\n",
              "      <td>31.12.2016 20:50:00</td>\n",
              "      <td>-3.46</td>\n",
              "    </tr>\n",
              "    <tr>\n",
              "      <th>2016-12-31 21:00:00</th>\n",
              "      <td>31.12.2016 21:00:00</td>\n",
              "      <td>-3.09</td>\n",
              "    </tr>\n",
              "    <tr>\n",
              "      <th>2016-12-31 21:10:00</th>\n",
              "      <td>31.12.2016 21:10:00</td>\n",
              "      <td>-2.75</td>\n",
              "    </tr>\n",
              "    <tr>\n",
              "      <th>2016-12-31 21:20:00</th>\n",
              "      <td>31.12.2016 21:20:00</td>\n",
              "      <td>-2.61</td>\n",
              "    </tr>\n",
              "    <tr>\n",
              "      <th>2016-12-31 21:30:00</th>\n",
              "      <td>31.12.2016 21:30:00</td>\n",
              "      <td>-2.51</td>\n",
              "    </tr>\n",
              "    <tr>\n",
              "      <th>2016-12-31 21:40:00</th>\n",
              "      <td>31.12.2016 21:40:00</td>\n",
              "      <td>-2.48</td>\n",
              "    </tr>\n",
              "    <tr>\n",
              "      <th>2016-12-31 21:50:00</th>\n",
              "      <td>31.12.2016 21:50:00</td>\n",
              "      <td>-2.48</td>\n",
              "    </tr>\n",
              "    <tr>\n",
              "      <th>2016-12-31 22:00:00</th>\n",
              "      <td>31.12.2016 22:00:00</td>\n",
              "      <td>-2.59</td>\n",
              "    </tr>\n",
              "    <tr>\n",
              "      <th>2016-12-31 22:10:00</th>\n",
              "      <td>31.12.2016 22:10:00</td>\n",
              "      <td>-2.89</td>\n",
              "    </tr>\n",
              "    <tr>\n",
              "      <th>2016-12-31 22:20:00</th>\n",
              "      <td>31.12.2016 22:20:00</td>\n",
              "      <td>-3.22</td>\n",
              "    </tr>\n",
              "    <tr>\n",
              "      <th>2016-12-31 22:30:00</th>\n",
              "      <td>31.12.2016 22:30:00</td>\n",
              "      <td>-4.08</td>\n",
              "    </tr>\n",
              "    <tr>\n",
              "      <th>2016-12-31 22:40:00</th>\n",
              "      <td>31.12.2016 22:40:00</td>\n",
              "      <td>-4.45</td>\n",
              "    </tr>\n",
              "    <tr>\n",
              "      <th>2016-12-31 22:50:00</th>\n",
              "      <td>31.12.2016 22:50:00</td>\n",
              "      <td>-4.09</td>\n",
              "    </tr>\n",
              "    <tr>\n",
              "      <th>2016-12-31 23:00:00</th>\n",
              "      <td>31.12.2016 23:00:00</td>\n",
              "      <td>-3.76</td>\n",
              "    </tr>\n",
              "    <tr>\n",
              "      <th>2016-12-31 23:10:00</th>\n",
              "      <td>31.12.2016 23:10:00</td>\n",
              "      <td>-3.93</td>\n",
              "    </tr>\n",
              "    <tr>\n",
              "      <th>2016-12-31 23:20:00</th>\n",
              "      <td>31.12.2016 23:20:00</td>\n",
              "      <td>-4.05</td>\n",
              "    </tr>\n",
              "    <tr>\n",
              "      <th>2016-12-31 23:30:00</th>\n",
              "      <td>31.12.2016 23:30:00</td>\n",
              "      <td>-3.35</td>\n",
              "    </tr>\n",
              "    <tr>\n",
              "      <th>2016-12-31 23:40:00</th>\n",
              "      <td>31.12.2016 23:40:00</td>\n",
              "      <td>-3.16</td>\n",
              "    </tr>\n",
              "    <tr>\n",
              "      <th>2016-12-31 23:50:00</th>\n",
              "      <td>31.12.2016 23:50:00</td>\n",
              "      <td>-4.23</td>\n",
              "    </tr>\n",
              "    <tr>\n",
              "      <th>2017-01-01 00:00:00</th>\n",
              "      <td>01.01.2017 00:00:00</td>\n",
              "      <td>-4.82</td>\n",
              "    </tr>\n",
              "  </tbody>\n",
              "</table>\n",
              "<p>420551 rows × 2 columns</p>\n",
              "</div>"
            ],
            "text/plain": [
              "                               Date Time  T (degC)\n",
              "DateTime                                          \n",
              "2009-01-01 00:10:00  01.01.2009 00:10:00     -8.02\n",
              "2009-01-01 00:20:00  01.01.2009 00:20:00     -8.41\n",
              "2009-01-01 00:30:00  01.01.2009 00:30:00     -8.51\n",
              "2009-01-01 00:40:00  01.01.2009 00:40:00     -8.31\n",
              "2009-01-01 00:50:00  01.01.2009 00:50:00     -8.27\n",
              "2009-01-01 01:00:00  01.01.2009 01:00:00     -8.05\n",
              "2009-01-01 01:10:00  01.01.2009 01:10:00     -7.62\n",
              "2009-01-01 01:20:00  01.01.2009 01:20:00     -7.62\n",
              "2009-01-01 01:30:00  01.01.2009 01:30:00     -7.91\n",
              "2009-01-01 01:40:00  01.01.2009 01:40:00     -8.43\n",
              "2009-01-01 01:50:00  01.01.2009 01:50:00     -8.76\n",
              "2009-01-01 02:00:00  01.01.2009 02:00:00     -8.88\n",
              "2009-01-01 02:10:00  01.01.2009 02:10:00     -8.85\n",
              "2009-01-01 02:20:00  01.01.2009 02:20:00     -8.83\n",
              "2009-01-01 02:30:00  01.01.2009 02:30:00     -8.66\n",
              "2009-01-01 02:40:00  01.01.2009 02:40:00     -8.66\n",
              "2009-01-01 02:50:00  01.01.2009 02:50:00     -8.70\n",
              "2009-01-01 03:00:00  01.01.2009 03:00:00     -8.81\n",
              "2009-01-01 03:10:00  01.01.2009 03:10:00     -8.84\n",
              "2009-01-01 03:20:00  01.01.2009 03:20:00     -8.94\n",
              "2009-01-01 03:30:00  01.01.2009 03:30:00     -8.94\n",
              "2009-01-01 03:40:00  01.01.2009 03:40:00     -8.86\n",
              "2009-01-01 03:50:00  01.01.2009 03:50:00     -8.99\n",
              "2009-01-01 04:00:00  01.01.2009 04:00:00     -9.05\n",
              "2009-01-01 04:10:00  01.01.2009 04:10:00     -9.23\n",
              "2009-01-01 04:20:00  01.01.2009 04:20:00     -9.49\n",
              "2009-01-01 04:30:00  01.01.2009 04:30:00     -9.50\n",
              "2009-01-01 04:40:00  01.01.2009 04:40:00     -9.35\n",
              "2009-01-01 04:50:00  01.01.2009 04:50:00     -9.47\n",
              "2009-01-01 05:00:00  01.01.2009 05:00:00     -9.63\n",
              "...                                  ...       ...\n",
              "2016-12-31 19:10:00  31.12.2016 19:10:00     -0.98\n",
              "2016-12-31 19:20:00  31.12.2016 19:20:00     -1.40\n",
              "2016-12-31 19:30:00  31.12.2016 19:30:00     -1.47\n",
              "2016-12-31 19:40:00  31.12.2016 19:40:00     -1.61\n",
              "2016-12-31 19:50:00  31.12.2016 19:50:00     -1.65\n",
              "2016-12-31 20:00:00  31.12.2016 20:00:00     -1.52\n",
              "2016-12-31 20:10:00  31.12.2016 20:10:00     -1.40\n",
              "2016-12-31 20:20:00  31.12.2016 20:20:00     -2.15\n",
              "2016-12-31 20:30:00  31.12.2016 20:30:00     -3.19\n",
              "2016-12-31 20:40:00  31.12.2016 20:40:00     -3.30\n",
              "2016-12-31 20:50:00  31.12.2016 20:50:00     -3.46\n",
              "2016-12-31 21:00:00  31.12.2016 21:00:00     -3.09\n",
              "2016-12-31 21:10:00  31.12.2016 21:10:00     -2.75\n",
              "2016-12-31 21:20:00  31.12.2016 21:20:00     -2.61\n",
              "2016-12-31 21:30:00  31.12.2016 21:30:00     -2.51\n",
              "2016-12-31 21:40:00  31.12.2016 21:40:00     -2.48\n",
              "2016-12-31 21:50:00  31.12.2016 21:50:00     -2.48\n",
              "2016-12-31 22:00:00  31.12.2016 22:00:00     -2.59\n",
              "2016-12-31 22:10:00  31.12.2016 22:10:00     -2.89\n",
              "2016-12-31 22:20:00  31.12.2016 22:20:00     -3.22\n",
              "2016-12-31 22:30:00  31.12.2016 22:30:00     -4.08\n",
              "2016-12-31 22:40:00  31.12.2016 22:40:00     -4.45\n",
              "2016-12-31 22:50:00  31.12.2016 22:50:00     -4.09\n",
              "2016-12-31 23:00:00  31.12.2016 23:00:00     -3.76\n",
              "2016-12-31 23:10:00  31.12.2016 23:10:00     -3.93\n",
              "2016-12-31 23:20:00  31.12.2016 23:20:00     -4.05\n",
              "2016-12-31 23:30:00  31.12.2016 23:30:00     -3.35\n",
              "2016-12-31 23:40:00  31.12.2016 23:40:00     -3.16\n",
              "2016-12-31 23:50:00  31.12.2016 23:50:00     -4.23\n",
              "2017-01-01 00:00:00  01.01.2017 00:00:00     -4.82\n",
              "\n",
              "[420551 rows x 2 columns]"
            ]
          },
          "metadata": {
            "tags": []
          },
          "execution_count": 32
        }
      ]
    },
    {
      "cell_type": "code",
      "metadata": {
        "id": "QGEkzN5W0Tba",
        "colab_type": "code",
        "colab": {
          "base_uri": "https://localhost:8080/",
          "height": 287
        },
        "outputId": "1e8726ce-3437-4fc9-891a-6fb5fe12206d"
      },
      "source": [
        "df['T (degC)'].plot()"
      ],
      "execution_count": 40,
      "outputs": [
        {
          "output_type": "execute_result",
          "data": {
            "text/plain": [
              "<matplotlib.axes._subplots.AxesSubplot at 0x7f903005f668>"
            ]
          },
          "metadata": {
            "tags": []
          },
          "execution_count": 40
        },
        {
          "output_type": "display_data",
          "data": {
            "image/png": "[encoded data removed]",
            "text/plain": [
              "<Figure size 432x288 with 1 Axes>"
            ]
          },
          "metadata": {
            "tags": []
          }
        }
      ]
    },
    {
      "cell_type": "markdown",
      "metadata": {
        "id": "bmDVYRvL0IoW",
        "colab_type": "text"
      },
      "source": [
        "### Extract Time Series DF"
      ]
    },
    {
      "cell_type": "code",
      "metadata": {
        "id": "hEs5HFMp0K-w",
        "colab_type": "code",
        "colab": {}
      },
      "source": [
        "time_series_df = df.set_index(['DateTime'])"
      ],
      "execution_count": 0,
      "outputs": []
    },
    {
      "cell_type": "code",
      "metadata": {
        "id": "6vRd6c7b0O6f",
        "colab_type": "code",
        "colab": {
          "base_uri": "https://localhost:8080/",
          "height": 159
        },
        "outputId": "7e3a3da5-7d85-481a-eb05-da18a10ffe22"
      },
      "source": [
        "time_series_df.info()"
      ],
      "execution_count": 42,
      "outputs": [
        {
          "output_type": "stream",
          "text": [
            "<class 'pandas.core.frame.DataFrame'>\n",
            "DatetimeIndex: 420551 entries, 2009-01-01 00:10:00 to 2017-01-01 00:00:00\n",
            "Data columns (total 2 columns):\n",
            "Date Time    420551 non-null object\n",
            "T (degC)     420551 non-null float64\n",
            "dtypes: float64(1), object(1)\n",
            "memory usage: 9.6+ MB\n"
          ],
          "name": "stdout"
        }
      ]
    },
    {
      "cell_type": "code",
      "metadata": {
        "id": "dHBLJvb40VKU",
        "colab_type": "code",
        "colab": {}
      },
      "source": [
        "time_series_df.drop(['Date Time'], axis=1, inplace=True)"
      ],
      "execution_count": 0,
      "outputs": []
    },
    {
      "cell_type": "markdown",
      "metadata": {
        "id": "PZ38qwta0Z_2",
        "colab_type": "text"
      },
      "source": [
        "### Resample to Mean Daily Temperature"
      ]
    },
    {
      "cell_type": "code",
      "metadata": {
        "id": "WC6E7sif0c8o",
        "colab_type": "code",
        "colab": {
          "base_uri": "https://localhost:8080/",
          "height": 139
        },
        "outputId": "3b6a233c-c7b1-4ebe-9b38-63d4fc45f6af"
      },
      "source": [
        "mean_daily_temp = time_series_df.resample('D').mean()\n",
        "mean_daily_temp.info()"
      ],
      "execution_count": 44,
      "outputs": [
        {
          "output_type": "stream",
          "text": [
            "<class 'pandas.core.frame.DataFrame'>\n",
            "DatetimeIndex: 2923 entries, 2009-01-01 to 2017-01-01\n",
            "Freq: D\n",
            "Data columns (total 1 columns):\n",
            "T (degC)    2921 non-null float64\n",
            "dtypes: float64(1)\n",
            "memory usage: 45.7 KB\n"
          ],
          "name": "stdout"
        }
      ]
    },
    {
      "cell_type": "markdown",
      "metadata": {
        "id": "8Xh6R9ki0ln0",
        "colab_type": "text"
      },
      "source": [
        "### Create Training and Test"
      ]
    },
    {
      "cell_type": "code",
      "metadata": {
        "id": "8_Jx5TfN0niZ",
        "colab_type": "code",
        "colab": {}
      },
      "source": [
        "test_daily_temp = mean_daily_temp['2016']\n",
        "train_daily_temp = mean_daily_temp['2009':'2015']"
      ],
      "execution_count": 0,
      "outputs": []
    },
    {
      "cell_type": "code",
      "metadata": {
        "id": "xK24a7CR14ji",
        "colab_type": "code",
        "colab": {
          "base_uri": "https://localhost:8080/",
          "height": 301
        },
        "outputId": "ea234e64-8dd8-4d8c-f903-4cedcd0c22be"
      },
      "source": [
        "train_daily_temp['T (degC)'].plot()"
      ],
      "execution_count": 46,
      "outputs": [
        {
          "output_type": "execute_result",
          "data": {
            "text/plain": [
              "<matplotlib.axes._subplots.AxesSubplot at 0x7f902ff88ac8>"
            ]
          },
          "metadata": {
            "tags": []
          },
          "execution_count": 46
        },
        {
          "output_type": "display_data",
          "data": {
            "image/png": "[encoded data removed]",
            "text/plain": [
              "<Figure size 432x288 with 1 Axes>"
            ]
          },
          "metadata": {
            "tags": []
          }
        }
      ]
    },
    {
      "cell_type": "code",
      "metadata": {
        "id": "hcBXr-OK2LeK",
        "colab_type": "code",
        "colab": {
          "base_uri": "https://localhost:8080/",
          "height": 233
        },
        "outputId": "73388bea-8f35-44cc-8dee-f0ab6abc090c"
      },
      "source": [
        "train_daily_temp.head()"
      ],
      "execution_count": 47,
      "outputs": [
        {
          "output_type": "execute_result",
          "data": {
            "text/html": [
              "<div>\n",
              "<style scoped>\n",
              "    .dataframe tbody tr th:only-of-type {\n",
              "        vertical-align: middle;\n",
              "    }\n",
              "\n",
              "    .dataframe tbody tr th {\n",
              "        vertical-align: top;\n",
              "    }\n",
              "\n",
              "    .dataframe thead th {\n",
              "        text-align: right;\n",
              "    }\n",
              "</style>\n",
              "<table border=\"1\" class=\"dataframe\">\n",
              "  <thead>\n",
              "    <tr style=\"text-align: right;\">\n",
              "      <th></th>\n",
              "      <th>T (degC)</th>\n",
              "    </tr>\n",
              "    <tr>\n",
              "      <th>DateTime</th>\n",
              "      <th></th>\n",
              "    </tr>\n",
              "  </thead>\n",
              "  <tbody>\n",
              "    <tr>\n",
              "      <th>2009-01-01</th>\n",
              "      <td>-6.810629</td>\n",
              "    </tr>\n",
              "    <tr>\n",
              "      <th>2009-01-02</th>\n",
              "      <td>-3.728194</td>\n",
              "    </tr>\n",
              "    <tr>\n",
              "      <th>2009-01-03</th>\n",
              "      <td>-5.271736</td>\n",
              "    </tr>\n",
              "    <tr>\n",
              "      <th>2009-01-04</th>\n",
              "      <td>-1.375208</td>\n",
              "    </tr>\n",
              "    <tr>\n",
              "      <th>2009-01-05</th>\n",
              "      <td>-4.867153</td>\n",
              "    </tr>\n",
              "  </tbody>\n",
              "</table>\n",
              "</div>"
            ],
            "text/plain": [
              "            T (degC)\n",
              "DateTime            \n",
              "2009-01-01 -6.810629\n",
              "2009-01-02 -3.728194\n",
              "2009-01-03 -5.271736\n",
              "2009-01-04 -1.375208\n",
              "2009-01-05 -4.867153"
            ]
          },
          "metadata": {
            "tags": []
          },
          "execution_count": 47
        }
      ]
    },
    {
      "cell_type": "code",
      "metadata": {
        "id": "ZcF0RP7K4pn2",
        "colab_type": "code",
        "colab": {}
      },
      "source": [
        ""
      ],
      "execution_count": 0,
      "outputs": []
    },
    {
      "cell_type": "markdown",
      "metadata": {
        "id": "JvVCrjk72Pyg",
        "colab_type": "text"
      },
      "source": [
        "### Reset Index"
      ]
    },
    {
      "cell_type": "code",
      "metadata": {
        "id": "xD0u6Q6B4qR9",
        "colab_type": "code",
        "colab": {}
      },
      "source": [
        "train_daily_temp.reset_index(inplace=True)\n",
        "train_daily_temp.reset_index(inplace=True)"
      ],
      "execution_count": 0,
      "outputs": []
    },
    {
      "cell_type": "code",
      "metadata": {
        "id": "5PoHjUM72SeC",
        "colab_type": "code",
        "colab": {
          "base_uri": "https://localhost:8080/",
          "height": 202
        },
        "outputId": "8e0dcab4-4558-46b5-bdea-6af132f8edb2"
      },
      "source": [
        "test_daily_temp.reset_index(inplace=True)\n",
        "test_daily_temp.reset_index(inplace=True)\n",
        "test_daily_temp.head()"
      ],
      "execution_count": 49,
      "outputs": [
        {
          "output_type": "execute_result",
          "data": {
            "text/html": [
              "<div>\n",
              "<style scoped>\n",
              "    .dataframe tbody tr th:only-of-type {\n",
              "        vertical-align: middle;\n",
              "    }\n",
              "\n",
              "    .dataframe tbody tr th {\n",
              "        vertical-align: top;\n",
              "    }\n",
              "\n",
              "    .dataframe thead th {\n",
              "        text-align: right;\n",
              "    }\n",
              "</style>\n",
              "<table border=\"1\" class=\"dataframe\">\n",
              "  <thead>\n",
              "    <tr style=\"text-align: right;\">\n",
              "      <th></th>\n",
              "      <th>index</th>\n",
              "      <th>DateTime</th>\n",
              "      <th>T (degC)</th>\n",
              "    </tr>\n",
              "  </thead>\n",
              "  <tbody>\n",
              "    <tr>\n",
              "      <th>0</th>\n",
              "      <td>0</td>\n",
              "      <td>2016-01-01</td>\n",
              "      <td>0.249236</td>\n",
              "    </tr>\n",
              "    <tr>\n",
              "      <th>1</th>\n",
              "      <td>1</td>\n",
              "      <td>2016-01-02</td>\n",
              "      <td>-0.975486</td>\n",
              "    </tr>\n",
              "    <tr>\n",
              "      <th>2</th>\n",
              "      <td>2</td>\n",
              "      <td>2016-01-03</td>\n",
              "      <td>-1.578056</td>\n",
              "    </tr>\n",
              "    <tr>\n",
              "      <th>3</th>\n",
              "      <td>3</td>\n",
              "      <td>2016-01-04</td>\n",
              "      <td>-2.081111</td>\n",
              "    </tr>\n",
              "    <tr>\n",
              "      <th>4</th>\n",
              "      <td>4</td>\n",
              "      <td>2016-01-05</td>\n",
              "      <td>-1.761319</td>\n",
              "    </tr>\n",
              "  </tbody>\n",
              "</table>\n",
              "</div>"
            ],
            "text/plain": [
              "   index   DateTime  T (degC)\n",
              "0      0 2016-01-01  0.249236\n",
              "1      1 2016-01-02 -0.975486\n",
              "2      2 2016-01-03 -1.578056\n",
              "3      3 2016-01-04 -2.081111\n",
              "4      4 2016-01-05 -1.761319"
            ]
          },
          "metadata": {
            "tags": []
          },
          "execution_count": 49
        }
      ]
    },
    {
      "cell_type": "markdown",
      "metadata": {
        "id": "GdUYneEf2aH8",
        "colab_type": "text"
      },
      "source": [
        "### Extract Time Steps"
      ]
    },
    {
      "cell_type": "code",
      "metadata": {
        "id": "6W2Z2VcB2cVX",
        "colab_type": "code",
        "colab": {}
      },
      "source": [
        "train_x = train_daily_temp[['index']].to_numpy()\n",
        "train_y = train_daily_temp[['T (degC)']].to_numpy()\n",
        "\n",
        "test_x = test_daily_temp[['index']].to_numpy()\n",
        "test_y = test_daily_temp[['T (degC)']].to_numpy()"
      ],
      "execution_count": 0,
      "outputs": []
    },
    {
      "cell_type": "markdown",
      "metadata": {
        "id": "O4u-51Ic2qxM",
        "colab_type": "text"
      },
      "source": [
        "### Create a Generator"
      ]
    },
    {
      "cell_type": "code",
      "metadata": {
        "id": "evfWGYTE20IW",
        "colab_type": "code",
        "colab": {}
      },
      "source": [
        "from tensorflow.keras.preprocessing.sequence import TimeseriesGenerator"
      ],
      "execution_count": 0,
      "outputs": []
    },
    {
      "cell_type": "code",
      "metadata": {
        "id": "SKC9sbLg21XV",
        "colab_type": "code",
        "colab": {}
      },
      "source": [
        "N_INPUT = 5\n",
        "BATCH_SIZE = 16"
      ],
      "execution_count": 0,
      "outputs": []
    },
    {
      "cell_type": "code",
      "metadata": {
        "id": "_NthbyyE3f3F",
        "colab_type": "code",
        "colab": {}
      },
      "source": [
        "train_gen = TimeseriesGenerator(train_x, train_y, length=N_INPUT, sampling_rate=7, batch_size=BATCH_SIZE)"
      ],
      "execution_count": 0,
      "outputs": []
    },
    {
      "cell_type": "code",
      "metadata": {
        "id": "Ka7QSOH-42Uw",
        "colab_type": "code",
        "colab": {}
      },
      "source": [
        "test_gen = TimeseriesGenerator(test_x, test_y, length=N_INPUT, sampling_rate=7, batch_size=BATCH_SIZE)"
      ],
      "execution_count": 0,
      "outputs": []
    },
    {
      "cell_type": "markdown",
      "metadata": {
        "id": "hRduMVH25WH6",
        "colab_type": "text"
      },
      "source": [
        "### Inspect one item"
      ]
    },
    {
      "cell_type": "code",
      "metadata": {
        "id": "1Ob7CUrw5YXL",
        "colab_type": "code",
        "colab": {
          "base_uri": "https://localhost:8080/",
          "height": 35
        },
        "outputId": "4aeec82c-efcc-4b49-d3ee-e3cf32370be3"
      },
      "source": [
        "batch_0 = train_gen[0]\n",
        "x, y = batch_0\n",
        "print(y.shape)"
      ],
      "execution_count": 55,
      "outputs": [
        {
          "output_type": "stream",
          "text": [
            "(16, 1)\n"
          ],
          "name": "stdout"
        }
      ]
    },
    {
      "cell_type": "code",
      "metadata": {
        "id": "SBFW44CT5bIt",
        "colab_type": "code",
        "colab": {
          "base_uri": "https://localhost:8080/",
          "height": 35
        },
        "outputId": "f75848ba-cdd6-47d7-a315-8900891732fb"
      },
      "source": [
        "print(x.shape)"
      ],
      "execution_count": 56,
      "outputs": [
        {
          "output_type": "stream",
          "text": [
            "(16, 1, 1)\n"
          ],
          "name": "stdout"
        }
      ]
    },
    {
      "cell_type": "markdown",
      "metadata": {
        "id": "P-L3baTV5hT5",
        "colab_type": "text"
      },
      "source": [
        "### Dense Model"
      ]
    },
    {
      "cell_type": "code",
      "metadata": {
        "id": "Tlns8akX5jo-",
        "colab_type": "code",
        "colab": {
          "base_uri": "https://localhost:8080/",
          "height": 277
        },
        "outputId": "34d1a438-1244-4ffb-b5e1-aa579a9b173a"
      },
      "source": [
        "model = models.Sequential([\n",
        "    layers.Dense(100, input_shape=(x.shape[1], x.shape[2]), activation='relu'),\n",
        "    layers.Flatten(),\n",
        "    layers.Dense(1)\n",
        "])\n",
        "print(model.summary())"
      ],
      "execution_count": 57,
      "outputs": [
        {
          "output_type": "stream",
          "text": [
            "Model: \"sequential\"\n",
            "_________________________________________________________________\n",
            "Layer (type)                 Output Shape              Param #   \n",
            "=================================================================\n",
            "dense (Dense)                (None, 1, 100)            200       \n",
            "_________________________________________________________________\n",
            "flatten (Flatten)            (None, 100)               0         \n",
            "_________________________________________________________________\n",
            "dense_1 (Dense)              (None, 1)                 101       \n",
            "=================================================================\n",
            "Total params: 301\n",
            "Trainable params: 301\n",
            "Non-trainable params: 0\n",
            "_________________________________________________________________\n",
            "None\n"
          ],
          "name": "stdout"
        }
      ]
    },
    {
      "cell_type": "code",
      "metadata": {
        "id": "9kipsmFd5oCz",
        "colab_type": "code",
        "colab": {}
      },
      "source": [
        "model.compile(optimizer='adam', loss='mse')"
      ],
      "execution_count": 0,
      "outputs": []
    },
    {
      "cell_type": "code",
      "metadata": {
        "id": "JPIEPqk75tBw",
        "colab_type": "code",
        "colab": {
          "base_uri": "https://localhost:8080/",
          "height": 228
        },
        "outputId": "b43b4cec-7ec4-469e-fcdf-b761d094dd88"
      },
      "source": [
        "model.fit_generator(train_gen, epochs=5)"
      ],
      "execution_count": 59,
      "outputs": [
        {
          "output_type": "stream",
          "text": [
            "Epoch 1/5\n",
            "160/160 [==============================] - 2s 10ms/step - loss: 228.1278\n",
            "Epoch 2/5\n",
            "160/160 [==============================] - 1s 4ms/step - loss: 284.4241\n",
            "Epoch 3/5\n",
            "160/160 [==============================] - 1s 4ms/step - loss: 90.7404\n",
            "Epoch 4/5\n",
            "160/160 [==============================] - 1s 4ms/step - loss: 125.4818\n",
            "Epoch 5/5\n",
            "160/160 [==============================] - 1s 4ms/step - loss: 120.0193\n"
          ],
          "name": "stdout"
        },
        {
          "output_type": "execute_result",
          "data": {
            "text/plain": [
              "<tensorflow.python.keras.callbacks.History at 0x7f90205a8da0>"
            ]
          },
          "metadata": {
            "tags": []
          },
          "execution_count": 59
        }
      ]
    },
    {
      "cell_type": "code",
      "metadata": {
        "id": "iXhQQGIN7xUO",
        "colab_type": "code",
        "colab": {
          "base_uri": "https://localhost:8080/",
          "height": 35
        },
        "outputId": "298b3ce2-1f36-457a-a94a-74a6d637e8a2"
      },
      "source": [
        "example = test_gen[0]\n",
        "x, y = example\n",
        "y_pred = model.predict(x)\n",
        "print('Actual: {} | Predicted: {}'.format(y[0], y_pred[0]))"
      ],
      "execution_count": 60,
      "outputs": [
        {
          "output_type": "stream",
          "text": [
            "Actual: [-4.46013889] | Predicted: [0.3703911]\n"
          ],
          "name": "stdout"
        }
      ]
    },
    {
      "cell_type": "markdown",
      "metadata": {
        "id": "Qnwbnhyx57lv",
        "colab_type": "text"
      },
      "source": [
        "### Train an RNN"
      ]
    },
    {
      "cell_type": "code",
      "metadata": {
        "id": "vKRyeHN55_I5",
        "colab_type": "code",
        "colab": {
          "base_uri": "https://localhost:8080/",
          "height": 243
        },
        "outputId": "e972ea56-f5c6-4518-e329-9b7b9f67fe51"
      },
      "source": [
        "rnn_model = models.Sequential([\n",
        "    layers.SimpleRNN(100, input_shape=(x.shape[1], x.shape[2]), dropout=0.5, recurrent_dropout=0.5),\n",
        "    layers.Dense(1)\n",
        "])\n",
        "print(rnn_model.summary())"
      ],
      "execution_count": 74,
      "outputs": [
        {
          "output_type": "stream",
          "text": [
            "Model: \"sequential_7\"\n",
            "_________________________________________________________________\n",
            "Layer (type)                 Output Shape              Param #   \n",
            "=================================================================\n",
            "simple_rnn_6 (SimpleRNN)     (None, 100)               10200     \n",
            "_________________________________________________________________\n",
            "dense_8 (Dense)              (None, 1)                 101       \n",
            "=================================================================\n",
            "Total params: 10,301\n",
            "Trainable params: 10,301\n",
            "Non-trainable params: 0\n",
            "_________________________________________________________________\n",
            "None\n"
          ],
          "name": "stdout"
        }
      ]
    },
    {
      "cell_type": "code",
      "metadata": {
        "id": "6lLY8Y-06gDf",
        "colab_type": "code",
        "colab": {
          "base_uri": "https://localhost:8080/",
          "height": 228
        },
        "outputId": "c49b6b9d-2777-405c-cb55-71a2a5df541d"
      },
      "source": [
        "rnn_model.compile(optimizer='adam', loss='mse')\n",
        "rnn_model.fit_generator(train_gen, epochs=5)"
      ],
      "execution_count": 75,
      "outputs": [
        {
          "output_type": "stream",
          "text": [
            "Epoch 1/5\n",
            "160/160 [==============================] - 2s 13ms/step - loss: 110.8186\n",
            "Epoch 2/5\n",
            "160/160 [==============================] - 1s 6ms/step - loss: 83.4383\n",
            "Epoch 3/5\n",
            "160/160 [==============================] - 1s 6ms/step - loss: 73.0213\n",
            "Epoch 4/5\n",
            "160/160 [==============================] - 1s 6ms/step - loss: 65.7694\n",
            "Epoch 5/5\n",
            "160/160 [==============================] - 1s 6ms/step - loss: 62.7219\n"
          ],
          "name": "stdout"
        },
        {
          "output_type": "execute_result",
          "data": {
            "text/plain": [
              "<tensorflow.python.keras.callbacks.History at 0x7f8fda320cf8>"
            ]
          },
          "metadata": {
            "tags": []
          },
          "execution_count": 75
        }
      ]
    },
    {
      "cell_type": "code",
      "metadata": {
        "id": "JLM0ZI-A8S6G",
        "colab_type": "code",
        "colab": {
          "base_uri": "https://localhost:8080/",
          "height": 35
        },
        "outputId": "8307bc81-76f9-4058-be53-9af7f4981c83"
      },
      "source": [
        "y_pred = rnn_model.predict(x)\n",
        "print('Actual: {} | Predicted: {}'.format(y[0], y_pred[0]))"
      ],
      "execution_count": 66,
      "outputs": [
        {
          "output_type": "stream",
          "text": [
            "Actual: [-4.46013889] | Predicted: [8.321369]\n"
          ],
          "name": "stdout"
        }
      ]
    },
    {
      "cell_type": "markdown",
      "metadata": {
        "id": "XTQdHsv27N0w",
        "colab_type": "text"
      },
      "source": [
        "### Train an LSTM"
      ]
    },
    {
      "cell_type": "code",
      "metadata": {
        "id": "YNW1ZWNB8W1Y",
        "colab_type": "code",
        "colab": {
          "base_uri": "https://localhost:8080/",
          "height": 277
        },
        "outputId": "ff8059f4-b01e-42f7-dc34-de4bf604a817"
      },
      "source": [
        "lstm_model = models.Sequential([\n",
        "    layers.Bidirectional(layers.LSTM(100, return_sequences=True, recurrent_dropout=0.5), input_shape=(x.shape[1], x.shape[2])),\n",
        "    layers.Bidirectional(layers.LSTM(100, recurrent_dropout=0.5)),\n",
        "    layers.Dense(1)\n",
        "])\n",
        "print(lstm_model.summary())"
      ],
      "execution_count": 67,
      "outputs": [
        {
          "output_type": "stream",
          "text": [
            "Model: \"sequential_3\"\n",
            "_________________________________________________________________\n",
            "Layer (type)                 Output Shape              Param #   \n",
            "=================================================================\n",
            "bidirectional (Bidirectional (None, 1, 200)            81600     \n",
            "_________________________________________________________________\n",
            "bidirectional_1 (Bidirection (None, 200)               240800    \n",
            "_________________________________________________________________\n",
            "dense_4 (Dense)              (None, 1)                 201       \n",
            "=================================================================\n",
            "Total params: 322,601\n",
            "Trainable params: 322,601\n",
            "Non-trainable params: 0\n",
            "_________________________________________________________________\n",
            "None\n"
          ],
          "name": "stdout"
        }
      ]
    },
    {
      "cell_type": "code",
      "metadata": {
        "id": "lnYqYsrd8kfw",
        "colab_type": "code",
        "colab": {
          "base_uri": "https://localhost:8080/",
          "height": 228
        },
        "outputId": "69bdf9c3-6279-4f08-e762-f20883f0d733"
      },
      "source": [
        "lstm_model.compile(optimizer='adam', loss='mse')\n",
        "lstm_model.fit_generator(train_gen, epochs=5)"
      ],
      "execution_count": 68,
      "outputs": [
        {
          "output_type": "stream",
          "text": [
            "Epoch 1/5\n",
            "160/160 [==============================] - 8s 48ms/step - loss: 72.4816\n",
            "Epoch 2/5\n",
            "160/160 [==============================] - 3s 18ms/step - loss: 60.4115\n",
            "Epoch 3/5\n",
            "160/160 [==============================] - 3s 18ms/step - loss: 59.8599\n",
            "Epoch 4/5\n",
            "160/160 [==============================] - 3s 18ms/step - loss: 59.9470\n",
            "Epoch 5/5\n",
            "160/160 [==============================] - 3s 18ms/step - loss: 59.7052\n"
          ],
          "name": "stdout"
        },
        {
          "output_type": "execute_result",
          "data": {
            "text/plain": [
              "<tensorflow.python.keras.callbacks.History at 0x7f8fdc5b2f98>"
            ]
          },
          "metadata": {
            "tags": []
          },
          "execution_count": 68
        }
      ]
    },
    {
      "cell_type": "code",
      "metadata": {
        "id": "8sw9l7b49ZMX",
        "colab_type": "code",
        "colab": {
          "base_uri": "https://localhost:8080/",
          "height": 35
        },
        "outputId": "d7fa42a0-564b-425d-d78c-f87b25e5404c"
      },
      "source": [
        "y_pred = lstm_model.predict(x)\n",
        "print('Actual: {} | Predicted: {}'.format(y[0], y_pred[0]))"
      ],
      "execution_count": 69,
      "outputs": [
        {
          "output_type": "stream",
          "text": [
            "Actual: [-4.46013889] | Predicted: [-0.45228332]\n"
          ],
          "name": "stdout"
        }
      ]
    },
    {
      "cell_type": "markdown",
      "metadata": {
        "id": "rS9FIMSr-jBk",
        "colab_type": "text"
      },
      "source": [
        "## Afternoon Session\n",
        "### Language Models - Encodings - Embeddings - LSTM - 1D-CNN"
      ]
    },
    {
      "cell_type": "markdown",
      "metadata": {
        "id": "e9iaf4OR1ef2",
        "colab_type": "text"
      },
      "source": [
        "### IMDB"
      ]
    },
    {
      "cell_type": "code",
      "metadata": {
        "id": "dUE8c5dq1fph",
        "colab_type": "code",
        "colab": {}
      },
      "source": [
        "imdb = datasets.imdb\n",
        "\n",
        "#Let's work with a dictionary of 20,000 words\n",
        "NUM_WORDS = 20000"
      ],
      "execution_count": 0,
      "outputs": []
    },
    {
      "cell_type": "code",
      "metadata": {
        "id": "7arzh0m31iik",
        "colab_type": "code",
        "colab": {}
      },
      "source": [
        "#load IMDB dataset as lists of integers\n",
        "(train_data, train_labels), (test_data, test_labels) = imdb.load_data(num_words=NUM_WORDS, )"
      ],
      "execution_count": 0,
      "outputs": []
    },
    {
      "cell_type": "code",
      "metadata": {
        "id": "HVZfZerK1vXs",
        "colab_type": "code",
        "colab": {}
      },
      "source": [
        "word_index = imdb.get_word_index()\n",
        "\n",
        "# The first indices are reserved\n",
        "word_index = {k: (v+3) for k, v in word_index.items()}\n",
        "word_index['<PAD>'] = 0\n",
        "word_index['<START>'] = 1\n",
        "word_index['<UNK>'] = 2\n",
        "word_index['<UNUSED>'] = 3\n",
        "\n",
        "reverse_word_index = dict([(value, key) for (key, value) in word_index.items()])"
      ],
      "execution_count": 0,
      "outputs": []
    },
    {
      "cell_type": "code",
      "metadata": {
        "id": "0ods8C6e1yJt",
        "colab_type": "code",
        "colab": {
          "base_uri": "https://localhost:8080/",
          "height": 55
        },
        "outputId": "24193d80-6bfe-4e77-8c93-2b8bbb464c74"
      },
      "source": [
        "print(' '.join([reverse_word_index[i] for i in train_data[0]]))"
      ],
      "execution_count": 97,
      "outputs": [
        {
          "output_type": "stream",
          "text": [
            "<START> this film was just brilliant casting location scenery story direction everyone's really suited the part they played and you could just imagine being there robert <UNK> is an amazing actor and now the same being director <UNK> father came from the same scottish island as myself so i loved the fact there was a real connection with this film the witty remarks throughout the film were great it was just brilliant so much that i bought the film as soon as it was released for retail and would recommend it to everyone to watch and the fly fishing was amazing really cried at the end it was so sad and you know what they say if you cry at a film it must have been good and this definitely was also congratulations to the two little boy's that played the <UNK> of norman and paul they were just brilliant children are often left out of the praising list i think because the stars that play them all grown up are such a big profile for the whole film but these children are amazing and should be praised for what they have done don't you think the whole story was so lovely because it was true and was someone's life after all that was shared with us all\n"
          ],
          "name": "stdout"
        }
      ]
    },
    {
      "cell_type": "code",
      "metadata": {
        "id": "1bzuRlwS16Re",
        "colab_type": "code",
        "colab": {
          "base_uri": "https://localhost:8080/",
          "height": 35
        },
        "outputId": "243a9489-1ed9-4bef-b704-5171f5f7c4be"
      },
      "source": [
        "print(train_labels[0])"
      ],
      "execution_count": 98,
      "outputs": [
        {
          "output_type": "stream",
          "text": [
            "1\n"
          ],
          "name": "stdout"
        }
      ]
    },
    {
      "cell_type": "code",
      "metadata": {
        "id": "SUQDkVEn6gt_",
        "colab_type": "code",
        "colab": {
          "base_uri": "https://localhost:8080/",
          "height": 35
        },
        "outputId": "42e972d7-4a07-4714-baf7-a06c1be383cd"
      },
      "source": [
        "print(train_labels[:5])"
      ],
      "execution_count": 100,
      "outputs": [
        {
          "output_type": "stream",
          "text": [
            "[1 0 0 1 0]\n"
          ],
          "name": "stdout"
        }
      ]
    },
    {
      "cell_type": "code",
      "metadata": {
        "id": "XSBkeMws6xO7",
        "colab_type": "code",
        "colab": {
          "base_uri": "https://localhost:8080/",
          "height": 55
        },
        "outputId": "bc6dcd31-0634-4426-d1eb-9b9e026e9927"
      },
      "source": [
        "print(train_data[0])"
      ],
      "execution_count": 101,
      "outputs": [
        {
          "output_type": "stream",
          "text": [
            "[1, 14, 22, 16, 43, 530, 973, 1622, 1385, 65, 458, 4468, 66, 3941, 4, 173, 36, 256, 5, 25, 100, 43, 838, 112, 50, 670, 2, 9, 35, 480, 284, 5, 150, 4, 172, 112, 167, 2, 336, 385, 39, 4, 172, 4536, 1111, 17, 546, 38, 13, 447, 4, 192, 50, 16, 6, 147, 2025, 19, 14, 22, 4, 1920, 4613, 469, 4, 22, 71, 87, 12, 16, 43, 530, 38, 76, 15, 13, 1247, 4, 22, 17, 515, 17, 12, 16, 626, 18, 19193, 5, 62, 386, 12, 8, 316, 8, 106, 5, 4, 2223, 5244, 16, 480, 66, 3785, 33, 4, 130, 12, 16, 38, 619, 5, 25, 124, 51, 36, 135, 48, 25, 1415, 33, 6, 22, 12, 215, 28, 77, 52, 5, 14, 407, 16, 82, 10311, 8, 4, 107, 117, 5952, 15, 256, 4, 2, 7, 3766, 5, 723, 36, 71, 43, 530, 476, 26, 400, 317, 46, 7, 4, 12118, 1029, 13, 104, 88, 4, 381, 15, 297, 98, 32, 2071, 56, 26, 141, 6, 194, 7486, 18, 4, 226, 22, 21, 134, 476, 26, 480, 5, 144, 30, 5535, 18, 51, 36, 28, 224, 92, 25, 104, 4, 226, 65, 16, 38, 1334, 88, 12, 16, 283, 5, 16, 4472, 113, 103, 32, 15, 16, 5345, 19, 178, 32]\n"
          ],
          "name": "stdout"
        }
      ]
    },
    {
      "cell_type": "markdown",
      "metadata": {
        "id": "vNtg7L5w2Dkk",
        "colab_type": "text"
      },
      "source": [
        "* inspect the length of each review"
      ]
    },
    {
      "cell_type": "code",
      "metadata": {
        "id": "8FaX2ogA2Awj",
        "colab_type": "code",
        "colab": {
          "base_uri": "https://localhost:8080/",
          "height": 35
        },
        "outputId": "4b3d7f6b-456c-4cea-8850-32c26d786a76"
      },
      "source": [
        "print('Len 0: {}, Len 1: {}, Len 2: {}'.format(len(train_data[0]), len(train_data[1]), len(train_data[2])))"
      ],
      "execution_count": 102,
      "outputs": [
        {
          "output_type": "stream",
          "text": [
            "Len 0: 218, Len 1: 189, Len 2: 141\n"
          ],
          "name": "stdout"
        }
      ]
    },
    {
      "cell_type": "code",
      "metadata": {
        "id": "DOQRg4nC2M5e",
        "colab_type": "code",
        "colab": {}
      },
      "source": [
        "LEN_WORDS = 300\n",
        "train_data = preprocessing.sequence.pad_sequences(train_data, maxlen=LEN_WORDS)\n",
        "test_data = preprocessing.sequence.pad_sequences(test_data, maxlen=LEN_WORDS)"
      ],
      "execution_count": 0,
      "outputs": []
    },
    {
      "cell_type": "code",
      "metadata": {
        "id": "kjQCIyV92SC2",
        "colab_type": "code",
        "colab": {
          "base_uri": "https://localhost:8080/",
          "height": 35
        },
        "outputId": "8f644f28-e1e1-4d17-bbc9-45f3f37a8506"
      },
      "source": [
        "print('Len 0: {}, Len 1: {}, Len 2: {}'.format(len(train_data[0]), len(train_data[1]), len(train_data[2])))"
      ],
      "execution_count": 104,
      "outputs": [
        {
          "output_type": "stream",
          "text": [
            "Len 0: 300, Len 1: 300, Len 2: 300\n"
          ],
          "name": "stdout"
        }
      ]
    },
    {
      "cell_type": "markdown",
      "metadata": {
        "id": "nAIxt6mo2Wza",
        "colab_type": "text"
      },
      "source": [
        "### DNN"
      ]
    },
    {
      "cell_type": "code",
      "metadata": {
        "id": "OtfYivLT2Yk9",
        "colab_type": "code",
        "colab": {
          "base_uri": "https://localhost:8080/",
          "height": 347
        },
        "outputId": "799541f0-8abb-40da-9162-0f111aa64af9"
      },
      "source": [
        "dense_model = models.Sequential([\n",
        "    layers.Dense(300, input_shape=(300,), activation='relu'),\n",
        "    layers.Dense(300, activation='relu'),\n",
        "    layers.Dense(300, activation='relu'),\n",
        "    layers.Dense(300, activation='relu'),\n",
        "    layers.Dense(1, activation='sigmoid')\n",
        "])\n",
        "print(dense_model.summary())"
      ],
      "execution_count": 105,
      "outputs": [
        {
          "output_type": "stream",
          "text": [
            "Model: \"sequential_9\"\n",
            "_________________________________________________________________\n",
            "Layer (type)                 Output Shape              Param #   \n",
            "=================================================================\n",
            "dense_11 (Dense)             (None, 300)               90300     \n",
            "_________________________________________________________________\n",
            "dense_12 (Dense)             (None, 300)               90300     \n",
            "_________________________________________________________________\n",
            "dense_13 (Dense)             (None, 300)               90300     \n",
            "_________________________________________________________________\n",
            "dense_14 (Dense)             (None, 300)               90300     \n",
            "_________________________________________________________________\n",
            "dense_15 (Dense)             (None, 1)                 301       \n",
            "=================================================================\n",
            "Total params: 361,501\n",
            "Trainable params: 361,501\n",
            "Non-trainable params: 0\n",
            "_________________________________________________________________\n",
            "None\n"
          ],
          "name": "stdout"
        }
      ]
    },
    {
      "cell_type": "code",
      "metadata": {
        "id": "axdxHIEC2clu",
        "colab_type": "code",
        "colab": {
          "base_uri": "https://localhost:8080/",
          "height": 419
        },
        "outputId": "1842f5ba-7453-449d-8860-d516417eab13"
      },
      "source": [
        "dense_model.compile(optimizer='adam', loss='binary_crossentropy', metrics=['accuracy'])\n",
        "dense_model.fit(train_data, train_labels, epochs=10)"
      ],
      "execution_count": 106,
      "outputs": [
        {
          "output_type": "stream",
          "text": [
            "Train on 25000 samples\n",
            "Epoch 1/10\n",
            "25000/25000 [==============================] - 3s 129us/sample - loss: 7.7035 - accuracy: 0.5006\n",
            "Epoch 2/10\n",
            "25000/25000 [==============================] - 3s 123us/sample - loss: 7.7125 - accuracy: 0.5000\n",
            "Epoch 3/10\n",
            "25000/25000 [==============================] - 3s 122us/sample - loss: 7.7125 - accuracy: 0.5000\n",
            "Epoch 4/10\n",
            "25000/25000 [==============================] - 3s 122us/sample - loss: 7.7125 - accuracy: 0.5000\n",
            "Epoch 5/10\n",
            "25000/25000 [==============================] - 3s 121us/sample - loss: 7.7125 - accuracy: 0.5000\n",
            "Epoch 6/10\n",
            "25000/25000 [==============================] - 3s 124us/sample - loss: 7.7125 - accuracy: 0.5000\n",
            "Epoch 7/10\n",
            "25000/25000 [==============================] - 3s 124us/sample - loss: 7.7125 - accuracy: 0.5000\n",
            "Epoch 8/10\n",
            "25000/25000 [==============================] - 3s 122us/sample - loss: 7.7125 - accuracy: 0.5000\n",
            "Epoch 9/10\n",
            "25000/25000 [==============================] - 3s 122us/sample - loss: 7.7125 - accuracy: 0.5000\n",
            "Epoch 10/10\n",
            "25000/25000 [==============================] - 3s 122us/sample - loss: 7.7125 - accuracy: 0.5000\n"
          ],
          "name": "stdout"
        },
        {
          "output_type": "execute_result",
          "data": {
            "text/plain": [
              "<tensorflow.python.keras.callbacks.History at 0x7f8fde845080>"
            ]
          },
          "metadata": {
            "tags": []
          },
          "execution_count": 106
        }
      ]
    },
    {
      "cell_type": "markdown",
      "metadata": {
        "id": "jyTMwa0E2jnn",
        "colab_type": "text"
      },
      "source": [
        "### Embeddings"
      ]
    },
    {
      "cell_type": "code",
      "metadata": {
        "id": "y9hNC3Et2mHj",
        "colab_type": "code",
        "colab": {
          "base_uri": "https://localhost:8080/",
          "height": 277
        },
        "outputId": "b4805923-9b4e-4821-db59-5a0c33185099"
      },
      "source": [
        "DIMENSION = 16\n",
        "\n",
        "e_model = models.Sequential([\n",
        "    layers.Embedding(NUM_WORDS, DIMENSION, input_length=LEN_WORDS),\n",
        "    layers.GlobalAveragePooling1D(),\n",
        "    layers.Dense(1, activation='sigmoid')\n",
        "])\n",
        "print(e_model.summary())"
      ],
      "execution_count": 107,
      "outputs": [
        {
          "output_type": "stream",
          "text": [
            "Model: \"sequential_10\"\n",
            "_________________________________________________________________\n",
            "Layer (type)                 Output Shape              Param #   \n",
            "=================================================================\n",
            "embedding (Embedding)        (None, 300, 16)           320000    \n",
            "_________________________________________________________________\n",
            "global_average_pooling1d (Gl (None, 16)                0         \n",
            "_________________________________________________________________\n",
            "dense_16 (Dense)             (None, 1)                 17        \n",
            "=================================================================\n",
            "Total params: 320,017\n",
            "Trainable params: 320,017\n",
            "Non-trainable params: 0\n",
            "_________________________________________________________________\n",
            "None\n"
          ],
          "name": "stdout"
        }
      ]
    },
    {
      "cell_type": "code",
      "metadata": {
        "id": "CNKOETac2p8x",
        "colab_type": "code",
        "colab": {
          "base_uri": "https://localhost:8080/",
          "height": 176
        },
        "outputId": "f2dbdcd6-eda1-446d-f774-0a6ff8e01697"
      },
      "source": [
        "e_model.compile(optimizer='adam', loss='binary_crossentropy', metrics=['accuracy'])\n",
        "e_model.fit(train_data, train_labels, epochs=3)"
      ],
      "execution_count": 108,
      "outputs": [
        {
          "output_type": "stream",
          "text": [
            "Train on 25000 samples\n",
            "Epoch 1/3\n",
            "25000/25000 [==============================] - 7s 283us/sample - loss: 0.6402 - accuracy: 0.7431\n",
            "Epoch 2/3\n",
            "25000/25000 [==============================] - 7s 273us/sample - loss: 0.4800 - accuracy: 0.8368\n",
            "Epoch 3/3\n",
            "25000/25000 [==============================] - 7s 274us/sample - loss: 0.3708 - accuracy: 0.8758\n"
          ],
          "name": "stdout"
        },
        {
          "output_type": "execute_result",
          "data": {
            "text/plain": [
              "<tensorflow.python.keras.callbacks.History at 0x7f8fc2206550>"
            ]
          },
          "metadata": {
            "tags": []
          },
          "execution_count": 108
        }
      ]
    },
    {
      "cell_type": "markdown",
      "metadata": {
        "id": "gTlb9Lin3ZHT",
        "colab_type": "text"
      },
      "source": [
        "### Embeddings plus LSTM"
      ]
    },
    {
      "cell_type": "code",
      "metadata": {
        "id": "IsJVdJ3g3cQ9",
        "colab_type": "code",
        "colab": {
          "base_uri": "https://localhost:8080/",
          "height": 277
        },
        "outputId": "b4cfdf10-cb73-48b2-96a6-03490901649b"
      },
      "source": [
        "l_model = models.Sequential([\n",
        "    layers.Embedding(NUM_WORDS, DIMENSION, input_length=LEN_WORDS),\n",
        "    layers.LSTM(DIMENSION * 2),\n",
        "    layers.Dense(1, activation='sigmoid')\n",
        "])\n",
        "print(l_model.summary())"
      ],
      "execution_count": 109,
      "outputs": [
        {
          "output_type": "stream",
          "text": [
            "Model: \"sequential_11\"\n",
            "_________________________________________________________________\n",
            "Layer (type)                 Output Shape              Param #   \n",
            "=================================================================\n",
            "embedding_1 (Embedding)      (None, 300, 16)           320000    \n",
            "_________________________________________________________________\n",
            "lstm_2 (LSTM)                (None, 32)                6272      \n",
            "_________________________________________________________________\n",
            "dense_17 (Dense)             (None, 1)                 33        \n",
            "=================================================================\n",
            "Total params: 326,305\n",
            "Trainable params: 326,305\n",
            "Non-trainable params: 0\n",
            "_________________________________________________________________\n",
            "None\n"
          ],
          "name": "stdout"
        }
      ]
    },
    {
      "cell_type": "code",
      "metadata": {
        "id": "RuO5mulg3s8y",
        "colab_type": "code",
        "colab": {
          "base_uri": "https://localhost:8080/",
          "height": 401
        },
        "outputId": "09074254-6a39-4fb9-d0e4-78066206648b"
      },
      "source": [
        "l_model.compile(optimizer='adam', loss='binary_crossentropy', metrics=['accuracy'])\n",
        "l_model.fit(train_data, train_labels, epochs=3)"
      ],
      "execution_count": 110,
      "outputs": [
        {
          "output_type": "stream",
          "text": [
            "Train on 25000 samples\n",
            "Epoch 1/3\n",
            "  800/25000 [..............................] - ETA: 29:10 - loss: 0.6933 - accuracy: 0.5050"
          ],
          "name": "stdout"
        },
        {
          "output_type": "error",
          "ename": "KeyboardInterrupt",
          "evalue": "ignored",
          "traceback": [
            "\u001b[0;31m---------------------------------------------------------------------------\u001b[0m",
            "\u001b[0;31mKeyboardInterrupt\u001b[0m                         Traceback (most recent call last)",
            "\u001b[0;32m<ipython-input-110-23135e17954a>\u001b[0m in \u001b[0;36m<module>\u001b[0;34m()\u001b[0m\n\u001b[1;32m      1\u001b[0m \u001b[0ml_model\u001b[0m\u001b[0;34m.\u001b[0m\u001b[0mcompile\u001b[0m\u001b[0;34m(\u001b[0m\u001b[0moptimizer\u001b[0m\u001b[0;34m=\u001b[0m\u001b[0;34m'adam'\u001b[0m\u001b[0;34m,\u001b[0m \u001b[0mloss\u001b[0m\u001b[0;34m=\u001b[0m\u001b[0;34m'binary_crossentropy'\u001b[0m\u001b[0;34m,\u001b[0m \u001b[0mmetrics\u001b[0m\u001b[0;34m=\u001b[0m\u001b[0;34m[\u001b[0m\u001b[0;34m'accuracy'\u001b[0m\u001b[0;34m]\u001b[0m\u001b[0;34m)\u001b[0m\u001b[0;34m\u001b[0m\u001b[0;34m\u001b[0m\u001b[0m\n\u001b[0;32m----> 2\u001b[0;31m \u001b[0ml_model\u001b[0m\u001b[0;34m.\u001b[0m\u001b[0mfit\u001b[0m\u001b[0;34m(\u001b[0m\u001b[0mtrain_data\u001b[0m\u001b[0;34m,\u001b[0m \u001b[0mtrain_labels\u001b[0m\u001b[0;34m,\u001b[0m \u001b[0mepochs\u001b[0m\u001b[0;34m=\u001b[0m\u001b[0;36m3\u001b[0m\u001b[0;34m)\u001b[0m\u001b[0;34m\u001b[0m\u001b[0;34m\u001b[0m\u001b[0m\n\u001b[0m",
            "\u001b[0;32m/usr/local/lib/python3.6/dist-packages/tensorflow/python/keras/engine/training.py\u001b[0m in \u001b[0;36mfit\u001b[0;34m(self, x, y, batch_size, epochs, verbose, callbacks, validation_split, validation_data, shuffle, class_weight, sample_weight, initial_epoch, steps_per_epoch, validation_steps, validation_freq, max_queue_size, workers, use_multiprocessing, **kwargs)\u001b[0m\n\u001b[1;32m    641\u001b[0m         \u001b[0mmax_queue_size\u001b[0m\u001b[0;34m=\u001b[0m\u001b[0mmax_queue_size\u001b[0m\u001b[0;34m,\u001b[0m\u001b[0;34m\u001b[0m\u001b[0;34m\u001b[0m\u001b[0m\n\u001b[1;32m    642\u001b[0m         \u001b[0mworkers\u001b[0m\u001b[0;34m=\u001b[0m\u001b[0mworkers\u001b[0m\u001b[0;34m,\u001b[0m\u001b[0;34m\u001b[0m\u001b[0;34m\u001b[0m\u001b[0m\n\u001b[0;32m--> 643\u001b[0;31m         use_multiprocessing=use_multiprocessing)\n\u001b[0m\u001b[1;32m    644\u001b[0m \u001b[0;34m\u001b[0m\u001b[0m\n\u001b[1;32m    645\u001b[0m   def evaluate(self,\n",
            "\u001b[0;32m/usr/local/lib/python3.6/dist-packages/tensorflow/python/keras/engine/training_arrays.py\u001b[0m in \u001b[0;36mfit\u001b[0;34m(self, model, x, y, batch_size, epochs, verbose, callbacks, validation_split, validation_data, shuffle, class_weight, sample_weight, initial_epoch, steps_per_epoch, validation_steps, validation_freq, **kwargs)\u001b[0m\n\u001b[1;32m    662\u001b[0m         \u001b[0mvalidation_steps\u001b[0m\u001b[0;34m=\u001b[0m\u001b[0mvalidation_steps\u001b[0m\u001b[0;34m,\u001b[0m\u001b[0;34m\u001b[0m\u001b[0;34m\u001b[0m\u001b[0m\n\u001b[1;32m    663\u001b[0m         \u001b[0mvalidation_freq\u001b[0m\u001b[0;34m=\u001b[0m\u001b[0mvalidation_freq\u001b[0m\u001b[0;34m,\u001b[0m\u001b[0;34m\u001b[0m\u001b[0;34m\u001b[0m\u001b[0m\n\u001b[0;32m--> 664\u001b[0;31m         steps_name='steps_per_epoch')\n\u001b[0m\u001b[1;32m    665\u001b[0m \u001b[0;34m\u001b[0m\u001b[0m\n\u001b[1;32m    666\u001b[0m   def evaluate(self,\n",
            "\u001b[0;32m/usr/local/lib/python3.6/dist-packages/tensorflow/python/keras/engine/training_arrays.py\u001b[0m in \u001b[0;36mmodel_iteration\u001b[0;34m(model, inputs, targets, sample_weights, batch_size, epochs, verbose, callbacks, val_inputs, val_targets, val_sample_weights, shuffle, initial_epoch, steps_per_epoch, validation_steps, validation_freq, mode, validation_in_fit, prepared_feed_values_from_dataset, steps_name, **kwargs)\u001b[0m\n\u001b[1;32m    381\u001b[0m \u001b[0;34m\u001b[0m\u001b[0m\n\u001b[1;32m    382\u001b[0m         \u001b[0;31m# Get outputs.\u001b[0m\u001b[0;34m\u001b[0m\u001b[0;34m\u001b[0m\u001b[0;34m\u001b[0m\u001b[0m\n\u001b[0;32m--> 383\u001b[0;31m         \u001b[0mbatch_outs\u001b[0m \u001b[0;34m=\u001b[0m \u001b[0mf\u001b[0m\u001b[0;34m(\u001b[0m\u001b[0mins_batch\u001b[0m\u001b[0;34m)\u001b[0m\u001b[0;34m\u001b[0m\u001b[0;34m\u001b[0m\u001b[0m\n\u001b[0m\u001b[1;32m    384\u001b[0m         \u001b[0;32mif\u001b[0m \u001b[0;32mnot\u001b[0m \u001b[0misinstance\u001b[0m\u001b[0;34m(\u001b[0m\u001b[0mbatch_outs\u001b[0m\u001b[0;34m,\u001b[0m \u001b[0mlist\u001b[0m\u001b[0;34m)\u001b[0m\u001b[0;34m:\u001b[0m\u001b[0;34m\u001b[0m\u001b[0;34m\u001b[0m\u001b[0m\n\u001b[1;32m    385\u001b[0m           \u001b[0mbatch_outs\u001b[0m \u001b[0;34m=\u001b[0m \u001b[0;34m[\u001b[0m\u001b[0mbatch_outs\u001b[0m\u001b[0;34m]\u001b[0m\u001b[0;34m\u001b[0m\u001b[0;34m\u001b[0m\u001b[0m\n",
            "\u001b[0;32m/usr/local/lib/python3.6/dist-packages/tensorflow/python/keras/backend.py\u001b[0m in \u001b[0;36m__call__\u001b[0;34m(self, inputs)\u001b[0m\n\u001b[1;32m   3508\u001b[0m         \u001b[0mvalue\u001b[0m \u001b[0;34m=\u001b[0m \u001b[0mmath_ops\u001b[0m\u001b[0;34m.\u001b[0m\u001b[0mcast\u001b[0m\u001b[0;34m(\u001b[0m\u001b[0mvalue\u001b[0m\u001b[0;34m,\u001b[0m \u001b[0mtensor\u001b[0m\u001b[0;34m.\u001b[0m\u001b[0mdtype\u001b[0m\u001b[0;34m)\u001b[0m\u001b[0;34m\u001b[0m\u001b[0;34m\u001b[0m\u001b[0m\n\u001b[1;32m   3509\u001b[0m       \u001b[0mconverted_inputs\u001b[0m\u001b[0;34m.\u001b[0m\u001b[0mappend\u001b[0m\u001b[0;34m(\u001b[0m\u001b[0mvalue\u001b[0m\u001b[0;34m)\u001b[0m\u001b[0;34m\u001b[0m\u001b[0;34m\u001b[0m\u001b[0m\n\u001b[0;32m-> 3510\u001b[0;31m     \u001b[0moutputs\u001b[0m \u001b[0;34m=\u001b[0m \u001b[0mself\u001b[0m\u001b[0;34m.\u001b[0m\u001b[0m_graph_fn\u001b[0m\u001b[0;34m(\u001b[0m\u001b[0;34m*\u001b[0m\u001b[0mconverted_inputs\u001b[0m\u001b[0;34m)\u001b[0m\u001b[0;34m\u001b[0m\u001b[0;34m\u001b[0m\u001b[0m\n\u001b[0m\u001b[1;32m   3511\u001b[0m \u001b[0;34m\u001b[0m\u001b[0m\n\u001b[1;32m   3512\u001b[0m     \u001b[0;31m# EagerTensor.numpy() will often make a copy to ensure memory safety.\u001b[0m\u001b[0;34m\u001b[0m\u001b[0;34m\u001b[0m\u001b[0;34m\u001b[0m\u001b[0m\n",
            "\u001b[0;32m/usr/local/lib/python3.6/dist-packages/tensorflow/python/eager/function.py\u001b[0m in \u001b[0;36m__call__\u001b[0;34m(self, *args, **kwargs)\u001b[0m\n\u001b[1;32m    570\u001b[0m       raise TypeError(\"Keyword arguments {} unknown. Expected {}.\".format(\n\u001b[1;32m    571\u001b[0m           list(kwargs.keys()), list(self._arg_keywords)))\n\u001b[0;32m--> 572\u001b[0;31m     \u001b[0;32mreturn\u001b[0m \u001b[0mself\u001b[0m\u001b[0;34m.\u001b[0m\u001b[0m_call_flat\u001b[0m\u001b[0;34m(\u001b[0m\u001b[0margs\u001b[0m\u001b[0;34m)\u001b[0m\u001b[0;34m\u001b[0m\u001b[0;34m\u001b[0m\u001b[0m\n\u001b[0m\u001b[1;32m    573\u001b[0m \u001b[0;34m\u001b[0m\u001b[0m\n\u001b[1;32m    574\u001b[0m   \u001b[0;32mdef\u001b[0m \u001b[0m_filtered_call\u001b[0m\u001b[0;34m(\u001b[0m\u001b[0mself\u001b[0m\u001b[0;34m,\u001b[0m \u001b[0margs\u001b[0m\u001b[0;34m,\u001b[0m \u001b[0mkwargs\u001b[0m\u001b[0;34m)\u001b[0m\u001b[0;34m:\u001b[0m\u001b[0;34m\u001b[0m\u001b[0;34m\u001b[0m\u001b[0m\n",
            "\u001b[0;32m/usr/local/lib/python3.6/dist-packages/tensorflow/python/eager/function.py\u001b[0m in \u001b[0;36m_call_flat\u001b[0;34m(self, args)\u001b[0m\n\u001b[1;32m    669\u001b[0m     \u001b[0;31m# Only need to override the gradient in graph mode and when we have outputs.\u001b[0m\u001b[0;34m\u001b[0m\u001b[0;34m\u001b[0m\u001b[0;34m\u001b[0m\u001b[0m\n\u001b[1;32m    670\u001b[0m     \u001b[0;32mif\u001b[0m \u001b[0mcontext\u001b[0m\u001b[0;34m.\u001b[0m\u001b[0mexecuting_eagerly\u001b[0m\u001b[0;34m(\u001b[0m\u001b[0;34m)\u001b[0m \u001b[0;32mor\u001b[0m \u001b[0;32mnot\u001b[0m \u001b[0mself\u001b[0m\u001b[0;34m.\u001b[0m\u001b[0moutputs\u001b[0m\u001b[0;34m:\u001b[0m\u001b[0;34m\u001b[0m\u001b[0;34m\u001b[0m\u001b[0m\n\u001b[0;32m--> 671\u001b[0;31m       \u001b[0moutputs\u001b[0m \u001b[0;34m=\u001b[0m \u001b[0mself\u001b[0m\u001b[0;34m.\u001b[0m\u001b[0m_inference_function\u001b[0m\u001b[0;34m.\u001b[0m\u001b[0mcall\u001b[0m\u001b[0;34m(\u001b[0m\u001b[0mctx\u001b[0m\u001b[0;34m,\u001b[0m \u001b[0margs\u001b[0m\u001b[0;34m)\u001b[0m\u001b[0;34m\u001b[0m\u001b[0;34m\u001b[0m\u001b[0m\n\u001b[0m\u001b[1;32m    672\u001b[0m     \u001b[0;32melse\u001b[0m\u001b[0;34m:\u001b[0m\u001b[0;34m\u001b[0m\u001b[0;34m\u001b[0m\u001b[0m\n\u001b[1;32m    673\u001b[0m       \u001b[0mself\u001b[0m\u001b[0;34m.\u001b[0m\u001b[0m_register_gradient\u001b[0m\u001b[0;34m(\u001b[0m\u001b[0;34m)\u001b[0m\u001b[0;34m\u001b[0m\u001b[0;34m\u001b[0m\u001b[0m\n",
            "\u001b[0;32m/usr/local/lib/python3.6/dist-packages/tensorflow/python/eager/function.py\u001b[0m in \u001b[0;36mcall\u001b[0;34m(self, ctx, args)\u001b[0m\n\u001b[1;32m    443\u001b[0m             attrs=(\"executor_type\", executor_type,\n\u001b[1;32m    444\u001b[0m                    \"config_proto\", config),\n\u001b[0;32m--> 445\u001b[0;31m             ctx=ctx)\n\u001b[0m\u001b[1;32m    446\u001b[0m       \u001b[0;31m# Replace empty list with None\u001b[0m\u001b[0;34m\u001b[0m\u001b[0;34m\u001b[0m\u001b[0;34m\u001b[0m\u001b[0m\n\u001b[1;32m    447\u001b[0m       \u001b[0moutputs\u001b[0m \u001b[0;34m=\u001b[0m \u001b[0moutputs\u001b[0m \u001b[0;32mor\u001b[0m \u001b[0;32mNone\u001b[0m\u001b[0;34m\u001b[0m\u001b[0;34m\u001b[0m\u001b[0m\n",
            "\u001b[0;32m/usr/local/lib/python3.6/dist-packages/tensorflow/python/eager/execute.py\u001b[0m in \u001b[0;36mquick_execute\u001b[0;34m(op_name, num_outputs, inputs, attrs, ctx, name)\u001b[0m\n\u001b[1;32m     59\u001b[0m     tensors = pywrap_tensorflow.TFE_Py_Execute(ctx._handle, device_name,\n\u001b[1;32m     60\u001b[0m                                                \u001b[0mop_name\u001b[0m\u001b[0;34m,\u001b[0m \u001b[0minputs\u001b[0m\u001b[0;34m,\u001b[0m \u001b[0mattrs\u001b[0m\u001b[0;34m,\u001b[0m\u001b[0;34m\u001b[0m\u001b[0;34m\u001b[0m\u001b[0m\n\u001b[0;32m---> 61\u001b[0;31m                                                num_outputs)\n\u001b[0m\u001b[1;32m     62\u001b[0m   \u001b[0;32mexcept\u001b[0m \u001b[0mcore\u001b[0m\u001b[0;34m.\u001b[0m\u001b[0m_NotOkStatusException\u001b[0m \u001b[0;32mas\u001b[0m \u001b[0me\u001b[0m\u001b[0;34m:\u001b[0m\u001b[0;34m\u001b[0m\u001b[0;34m\u001b[0m\u001b[0m\n\u001b[1;32m     63\u001b[0m     \u001b[0;32mif\u001b[0m \u001b[0mname\u001b[0m \u001b[0;32mis\u001b[0m \u001b[0;32mnot\u001b[0m \u001b[0;32mNone\u001b[0m\u001b[0;34m:\u001b[0m\u001b[0;34m\u001b[0m\u001b[0;34m\u001b[0m\u001b[0m\n",
            "\u001b[0;31mKeyboardInterrupt\u001b[0m: "
          ]
        }
      ]
    },
    {
      "cell_type": "markdown",
      "metadata": {
        "id": "JV-cKWGU4PTw",
        "colab_type": "text"
      },
      "source": [
        "### Embeddings plus Convolution"
      ]
    },
    {
      "cell_type": "code",
      "metadata": {
        "id": "Ponv2HDd4Tpp",
        "colab_type": "code",
        "colab": {
          "base_uri": "https://localhost:8080/",
          "height": 312
        },
        "outputId": "609febaf-1051-4e5e-f06f-3ca5315b9b9f"
      },
      "source": [
        "c_model = models.Sequential([\n",
        "    layers.Embedding(NUM_WORDS, DIMENSION, input_length=LEN_WORDS),\n",
        "    layers.SeparableConv1D(filters=10, kernel_size=3, strides=3, padding='same'),\n",
        "    layers.GlobalAveragePooling1D(),\n",
        "    layers.Dense(1, activation='sigmoid')\n",
        "])\n",
        "print(c_model.summary())"
      ],
      "execution_count": 111,
      "outputs": [
        {
          "output_type": "stream",
          "text": [
            "Model: \"sequential_12\"\n",
            "_________________________________________________________________\n",
            "Layer (type)                 Output Shape              Param #   \n",
            "=================================================================\n",
            "embedding_2 (Embedding)      (None, 300, 16)           320000    \n",
            "_________________________________________________________________\n",
            "separable_conv1d (SeparableC (None, 100, 10)           218       \n",
            "_________________________________________________________________\n",
            "global_average_pooling1d_1 ( (None, 10)                0         \n",
            "_________________________________________________________________\n",
            "dense_18 (Dense)             (None, 1)                 11        \n",
            "=================================================================\n",
            "Total params: 320,229\n",
            "Trainable params: 320,229\n",
            "Non-trainable params: 0\n",
            "_________________________________________________________________\n",
            "None\n"
          ],
          "name": "stdout"
        }
      ]
    },
    {
      "cell_type": "code",
      "metadata": {
        "id": "k1d0PaG74iCN",
        "colab_type": "code",
        "colab": {
          "base_uri": "https://localhost:8080/",
          "height": 176
        },
        "outputId": "1eb4aa6a-7650-43a6-95c1-ef5526e7e237"
      },
      "source": [
        "c_model.compile(optimizer='adam', loss='binary_crossentropy', metrics=['accuracy'])\n",
        "c_model.fit(train_data, train_labels, epochs=3)"
      ],
      "execution_count": 112,
      "outputs": [
        {
          "output_type": "stream",
          "text": [
            "Train on 25000 samples\n",
            "Epoch 1/3\n",
            "25000/25000 [==============================] - 10s 417us/sample - loss: 0.4898 - accuracy: 0.7592\n",
            "Epoch 2/3\n",
            "25000/25000 [==============================] - 8s 333us/sample - loss: 0.2297 - accuracy: 0.9132\n",
            "Epoch 3/3\n",
            "25000/25000 [==============================] - 8s 326us/sample - loss: 0.1366 - accuracy: 0.9524\n"
          ],
          "name": "stdout"
        },
        {
          "output_type": "execute_result",
          "data": {
            "text/plain": [
              "<tensorflow.python.keras.callbacks.History at 0x7f8fc3266080>"
            ]
          },
          "metadata": {
            "tags": []
          },
          "execution_count": 112
        }
      ]
    },
    {
      "cell_type": "markdown",
      "metadata": {
        "id": "AhsLg4Mjwsvv",
        "colab_type": "text"
      },
      "source": [
        "### Amazon Reviews Dataset\n",
        "* http://jmcauley.ucsd.edu/data/amazon/"
      ]
    },
    {
      "cell_type": "code",
      "metadata": {
        "id": "99XPv7c9yyft",
        "colab_type": "code",
        "colab": {}
      },
      "source": [
        "import pandas as pd\n",
        "import gzip\n",
        "\n",
        "def parse(path):\n",
        "  g = gzip.open(path, 'rb')\n",
        "  for l in g:\n",
        "    yield eval(l)\n",
        "\n",
        "def getDF(path):\n",
        "  i = 0\n",
        "  df = {}\n",
        "  for d in parse(path):\n",
        "    df[i] = d\n",
        "    i += 1\n",
        "  return pd.DataFrame.from_dict(df, orient='index')\n",
        "\n",
        "df = getDF('/content/gdrive/My Drive/amazon_reviews/reviews_Automotive_5.json.gz')"
      ],
      "execution_count": 0,
      "outputs": []
    },
    {
      "cell_type": "code",
      "metadata": {
        "id": "WTGs4U1a-IbA",
        "colab_type": "code",
        "colab": {
          "base_uri": "https://localhost:8080/",
          "height": 260
        },
        "outputId": "b43f2501-d5e0-402e-b31c-1dc070664e93"
      },
      "source": [
        "df.info()"
      ],
      "execution_count": 116,
      "outputs": [
        {
          "output_type": "stream",
          "text": [
            "<class 'pandas.core.frame.DataFrame'>\n",
            "Int64Index: 20473 entries, 0 to 20472\n",
            "Data columns (total 9 columns):\n",
            "reviewerID        20473 non-null object\n",
            "asin              20473 non-null object\n",
            "reviewerName      20260 non-null object\n",
            "helpful           20473 non-null object\n",
            "reviewText        20473 non-null object\n",
            "overall           20473 non-null float64\n",
            "summary           20473 non-null object\n",
            "unixReviewTime    20473 non-null int64\n",
            "reviewTime        20473 non-null object\n",
            "dtypes: float64(1), int64(1), object(7)\n",
            "memory usage: 1.6+ MB\n"
          ],
          "name": "stdout"
        }
      ]
    },
    {
      "cell_type": "code",
      "metadata": {
        "id": "MdPfjgJKxOi8",
        "colab_type": "code",
        "colab": {
          "base_uri": "https://localhost:8080/",
          "height": 603
        },
        "outputId": "facdc789-ae6e-48ca-c211-d953df1cad30"
      },
      "source": [
        "df.head()"
      ],
      "execution_count": 117,
      "outputs": [
        {
          "output_type": "execute_result",
          "data": {
            "text/html": [
              "<div>\n",
              "<style scoped>\n",
              "    .dataframe tbody tr th:only-of-type {\n",
              "        vertical-align: middle;\n",
              "    }\n",
              "\n",
              "    .dataframe tbody tr th {\n",
              "        vertical-align: top;\n",
              "    }\n",
              "\n",
              "    .dataframe thead th {\n",
              "        text-align: right;\n",
              "    }\n",
              "</style>\n",
              "<table border=\"1\" class=\"dataframe\">\n",
              "  <thead>\n",
              "    <tr style=\"text-align: right;\">\n",
              "      <th></th>\n",
              "      <th>reviewerID</th>\n",
              "      <th>asin</th>\n",
              "      <th>reviewerName</th>\n",
              "      <th>helpful</th>\n",
              "      <th>reviewText</th>\n",
              "      <th>overall</th>\n",
              "      <th>summary</th>\n",
              "      <th>unixReviewTime</th>\n",
              "      <th>reviewTime</th>\n",
              "    </tr>\n",
              "  </thead>\n",
              "  <tbody>\n",
              "    <tr>\n",
              "      <th>0</th>\n",
              "      <td>A3F73SC1LY51OO</td>\n",
              "      <td>B00002243X</td>\n",
              "      <td>Alan Montgomery</td>\n",
              "      <td>[4, 4]</td>\n",
              "      <td>I needed a set of jumper cables for my new car...</td>\n",
              "      <td>5.0</td>\n",
              "      <td>Work Well - Should Have Bought Longer Ones</td>\n",
              "      <td>1313539200</td>\n",
              "      <td>08 17, 2011</td>\n",
              "    </tr>\n",
              "    <tr>\n",
              "      <th>1</th>\n",
              "      <td>A20S66SKYXULG2</td>\n",
              "      <td>B00002243X</td>\n",
              "      <td>alphonse</td>\n",
              "      <td>[1, 1]</td>\n",
              "      <td>These long cables work fine for my truck, but ...</td>\n",
              "      <td>4.0</td>\n",
              "      <td>Okay long cables</td>\n",
              "      <td>1315094400</td>\n",
              "      <td>09 4, 2011</td>\n",
              "    </tr>\n",
              "    <tr>\n",
              "      <th>2</th>\n",
              "      <td>A2I8LFSN2IS5EO</td>\n",
              "      <td>B00002243X</td>\n",
              "      <td>Chris</td>\n",
              "      <td>[0, 0]</td>\n",
              "      <td>Can't comment much on these since they have no...</td>\n",
              "      <td>5.0</td>\n",
              "      <td>Looks and feels heavy Duty</td>\n",
              "      <td>1374710400</td>\n",
              "      <td>07 25, 2013</td>\n",
              "    </tr>\n",
              "    <tr>\n",
              "      <th>3</th>\n",
              "      <td>A3GT2EWQSO45ZG</td>\n",
              "      <td>B00002243X</td>\n",
              "      <td>DeusEx</td>\n",
              "      <td>[19, 19]</td>\n",
              "      <td>I absolutley love Amazon!!!  For the price of ...</td>\n",
              "      <td>5.0</td>\n",
              "      <td>Excellent choice for Jumper Cables!!!</td>\n",
              "      <td>1292889600</td>\n",
              "      <td>12 21, 2010</td>\n",
              "    </tr>\n",
              "    <tr>\n",
              "      <th>4</th>\n",
              "      <td>A3ESWJPAVRPWB4</td>\n",
              "      <td>B00002243X</td>\n",
              "      <td>E. Hernandez</td>\n",
              "      <td>[0, 0]</td>\n",
              "      <td>I purchased the 12' feet long cable set and th...</td>\n",
              "      <td>5.0</td>\n",
              "      <td>Excellent, High Quality Starter Cables</td>\n",
              "      <td>1341360000</td>\n",
              "      <td>07 4, 2012</td>\n",
              "    </tr>\n",
              "  </tbody>\n",
              "</table>\n",
              "</div>"
            ],
            "text/plain": [
              "       reviewerID        asin  ... unixReviewTime   reviewTime\n",
              "0  A3F73SC1LY51OO  B00002243X  ...     1313539200  08 17, 2011\n",
              "1  A20S66SKYXULG2  B00002243X  ...     1315094400   09 4, 2011\n",
              "2  A2I8LFSN2IS5EO  B00002243X  ...     1374710400  07 25, 2013\n",
              "3  A3GT2EWQSO45ZG  B00002243X  ...     1292889600  12 21, 2010\n",
              "4  A3ESWJPAVRPWB4  B00002243X  ...     1341360000   07 4, 2012\n",
              "\n",
              "[5 rows x 9 columns]"
            ]
          },
          "metadata": {
            "tags": []
          },
          "execution_count": 117
        }
      ]
    },
    {
      "cell_type": "code",
      "metadata": {
        "id": "AXQKAWo3xPwF",
        "colab_type": "code",
        "colab": {}
      },
      "source": [
        "df = df[['reviewText', 'overall']]"
      ],
      "execution_count": 0,
      "outputs": []
    },
    {
      "cell_type": "code",
      "metadata": {
        "id": "fkLaMw35zSNi",
        "colab_type": "code",
        "colab": {
          "base_uri": "https://localhost:8080/",
          "height": 55
        },
        "outputId": "4487ddfb-1354-4eb4-c9d6-c89827047ebd"
      },
      "source": [
        "print(df['reviewText'][0])"
      ],
      "execution_count": 119,
      "outputs": [
        {
          "output_type": "stream",
          "text": [
            "I needed a set of jumper cables for my new car and these had good reviews and were at a good price.  They have been used a few times already and do what they are supposed to - no complaints there.What I will say is that 12 feet really isn't an ideal length.  Sure, if you pull up front bumper to front bumper they are plenty long, but a lot of times you will be beside another car or can't get really close.  Because of this, I would recommend something a little longer than 12'.Great brand - get 16' version though.\n"
          ],
          "name": "stdout"
        }
      ]
    },
    {
      "cell_type": "markdown",
      "metadata": {
        "id": "H1eSS7YwzH8q",
        "colab_type": "text"
      },
      "source": [
        "### Remove Special Characters"
      ]
    },
    {
      "cell_type": "code",
      "metadata": {
        "id": "9Bfgh8OCxdJh",
        "colab_type": "code",
        "colab": {}
      },
      "source": [
        "import re\n",
        "\n",
        "def strip_special_chars(st):\n",
        "    my_pattern = '[A-Za-z0-9./ ]+'\n",
        "    return ''.join(re.findall(my_pattern, st))"
      ],
      "execution_count": 0,
      "outputs": []
    },
    {
      "cell_type": "code",
      "metadata": {
        "id": "Phv7CPpUzMZh",
        "colab_type": "code",
        "colab": {
          "base_uri": "https://localhost:8080/",
          "height": 55
        },
        "outputId": "b0a1a226-014d-4279-bc74-9f3420367594"
      },
      "source": [
        "df['cleanReviewText'] = df['reviewText'].apply(strip_special_chars)\n",
        "print(df['cleanReviewText'][0])"
      ],
      "execution_count": 121,
      "outputs": [
        {
          "output_type": "stream",
          "text": [
            "I needed a set of jumper cables for my new car and these had good reviews and were at a good price.  They have been used a few times already and do what they are supposed to  no complaints there.What I will say is that 12 feet really isnt an ideal length.  Sure if you pull up front bumper to front bumper they are plenty long but a lot of times you will be beside another car or cant get really close.  Because of this I would recommend something a little longer than 12.Great brand  get 16 version though.\n"
          ],
          "name": "stdout"
        }
      ]
    },
    {
      "cell_type": "markdown",
      "metadata": {
        "id": "5YaYZ1ruzjaN",
        "colab_type": "text"
      },
      "source": [
        "### Convert Ratings to Sentiment"
      ]
    },
    {
      "cell_type": "code",
      "metadata": {
        "id": "NeeLcUitzQVB",
        "colab_type": "code",
        "colab": {
          "base_uri": "https://localhost:8080/",
          "height": 202
        },
        "outputId": "aa96673b-52d6-4e11-80f2-7cd50e8e6ed3"
      },
      "source": [
        "def sentiment(x):\n",
        "    if x < 3:\n",
        "        return 0\n",
        "    else:\n",
        "        return 1\n",
        "df['sentiment'] = df['overall'].apply(lambda x: sentiment(x))\n",
        "df[['cleanReviewText', 'overall', 'sentiment']].head()"
      ],
      "execution_count": 122,
      "outputs": [
        {
          "output_type": "execute_result",
          "data": {
            "text/html": [
              "<div>\n",
              "<style scoped>\n",
              "    .dataframe tbody tr th:only-of-type {\n",
              "        vertical-align: middle;\n",
              "    }\n",
              "\n",
              "    .dataframe tbody tr th {\n",
              "        vertical-align: top;\n",
              "    }\n",
              "\n",
              "    .dataframe thead th {\n",
              "        text-align: right;\n",
              "    }\n",
              "</style>\n",
              "<table border=\"1\" class=\"dataframe\">\n",
              "  <thead>\n",
              "    <tr style=\"text-align: right;\">\n",
              "      <th></th>\n",
              "      <th>cleanReviewText</th>\n",
              "      <th>overall</th>\n",
              "      <th>sentiment</th>\n",
              "    </tr>\n",
              "  </thead>\n",
              "  <tbody>\n",
              "    <tr>\n",
              "      <th>0</th>\n",
              "      <td>I needed a set of jumper cables for my new car...</td>\n",
              "      <td>5.0</td>\n",
              "      <td>1</td>\n",
              "    </tr>\n",
              "    <tr>\n",
              "      <th>1</th>\n",
              "      <td>These long cables work fine for my truck but t...</td>\n",
              "      <td>4.0</td>\n",
              "      <td>1</td>\n",
              "    </tr>\n",
              "    <tr>\n",
              "      <th>2</th>\n",
              "      <td>Cant comment much on these since they have not...</td>\n",
              "      <td>5.0</td>\n",
              "      <td>1</td>\n",
              "    </tr>\n",
              "    <tr>\n",
              "      <th>3</th>\n",
              "      <td>I absolutley love Amazon  For the price of a s...</td>\n",
              "      <td>5.0</td>\n",
              "      <td>1</td>\n",
              "    </tr>\n",
              "    <tr>\n",
              "      <th>4</th>\n",
              "      <td>I purchased the 12 feet long cable set and the...</td>\n",
              "      <td>5.0</td>\n",
              "      <td>1</td>\n",
              "    </tr>\n",
              "  </tbody>\n",
              "</table>\n",
              "</div>"
            ],
            "text/plain": [
              "                                     cleanReviewText  overall  sentiment\n",
              "0  I needed a set of jumper cables for my new car...      5.0          1\n",
              "1  These long cables work fine for my truck but t...      4.0          1\n",
              "2  Cant comment much on these since they have not...      5.0          1\n",
              "3  I absolutley love Amazon  For the price of a s...      5.0          1\n",
              "4  I purchased the 12 feet long cable set and the...      5.0          1"
            ]
          },
          "metadata": {
            "tags": []
          },
          "execution_count": 122
        }
      ]
    },
    {
      "cell_type": "markdown",
      "metadata": {
        "id": "1Er6B8E-0Dxz",
        "colab_type": "text"
      },
      "source": [
        "### create features and labels"
      ]
    },
    {
      "cell_type": "code",
      "metadata": {
        "id": "qMyBOg2Xzngf",
        "colab_type": "code",
        "colab": {}
      },
      "source": [
        "features = df['cleanReviewText']\n",
        "labels = df['sentiment']"
      ],
      "execution_count": 0,
      "outputs": []
    },
    {
      "cell_type": "markdown",
      "metadata": {
        "id": "vC_GRm3h0Nhy",
        "colab_type": "text"
      },
      "source": [
        "### Get a pre-trained embedding"
      ]
    },
    {
      "cell_type": "code",
      "metadata": {
        "id": "aKoY9lV90HGh",
        "colab_type": "code",
        "colab": {}
      },
      "source": [
        "import tensorflow_hub as hub"
      ],
      "execution_count": 0,
      "outputs": []
    },
    {
      "cell_type": "code",
      "metadata": {
        "id": "dheCqTcr0Vai",
        "colab_type": "code",
        "colab": {}
      },
      "source": [
        "hub_layer = hub.KerasLayer(\"https://tfhub.dev/google/tf2-preview/nnlm-en-dim50/1\", output_shape=[50], input_shape=[], dtype=tf.string)"
      ],
      "execution_count": 0,
      "outputs": []
    },
    {
      "cell_type": "markdown",
      "metadata": {
        "id": "zOwP-yQP0koT",
        "colab_type": "text"
      },
      "source": [
        "### Add pre-trained layer to a model"
      ]
    },
    {
      "cell_type": "code",
      "metadata": {
        "id": "qrYOsofU0Z_s",
        "colab_type": "code",
        "colab": {
          "base_uri": "https://localhost:8080/",
          "height": 277
        },
        "outputId": "e1e00a02-52a3-4a7a-9375-00c147950d04"
      },
      "source": [
        "from tensorflow import keras\n",
        "\n",
        "model = keras.Sequential([\n",
        "    hub_layer,\n",
        "    keras.layers.Dense(8, activation='relu'),\n",
        "    keras.layers.Dense(1, activation='sigmoid')\n",
        "])\n",
        "print(model.summary())"
      ],
      "execution_count": 125,
      "outputs": [
        {
          "output_type": "stream",
          "text": [
            "Model: \"sequential_13\"\n",
            "_________________________________________________________________\n",
            "Layer (type)                 Output Shape              Param #   \n",
            "=================================================================\n",
            "keras_layer_1 (KerasLayer)   (None, 50)                48190600  \n",
            "_________________________________________________________________\n",
            "dense_19 (Dense)             (None, 8)                 408       \n",
            "_________________________________________________________________\n",
            "dense_20 (Dense)             (None, 1)                 9         \n",
            "=================================================================\n",
            "Total params: 48,191,017\n",
            "Trainable params: 417\n",
            "Non-trainable params: 48,190,600\n",
            "_________________________________________________________________\n",
            "None\n"
          ],
          "name": "stdout"
        }
      ]
    },
    {
      "cell_type": "code",
      "metadata": {
        "id": "V2Z99cxH0rXM",
        "colab_type": "code",
        "colab": {
          "base_uri": "https://localhost:8080/",
          "height": 89
        },
        "outputId": "d6df7884-dacf-4561-dd46-f452effa9cce"
      },
      "source": [
        "model.compile(optimizer='adam', loss='binary_crossentropy', metrics=['accuracy'])\n",
        "model.fit(x=features.to_numpy(), y=labels.to_numpy(), epochs=1, validation_split=0.3)"
      ],
      "execution_count": 126,
      "outputs": [
        {
          "output_type": "stream",
          "text": [
            "Train on 14331 samples, validate on 6142 samples\n",
            "14331/14331 [==============================] - 5s 382us/sample - loss: 0.2784 - accuracy: 0.9432 - val_loss: 0.2388 - val_accuracy: 0.9430\n"
          ],
          "name": "stdout"
        },
        {
          "output_type": "execute_result",
          "data": {
            "text/plain": [
              "<tensorflow.python.keras.callbacks.History at 0x7f8fbdfc3550>"
            ]
          },
          "metadata": {
            "tags": []
          },
          "execution_count": 126
        }
      ]
    },
    {
      "cell_type": "code",
      "metadata": {
        "id": "8pL0CYeb05C5",
        "colab_type": "code",
        "colab": {
          "base_uri": "https://localhost:8080/",
          "height": 401
        },
        "outputId": "3172f9b5-2aa7-4141-d7fd-3089839d2642"
      },
      "source": [
        "model = keras.Sequential([\n",
        "    hub_layer,\n",
        "    keras.layers.Conv1D(filters=10, kernel_size=3),\n",
        "    keras.layers.Dense(1, activation='sigmoid')\n",
        "])\n",
        "print(model.summary())"
      ],
      "execution_count": 130,
      "outputs": [
        {
          "output_type": "error",
          "ename": "ValueError",
          "evalue": "ignored",
          "traceback": [
            "\u001b[0;31m---------------------------------------------------------------------------\u001b[0m",
            "\u001b[0;31mValueError\u001b[0m                                Traceback (most recent call last)",
            "\u001b[0;32m<ipython-input-130-57b5091cc4e6>\u001b[0m in \u001b[0;36m<module>\u001b[0;34m()\u001b[0m\n\u001b[1;32m      2\u001b[0m     \u001b[0mhub_layer\u001b[0m\u001b[0;34m,\u001b[0m\u001b[0;34m\u001b[0m\u001b[0;34m\u001b[0m\u001b[0m\n\u001b[1;32m      3\u001b[0m     \u001b[0mkeras\u001b[0m\u001b[0;34m.\u001b[0m\u001b[0mlayers\u001b[0m\u001b[0;34m.\u001b[0m\u001b[0mConv1D\u001b[0m\u001b[0;34m(\u001b[0m\u001b[0mfilters\u001b[0m\u001b[0;34m=\u001b[0m\u001b[0;36m10\u001b[0m\u001b[0;34m,\u001b[0m \u001b[0mkernel_size\u001b[0m\u001b[0;34m=\u001b[0m\u001b[0;36m3\u001b[0m\u001b[0;34m)\u001b[0m\u001b[0;34m,\u001b[0m\u001b[0;34m\u001b[0m\u001b[0;34m\u001b[0m\u001b[0m\n\u001b[0;32m----> 4\u001b[0;31m     \u001b[0mkeras\u001b[0m\u001b[0;34m.\u001b[0m\u001b[0mlayers\u001b[0m\u001b[0;34m.\u001b[0m\u001b[0mDense\u001b[0m\u001b[0;34m(\u001b[0m\u001b[0;36m1\u001b[0m\u001b[0;34m,\u001b[0m \u001b[0mactivation\u001b[0m\u001b[0;34m=\u001b[0m\u001b[0;34m'sigmoid'\u001b[0m\u001b[0;34m)\u001b[0m\u001b[0;34m\u001b[0m\u001b[0;34m\u001b[0m\u001b[0m\n\u001b[0m\u001b[1;32m      5\u001b[0m ])\n\u001b[1;32m      6\u001b[0m \u001b[0mprint\u001b[0m\u001b[0;34m(\u001b[0m\u001b[0mmodel\u001b[0m\u001b[0;34m.\u001b[0m\u001b[0msummary\u001b[0m\u001b[0;34m(\u001b[0m\u001b[0;34m)\u001b[0m\u001b[0;34m)\u001b[0m\u001b[0;34m\u001b[0m\u001b[0;34m\u001b[0m\u001b[0m\n",
            "\u001b[0;32m/usr/local/lib/python3.6/dist-packages/tensorflow/python/training/tracking/base.py\u001b[0m in \u001b[0;36m_method_wrapper\u001b[0;34m(self, *args, **kwargs)\u001b[0m\n\u001b[1;32m    456\u001b[0m     \u001b[0mself\u001b[0m\u001b[0;34m.\u001b[0m\u001b[0m_self_setattr_tracking\u001b[0m \u001b[0;34m=\u001b[0m \u001b[0;32mFalse\u001b[0m  \u001b[0;31m# pylint: disable=protected-access\u001b[0m\u001b[0;34m\u001b[0m\u001b[0;34m\u001b[0m\u001b[0m\n\u001b[1;32m    457\u001b[0m     \u001b[0;32mtry\u001b[0m\u001b[0;34m:\u001b[0m\u001b[0;34m\u001b[0m\u001b[0;34m\u001b[0m\u001b[0m\n\u001b[0;32m--> 458\u001b[0;31m       \u001b[0mresult\u001b[0m \u001b[0;34m=\u001b[0m \u001b[0mmethod\u001b[0m\u001b[0;34m(\u001b[0m\u001b[0mself\u001b[0m\u001b[0;34m,\u001b[0m \u001b[0;34m*\u001b[0m\u001b[0margs\u001b[0m\u001b[0;34m,\u001b[0m \u001b[0;34m**\u001b[0m\u001b[0mkwargs\u001b[0m\u001b[0;34m)\u001b[0m\u001b[0;34m\u001b[0m\u001b[0;34m\u001b[0m\u001b[0m\n\u001b[0m\u001b[1;32m    459\u001b[0m     \u001b[0;32mfinally\u001b[0m\u001b[0;34m:\u001b[0m\u001b[0;34m\u001b[0m\u001b[0;34m\u001b[0m\u001b[0m\n\u001b[1;32m    460\u001b[0m       \u001b[0mself\u001b[0m\u001b[0;34m.\u001b[0m\u001b[0m_self_setattr_tracking\u001b[0m \u001b[0;34m=\u001b[0m \u001b[0mprevious_value\u001b[0m  \u001b[0;31m# pylint: disable=protected-access\u001b[0m\u001b[0;34m\u001b[0m\u001b[0;34m\u001b[0m\u001b[0m\n",
            "\u001b[0;32m/usr/local/lib/python3.6/dist-packages/tensorflow/python/keras/engine/sequential.py\u001b[0m in \u001b[0;36m__init__\u001b[0;34m(self, layers, name)\u001b[0m\n\u001b[1;32m    109\u001b[0m       \u001b[0mtf_utils\u001b[0m\u001b[0;34m.\u001b[0m\u001b[0massert_no_legacy_layers\u001b[0m\u001b[0;34m(\u001b[0m\u001b[0mlayers\u001b[0m\u001b[0;34m)\u001b[0m\u001b[0;34m\u001b[0m\u001b[0;34m\u001b[0m\u001b[0m\n\u001b[1;32m    110\u001b[0m       \u001b[0;32mfor\u001b[0m \u001b[0mlayer\u001b[0m \u001b[0;32min\u001b[0m \u001b[0mlayers\u001b[0m\u001b[0;34m:\u001b[0m\u001b[0;34m\u001b[0m\u001b[0;34m\u001b[0m\u001b[0m\n\u001b[0;32m--> 111\u001b[0;31m         \u001b[0mself\u001b[0m\u001b[0;34m.\u001b[0m\u001b[0madd\u001b[0m\u001b[0;34m(\u001b[0m\u001b[0mlayer\u001b[0m\u001b[0;34m)\u001b[0m\u001b[0;34m\u001b[0m\u001b[0;34m\u001b[0m\u001b[0m\n\u001b[0m\u001b[1;32m    112\u001b[0m \u001b[0;34m\u001b[0m\u001b[0m\n\u001b[1;32m    113\u001b[0m   \u001b[0;34m@\u001b[0m\u001b[0mproperty\u001b[0m\u001b[0;34m\u001b[0m\u001b[0;34m\u001b[0m\u001b[0m\n",
            "\u001b[0;32m/usr/local/lib/python3.6/dist-packages/tensorflow/python/training/tracking/base.py\u001b[0m in \u001b[0;36m_method_wrapper\u001b[0;34m(self, *args, **kwargs)\u001b[0m\n\u001b[1;32m    456\u001b[0m     \u001b[0mself\u001b[0m\u001b[0;34m.\u001b[0m\u001b[0m_self_setattr_tracking\u001b[0m \u001b[0;34m=\u001b[0m \u001b[0;32mFalse\u001b[0m  \u001b[0;31m# pylint: disable=protected-access\u001b[0m\u001b[0;34m\u001b[0m\u001b[0;34m\u001b[0m\u001b[0m\n\u001b[1;32m    457\u001b[0m     \u001b[0;32mtry\u001b[0m\u001b[0;34m:\u001b[0m\u001b[0;34m\u001b[0m\u001b[0;34m\u001b[0m\u001b[0m\n\u001b[0;32m--> 458\u001b[0;31m       \u001b[0mresult\u001b[0m \u001b[0;34m=\u001b[0m \u001b[0mmethod\u001b[0m\u001b[0;34m(\u001b[0m\u001b[0mself\u001b[0m\u001b[0;34m,\u001b[0m \u001b[0;34m*\u001b[0m\u001b[0margs\u001b[0m\u001b[0;34m,\u001b[0m \u001b[0;34m**\u001b[0m\u001b[0mkwargs\u001b[0m\u001b[0;34m)\u001b[0m\u001b[0;34m\u001b[0m\u001b[0;34m\u001b[0m\u001b[0m\n\u001b[0m\u001b[1;32m    459\u001b[0m     \u001b[0;32mfinally\u001b[0m\u001b[0;34m:\u001b[0m\u001b[0;34m\u001b[0m\u001b[0;34m\u001b[0m\u001b[0m\n\u001b[1;32m    460\u001b[0m       \u001b[0mself\u001b[0m\u001b[0;34m.\u001b[0m\u001b[0m_self_setattr_tracking\u001b[0m \u001b[0;34m=\u001b[0m \u001b[0mprevious_value\u001b[0m  \u001b[0;31m# pylint: disable=protected-access\u001b[0m\u001b[0;34m\u001b[0m\u001b[0;34m\u001b[0m\u001b[0m\n",
            "\u001b[0;32m/usr/local/lib/python3.6/dist-packages/tensorflow/python/keras/engine/sequential.py\u001b[0m in \u001b[0;36madd\u001b[0;34m(self, layer)\u001b[0m\n\u001b[1;32m    191\u001b[0m       \u001b[0;31m# If the model is being built continuously on top of an input layer:\u001b[0m\u001b[0;34m\u001b[0m\u001b[0;34m\u001b[0m\u001b[0;34m\u001b[0m\u001b[0m\n\u001b[1;32m    192\u001b[0m       \u001b[0;31m# refresh its output.\u001b[0m\u001b[0;34m\u001b[0m\u001b[0;34m\u001b[0m\u001b[0;34m\u001b[0m\u001b[0m\n\u001b[0;32m--> 193\u001b[0;31m       \u001b[0moutput_tensor\u001b[0m \u001b[0;34m=\u001b[0m \u001b[0mlayer\u001b[0m\u001b[0;34m(\u001b[0m\u001b[0mself\u001b[0m\u001b[0;34m.\u001b[0m\u001b[0moutputs\u001b[0m\u001b[0;34m[\u001b[0m\u001b[0;36m0\u001b[0m\u001b[0;34m]\u001b[0m\u001b[0;34m)\u001b[0m\u001b[0;34m\u001b[0m\u001b[0;34m\u001b[0m\u001b[0m\n\u001b[0m\u001b[1;32m    194\u001b[0m       \u001b[0;32mif\u001b[0m \u001b[0mlen\u001b[0m\u001b[0;34m(\u001b[0m\u001b[0mnest\u001b[0m\u001b[0;34m.\u001b[0m\u001b[0mflatten\u001b[0m\u001b[0;34m(\u001b[0m\u001b[0moutput_tensor\u001b[0m\u001b[0;34m)\u001b[0m\u001b[0;34m)\u001b[0m \u001b[0;34m!=\u001b[0m \u001b[0;36m1\u001b[0m\u001b[0;34m:\u001b[0m\u001b[0;34m\u001b[0m\u001b[0;34m\u001b[0m\u001b[0m\n\u001b[1;32m    195\u001b[0m         raise TypeError('All layers in a Sequential model '\n",
            "\u001b[0;32m/usr/local/lib/python3.6/dist-packages/tensorflow/python/keras/engine/base_layer.py\u001b[0m in \u001b[0;36m__call__\u001b[0;34m(self, inputs, *args, **kwargs)\u001b[0m\n\u001b[1;32m    609\u001b[0m         \u001b[0;31m# the corresponding TF subgraph inside `backend.get_graph()`\u001b[0m\u001b[0;34m\u001b[0m\u001b[0;34m\u001b[0m\u001b[0;34m\u001b[0m\u001b[0m\n\u001b[1;32m    610\u001b[0m         input_spec.assert_input_compatibility(self.input_spec, inputs,\n\u001b[0;32m--> 611\u001b[0;31m                                               self.name)\n\u001b[0m\u001b[1;32m    612\u001b[0m         \u001b[0mgraph\u001b[0m \u001b[0;34m=\u001b[0m \u001b[0mbackend\u001b[0m\u001b[0;34m.\u001b[0m\u001b[0mget_graph\u001b[0m\u001b[0;34m(\u001b[0m\u001b[0;34m)\u001b[0m\u001b[0;34m\u001b[0m\u001b[0;34m\u001b[0m\u001b[0m\n\u001b[1;32m    613\u001b[0m         \u001b[0;32mwith\u001b[0m \u001b[0mgraph\u001b[0m\u001b[0;34m.\u001b[0m\u001b[0mas_default\u001b[0m\u001b[0;34m(\u001b[0m\u001b[0;34m)\u001b[0m\u001b[0;34m,\u001b[0m \u001b[0mbackend\u001b[0m\u001b[0;34m.\u001b[0m\u001b[0mname_scope\u001b[0m\u001b[0;34m(\u001b[0m\u001b[0mself\u001b[0m\u001b[0;34m.\u001b[0m\u001b[0m_name_scope\u001b[0m\u001b[0;34m(\u001b[0m\u001b[0;34m)\u001b[0m\u001b[0;34m)\u001b[0m\u001b[0;34m:\u001b[0m\u001b[0;34m\u001b[0m\u001b[0;34m\u001b[0m\u001b[0m\n",
            "\u001b[0;32m/usr/local/lib/python3.6/dist-packages/tensorflow/python/keras/engine/input_spec.py\u001b[0m in \u001b[0;36massert_input_compatibility\u001b[0;34m(input_spec, inputs, layer_name)\u001b[0m\n\u001b[1;32m    173\u001b[0m                          \u001b[0;34m'expected ndim='\u001b[0m \u001b[0;34m+\u001b[0m \u001b[0mstr\u001b[0m\u001b[0;34m(\u001b[0m\u001b[0mspec\u001b[0m\u001b[0;34m.\u001b[0m\u001b[0mndim\u001b[0m\u001b[0;34m)\u001b[0m \u001b[0;34m+\u001b[0m \u001b[0;34m', found ndim='\u001b[0m \u001b[0;34m+\u001b[0m\u001b[0;34m\u001b[0m\u001b[0;34m\u001b[0m\u001b[0m\n\u001b[1;32m    174\u001b[0m                          \u001b[0mstr\u001b[0m\u001b[0;34m(\u001b[0m\u001b[0mndim\u001b[0m\u001b[0;34m)\u001b[0m \u001b[0;34m+\u001b[0m \u001b[0;34m'. Full shape received: '\u001b[0m \u001b[0;34m+\u001b[0m\u001b[0;34m\u001b[0m\u001b[0;34m\u001b[0m\u001b[0m\n\u001b[0;32m--> 175\u001b[0;31m                          str(x.shape.as_list()))\n\u001b[0m\u001b[1;32m    176\u001b[0m     \u001b[0;32mif\u001b[0m \u001b[0mspec\u001b[0m\u001b[0;34m.\u001b[0m\u001b[0mmax_ndim\u001b[0m \u001b[0;32mis\u001b[0m \u001b[0;32mnot\u001b[0m \u001b[0;32mNone\u001b[0m\u001b[0;34m:\u001b[0m\u001b[0;34m\u001b[0m\u001b[0;34m\u001b[0m\u001b[0m\n\u001b[1;32m    177\u001b[0m       \u001b[0mndim\u001b[0m \u001b[0;34m=\u001b[0m \u001b[0mx\u001b[0m\u001b[0;34m.\u001b[0m\u001b[0mshape\u001b[0m\u001b[0;34m.\u001b[0m\u001b[0mndims\u001b[0m\u001b[0;34m\u001b[0m\u001b[0;34m\u001b[0m\u001b[0m\n",
            "\u001b[0;31mValueError\u001b[0m: Input 0 of layer conv1d_2 is incompatible with the layer: expected ndim=3, found ndim=2. Full shape received: [None, 50]"
          ]
        }
      ]
    },
    {
      "cell_type": "code",
      "metadata": {
        "id": "__4y62KqEl4J",
        "colab_type": "code",
        "colab": {}
      },
      "source": [
        ""
      ],
      "execution_count": 0,
      "outputs": []
    }
  ]
}