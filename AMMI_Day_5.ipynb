{
  "nbformat": 4,
  "nbformat_minor": 0,
  "metadata": {
    "colab": {
      "name": "AMMI_Day_5.ipynb",
      "provenance": [],
      "collapsed_sections": []
    },
    "kernelspec": {
      "name": "python3",
      "display_name": "Python 3"
    }
  },
  "cells": [
    {
      "cell_type": "markdown",
      "metadata": {
        "id": "z0OS8yDV7Zvp",
        "colab_type": "text"
      },
      "source": [
        "# AMMI Day 5"
      ]
    },
    {
      "cell_type": "markdown",
      "metadata": {
        "id": "264RJj2_7cU4",
        "colab_type": "text"
      },
      "source": [
        "## Morning Session\n",
        "### Bias, Variance, Regularization"
      ]
    },
    {
      "cell_type": "code",
      "metadata": {
        "id": "Y5ijLhr1YrJq",
        "colab_type": "code",
        "colab": {}
      },
      "source": [
        "import pandas as pd\n",
        "import numpy as np\n",
        "import math\n",
        "\n",
        "from scipy import stats\n",
        "\n",
        "import matplotlib.pyplot as plt\n",
        "import seaborn as sns\n",
        "\n",
        "%matplotlib inline\n",
        "\n",
        "# model selection\n",
        "from sklearn.model_selection import train_test_split\n",
        "from sklearn.model_selection import GridSearchCV\n",
        "\n",
        "# feature selection\n",
        "from sklearn.feature_selection import RFECV\n",
        "\n",
        "# pipeline\n",
        "from sklearn.pipeline import Pipeline\n",
        "\n",
        "# preprocessing\n",
        "from sklearn.preprocessing import MinMaxScaler\n",
        "from sklearn.preprocessing import StandardScaler\n",
        "from sklearn.preprocessing import PolynomialFeatures\n",
        "\n",
        "# metrics\n",
        "from sklearn.metrics import mean_squared_error\n",
        "from sklearn.metrics import accuracy_score\n",
        "\n",
        "# LinearRegression\n",
        "from sklearn.linear_model import LinearRegression\n",
        "from sklearn.linear_model import Ridge\n",
        "from sklearn.linear_model import Lasso\n",
        "\n",
        "# Neighbors\n",
        "from sklearn.neighbors import KNeighborsRegressor\n",
        "\n",
        "# Clustering\n",
        "from sklearn.cluster import KMeans\n",
        "from scipy.cluster.hierarchy import linkage, dendrogram, fcluster\n",
        "\n",
        "# t-SNE\n",
        "from sklearn.manifold import TSNE\n",
        "\n",
        "# PCA\n",
        "from sklearn.decomposition import PCA"
      ],
      "execution_count": 0,
      "outputs": []
    },
    {
      "cell_type": "code",
      "metadata": {
        "id": "WXgoJX_zZsUo",
        "colab_type": "code",
        "outputId": "e35237c1-d214-4081-9aa0-07e026a97084",
        "colab": {
          "base_uri": "https://localhost:8080/",
          "height": 54
        }
      },
      "source": [
        "from google.colab import drive\n",
        "drive.mount('/content/gdrive')"
      ],
      "execution_count": 0,
      "outputs": [
        {
          "output_type": "stream",
          "text": [
            "Drive already mounted at /content/gdrive; to attempt to forcibly remount, call drive.mount(\"/content/gdrive\", force_remount=True).\n"
          ],
          "name": "stdout"
        }
      ]
    },
    {
      "cell_type": "code",
      "metadata": {
        "id": "m9fJglm_Z-Xz",
        "colab_type": "code",
        "colab": {}
      },
      "source": [
        "train_df = pd.read_csv('/content/gdrive/My Drive/boston/train.csv', index_col='ID')\n",
        "test_df = pd.read_csv('/content/gdrive/My Drive/boston/test.csv', index_col='ID')"
      ],
      "execution_count": 0,
      "outputs": []
    },
    {
      "cell_type": "markdown",
      "metadata": {
        "id": "uoK1nJP3buEa",
        "colab_type": "text"
      },
      "source": [
        "Let's over-engineer a Linear Regression Model"
      ]
    },
    {
      "cell_type": "code",
      "metadata": {
        "id": "I20JaX2QbhRN",
        "colab_type": "code",
        "outputId": "88509495-1083-443f-8332-544b5dcc6bec",
        "colab": {
          "base_uri": "https://localhost:8080/",
          "height": 51
        }
      },
      "source": [
        "predictors = train_df[['nox', 'rm', 'chas', 'dis', 'ptratio', 'lstat', 'rad']]\n",
        "target = train_df['medv']\n",
        "steps = [\n",
        "    ('scaler', MinMaxScaler()),\n",
        "    ('poly', PolynomialFeatures(3))\n",
        "]\n",
        "X_train, X_test, y_train, y_test = train_test_split(predictors, target, test_size=0.3, random_state=40)\n",
        "columns = predictors.columns\n",
        "pipe = Pipeline(steps)\n",
        "pipe.fit(X_train, y_train)\n",
        "lr = LinearRegression()\n",
        "lr.fit(pipe.transform(X_train), y_train)\n",
        "print('Score: {}'.format(lr.score(pipe.transform(X_test), y_test)))\n",
        "print('MSE: {}'.format(mean_squared_error(y_test, lr.predict(pipe.transform(X_test)))))"
      ],
      "execution_count": 0,
      "outputs": [
        {
          "output_type": "stream",
          "text": [
            "Score: -0.028930654560475055\n",
            "MSE: 79.13575117043798\n"
          ],
          "name": "stdout"
        }
      ]
    },
    {
      "cell_type": "markdown",
      "metadata": {
        "id": "W8qS5NeeeDQS",
        "colab_type": "text"
      },
      "source": [
        "### Our loss was reducing, and our model quality was improving, so what went wrong?\n",
        "\n",
        "Let's create two models and compare the magnitude of coefficients"
      ]
    },
    {
      "cell_type": "code",
      "metadata": {
        "id": "tlHwgkZvKzbP",
        "colab_type": "code",
        "outputId": "58f43f09-efa6-4b91-c5f8-2e21f8d9312e",
        "colab": {
          "base_uri": "https://localhost:8080/",
          "height": 86
        }
      },
      "source": [
        "s1 = [\n",
        "    ('scaler', MinMaxScaler())\n",
        "]\n",
        "p = Pipeline(s1)\n",
        "p.fit(X_train, y_train)\n",
        "lr_linear = LinearRegression()\n",
        "lr_linear.fit(p.transform(X_train), y_train)\n",
        "print('Score: {}'.format(lr_linear.score(p.transform(X_test), y_test)))\n",
        "print('MSE: {}'.format(mean_squared_error(y_test, lr_linear.predict(p.transform(X_test)))))\n",
        "print(lr_linear.coef_)"
      ],
      "execution_count": 0,
      "outputs": [
        {
          "output_type": "stream",
          "text": [
            "Score: 0.6669016946829257\n",
            "MSE: 25.61881550329229\n",
            "[-11.55418765  21.13480639   3.24401229 -12.83713063  -8.46146441\n",
            " -19.45745781   2.49653134]\n"
          ],
          "name": "stdout"
        }
      ]
    },
    {
      "cell_type": "code",
      "metadata": {
        "id": "yLPFFWNhfweT",
        "colab_type": "code",
        "outputId": "a2935aa9-2675-4843-efad-445933b7e189",
        "colab": {
          "base_uri": "https://localhost:8080/",
          "height": 206
        }
      },
      "source": [
        "s2 = [\n",
        "    ('scaler', MinMaxScaler()),\n",
        "    ('poly', PolynomialFeatures(2))\n",
        "]\n",
        "p_2 = Pipeline(s2)\n",
        "p_2.fit(X_train, y_train)\n",
        "lr_quad = LinearRegression()\n",
        "lr_quad.fit(p_2.transform(X_train), y_train)\n",
        "print('Score: {}'.format(lr_quad.score(p_2.transform(X_test), y_test)))\n",
        "print('MSE: {}'.format(mean_squared_error(y_test, lr_quad.predict(p_2.transform(X_test)))))\n",
        "print(lr_quad.coef_)"
      ],
      "execution_count": 0,
      "outputs": [
        {
          "output_type": "stream",
          "text": [
            "Score: 0.7916122605636297\n",
            "MSE: 16.027241701775367\n",
            "[ 9.39383793e-12 -1.83073187e+01  1.17451512e+01 -1.53436999e+00\n",
            " -5.06272783e+01  1.90804330e+00 -3.91666061e+01  2.27296825e+01\n",
            "  2.90240854e+00  3.89982270e+00 -3.08711196e+00  1.48457410e+00\n",
            "  2.48816332e+00  5.02068601e+00 -1.73778407e+00  2.20144376e+01\n",
            " -6.87448266e-01  2.13829575e+01 -1.95852071e+01 -1.46458397e+01\n",
            " -1.35730814e+01 -1.53436999e+00  1.03922323e+01 -2.52208876e-01\n",
            "  9.51669952e+00  4.92584945e+00  1.99513584e+01  1.18277071e+01\n",
            "  4.70383707e+01 -2.87877274e+01 -7.62208542e-01 -4.36099692e+00\n",
            "  9.16827888e+00  3.94543022e+01 -3.79186155e+01 -2.90605465e+00]\n"
          ],
          "name": "stdout"
        }
      ]
    },
    {
      "cell_type": "markdown",
      "metadata": {
        "id": "PBhspnP6nQFV",
        "colab_type": "text"
      },
      "source": [
        "* Let's look at the coefficients of our cubic equation"
      ]
    },
    {
      "cell_type": "code",
      "metadata": {
        "id": "zM575vEbnUVo",
        "colab_type": "code",
        "outputId": "5ceffcf9-d7a9-446b-e4b7-13ffbdb1095f",
        "colab": {
          "base_uri": "https://localhost:8080/",
          "height": 531
        }
      },
      "source": [
        "print(lr.coef_)"
      ],
      "execution_count": 0,
      "outputs": [
        {
          "output_type": "stream",
          "text": [
            "[ 4.77784883e-10 -3.66909847e+02  2.28295889e+02  3.92195136e+00\n",
            " -3.57276990e+02 -9.15272735e+01  2.99157379e+02  8.62142575e+01\n",
            "  7.75126684e+01  4.46083246e+02 -9.26511068e+00  5.26499727e+02\n",
            "  2.55771160e+02 -3.62181247e+00  3.96989706e+02 -3.28873706e+02\n",
            " -3.95212670e+00  2.80582491e+02 -1.24547139e+02 -8.06305567e+02\n",
            " -2.06818852e+02  3.92195136e+00  4.35996484e+00 -5.47704441e+00\n",
            " -6.41055769e+00 -1.95480607e+01  3.77425871e+02  9.23231271e+01\n",
            "  1.50051360e+02  9.98394561e+01  1.98893101e+02 -3.54094345e+02\n",
            " -4.95656211e+01  1.90766684e+01 -3.02206780e+02 -1.30601883e+02\n",
            "  1.24567727e+01 -9.57239846e+01 -2.26245418e+01 -1.07737850e+02\n",
            " -1.41349529e+02  2.29299462e+02  1.77563354e+01 -6.64778553e+01\n",
            "  3.04944425e+01 -6.96566617e+02 -4.34665093e+01 -2.08874430e+02\n",
            " -1.28296637e+02 -9.26511068e+00  1.35254434e+01  2.99627119e+01\n",
            "  2.08058612e+01  5.44941667e+01 -7.22971594e+01 -8.99438188e+01\n",
            "  1.63595099e+02  6.38764848e+01 -3.60933245e+01  3.31197026e+02\n",
            " -8.00426838e+02 -3.58039146e+02 -1.70533738e+02  3.64056784e+02\n",
            "  1.42164797e+02 -1.68328823e+01  5.76488607e+01  1.21568487e+02\n",
            "  4.45086146e+02 -1.27363434e+02 -3.95212670e+00 -9.91970562e+00\n",
            "  5.43208394e+00 -7.79089150e+00  3.99315130e+01 -2.98109745e+02\n",
            " -4.76994980e+01  1.80750921e+02  1.00558222e+02 -1.09173435e+02\n",
            "  2.01119196e+02  5.47153420e+02  3.69885640e+02  6.05631537e+01\n",
            " -1.35509464e+02  3.92195136e+00  4.35996484e+00 -5.47704441e+00\n",
            " -6.41055769e+00 -1.95480607e+01 -1.15593933e+01  3.64941116e+01\n",
            " -5.29797357e+00  4.01169751e+01 -6.11267482e+00  3.29880721e+00\n",
            " -1.81864624e+01  2.06541109e+01  9.41923036e+00 -1.80622093e+01\n",
            " -1.79078622e+02  1.73924126e+02 -3.18890902e+02  1.39346712e+02\n",
            " -5.88624974e+01  2.71815648e+02 -8.46548635e+02 -4.15012667e+02\n",
            "  1.99723272e+02  4.14057486e+02 -7.18358458e+01  1.68192079e+01\n",
            "  1.06244374e+02 -1.81065834e+01  2.30469749e+02  9.29362888e+01\n",
            "  3.59102617e+01  1.49771359e+02 -2.06027182e+01 -6.76852471e+01]\n"
          ],
          "name": "stdout"
        }
      ]
    },
    {
      "cell_type": "markdown",
      "metadata": {
        "id": "QR5dQVUxnW96",
        "colab_type": "text"
      },
      "source": [
        "* We know that `lr_quad` is more complex than `lr_linear`\n",
        "* A more complex model is said to have high variance\n",
        "* A less complex model is said to high bias\n",
        "* The longer you train a model, the lower the bias and the higher the variance\n",
        "* What do we notice?\n",
        "* What can we do about our model?"
      ]
    },
    {
      "cell_type": "markdown",
      "metadata": {
        "id": "pB86B23CqkA8",
        "colab_type": "text"
      },
      "source": [
        "1. Get more data to increase model complexity during training\n",
        "2. Use n-fold cross-validation\n",
        "3. Simplify our model (Regularization) by reducing the variance"
      ]
    },
    {
      "cell_type": "markdown",
      "metadata": {
        "id": "4fSo8-WhsAMO",
        "colab_type": "text"
      },
      "source": [
        "### What is regularization?\n",
        "* Introducing a penalty to the cost function\n",
        "* Use Feature Elimination"
      ]
    },
    {
      "cell_type": "markdown",
      "metadata": {
        "id": "LNiQkyOcrOfi",
        "colab_type": "text"
      },
      "source": [
        "### L1 Regularization - Lasso Regression\n",
        "* Sets the coefficient of certain features to zero\n",
        "* Acts as a feature selection mechanism\n",
        "* Add a penalty based on size of coefficients (weights)\n",
        "* Sum of absolutes - L1 Norm $\\sum\\limits_{j=1}^{n}{\\left|w_{j}\\right| } $\n",
        "* Add a regularization term - $\\lambda$\n",
        "* High $\\lambda$ is high bias, low variance\n",
        "* Low $\\lambda$ is low bias, high variance"
      ]
    },
    {
      "cell_type": "code",
      "metadata": {
        "id": "Guat7w1xOtpZ",
        "colab_type": "code",
        "outputId": "e40f6410-cb22-4dd7-9248-7e6f3725ad04",
        "colab": {
          "base_uri": "https://localhost:8080/",
          "height": 414
        }
      },
      "source": [
        "from sklearn.linear_model import Lasso\n",
        "\n",
        "l_1 = Lasso(alpha = 0.9)\n",
        "l_1.fit(pipe.transform(X_train), y_train)\n",
        "print('Score: {}'.format(l_1.score(pipe.transform(X_test), y_test)))\n",
        "print('MSE: {}'.format(mean_squared_error(y_test, l_1.predict(pipe.transform(X_test)))))\n",
        "print(l_1.coef_)"
      ],
      "execution_count": 0,
      "outputs": [
        {
          "output_type": "stream",
          "text": [
            "Score: 0.38238347735192224\n",
            "MSE: 47.50130364801645\n",
            "[ 0.         -0.          0.          0.          0.         -0.\n",
            " -6.03320734 -0.         -0.         -0.          0.         -0.\n",
            " -0.         -0.         -0.          6.93903733  0.          0.\n",
            " -0.         -0.         -0.          0.          0.          0.\n",
            " -0.          0.          0.         -0.         -0.         -0.\n",
            " -0.         -0.         -0.         -0.         -0.         -0.\n",
            " -0.         -0.         -0.         -0.         -0.         -0.\n",
            " -0.          0.          0.          0.         -0.         -0.\n",
            " -0.          0.          0.          0.         -0.          0.\n",
            " -0.         -0.         -0.         -0.         -0.         -0.\n",
            " -0.         -0.         -0.         -0.          0.          0.\n",
            "  0.          0.         -0.          0.          0.          0.\n",
            "  0.          0.          0.          0.          0.         -0.\n",
            "  0.         -0.         -0.         -0.         -0.         -0.\n",
            " -0.          0.          0.          0.         -0.          0.\n",
            "  0.          0.          0.          0.          0.          0.\n",
            "  0.         -0.         -0.          0.          0.          0.\n",
            " -0.          0.         -0.         -0.         -0.         -0.\n",
            " -0.         -0.         -1.34865927 -0.         -0.         -0.\n",
            " -0.         -0.         -0.         -0.         -0.         -0.80193974]\n"
          ],
          "name": "stdout"
        }
      ]
    },
    {
      "cell_type": "code",
      "metadata": {
        "id": "xqqwtuBkPSMh",
        "colab_type": "code",
        "outputId": "49c5f546-0d1d-4c6b-e338-d2c544526922",
        "colab": {
          "base_uri": "https://localhost:8080/",
          "height": 566
        }
      },
      "source": [
        "l_2 = Lasso(alpha = 0.1)\n",
        "l_2.fit(pipe.transform(X_train), y_train)\n",
        "print('Score: {}'.format(l_2.score(pipe.transform(X_test), y_test)))\n",
        "print('MSE: {}'.format(mean_squared_error(y_test, l_2.predict(pipe.transform(X_test)))))\n",
        "print(l_2.coef_)"
      ],
      "execution_count": 0,
      "outputs": [
        {
          "output_type": "stream",
          "text": [
            "Score: 0.744984962825642\n",
            "MSE: 19.613378644229975\n",
            "[ 0.00000000e+00 -0.00000000e+00  0.00000000e+00  2.15990160e-15\n",
            " -1.13770924e+00 -1.77354639e+00 -1.81950740e+01  0.00000000e+00\n",
            " -1.21529197e+00 -0.00000000e+00  0.00000000e+00 -0.00000000e+00\n",
            " -0.00000000e+00 -0.00000000e+00 -0.00000000e+00  0.00000000e+00\n",
            "  0.00000000e+00 -0.00000000e+00 -0.00000000e+00 -0.00000000e+00\n",
            " -0.00000000e+00  8.38516402e-01  0.00000000e+00  0.00000000e+00\n",
            "  0.00000000e+00  0.00000000e+00 -0.00000000e+00 -0.00000000e+00\n",
            " -0.00000000e+00 -0.00000000e+00 -0.00000000e+00 -0.00000000e+00\n",
            " -0.00000000e+00  0.00000000e+00 -1.75239960e+00  0.00000000e+00\n",
            " -0.00000000e+00 -0.00000000e+00  0.00000000e+00 -0.00000000e+00\n",
            " -0.00000000e+00 -0.00000000e+00 -0.00000000e+00 -0.00000000e+00\n",
            "  0.00000000e+00 -0.00000000e+00 -0.00000000e+00 -0.00000000e+00\n",
            " -0.00000000e+00  0.00000000e+00  0.00000000e+00  0.00000000e+00\n",
            " -0.00000000e+00  0.00000000e+00 -0.00000000e+00 -0.00000000e+00\n",
            " -0.00000000e+00 -0.00000000e+00 -0.00000000e+00 -0.00000000e+00\n",
            " -0.00000000e+00 -0.00000000e+00 -0.00000000e+00 -0.00000000e+00\n",
            "  2.46492682e+01  0.00000000e+00  0.00000000e+00 -0.00000000e+00\n",
            " -0.00000000e+00 -0.00000000e+00  0.00000000e+00  0.00000000e+00\n",
            "  0.00000000e+00  0.00000000e+00  0.00000000e+00 -0.00000000e+00\n",
            " -0.00000000e+00 -0.00000000e+00 -0.00000000e+00 -3.77604988e+00\n",
            " -0.00000000e+00 -0.00000000e+00 -0.00000000e+00 -0.00000000e+00\n",
            " -0.00000000e+00  6.61180984e-02  0.00000000e+00  0.00000000e+00\n",
            "  0.00000000e+00  0.00000000e+00  0.00000000e+00  0.00000000e+00\n",
            "  0.00000000e+00  0.00000000e+00  0.00000000e+00  0.00000000e+00\n",
            "  0.00000000e+00 -0.00000000e+00  0.00000000e+00  0.00000000e+00\n",
            " -0.00000000e+00 -0.00000000e+00 -0.00000000e+00 -0.00000000e+00\n",
            " -0.00000000e+00 -0.00000000e+00 -0.00000000e+00 -0.00000000e+00\n",
            " -0.00000000e+00 -0.00000000e+00 -0.00000000e+00 -0.00000000e+00\n",
            " -0.00000000e+00  0.00000000e+00 -0.00000000e+00  0.00000000e+00\n",
            "  0.00000000e+00 -0.00000000e+00 -0.00000000e+00  0.00000000e+00]\n"
          ],
          "name": "stdout"
        }
      ]
    },
    {
      "cell_type": "markdown",
      "metadata": {
        "id": "MgZFRtgErhqU",
        "colab_type": "text"
      },
      "source": [
        "### L2 Regularization - Ridge Regression - Tikhonov Regularization\n",
        "* Forces the magnitude of coefficients close to zero\n",
        "* Add a penalty based on size of coefficients (weights)\n",
        "* Sum of squares - L2 Norm $\\sum\\limits_{j=1}^{n}{w_{j}^2} $\n",
        "* Add a regularization term - $\\lambda$\n",
        "* High $\\lambda$ is high bias, low variance\n",
        "* Low $\\lambda$ is low bias, high variance"
      ]
    },
    {
      "cell_type": "code",
      "metadata": {
        "id": "L6apx9b6H5rT",
        "colab_type": "code",
        "outputId": "5a2303f2-1608-47de-b79c-14b8765f2e71",
        "colab": {
          "base_uri": "https://localhost:8080/",
          "height": 566
        }
      },
      "source": [
        "from sklearn.linear_model import Ridge\n",
        "\n",
        "r_1 = Ridge(alpha = 0.9)\n",
        "r_1.fit(pipe.transform(X_train), y_train)\n",
        "print('Score: {}'.format(r_1.score(pipe.transform(X_test), y_test)))\n",
        "print('MSE: {}'.format(mean_squared_error(y_test, r_1.predict(pipe.transform(X_test)))))\n",
        "print(r_1.coef_)"
      ],
      "execution_count": 0,
      "outputs": [
        {
          "output_type": "stream",
          "text": [
            "Score: 0.829556195095051\n",
            "MSE: 13.108948084807944\n",
            "[ 0.00000000e+00 -1.23882360e+00  6.16950946e+00  3.98528623e-01\n",
            " -5.70677622e+00 -1.12725390e+00 -7.56979284e+00  3.15748981e+00\n",
            " -1.15514341e+00 -4.54744391e-01 -8.68895657e-01 -2.98225442e+00\n",
            " -1.76191901e+00 -3.47870647e+00  1.15335226e+00  1.13203534e+01\n",
            "  5.52361555e-02  2.32595476e-01 -2.75560845e+00 -6.01027139e+00\n",
            " -1.71120122e+00  3.98528623e-01  2.17345060e-01  1.87065824e-01\n",
            "  3.06899402e-02  9.26305778e-01 -2.21573704e-01 -2.33698107e+00\n",
            " -2.00784926e+00 -3.53754296e+00  6.76171669e-01 -3.50403322e+00\n",
            "  2.47785220e+00  2.86864260e+00 -6.92934494e+00  2.54006608e+00\n",
            " -1.17872148e+00 -8.04031060e-01 -5.13013462e-01 -1.39396170e+00\n",
            " -1.51599515e+00 -1.31969103e+00 -4.42708100e-01  1.45001597e+00\n",
            " -7.16475350e-01 -1.23901383e+00 -2.77482466e+00 -2.85097519e+00\n",
            " -1.18067298e+00 -8.68895657e-01 -5.18282742e-01 -1.60826946e-01\n",
            " -5.88913755e-02 -4.46203100e-02 -5.47355094e-01 -2.15401716e+00\n",
            " -8.45569319e-01 -1.70157016e+00 -9.56473223e-01 -2.69017320e+00\n",
            "  8.60687182e-01  1.06978711e+00 -3.56483261e+00  1.21858700e+00\n",
            "  1.26325049e+01 -2.11170525e-02  2.58406744e+00 -1.88021608e-01\n",
            " -3.22321684e+00 -7.81321524e-01  5.52361555e-02  2.16426688e-01\n",
            " -1.85583566e-01 -3.17678383e-01  9.68465708e-01  1.52548477e+00\n",
            " -6.92488095e-02 -1.10346937e+00 -1.46783645e+00 -3.37506525e+00\n",
            " -3.58448258e+00 -2.72072696e+00 -1.33642410e+00 -4.45755124e+00\n",
            " -3.35817132e+00  3.98528623e-01  2.17345060e-01  1.87065824e-01\n",
            "  3.06899402e-02  9.26305778e-01  4.60879570e-01 -6.68412726e-01\n",
            "  2.48318460e-03 -6.17534973e-01  6.91849650e-01 -2.82670259e-01\n",
            "  1.33541625e+00  4.05177723e-01 -6.69233271e-01  1.73381446e+00\n",
            "  8.40511257e-01  1.95948729e+00 -4.09754461e-01 -4.95333737e-02\n",
            " -9.41177231e-01 -2.24804960e-01 -2.89176155e+00  1.34553624e-01\n",
            " -1.14577802e+00 -3.84173411e+00  1.13657404e+00 -2.44534189e+00\n",
            "  2.59362983e+00  2.53318431e+00 -5.60255694e+00  2.27918462e+00\n",
            "  6.23564975e+00 -9.68060277e-01 -6.75158936e+00  2.50346195e+00]\n"
          ],
          "name": "stdout"
        }
      ]
    },
    {
      "cell_type": "code",
      "metadata": {
        "id": "wJkAXsxyJJdV",
        "colab_type": "code",
        "outputId": "25ab2c6c-6cb6-48f5-dc4b-b4a86f388030",
        "colab": {
          "base_uri": "https://localhost:8080/",
          "height": 566
        }
      },
      "source": [
        "\n",
        "r_2 = Ridge(alpha = 0.1)\n",
        "r_2.fit(pipe.transform(X_train), y_train)\n",
        "print('Score: {}'.format(r_2.score(pipe.transform(X_test), y_test)))\n",
        "print('MSE: {}'.format(mean_squared_error(y_test, r_2.predict(pipe.transform(X_test)))))\n",
        "print(r_2.coef_)"
      ],
      "execution_count": 0,
      "outputs": [
        {
          "output_type": "stream",
          "text": [
            "Score: 0.8309751293486335\n",
            "MSE: 12.99981689358429\n",
            "[ 0.00000000e+00 -3.00874786e+00  1.13041836e+01  5.76552188e-01\n",
            " -1.28952349e+01 -3.69396760e-01 -1.40590005e+01  6.91905042e+00\n",
            " -1.86054450e+00 -9.96790508e-01 -1.64384906e+00 -5.17314925e+00\n",
            " -1.65313546e+00 -6.05277129e+00  2.79153950e+00  1.53487022e+01\n",
            " -1.00612441e+00 -1.14460562e+00 -3.85133667e+00 -9.67965663e+00\n",
            " -1.92195947e+00  5.76552188e-01  1.70669096e+00  3.02256745e-01\n",
            "  1.75549039e+00 -1.88116705e-01  3.36396250e-01 -2.44565934e+00\n",
            "  2.39351816e+00 -5.89767619e+00  1.73358511e+00 -3.44344356e+00\n",
            "  4.46036892e+00  8.70008119e+00 -1.29755340e+01  1.69359842e+00\n",
            "  2.55106833e-01  7.00609933e-01  4.84634868e-01 -2.56716542e+00\n",
            " -3.86506665e+00  6.78008651e-01 -3.11770293e+00 -1.76443078e+00\n",
            " -5.88956308e-01 -3.95290350e+00 -3.59853475e-03 -2.22447080e+00\n",
            "  4.30184828e+00 -1.64384906e+00 -8.75316276e-01 -1.12217092e-01\n",
            " -6.20018227e-01 -5.87369540e-01  7.98891177e-01 -3.08983702e+00\n",
            "  1.88965698e+00 -2.31538962e+00  7.98545521e-01 -4.53708990e+00\n",
            "  2.50647045e+00  2.33937681e+00 -5.13996685e+00  2.63860627e+00\n",
            "  1.16499246e+01 -1.43752004e+00  2.91573685e+00 -5.49215135e+00\n",
            " -7.67041917e+00 -6.99991860e+00 -1.00612441e+00  5.10177739e-01\n",
            " -2.29512900e+00  4.03687115e-01  8.79597901e-01  5.18095832e+00\n",
            "  1.11206036e+00 -5.06863044e-01 -3.34218277e+00 -5.53116504e+00\n",
            "  2.33968814e+00 -3.25896409e+00  1.73839948e+00 -1.94749289e+00\n",
            " -5.00539243e+00  5.76552188e-01  1.70669096e+00  3.02256745e-01\n",
            "  1.75549039e+00 -1.88116705e-01  1.49584416e+00 -1.57272227e+00\n",
            "  9.49508195e-01 -2.05801207e+00  1.61447858e+00  1.36474669e+00\n",
            "  1.83735418e+00  4.91954509e-01 -1.01358004e+00  2.64615930e+00\n",
            " -1.15084052e+00  9.44338038e+00  3.48468479e-01  3.47737190e+00\n",
            " -6.80624216e-01  6.51472097e+00 -5.93944385e+00  5.15938653e+00\n",
            "  2.67141585e+00 -9.83623822e+00  8.27025775e-01 -5.62294991e+00\n",
            "  5.80744692e+00  4.91296141e+00 -1.00494424e+01  2.25229231e+00\n",
            "  1.10876597e+01  5.11415496e+00 -1.28904769e+01  2.51051826e+00]\n"
          ],
          "name": "stdout"
        }
      ]
    },
    {
      "cell_type": "markdown",
      "metadata": {
        "id": "RLCEZ8hu7rLr",
        "colab_type": "text"
      },
      "source": [
        "## Afternoon Session\n",
        "### Logistic Regression\n",
        "* Output a probability\n",
        "* Probabilities are mutually exclusive\n",
        "* Given two classes a, b $P(a) = 1 - P(b)$\n",
        "* Loss Function (Log Loss or Cross Entropy): $\\frac{1}{m} \\sum\\limits_{i=1}^{m}{-y.log(\\hat{y}) + (1-y).log(1-\\hat{y})}$\n",
        "### More Scikit-Learn"
      ]
    },
    {
      "cell_type": "code",
      "metadata": {
        "id": "o3-emoB57UWI",
        "colab_type": "code",
        "outputId": "01099ddd-8304-45f3-8ff7-980a01628856",
        "colab": {
          "base_uri": "https://localhost:8080/",
          "height": 188
        }
      },
      "source": [
        "import pandas as pd\n",
        "\n",
        "_headers = ['sepal_length', 'sepal_width', 'petal_length', 'petal_width', 'class']\n",
        "df = pd.read_csv('https://archive.ics.uci.edu/ml/machine-learning-databases/iris/iris.data', names=_headers)\n",
        "df.info()"
      ],
      "execution_count": 0,
      "outputs": [
        {
          "output_type": "stream",
          "text": [
            "<class 'pandas.core.frame.DataFrame'>\n",
            "RangeIndex: 150 entries, 0 to 149\n",
            "Data columns (total 5 columns):\n",
            "sepal_length    150 non-null float64\n",
            "sepal_width     150 non-null float64\n",
            "petal_length    150 non-null float64\n",
            "petal_width     150 non-null float64\n",
            "class           150 non-null object\n",
            "dtypes: float64(4), object(1)\n",
            "memory usage: 5.9+ KB\n"
          ],
          "name": "stdout"
        }
      ]
    },
    {
      "cell_type": "code",
      "metadata": {
        "id": "sOLReh6vLKH2",
        "colab_type": "code",
        "outputId": "d76de8f3-ce55-44c9-8cc3-75404a3e74bf",
        "colab": {
          "base_uri": "https://localhost:8080/",
          "height": 203
        }
      },
      "source": [
        "df.tail()"
      ],
      "execution_count": 0,
      "outputs": [
        {
          "output_type": "execute_result",
          "data": {
            "text/html": [
              "<div>\n",
              "<style scoped>\n",
              "    .dataframe tbody tr th:only-of-type {\n",
              "        vertical-align: middle;\n",
              "    }\n",
              "\n",
              "    .dataframe tbody tr th {\n",
              "        vertical-align: top;\n",
              "    }\n",
              "\n",
              "    .dataframe thead th {\n",
              "        text-align: right;\n",
              "    }\n",
              "</style>\n",
              "<table border=\"1\" class=\"dataframe\">\n",
              "  <thead>\n",
              "    <tr style=\"text-align: right;\">\n",
              "      <th></th>\n",
              "      <th>sepal_length</th>\n",
              "      <th>sepal_width</th>\n",
              "      <th>petal_length</th>\n",
              "      <th>petal_width</th>\n",
              "      <th>class</th>\n",
              "    </tr>\n",
              "  </thead>\n",
              "  <tbody>\n",
              "    <tr>\n",
              "      <th>145</th>\n",
              "      <td>6.7</td>\n",
              "      <td>3.0</td>\n",
              "      <td>5.2</td>\n",
              "      <td>2.3</td>\n",
              "      <td>Iris-virginica</td>\n",
              "    </tr>\n",
              "    <tr>\n",
              "      <th>146</th>\n",
              "      <td>6.3</td>\n",
              "      <td>2.5</td>\n",
              "      <td>5.0</td>\n",
              "      <td>1.9</td>\n",
              "      <td>Iris-virginica</td>\n",
              "    </tr>\n",
              "    <tr>\n",
              "      <th>147</th>\n",
              "      <td>6.5</td>\n",
              "      <td>3.0</td>\n",
              "      <td>5.2</td>\n",
              "      <td>2.0</td>\n",
              "      <td>Iris-virginica</td>\n",
              "    </tr>\n",
              "    <tr>\n",
              "      <th>148</th>\n",
              "      <td>6.2</td>\n",
              "      <td>3.4</td>\n",
              "      <td>5.4</td>\n",
              "      <td>2.3</td>\n",
              "      <td>Iris-virginica</td>\n",
              "    </tr>\n",
              "    <tr>\n",
              "      <th>149</th>\n",
              "      <td>5.9</td>\n",
              "      <td>3.0</td>\n",
              "      <td>5.1</td>\n",
              "      <td>1.8</td>\n",
              "      <td>Iris-virginica</td>\n",
              "    </tr>\n",
              "  </tbody>\n",
              "</table>\n",
              "</div>"
            ],
            "text/plain": [
              "     sepal_length  sepal_width  petal_length  petal_width           class\n",
              "145           6.7          3.0           5.2          2.3  Iris-virginica\n",
              "146           6.3          2.5           5.0          1.9  Iris-virginica\n",
              "147           6.5          3.0           5.2          2.0  Iris-virginica\n",
              "148           6.2          3.4           5.4          2.3  Iris-virginica\n",
              "149           5.9          3.0           5.1          1.8  Iris-virginica"
            ]
          },
          "metadata": {
            "tags": []
          },
          "execution_count": 9
        }
      ]
    },
    {
      "cell_type": "code",
      "metadata": {
        "id": "C7YsBMZ7Da0C",
        "colab_type": "code",
        "outputId": "0912135c-fed0-4259-94aa-2eee83f6b2e8",
        "colab": {
          "base_uri": "https://localhost:8080/",
          "height": 86
        }
      },
      "source": [
        "df['class'].value_counts()"
      ],
      "execution_count": 0,
      "outputs": [
        {
          "output_type": "execute_result",
          "data": {
            "text/plain": [
              "Iris-virginica     50\n",
              "Iris-versicolor    50\n",
              "Iris-setosa        50\n",
              "Name: class, dtype: int64"
            ]
          },
          "metadata": {
            "tags": []
          },
          "execution_count": 10
        }
      ]
    },
    {
      "cell_type": "markdown",
      "metadata": {
        "id": "0l0NVAu3EV9_",
        "colab_type": "text"
      },
      "source": [
        "### Split Data"
      ]
    },
    {
      "cell_type": "code",
      "metadata": {
        "id": "4NIuZFvjDn0m",
        "colab_type": "code",
        "colab": {}
      },
      "source": [
        "predictors = df.drop(['class'], axis=1).values\n",
        "labels = df[['class']].values\n",
        "from sklearn.model_selection import train_test_split\n",
        "X_train, X_test, y_train, y_test, = train_test_split(predictors, labels, test_size=0.5)"
      ],
      "execution_count": 0,
      "outputs": []
    },
    {
      "cell_type": "markdown",
      "metadata": {
        "id": "DQPua0gBEZjG",
        "colab_type": "text"
      },
      "source": [
        "### Train a Logistic Regression Model"
      ]
    },
    {
      "cell_type": "code",
      "metadata": {
        "id": "6LaGFHa9EouX",
        "colab_type": "code",
        "outputId": "3d76616a-ca3b-4f2c-df48-9adc31c0da1f",
        "colab": {
          "base_uri": "https://localhost:8080/",
          "height": 226
        }
      },
      "source": [
        "from sklearn.linear_model import LogisticRegression\n",
        "\n",
        "log_model = LogisticRegression()\n",
        "log_model.fit(X_train, y_train)"
      ],
      "execution_count": 0,
      "outputs": [
        {
          "output_type": "stream",
          "text": [
            "/usr/local/lib/python3.6/dist-packages/sklearn/linear_model/logistic.py:432: FutureWarning: Default solver will be changed to 'lbfgs' in 0.22. Specify a solver to silence this warning.\n",
            "  FutureWarning)\n",
            "/usr/local/lib/python3.6/dist-packages/sklearn/utils/validation.py:724: DataConversionWarning: A column-vector y was passed when a 1d array was expected. Please change the shape of y to (n_samples, ), for example using ravel().\n",
            "  y = column_or_1d(y, warn=True)\n",
            "/usr/local/lib/python3.6/dist-packages/sklearn/linear_model/logistic.py:469: FutureWarning: Default multi_class will be changed to 'auto' in 0.22. Specify the multi_class option to silence this warning.\n",
            "  \"this warning.\", FutureWarning)\n"
          ],
          "name": "stderr"
        },
        {
          "output_type": "execute_result",
          "data": {
            "text/plain": [
              "LogisticRegression(C=1.0, class_weight=None, dual=False, fit_intercept=True,\n",
              "                   intercept_scaling=1, l1_ratio=None, max_iter=100,\n",
              "                   multi_class='warn', n_jobs=None, penalty='l2',\n",
              "                   random_state=None, solver='warn', tol=0.0001, verbose=0,\n",
              "                   warm_start=False)"
            ]
          },
          "metadata": {
            "tags": []
          },
          "execution_count": 28
        }
      ]
    },
    {
      "cell_type": "markdown",
      "metadata": {
        "id": "kLak6zmvE9ks",
        "colab_type": "text"
      },
      "source": [
        "### Predict"
      ]
    },
    {
      "cell_type": "code",
      "metadata": {
        "id": "vVXDz7S_E-7C",
        "colab_type": "code",
        "colab": {}
      },
      "source": [
        "y_pred = log_model.predict(X_test)\n",
        "y_proba = log_model.predict_proba(X_test)"
      ],
      "execution_count": 0,
      "outputs": []
    },
    {
      "cell_type": "code",
      "metadata": {
        "id": "mehKmNRVNBre",
        "colab_type": "code",
        "outputId": "2bf64aa9-ff48-4f3c-921e-0c2b982a96cc",
        "colab": {
          "base_uri": "https://localhost:8080/",
          "height": 511
        }
      },
      "source": [
        "labels_df = pd.DataFrame(dict(observed=y_test.reshape(-1), predicted=y_pred))\n",
        "labels_df.head(n=15)"
      ],
      "execution_count": 0,
      "outputs": [
        {
          "output_type": "execute_result",
          "data": {
            "text/html": [
              "<div>\n",
              "<style scoped>\n",
              "    .dataframe tbody tr th:only-of-type {\n",
              "        vertical-align: middle;\n",
              "    }\n",
              "\n",
              "    .dataframe tbody tr th {\n",
              "        vertical-align: top;\n",
              "    }\n",
              "\n",
              "    .dataframe thead th {\n",
              "        text-align: right;\n",
              "    }\n",
              "</style>\n",
              "<table border=\"1\" class=\"dataframe\">\n",
              "  <thead>\n",
              "    <tr style=\"text-align: right;\">\n",
              "      <th></th>\n",
              "      <th>observed</th>\n",
              "      <th>predicted</th>\n",
              "    </tr>\n",
              "  </thead>\n",
              "  <tbody>\n",
              "    <tr>\n",
              "      <th>0</th>\n",
              "      <td>Iris-virginica</td>\n",
              "      <td>Iris-virginica</td>\n",
              "    </tr>\n",
              "    <tr>\n",
              "      <th>1</th>\n",
              "      <td>Iris-virginica</td>\n",
              "      <td>Iris-virginica</td>\n",
              "    </tr>\n",
              "    <tr>\n",
              "      <th>2</th>\n",
              "      <td>Iris-setosa</td>\n",
              "      <td>Iris-setosa</td>\n",
              "    </tr>\n",
              "    <tr>\n",
              "      <th>3</th>\n",
              "      <td>Iris-setosa</td>\n",
              "      <td>Iris-setosa</td>\n",
              "    </tr>\n",
              "    <tr>\n",
              "      <th>4</th>\n",
              "      <td>Iris-virginica</td>\n",
              "      <td>Iris-virginica</td>\n",
              "    </tr>\n",
              "    <tr>\n",
              "      <th>5</th>\n",
              "      <td>Iris-setosa</td>\n",
              "      <td>Iris-setosa</td>\n",
              "    </tr>\n",
              "    <tr>\n",
              "      <th>6</th>\n",
              "      <td>Iris-setosa</td>\n",
              "      <td>Iris-setosa</td>\n",
              "    </tr>\n",
              "    <tr>\n",
              "      <th>7</th>\n",
              "      <td>Iris-virginica</td>\n",
              "      <td>Iris-virginica</td>\n",
              "    </tr>\n",
              "    <tr>\n",
              "      <th>8</th>\n",
              "      <td>Iris-versicolor</td>\n",
              "      <td>Iris-versicolor</td>\n",
              "    </tr>\n",
              "    <tr>\n",
              "      <th>9</th>\n",
              "      <td>Iris-setosa</td>\n",
              "      <td>Iris-setosa</td>\n",
              "    </tr>\n",
              "    <tr>\n",
              "      <th>10</th>\n",
              "      <td>Iris-setosa</td>\n",
              "      <td>Iris-setosa</td>\n",
              "    </tr>\n",
              "    <tr>\n",
              "      <th>11</th>\n",
              "      <td>Iris-versicolor</td>\n",
              "      <td>Iris-versicolor</td>\n",
              "    </tr>\n",
              "    <tr>\n",
              "      <th>12</th>\n",
              "      <td>Iris-setosa</td>\n",
              "      <td>Iris-setosa</td>\n",
              "    </tr>\n",
              "    <tr>\n",
              "      <th>13</th>\n",
              "      <td>Iris-setosa</td>\n",
              "      <td>Iris-setosa</td>\n",
              "    </tr>\n",
              "    <tr>\n",
              "      <th>14</th>\n",
              "      <td>Iris-versicolor</td>\n",
              "      <td>Iris-versicolor</td>\n",
              "    </tr>\n",
              "  </tbody>\n",
              "</table>\n",
              "</div>"
            ],
            "text/plain": [
              "           observed        predicted\n",
              "0    Iris-virginica   Iris-virginica\n",
              "1    Iris-virginica   Iris-virginica\n",
              "2       Iris-setosa      Iris-setosa\n",
              "3       Iris-setosa      Iris-setosa\n",
              "4    Iris-virginica   Iris-virginica\n",
              "5       Iris-setosa      Iris-setosa\n",
              "6       Iris-setosa      Iris-setosa\n",
              "7    Iris-virginica   Iris-virginica\n",
              "8   Iris-versicolor  Iris-versicolor\n",
              "9       Iris-setosa      Iris-setosa\n",
              "10      Iris-setosa      Iris-setosa\n",
              "11  Iris-versicolor  Iris-versicolor\n",
              "12      Iris-setosa      Iris-setosa\n",
              "13      Iris-setosa      Iris-setosa\n",
              "14  Iris-versicolor  Iris-versicolor"
            ]
          },
          "metadata": {
            "tags": []
          },
          "execution_count": 30
        }
      ]
    },
    {
      "cell_type": "markdown",
      "metadata": {
        "id": "1t7hB2WpFJlE",
        "colab_type": "text"
      },
      "source": [
        "### Evaluate"
      ]
    },
    {
      "cell_type": "code",
      "metadata": {
        "id": "qR7oUka6FL-o",
        "colab_type": "code",
        "outputId": "84f0fb52-8ac1-4901-d1b6-41fbf4766a82",
        "colab": {
          "base_uri": "https://localhost:8080/",
          "height": 34
        }
      },
      "source": [
        "print('Score: {}'.format(log_model.score(X_test, y_test)))"
      ],
      "execution_count": 0,
      "outputs": [
        {
          "output_type": "stream",
          "text": [
            "Score: 0.9333333333333333\n"
          ],
          "name": "stdout"
        }
      ]
    },
    {
      "cell_type": "markdown",
      "metadata": {
        "id": "6jEKBGOAO-iY",
        "colab_type": "text"
      },
      "source": [
        "### Import Cars"
      ]
    },
    {
      "cell_type": "code",
      "metadata": {
        "id": "Ct1frQAPOFBG",
        "colab_type": "code",
        "outputId": "dc404f6f-6993-4d12-ddfb-1af28b0b5740",
        "colab": {
          "base_uri": "https://localhost:8080/",
          "height": 223
        }
      },
      "source": [
        "_headers = ['buying', 'maint', 'doors', 'persons', 'lug_boot', 'safety', 'car']\n",
        "df_cars = pd.read_csv('https://archive.ics.uci.edu/ml/machine-learning-databases/car/car.data', names=_headers)\n",
        "df_cars.info()"
      ],
      "execution_count": 0,
      "outputs": [
        {
          "output_type": "stream",
          "text": [
            "<class 'pandas.core.frame.DataFrame'>\n",
            "RangeIndex: 1728 entries, 0 to 1727\n",
            "Data columns (total 7 columns):\n",
            "buying      1728 non-null object\n",
            "maint       1728 non-null object\n",
            "doors       1728 non-null object\n",
            "persons     1728 non-null object\n",
            "lug_boot    1728 non-null object\n",
            "safety      1728 non-null object\n",
            "car         1728 non-null object\n",
            "dtypes: object(7)\n",
            "memory usage: 94.6+ KB\n"
          ],
          "name": "stdout"
        }
      ]
    },
    {
      "cell_type": "code",
      "metadata": {
        "id": "_LQnNz3qPkFW",
        "colab_type": "code",
        "outputId": "94f8a61c-7542-47aa-fe71-e975787b4b50",
        "colab": {
          "base_uri": "https://localhost:8080/",
          "height": 203
        }
      },
      "source": [
        "df_cars.head()"
      ],
      "execution_count": 0,
      "outputs": [
        {
          "output_type": "execute_result",
          "data": {
            "text/html": [
              "<div>\n",
              "<style scoped>\n",
              "    .dataframe tbody tr th:only-of-type {\n",
              "        vertical-align: middle;\n",
              "    }\n",
              "\n",
              "    .dataframe tbody tr th {\n",
              "        vertical-align: top;\n",
              "    }\n",
              "\n",
              "    .dataframe thead th {\n",
              "        text-align: right;\n",
              "    }\n",
              "</style>\n",
              "<table border=\"1\" class=\"dataframe\">\n",
              "  <thead>\n",
              "    <tr style=\"text-align: right;\">\n",
              "      <th></th>\n",
              "      <th>buying</th>\n",
              "      <th>maint</th>\n",
              "      <th>doors</th>\n",
              "      <th>persons</th>\n",
              "      <th>lug_boot</th>\n",
              "      <th>safety</th>\n",
              "      <th>car</th>\n",
              "    </tr>\n",
              "  </thead>\n",
              "  <tbody>\n",
              "    <tr>\n",
              "      <th>0</th>\n",
              "      <td>vhigh</td>\n",
              "      <td>vhigh</td>\n",
              "      <td>2</td>\n",
              "      <td>2</td>\n",
              "      <td>small</td>\n",
              "      <td>low</td>\n",
              "      <td>unacc</td>\n",
              "    </tr>\n",
              "    <tr>\n",
              "      <th>1</th>\n",
              "      <td>vhigh</td>\n",
              "      <td>vhigh</td>\n",
              "      <td>2</td>\n",
              "      <td>2</td>\n",
              "      <td>small</td>\n",
              "      <td>med</td>\n",
              "      <td>unacc</td>\n",
              "    </tr>\n",
              "    <tr>\n",
              "      <th>2</th>\n",
              "      <td>vhigh</td>\n",
              "      <td>vhigh</td>\n",
              "      <td>2</td>\n",
              "      <td>2</td>\n",
              "      <td>small</td>\n",
              "      <td>high</td>\n",
              "      <td>unacc</td>\n",
              "    </tr>\n",
              "    <tr>\n",
              "      <th>3</th>\n",
              "      <td>vhigh</td>\n",
              "      <td>vhigh</td>\n",
              "      <td>2</td>\n",
              "      <td>2</td>\n",
              "      <td>med</td>\n",
              "      <td>low</td>\n",
              "      <td>unacc</td>\n",
              "    </tr>\n",
              "    <tr>\n",
              "      <th>4</th>\n",
              "      <td>vhigh</td>\n",
              "      <td>vhigh</td>\n",
              "      <td>2</td>\n",
              "      <td>2</td>\n",
              "      <td>med</td>\n",
              "      <td>med</td>\n",
              "      <td>unacc</td>\n",
              "    </tr>\n",
              "  </tbody>\n",
              "</table>\n",
              "</div>"
            ],
            "text/plain": [
              "  buying  maint doors persons lug_boot safety    car\n",
              "0  vhigh  vhigh     2       2    small    low  unacc\n",
              "1  vhigh  vhigh     2       2    small    med  unacc\n",
              "2  vhigh  vhigh     2       2    small   high  unacc\n",
              "3  vhigh  vhigh     2       2      med    low  unacc\n",
              "4  vhigh  vhigh     2       2      med    med  unacc"
            ]
          },
          "metadata": {
            "tags": []
          },
          "execution_count": 81
        }
      ]
    },
    {
      "cell_type": "code",
      "metadata": {
        "id": "mNZuNhynPniM",
        "colab_type": "code",
        "outputId": "ac4eb797-a858-438c-a0d7-da252d48c0aa",
        "colab": {
          "base_uri": "https://localhost:8080/",
          "height": 203
        }
      },
      "source": [
        "df_cars.tail()"
      ],
      "execution_count": 0,
      "outputs": [
        {
          "output_type": "execute_result",
          "data": {
            "text/html": [
              "<div>\n",
              "<style scoped>\n",
              "    .dataframe tbody tr th:only-of-type {\n",
              "        vertical-align: middle;\n",
              "    }\n",
              "\n",
              "    .dataframe tbody tr th {\n",
              "        vertical-align: top;\n",
              "    }\n",
              "\n",
              "    .dataframe thead th {\n",
              "        text-align: right;\n",
              "    }\n",
              "</style>\n",
              "<table border=\"1\" class=\"dataframe\">\n",
              "  <thead>\n",
              "    <tr style=\"text-align: right;\">\n",
              "      <th></th>\n",
              "      <th>buying</th>\n",
              "      <th>maint</th>\n",
              "      <th>doors</th>\n",
              "      <th>persons</th>\n",
              "      <th>lug_boot</th>\n",
              "      <th>safety</th>\n",
              "      <th>car</th>\n",
              "    </tr>\n",
              "  </thead>\n",
              "  <tbody>\n",
              "    <tr>\n",
              "      <th>1723</th>\n",
              "      <td>low</td>\n",
              "      <td>low</td>\n",
              "      <td>5more</td>\n",
              "      <td>more</td>\n",
              "      <td>med</td>\n",
              "      <td>med</td>\n",
              "      <td>good</td>\n",
              "    </tr>\n",
              "    <tr>\n",
              "      <th>1724</th>\n",
              "      <td>low</td>\n",
              "      <td>low</td>\n",
              "      <td>5more</td>\n",
              "      <td>more</td>\n",
              "      <td>med</td>\n",
              "      <td>high</td>\n",
              "      <td>vgood</td>\n",
              "    </tr>\n",
              "    <tr>\n",
              "      <th>1725</th>\n",
              "      <td>low</td>\n",
              "      <td>low</td>\n",
              "      <td>5more</td>\n",
              "      <td>more</td>\n",
              "      <td>big</td>\n",
              "      <td>low</td>\n",
              "      <td>unacc</td>\n",
              "    </tr>\n",
              "    <tr>\n",
              "      <th>1726</th>\n",
              "      <td>low</td>\n",
              "      <td>low</td>\n",
              "      <td>5more</td>\n",
              "      <td>more</td>\n",
              "      <td>big</td>\n",
              "      <td>med</td>\n",
              "      <td>good</td>\n",
              "    </tr>\n",
              "    <tr>\n",
              "      <th>1727</th>\n",
              "      <td>low</td>\n",
              "      <td>low</td>\n",
              "      <td>5more</td>\n",
              "      <td>more</td>\n",
              "      <td>big</td>\n",
              "      <td>high</td>\n",
              "      <td>vgood</td>\n",
              "    </tr>\n",
              "  </tbody>\n",
              "</table>\n",
              "</div>"
            ],
            "text/plain": [
              "     buying maint  doors persons lug_boot safety    car\n",
              "1723    low   low  5more    more      med    med   good\n",
              "1724    low   low  5more    more      med   high  vgood\n",
              "1725    low   low  5more    more      big    low  unacc\n",
              "1726    low   low  5more    more      big    med   good\n",
              "1727    low   low  5more    more      big   high  vgood"
            ]
          },
          "metadata": {
            "tags": []
          },
          "execution_count": 82
        }
      ]
    },
    {
      "cell_type": "code",
      "metadata": {
        "id": "MJ6lzI1pPrdR",
        "colab_type": "code",
        "outputId": "811cd5dd-f772-4a1a-8c47-2d5f315952f6",
        "colab": {
          "base_uri": "https://localhost:8080/",
          "height": 397
        }
      },
      "source": [
        "predictors = df_cars.drop(['car'], axis=1).values\n",
        "labels = df_cars['car'].values\n",
        "\n",
        "X_train, X_test, y_train, y_test = train_test_split(predictors, labels, test_size=0.2)\n",
        "\n",
        "log_model_2 = LogisticRegression()\n",
        "log_model_2.fit(X_train, y_train)"
      ],
      "execution_count": 0,
      "outputs": [
        {
          "output_type": "stream",
          "text": [
            "/usr/local/lib/python3.6/dist-packages/sklearn/linear_model/logistic.py:432: FutureWarning: Default solver will be changed to 'lbfgs' in 0.22. Specify a solver to silence this warning.\n",
            "  FutureWarning)\n"
          ],
          "name": "stderr"
        },
        {
          "output_type": "error",
          "ename": "ValueError",
          "evalue": "ignored",
          "traceback": [
            "\u001b[0;31m---------------------------------------------------------------------------\u001b[0m",
            "\u001b[0;31mValueError\u001b[0m                                Traceback (most recent call last)",
            "\u001b[0;32m<ipython-input-83-0883e67723c3>\u001b[0m in \u001b[0;36m<module>\u001b[0;34m()\u001b[0m\n\u001b[1;32m      5\u001b[0m \u001b[0;34m\u001b[0m\u001b[0m\n\u001b[1;32m      6\u001b[0m \u001b[0mlog_model_2\u001b[0m \u001b[0;34m=\u001b[0m \u001b[0mLogisticRegression\u001b[0m\u001b[0;34m(\u001b[0m\u001b[0;34m)\u001b[0m\u001b[0;34m\u001b[0m\u001b[0;34m\u001b[0m\u001b[0m\n\u001b[0;32m----> 7\u001b[0;31m \u001b[0mlog_model_2\u001b[0m\u001b[0;34m.\u001b[0m\u001b[0mfit\u001b[0m\u001b[0;34m(\u001b[0m\u001b[0mX_train\u001b[0m\u001b[0;34m,\u001b[0m \u001b[0my_train\u001b[0m\u001b[0;34m)\u001b[0m\u001b[0;34m\u001b[0m\u001b[0;34m\u001b[0m\u001b[0m\n\u001b[0m",
            "\u001b[0;32m/usr/local/lib/python3.6/dist-packages/sklearn/linear_model/logistic.py\u001b[0m in \u001b[0;36mfit\u001b[0;34m(self, X, y, sample_weight)\u001b[0m\n\u001b[1;32m   1530\u001b[0m \u001b[0;34m\u001b[0m\u001b[0m\n\u001b[1;32m   1531\u001b[0m         X, y = check_X_y(X, y, accept_sparse='csr', dtype=_dtype, order=\"C\",\n\u001b[0;32m-> 1532\u001b[0;31m                          accept_large_sparse=solver != 'liblinear')\n\u001b[0m\u001b[1;32m   1533\u001b[0m         \u001b[0mcheck_classification_targets\u001b[0m\u001b[0;34m(\u001b[0m\u001b[0my\u001b[0m\u001b[0;34m)\u001b[0m\u001b[0;34m\u001b[0m\u001b[0;34m\u001b[0m\u001b[0m\n\u001b[1;32m   1534\u001b[0m         \u001b[0mself\u001b[0m\u001b[0;34m.\u001b[0m\u001b[0mclasses_\u001b[0m \u001b[0;34m=\u001b[0m \u001b[0mnp\u001b[0m\u001b[0;34m.\u001b[0m\u001b[0munique\u001b[0m\u001b[0;34m(\u001b[0m\u001b[0my\u001b[0m\u001b[0;34m)\u001b[0m\u001b[0;34m\u001b[0m\u001b[0;34m\u001b[0m\u001b[0m\n",
            "\u001b[0;32m/usr/local/lib/python3.6/dist-packages/sklearn/utils/validation.py\u001b[0m in \u001b[0;36mcheck_X_y\u001b[0;34m(X, y, accept_sparse, accept_large_sparse, dtype, order, copy, force_all_finite, ensure_2d, allow_nd, multi_output, ensure_min_samples, ensure_min_features, y_numeric, warn_on_dtype, estimator)\u001b[0m\n\u001b[1;32m    717\u001b[0m                     \u001b[0mensure_min_features\u001b[0m\u001b[0;34m=\u001b[0m\u001b[0mensure_min_features\u001b[0m\u001b[0;34m,\u001b[0m\u001b[0;34m\u001b[0m\u001b[0;34m\u001b[0m\u001b[0m\n\u001b[1;32m    718\u001b[0m                     \u001b[0mwarn_on_dtype\u001b[0m\u001b[0;34m=\u001b[0m\u001b[0mwarn_on_dtype\u001b[0m\u001b[0;34m,\u001b[0m\u001b[0;34m\u001b[0m\u001b[0;34m\u001b[0m\u001b[0m\n\u001b[0;32m--> 719\u001b[0;31m                     estimator=estimator)\n\u001b[0m\u001b[1;32m    720\u001b[0m     \u001b[0;32mif\u001b[0m \u001b[0mmulti_output\u001b[0m\u001b[0;34m:\u001b[0m\u001b[0;34m\u001b[0m\u001b[0;34m\u001b[0m\u001b[0m\n\u001b[1;32m    721\u001b[0m         y = check_array(y, 'csr', force_all_finite=True, ensure_2d=False,\n",
            "\u001b[0;32m/usr/local/lib/python3.6/dist-packages/sklearn/utils/validation.py\u001b[0m in \u001b[0;36mcheck_array\u001b[0;34m(array, accept_sparse, accept_large_sparse, dtype, order, copy, force_all_finite, ensure_2d, allow_nd, ensure_min_samples, ensure_min_features, warn_on_dtype, estimator)\u001b[0m\n\u001b[1;32m    494\u001b[0m             \u001b[0;32mtry\u001b[0m\u001b[0;34m:\u001b[0m\u001b[0;34m\u001b[0m\u001b[0;34m\u001b[0m\u001b[0m\n\u001b[1;32m    495\u001b[0m                 \u001b[0mwarnings\u001b[0m\u001b[0;34m.\u001b[0m\u001b[0msimplefilter\u001b[0m\u001b[0;34m(\u001b[0m\u001b[0;34m'error'\u001b[0m\u001b[0;34m,\u001b[0m \u001b[0mComplexWarning\u001b[0m\u001b[0;34m)\u001b[0m\u001b[0;34m\u001b[0m\u001b[0;34m\u001b[0m\u001b[0m\n\u001b[0;32m--> 496\u001b[0;31m                 \u001b[0marray\u001b[0m \u001b[0;34m=\u001b[0m \u001b[0mnp\u001b[0m\u001b[0;34m.\u001b[0m\u001b[0masarray\u001b[0m\u001b[0;34m(\u001b[0m\u001b[0marray\u001b[0m\u001b[0;34m,\u001b[0m \u001b[0mdtype\u001b[0m\u001b[0;34m=\u001b[0m\u001b[0mdtype\u001b[0m\u001b[0;34m,\u001b[0m \u001b[0morder\u001b[0m\u001b[0;34m=\u001b[0m\u001b[0morder\u001b[0m\u001b[0;34m)\u001b[0m\u001b[0;34m\u001b[0m\u001b[0;34m\u001b[0m\u001b[0m\n\u001b[0m\u001b[1;32m    497\u001b[0m             \u001b[0;32mexcept\u001b[0m \u001b[0mComplexWarning\u001b[0m\u001b[0;34m:\u001b[0m\u001b[0;34m\u001b[0m\u001b[0;34m\u001b[0m\u001b[0m\n\u001b[1;32m    498\u001b[0m                 raise ValueError(\"Complex data not supported\\n\"\n",
            "\u001b[0;32m/usr/local/lib/python3.6/dist-packages/numpy/core/numeric.py\u001b[0m in \u001b[0;36masarray\u001b[0;34m(a, dtype, order)\u001b[0m\n\u001b[1;32m    536\u001b[0m \u001b[0;34m\u001b[0m\u001b[0m\n\u001b[1;32m    537\u001b[0m     \"\"\"\n\u001b[0;32m--> 538\u001b[0;31m     \u001b[0;32mreturn\u001b[0m \u001b[0marray\u001b[0m\u001b[0;34m(\u001b[0m\u001b[0ma\u001b[0m\u001b[0;34m,\u001b[0m \u001b[0mdtype\u001b[0m\u001b[0;34m,\u001b[0m \u001b[0mcopy\u001b[0m\u001b[0;34m=\u001b[0m\u001b[0;32mFalse\u001b[0m\u001b[0;34m,\u001b[0m \u001b[0morder\u001b[0m\u001b[0;34m=\u001b[0m\u001b[0morder\u001b[0m\u001b[0;34m)\u001b[0m\u001b[0;34m\u001b[0m\u001b[0;34m\u001b[0m\u001b[0m\n\u001b[0m\u001b[1;32m    539\u001b[0m \u001b[0;34m\u001b[0m\u001b[0m\n\u001b[1;32m    540\u001b[0m \u001b[0;34m\u001b[0m\u001b[0m\n",
            "\u001b[0;31mValueError\u001b[0m: could not convert string to float: 'low'"
          ]
        }
      ]
    },
    {
      "cell_type": "markdown",
      "metadata": {
        "id": "y0k8i5DqRFFC",
        "colab_type": "text"
      },
      "source": [
        "### Convert categorical variables using `pd.get_dummies()`"
      ]
    },
    {
      "cell_type": "code",
      "metadata": {
        "id": "5jHmAazLQant",
        "colab_type": "code",
        "colab": {}
      },
      "source": [
        "?pd.get_dummies()"
      ],
      "execution_count": 0,
      "outputs": []
    },
    {
      "cell_type": "code",
      "metadata": {
        "id": "2cViqSLzRRFV",
        "colab_type": "code",
        "colab": {}
      },
      "source": [
        "buying_df = pd.get_dummies(df_cars['buying'], prefix='buying', drop_first=True)"
      ],
      "execution_count": 0,
      "outputs": []
    },
    {
      "cell_type": "code",
      "metadata": {
        "id": "HzzkFnw1R50T",
        "colab_type": "code",
        "outputId": "048f5e75-bb06-4074-acd5-89a2f571615c",
        "colab": {
          "base_uri": "https://localhost:8080/",
          "height": 154
        }
      },
      "source": [
        "buying_df.info()"
      ],
      "execution_count": 0,
      "outputs": [
        {
          "output_type": "stream",
          "text": [
            "<class 'pandas.core.frame.DataFrame'>\n",
            "RangeIndex: 1728 entries, 0 to 1727\n",
            "Data columns (total 3 columns):\n",
            "buying_low      1728 non-null uint8\n",
            "buying_med      1728 non-null uint8\n",
            "buying_vhigh    1728 non-null uint8\n",
            "dtypes: uint8(3)\n",
            "memory usage: 5.1 KB\n"
          ],
          "name": "stdout"
        }
      ]
    },
    {
      "cell_type": "code",
      "metadata": {
        "id": "mXL1MeLtR8un",
        "colab_type": "code",
        "outputId": "d2a88148-e904-43f1-8cab-81e36adab500",
        "colab": {
          "base_uri": "https://localhost:8080/",
          "height": 203
        }
      },
      "source": [
        "buying_df.head()"
      ],
      "execution_count": 0,
      "outputs": [
        {
          "output_type": "execute_result",
          "data": {
            "text/html": [
              "<div>\n",
              "<style scoped>\n",
              "    .dataframe tbody tr th:only-of-type {\n",
              "        vertical-align: middle;\n",
              "    }\n",
              "\n",
              "    .dataframe tbody tr th {\n",
              "        vertical-align: top;\n",
              "    }\n",
              "\n",
              "    .dataframe thead th {\n",
              "        text-align: right;\n",
              "    }\n",
              "</style>\n",
              "<table border=\"1\" class=\"dataframe\">\n",
              "  <thead>\n",
              "    <tr style=\"text-align: right;\">\n",
              "      <th></th>\n",
              "      <th>buying_low</th>\n",
              "      <th>buying_med</th>\n",
              "      <th>buying_vhigh</th>\n",
              "    </tr>\n",
              "  </thead>\n",
              "  <tbody>\n",
              "    <tr>\n",
              "      <th>0</th>\n",
              "      <td>0</td>\n",
              "      <td>0</td>\n",
              "      <td>1</td>\n",
              "    </tr>\n",
              "    <tr>\n",
              "      <th>1</th>\n",
              "      <td>0</td>\n",
              "      <td>0</td>\n",
              "      <td>1</td>\n",
              "    </tr>\n",
              "    <tr>\n",
              "      <th>2</th>\n",
              "      <td>0</td>\n",
              "      <td>0</td>\n",
              "      <td>1</td>\n",
              "    </tr>\n",
              "    <tr>\n",
              "      <th>3</th>\n",
              "      <td>0</td>\n",
              "      <td>0</td>\n",
              "      <td>1</td>\n",
              "    </tr>\n",
              "    <tr>\n",
              "      <th>4</th>\n",
              "      <td>0</td>\n",
              "      <td>0</td>\n",
              "      <td>1</td>\n",
              "    </tr>\n",
              "  </tbody>\n",
              "</table>\n",
              "</div>"
            ],
            "text/plain": [
              "   buying_low  buying_med  buying_vhigh\n",
              "0           0           0             1\n",
              "1           0           0             1\n",
              "2           0           0             1\n",
              "3           0           0             1\n",
              "4           0           0             1"
            ]
          },
          "metadata": {
            "tags": []
          },
          "execution_count": 86
        }
      ]
    },
    {
      "cell_type": "code",
      "metadata": {
        "id": "xhWv_evJSET7",
        "colab_type": "code",
        "colab": {}
      },
      "source": [
        "?pd.concat"
      ],
      "execution_count": 0,
      "outputs": []
    },
    {
      "cell_type": "code",
      "metadata": {
        "id": "uBEUMlNTSi_V",
        "colab_type": "code",
        "colab": {}
      },
      "source": [
        "df_cars = pd.concat([df_cars, buying_df], axis=1)"
      ],
      "execution_count": 0,
      "outputs": []
    },
    {
      "cell_type": "code",
      "metadata": {
        "id": "_CBgmVa8SrEs",
        "colab_type": "code",
        "outputId": "7450551e-7389-4207-d49f-3258e701b9cc",
        "colab": {
          "base_uri": "https://localhost:8080/",
          "height": 274
        }
      },
      "source": [
        "df_cars.info()\n"
      ],
      "execution_count": 0,
      "outputs": [
        {
          "output_type": "stream",
          "text": [
            "<class 'pandas.core.frame.DataFrame'>\n",
            "RangeIndex: 1728 entries, 0 to 1727\n",
            "Data columns (total 10 columns):\n",
            "buying          1728 non-null object\n",
            "maint           1728 non-null object\n",
            "doors           1728 non-null object\n",
            "persons         1728 non-null object\n",
            "lug_boot        1728 non-null object\n",
            "safety          1728 non-null object\n",
            "car             1728 non-null object\n",
            "buying_low      1728 non-null uint8\n",
            "buying_med      1728 non-null uint8\n",
            "buying_vhigh    1728 non-null uint8\n",
            "dtypes: object(7), uint8(3)\n",
            "memory usage: 99.6+ KB\n"
          ],
          "name": "stdout"
        }
      ]
    },
    {
      "cell_type": "code",
      "metadata": {
        "id": "bOFjhLcJSvmh",
        "colab_type": "code",
        "colab": {}
      },
      "source": [
        "df_cars.drop(['buying'], axis=1, inplace=True)"
      ],
      "execution_count": 0,
      "outputs": []
    },
    {
      "cell_type": "code",
      "metadata": {
        "id": "nWMpBPdlTFaj",
        "colab_type": "code",
        "outputId": "4c8bbf3e-3477-4fab-c746-1371c7d6fb2b",
        "colab": {
          "base_uri": "https://localhost:8080/",
          "height": 257
        }
      },
      "source": [
        "df_cars.info()"
      ],
      "execution_count": 0,
      "outputs": [
        {
          "output_type": "stream",
          "text": [
            "<class 'pandas.core.frame.DataFrame'>\n",
            "RangeIndex: 1728 entries, 0 to 1727\n",
            "Data columns (total 9 columns):\n",
            "maint           1728 non-null object\n",
            "doors           1728 non-null object\n",
            "persons         1728 non-null object\n",
            "lug_boot        1728 non-null object\n",
            "safety          1728 non-null object\n",
            "car             1728 non-null object\n",
            "buying_low      1728 non-null uint8\n",
            "buying_med      1728 non-null uint8\n",
            "buying_vhigh    1728 non-null uint8\n",
            "dtypes: object(6), uint8(3)\n",
            "memory usage: 86.1+ KB\n"
          ],
          "name": "stdout"
        }
      ]
    },
    {
      "cell_type": "code",
      "metadata": {
        "id": "NHu63cnlTH75",
        "colab_type": "code",
        "outputId": "7906aff7-b056-433c-8900-a65bf99c9fed",
        "colab": {
          "base_uri": "https://localhost:8080/",
          "height": 103
        }
      },
      "source": [
        "df_cars['maint'].value_counts()"
      ],
      "execution_count": 0,
      "outputs": [
        {
          "output_type": "execute_result",
          "data": {
            "text/plain": [
              "low      432\n",
              "vhigh    432\n",
              "med      432\n",
              "high     432\n",
              "Name: maint, dtype: int64"
            ]
          },
          "metadata": {
            "tags": []
          },
          "execution_count": 91
        }
      ]
    },
    {
      "cell_type": "code",
      "metadata": {
        "id": "RpWQuVvETcVl",
        "colab_type": "code",
        "outputId": "68f3b944-d83f-4364-faee-56811d17e52d",
        "colab": {
          "base_uri": "https://localhost:8080/",
          "height": 154
        }
      },
      "source": [
        "maint_df = pd.get_dummies(df_cars['maint'], prefix='maint', drop_first=True)\n",
        "maint_df.info()"
      ],
      "execution_count": 0,
      "outputs": [
        {
          "output_type": "stream",
          "text": [
            "<class 'pandas.core.frame.DataFrame'>\n",
            "RangeIndex: 1728 entries, 0 to 1727\n",
            "Data columns (total 3 columns):\n",
            "maint_low      1728 non-null uint8\n",
            "maint_med      1728 non-null uint8\n",
            "maint_vhigh    1728 non-null uint8\n",
            "dtypes: uint8(3)\n",
            "memory usage: 5.1 KB\n"
          ],
          "name": "stdout"
        }
      ]
    },
    {
      "cell_type": "code",
      "metadata": {
        "id": "gsBri_QITy6W",
        "colab_type": "code",
        "outputId": "590f3056-d708-4b64-de9e-517493fa1170",
        "colab": {
          "base_uri": "https://localhost:8080/",
          "height": 308
        }
      },
      "source": [
        "df_cars = pd.concat([df_cars, maint_df], axis=1)\n",
        "df_cars.info()"
      ],
      "execution_count": 0,
      "outputs": [
        {
          "output_type": "stream",
          "text": [
            "<class 'pandas.core.frame.DataFrame'>\n",
            "RangeIndex: 1728 entries, 0 to 1727\n",
            "Data columns (total 12 columns):\n",
            "maint           1728 non-null object\n",
            "doors           1728 non-null object\n",
            "persons         1728 non-null object\n",
            "lug_boot        1728 non-null object\n",
            "safety          1728 non-null object\n",
            "car             1728 non-null object\n",
            "buying_low      1728 non-null uint8\n",
            "buying_med      1728 non-null uint8\n",
            "buying_vhigh    1728 non-null uint8\n",
            "maint_low       1728 non-null uint8\n",
            "maint_med       1728 non-null uint8\n",
            "maint_vhigh     1728 non-null uint8\n",
            "dtypes: object(6), uint8(6)\n",
            "memory usage: 91.2+ KB\n"
          ],
          "name": "stdout"
        }
      ]
    },
    {
      "cell_type": "code",
      "metadata": {
        "id": "e8dUlKwEWv7Z",
        "colab_type": "code",
        "colab": {}
      },
      "source": [
        "df_cars.drop(['maint'], axis=1, inplace=True)"
      ],
      "execution_count": 0,
      "outputs": []
    },
    {
      "cell_type": "code",
      "metadata": {
        "id": "KBg5gr9bfGEw",
        "colab_type": "code",
        "outputId": "ed0ffbb8-959d-403f-e3ef-94fa329b2c72",
        "colab": {
          "base_uri": "https://localhost:8080/",
          "height": 203
        }
      },
      "source": [
        "doors_df = pd.get_dummies(df_cars['doors'], prefix='doors', drop_first=True)\n",
        "doors_df.head()"
      ],
      "execution_count": 0,
      "outputs": [
        {
          "output_type": "execute_result",
          "data": {
            "text/html": [
              "<div>\n",
              "<style scoped>\n",
              "    .dataframe tbody tr th:only-of-type {\n",
              "        vertical-align: middle;\n",
              "    }\n",
              "\n",
              "    .dataframe tbody tr th {\n",
              "        vertical-align: top;\n",
              "    }\n",
              "\n",
              "    .dataframe thead th {\n",
              "        text-align: right;\n",
              "    }\n",
              "</style>\n",
              "<table border=\"1\" class=\"dataframe\">\n",
              "  <thead>\n",
              "    <tr style=\"text-align: right;\">\n",
              "      <th></th>\n",
              "      <th>doors_3</th>\n",
              "      <th>doors_4</th>\n",
              "      <th>doors_5more</th>\n",
              "    </tr>\n",
              "  </thead>\n",
              "  <tbody>\n",
              "    <tr>\n",
              "      <th>0</th>\n",
              "      <td>0</td>\n",
              "      <td>0</td>\n",
              "      <td>0</td>\n",
              "    </tr>\n",
              "    <tr>\n",
              "      <th>1</th>\n",
              "      <td>0</td>\n",
              "      <td>0</td>\n",
              "      <td>0</td>\n",
              "    </tr>\n",
              "    <tr>\n",
              "      <th>2</th>\n",
              "      <td>0</td>\n",
              "      <td>0</td>\n",
              "      <td>0</td>\n",
              "    </tr>\n",
              "    <tr>\n",
              "      <th>3</th>\n",
              "      <td>0</td>\n",
              "      <td>0</td>\n",
              "      <td>0</td>\n",
              "    </tr>\n",
              "    <tr>\n",
              "      <th>4</th>\n",
              "      <td>0</td>\n",
              "      <td>0</td>\n",
              "      <td>0</td>\n",
              "    </tr>\n",
              "  </tbody>\n",
              "</table>\n",
              "</div>"
            ],
            "text/plain": [
              "   doors_3  doors_4  doors_5more\n",
              "0        0        0            0\n",
              "1        0        0            0\n",
              "2        0        0            0\n",
              "3        0        0            0\n",
              "4        0        0            0"
            ]
          },
          "metadata": {
            "tags": []
          },
          "execution_count": 95
        }
      ]
    },
    {
      "cell_type": "code",
      "metadata": {
        "id": "MCnQVSVkfKKN",
        "colab_type": "code",
        "outputId": "c808f61c-202e-4907-8715-063933f2bc0d",
        "colab": {
          "base_uri": "https://localhost:8080/",
          "height": 203
        }
      },
      "source": [
        "persons_df = pd.get_dummies(df_cars['persons'], prefix='persons', drop_first=True)\n",
        "persons_df.head()"
      ],
      "execution_count": 0,
      "outputs": [
        {
          "output_type": "execute_result",
          "data": {
            "text/html": [
              "<div>\n",
              "<style scoped>\n",
              "    .dataframe tbody tr th:only-of-type {\n",
              "        vertical-align: middle;\n",
              "    }\n",
              "\n",
              "    .dataframe tbody tr th {\n",
              "        vertical-align: top;\n",
              "    }\n",
              "\n",
              "    .dataframe thead th {\n",
              "        text-align: right;\n",
              "    }\n",
              "</style>\n",
              "<table border=\"1\" class=\"dataframe\">\n",
              "  <thead>\n",
              "    <tr style=\"text-align: right;\">\n",
              "      <th></th>\n",
              "      <th>persons_4</th>\n",
              "      <th>persons_more</th>\n",
              "    </tr>\n",
              "  </thead>\n",
              "  <tbody>\n",
              "    <tr>\n",
              "      <th>0</th>\n",
              "      <td>0</td>\n",
              "      <td>0</td>\n",
              "    </tr>\n",
              "    <tr>\n",
              "      <th>1</th>\n",
              "      <td>0</td>\n",
              "      <td>0</td>\n",
              "    </tr>\n",
              "    <tr>\n",
              "      <th>2</th>\n",
              "      <td>0</td>\n",
              "      <td>0</td>\n",
              "    </tr>\n",
              "    <tr>\n",
              "      <th>3</th>\n",
              "      <td>0</td>\n",
              "      <td>0</td>\n",
              "    </tr>\n",
              "    <tr>\n",
              "      <th>4</th>\n",
              "      <td>0</td>\n",
              "      <td>0</td>\n",
              "    </tr>\n",
              "  </tbody>\n",
              "</table>\n",
              "</div>"
            ],
            "text/plain": [
              "   persons_4  persons_more\n",
              "0          0             0\n",
              "1          0             0\n",
              "2          0             0\n",
              "3          0             0\n",
              "4          0             0"
            ]
          },
          "metadata": {
            "tags": []
          },
          "execution_count": 96
        }
      ]
    },
    {
      "cell_type": "code",
      "metadata": {
        "id": "NK1Hm6RRfOF0",
        "colab_type": "code",
        "outputId": "26739f01-0321-475b-8fb9-ec2be4739f67",
        "colab": {
          "base_uri": "https://localhost:8080/",
          "height": 203
        }
      },
      "source": [
        "\n",
        "lug_boot_df = pd.get_dummies(df_cars['lug_boot'], prefix='lug_boot', drop_first=True)\n",
        "lug_boot_df.head()"
      ],
      "execution_count": 0,
      "outputs": [
        {
          "output_type": "execute_result",
          "data": {
            "text/html": [
              "<div>\n",
              "<style scoped>\n",
              "    .dataframe tbody tr th:only-of-type {\n",
              "        vertical-align: middle;\n",
              "    }\n",
              "\n",
              "    .dataframe tbody tr th {\n",
              "        vertical-align: top;\n",
              "    }\n",
              "\n",
              "    .dataframe thead th {\n",
              "        text-align: right;\n",
              "    }\n",
              "</style>\n",
              "<table border=\"1\" class=\"dataframe\">\n",
              "  <thead>\n",
              "    <tr style=\"text-align: right;\">\n",
              "      <th></th>\n",
              "      <th>lug_boot_med</th>\n",
              "      <th>lug_boot_small</th>\n",
              "    </tr>\n",
              "  </thead>\n",
              "  <tbody>\n",
              "    <tr>\n",
              "      <th>0</th>\n",
              "      <td>0</td>\n",
              "      <td>1</td>\n",
              "    </tr>\n",
              "    <tr>\n",
              "      <th>1</th>\n",
              "      <td>0</td>\n",
              "      <td>1</td>\n",
              "    </tr>\n",
              "    <tr>\n",
              "      <th>2</th>\n",
              "      <td>0</td>\n",
              "      <td>1</td>\n",
              "    </tr>\n",
              "    <tr>\n",
              "      <th>3</th>\n",
              "      <td>1</td>\n",
              "      <td>0</td>\n",
              "    </tr>\n",
              "    <tr>\n",
              "      <th>4</th>\n",
              "      <td>1</td>\n",
              "      <td>0</td>\n",
              "    </tr>\n",
              "  </tbody>\n",
              "</table>\n",
              "</div>"
            ],
            "text/plain": [
              "   lug_boot_med  lug_boot_small\n",
              "0             0               1\n",
              "1             0               1\n",
              "2             0               1\n",
              "3             1               0\n",
              "4             1               0"
            ]
          },
          "metadata": {
            "tags": []
          },
          "execution_count": 97
        }
      ]
    },
    {
      "cell_type": "code",
      "metadata": {
        "id": "md-O_kNwW4es",
        "colab_type": "code",
        "outputId": "442ba98c-fba4-49de-f0fd-af349a121625",
        "colab": {
          "base_uri": "https://localhost:8080/",
          "height": 203
        }
      },
      "source": [
        "safety_df = pd.get_dummies(df_cars['safety'], prefix='safety', drop_first=True)\n",
        "safety_df.head()"
      ],
      "execution_count": 0,
      "outputs": [
        {
          "output_type": "execute_result",
          "data": {
            "text/html": [
              "<div>\n",
              "<style scoped>\n",
              "    .dataframe tbody tr th:only-of-type {\n",
              "        vertical-align: middle;\n",
              "    }\n",
              "\n",
              "    .dataframe tbody tr th {\n",
              "        vertical-align: top;\n",
              "    }\n",
              "\n",
              "    .dataframe thead th {\n",
              "        text-align: right;\n",
              "    }\n",
              "</style>\n",
              "<table border=\"1\" class=\"dataframe\">\n",
              "  <thead>\n",
              "    <tr style=\"text-align: right;\">\n",
              "      <th></th>\n",
              "      <th>safety_low</th>\n",
              "      <th>safety_med</th>\n",
              "    </tr>\n",
              "  </thead>\n",
              "  <tbody>\n",
              "    <tr>\n",
              "      <th>0</th>\n",
              "      <td>1</td>\n",
              "      <td>0</td>\n",
              "    </tr>\n",
              "    <tr>\n",
              "      <th>1</th>\n",
              "      <td>0</td>\n",
              "      <td>1</td>\n",
              "    </tr>\n",
              "    <tr>\n",
              "      <th>2</th>\n",
              "      <td>0</td>\n",
              "      <td>0</td>\n",
              "    </tr>\n",
              "    <tr>\n",
              "      <th>3</th>\n",
              "      <td>1</td>\n",
              "      <td>0</td>\n",
              "    </tr>\n",
              "    <tr>\n",
              "      <th>4</th>\n",
              "      <td>0</td>\n",
              "      <td>1</td>\n",
              "    </tr>\n",
              "  </tbody>\n",
              "</table>\n",
              "</div>"
            ],
            "text/plain": [
              "   safety_low  safety_med\n",
              "0           1           0\n",
              "1           0           1\n",
              "2           0           0\n",
              "3           1           0\n",
              "4           0           1"
            ]
          },
          "metadata": {
            "tags": []
          },
          "execution_count": 98
        }
      ]
    },
    {
      "cell_type": "code",
      "metadata": {
        "id": "GXYsOMqmbW7B",
        "colab_type": "code",
        "outputId": "a08425dd-627d-4c4c-b581-e1ce759e2a4d",
        "colab": {
          "base_uri": "https://localhost:8080/",
          "height": 223
        }
      },
      "source": [
        "df_cars = pd.concat([df_cars, doors_df, persons_df, lug_boot_df, safety_df], axis=1)\n",
        "df_cars.head()"
      ],
      "execution_count": 0,
      "outputs": [
        {
          "output_type": "execute_result",
          "data": {
            "text/html": [
              "<div>\n",
              "<style scoped>\n",
              "    .dataframe tbody tr th:only-of-type {\n",
              "        vertical-align: middle;\n",
              "    }\n",
              "\n",
              "    .dataframe tbody tr th {\n",
              "        vertical-align: top;\n",
              "    }\n",
              "\n",
              "    .dataframe thead th {\n",
              "        text-align: right;\n",
              "    }\n",
              "</style>\n",
              "<table border=\"1\" class=\"dataframe\">\n",
              "  <thead>\n",
              "    <tr style=\"text-align: right;\">\n",
              "      <th></th>\n",
              "      <th>doors</th>\n",
              "      <th>persons</th>\n",
              "      <th>lug_boot</th>\n",
              "      <th>safety</th>\n",
              "      <th>car</th>\n",
              "      <th>buying_low</th>\n",
              "      <th>buying_med</th>\n",
              "      <th>buying_vhigh</th>\n",
              "      <th>maint_low</th>\n",
              "      <th>maint_med</th>\n",
              "      <th>maint_vhigh</th>\n",
              "      <th>doors_3</th>\n",
              "      <th>doors_4</th>\n",
              "      <th>doors_5more</th>\n",
              "      <th>persons_4</th>\n",
              "      <th>persons_more</th>\n",
              "      <th>lug_boot_med</th>\n",
              "      <th>lug_boot_small</th>\n",
              "      <th>safety_low</th>\n",
              "      <th>safety_med</th>\n",
              "    </tr>\n",
              "  </thead>\n",
              "  <tbody>\n",
              "    <tr>\n",
              "      <th>0</th>\n",
              "      <td>2</td>\n",
              "      <td>2</td>\n",
              "      <td>small</td>\n",
              "      <td>low</td>\n",
              "      <td>unacc</td>\n",
              "      <td>0</td>\n",
              "      <td>0</td>\n",
              "      <td>1</td>\n",
              "      <td>0</td>\n",
              "      <td>0</td>\n",
              "      <td>1</td>\n",
              "      <td>0</td>\n",
              "      <td>0</td>\n",
              "      <td>0</td>\n",
              "      <td>0</td>\n",
              "      <td>0</td>\n",
              "      <td>0</td>\n",
              "      <td>1</td>\n",
              "      <td>1</td>\n",
              "      <td>0</td>\n",
              "    </tr>\n",
              "    <tr>\n",
              "      <th>1</th>\n",
              "      <td>2</td>\n",
              "      <td>2</td>\n",
              "      <td>small</td>\n",
              "      <td>med</td>\n",
              "      <td>unacc</td>\n",
              "      <td>0</td>\n",
              "      <td>0</td>\n",
              "      <td>1</td>\n",
              "      <td>0</td>\n",
              "      <td>0</td>\n",
              "      <td>1</td>\n",
              "      <td>0</td>\n",
              "      <td>0</td>\n",
              "      <td>0</td>\n",
              "      <td>0</td>\n",
              "      <td>0</td>\n",
              "      <td>0</td>\n",
              "      <td>1</td>\n",
              "      <td>0</td>\n",
              "      <td>1</td>\n",
              "    </tr>\n",
              "    <tr>\n",
              "      <th>2</th>\n",
              "      <td>2</td>\n",
              "      <td>2</td>\n",
              "      <td>small</td>\n",
              "      <td>high</td>\n",
              "      <td>unacc</td>\n",
              "      <td>0</td>\n",
              "      <td>0</td>\n",
              "      <td>1</td>\n",
              "      <td>0</td>\n",
              "      <td>0</td>\n",
              "      <td>1</td>\n",
              "      <td>0</td>\n",
              "      <td>0</td>\n",
              "      <td>0</td>\n",
              "      <td>0</td>\n",
              "      <td>0</td>\n",
              "      <td>0</td>\n",
              "      <td>1</td>\n",
              "      <td>0</td>\n",
              "      <td>0</td>\n",
              "    </tr>\n",
              "    <tr>\n",
              "      <th>3</th>\n",
              "      <td>2</td>\n",
              "      <td>2</td>\n",
              "      <td>med</td>\n",
              "      <td>low</td>\n",
              "      <td>unacc</td>\n",
              "      <td>0</td>\n",
              "      <td>0</td>\n",
              "      <td>1</td>\n",
              "      <td>0</td>\n",
              "      <td>0</td>\n",
              "      <td>1</td>\n",
              "      <td>0</td>\n",
              "      <td>0</td>\n",
              "      <td>0</td>\n",
              "      <td>0</td>\n",
              "      <td>0</td>\n",
              "      <td>1</td>\n",
              "      <td>0</td>\n",
              "      <td>1</td>\n",
              "      <td>0</td>\n",
              "    </tr>\n",
              "    <tr>\n",
              "      <th>4</th>\n",
              "      <td>2</td>\n",
              "      <td>2</td>\n",
              "      <td>med</td>\n",
              "      <td>med</td>\n",
              "      <td>unacc</td>\n",
              "      <td>0</td>\n",
              "      <td>0</td>\n",
              "      <td>1</td>\n",
              "      <td>0</td>\n",
              "      <td>0</td>\n",
              "      <td>1</td>\n",
              "      <td>0</td>\n",
              "      <td>0</td>\n",
              "      <td>0</td>\n",
              "      <td>0</td>\n",
              "      <td>0</td>\n",
              "      <td>1</td>\n",
              "      <td>0</td>\n",
              "      <td>0</td>\n",
              "      <td>1</td>\n",
              "    </tr>\n",
              "  </tbody>\n",
              "</table>\n",
              "</div>"
            ],
            "text/plain": [
              "  doors persons lug_boot  ... lug_boot_small safety_low  safety_med\n",
              "0     2       2    small  ...              1          1           0\n",
              "1     2       2    small  ...              1          0           1\n",
              "2     2       2    small  ...              1          0           0\n",
              "3     2       2      med  ...              0          1           0\n",
              "4     2       2      med  ...              0          0           1\n",
              "\n",
              "[5 rows x 20 columns]"
            ]
          },
          "metadata": {
            "tags": []
          },
          "execution_count": 99
        }
      ]
    },
    {
      "cell_type": "code",
      "metadata": {
        "id": "4Afplh8QbQbz",
        "colab_type": "code",
        "colab": {}
      },
      "source": [
        "df_cars.drop(['doors', 'persons', 'lug_boot', 'safety'], axis=1, inplace=True)"
      ],
      "execution_count": 0,
      "outputs": []
    },
    {
      "cell_type": "code",
      "metadata": {
        "id": "rzfjEJYOb6xm",
        "colab_type": "code",
        "outputId": "86319fc7-ae2a-40b6-ab2d-0e5208c9770f",
        "colab": {
          "base_uri": "https://localhost:8080/",
          "height": 377
        }
      },
      "source": [
        "df_cars.info()"
      ],
      "execution_count": 0,
      "outputs": [
        {
          "output_type": "stream",
          "text": [
            "<class 'pandas.core.frame.DataFrame'>\n",
            "RangeIndex: 1728 entries, 0 to 1727\n",
            "Data columns (total 16 columns):\n",
            "car               1728 non-null object\n",
            "buying_low        1728 non-null uint8\n",
            "buying_med        1728 non-null uint8\n",
            "buying_vhigh      1728 non-null uint8\n",
            "maint_low         1728 non-null uint8\n",
            "maint_med         1728 non-null uint8\n",
            "maint_vhigh       1728 non-null uint8\n",
            "doors_3           1728 non-null uint8\n",
            "doors_4           1728 non-null uint8\n",
            "doors_5more       1728 non-null uint8\n",
            "persons_4         1728 non-null uint8\n",
            "persons_more      1728 non-null uint8\n",
            "lug_boot_med      1728 non-null uint8\n",
            "lug_boot_small    1728 non-null uint8\n",
            "safety_low        1728 non-null uint8\n",
            "safety_med        1728 non-null uint8\n",
            "dtypes: object(1), uint8(15)\n",
            "memory usage: 38.9+ KB\n"
          ],
          "name": "stdout"
        }
      ]
    },
    {
      "cell_type": "code",
      "metadata": {
        "id": "cYU2wWYJb97e",
        "colab_type": "code",
        "outputId": "3be980b2-ac58-4e37-8319-fcc2f394c9ef",
        "colab": {
          "base_uri": "https://localhost:8080/",
          "height": 223
        }
      },
      "source": [
        "df_cars.head()"
      ],
      "execution_count": 0,
      "outputs": [
        {
          "output_type": "execute_result",
          "data": {
            "text/html": [
              "<div>\n",
              "<style scoped>\n",
              "    .dataframe tbody tr th:only-of-type {\n",
              "        vertical-align: middle;\n",
              "    }\n",
              "\n",
              "    .dataframe tbody tr th {\n",
              "        vertical-align: top;\n",
              "    }\n",
              "\n",
              "    .dataframe thead th {\n",
              "        text-align: right;\n",
              "    }\n",
              "</style>\n",
              "<table border=\"1\" class=\"dataframe\">\n",
              "  <thead>\n",
              "    <tr style=\"text-align: right;\">\n",
              "      <th></th>\n",
              "      <th>car</th>\n",
              "      <th>buying_low</th>\n",
              "      <th>buying_med</th>\n",
              "      <th>buying_vhigh</th>\n",
              "      <th>maint_low</th>\n",
              "      <th>maint_med</th>\n",
              "      <th>maint_vhigh</th>\n",
              "      <th>doors_3</th>\n",
              "      <th>doors_4</th>\n",
              "      <th>doors_5more</th>\n",
              "      <th>persons_4</th>\n",
              "      <th>persons_more</th>\n",
              "      <th>lug_boot_med</th>\n",
              "      <th>lug_boot_small</th>\n",
              "      <th>safety_low</th>\n",
              "      <th>safety_med</th>\n",
              "    </tr>\n",
              "  </thead>\n",
              "  <tbody>\n",
              "    <tr>\n",
              "      <th>0</th>\n",
              "      <td>unacc</td>\n",
              "      <td>0</td>\n",
              "      <td>0</td>\n",
              "      <td>1</td>\n",
              "      <td>0</td>\n",
              "      <td>0</td>\n",
              "      <td>1</td>\n",
              "      <td>0</td>\n",
              "      <td>0</td>\n",
              "      <td>0</td>\n",
              "      <td>0</td>\n",
              "      <td>0</td>\n",
              "      <td>0</td>\n",
              "      <td>1</td>\n",
              "      <td>1</td>\n",
              "      <td>0</td>\n",
              "    </tr>\n",
              "    <tr>\n",
              "      <th>1</th>\n",
              "      <td>unacc</td>\n",
              "      <td>0</td>\n",
              "      <td>0</td>\n",
              "      <td>1</td>\n",
              "      <td>0</td>\n",
              "      <td>0</td>\n",
              "      <td>1</td>\n",
              "      <td>0</td>\n",
              "      <td>0</td>\n",
              "      <td>0</td>\n",
              "      <td>0</td>\n",
              "      <td>0</td>\n",
              "      <td>0</td>\n",
              "      <td>1</td>\n",
              "      <td>0</td>\n",
              "      <td>1</td>\n",
              "    </tr>\n",
              "    <tr>\n",
              "      <th>2</th>\n",
              "      <td>unacc</td>\n",
              "      <td>0</td>\n",
              "      <td>0</td>\n",
              "      <td>1</td>\n",
              "      <td>0</td>\n",
              "      <td>0</td>\n",
              "      <td>1</td>\n",
              "      <td>0</td>\n",
              "      <td>0</td>\n",
              "      <td>0</td>\n",
              "      <td>0</td>\n",
              "      <td>0</td>\n",
              "      <td>0</td>\n",
              "      <td>1</td>\n",
              "      <td>0</td>\n",
              "      <td>0</td>\n",
              "    </tr>\n",
              "    <tr>\n",
              "      <th>3</th>\n",
              "      <td>unacc</td>\n",
              "      <td>0</td>\n",
              "      <td>0</td>\n",
              "      <td>1</td>\n",
              "      <td>0</td>\n",
              "      <td>0</td>\n",
              "      <td>1</td>\n",
              "      <td>0</td>\n",
              "      <td>0</td>\n",
              "      <td>0</td>\n",
              "      <td>0</td>\n",
              "      <td>0</td>\n",
              "      <td>1</td>\n",
              "      <td>0</td>\n",
              "      <td>1</td>\n",
              "      <td>0</td>\n",
              "    </tr>\n",
              "    <tr>\n",
              "      <th>4</th>\n",
              "      <td>unacc</td>\n",
              "      <td>0</td>\n",
              "      <td>0</td>\n",
              "      <td>1</td>\n",
              "      <td>0</td>\n",
              "      <td>0</td>\n",
              "      <td>1</td>\n",
              "      <td>0</td>\n",
              "      <td>0</td>\n",
              "      <td>0</td>\n",
              "      <td>0</td>\n",
              "      <td>0</td>\n",
              "      <td>1</td>\n",
              "      <td>0</td>\n",
              "      <td>0</td>\n",
              "      <td>1</td>\n",
              "    </tr>\n",
              "  </tbody>\n",
              "</table>\n",
              "</div>"
            ],
            "text/plain": [
              "     car  buying_low  buying_med  ...  lug_boot_small  safety_low  safety_med\n",
              "0  unacc           0           0  ...               1           1           0\n",
              "1  unacc           0           0  ...               1           0           1\n",
              "2  unacc           0           0  ...               1           0           0\n",
              "3  unacc           0           0  ...               0           1           0\n",
              "4  unacc           0           0  ...               0           0           1\n",
              "\n",
              "[5 rows x 16 columns]"
            ]
          },
          "metadata": {
            "tags": []
          },
          "execution_count": 102
        }
      ]
    },
    {
      "cell_type": "markdown",
      "metadata": {
        "id": "_x4Azth2fh5J",
        "colab_type": "text"
      },
      "source": [
        "# split our data"
      ]
    },
    {
      "cell_type": "code",
      "metadata": {
        "id": "0X1NpWrQeEMs",
        "colab_type": "code",
        "colab": {}
      },
      "source": [
        "predictors = df_cars.drop(['car'], axis=1).values\n",
        "labels = df_cars['car'].values\n",
        "\n",
        "X_train, X_test, y_train, y_test = train_test_split(predictors, labels, test_size=0.1)"
      ],
      "execution_count": 0,
      "outputs": []
    },
    {
      "cell_type": "code",
      "metadata": {
        "id": "YQ5O63s9f2HA",
        "colab_type": "code",
        "outputId": "de37f69f-bcbf-462e-ac80-8669893e4ffa",
        "colab": {
          "base_uri": "https://localhost:8080/",
          "height": 191
        }
      },
      "source": [
        "log_model_2 = LogisticRegression()\n",
        "log_model_2.fit(X_train, y_train)"
      ],
      "execution_count": 0,
      "outputs": [
        {
          "output_type": "stream",
          "text": [
            "/usr/local/lib/python3.6/dist-packages/sklearn/linear_model/logistic.py:432: FutureWarning: Default solver will be changed to 'lbfgs' in 0.22. Specify a solver to silence this warning.\n",
            "  FutureWarning)\n",
            "/usr/local/lib/python3.6/dist-packages/sklearn/linear_model/logistic.py:469: FutureWarning: Default multi_class will be changed to 'auto' in 0.22. Specify the multi_class option to silence this warning.\n",
            "  \"this warning.\", FutureWarning)\n"
          ],
          "name": "stderr"
        },
        {
          "output_type": "execute_result",
          "data": {
            "text/plain": [
              "LogisticRegression(C=1.0, class_weight=None, dual=False, fit_intercept=True,\n",
              "                   intercept_scaling=1, l1_ratio=None, max_iter=100,\n",
              "                   multi_class='warn', n_jobs=None, penalty='l2',\n",
              "                   random_state=None, solver='warn', tol=0.0001, verbose=0,\n",
              "                   warm_start=False)"
            ]
          },
          "metadata": {
            "tags": []
          },
          "execution_count": 104
        }
      ]
    },
    {
      "cell_type": "code",
      "metadata": {
        "id": "6lHhIz4sf-ev",
        "colab_type": "code",
        "outputId": "19271c84-098a-468e-b9e8-e20b9d263e81",
        "colab": {
          "base_uri": "https://localhost:8080/",
          "height": 34
        }
      },
      "source": [
        "print('Score: {}'.format(log_model_2.score(X_test, y_test)))"
      ],
      "execution_count": 0,
      "outputs": [
        {
          "output_type": "stream",
          "text": [
            "Score: 0.8670520231213873\n"
          ],
          "name": "stdout"
        }
      ]
    },
    {
      "cell_type": "code",
      "metadata": {
        "id": "ZIZbIdWogG1m",
        "colab_type": "code",
        "colab": {}
      },
      "source": [
        "from sklearn.metrics import accuracy_score"
      ],
      "execution_count": 0,
      "outputs": []
    },
    {
      "cell_type": "code",
      "metadata": {
        "id": "aioAGEX6gTLM",
        "colab_type": "code",
        "outputId": "23926ac5-6745-4aca-fe26-9865c5901aa0",
        "colab": {
          "base_uri": "https://localhost:8080/",
          "height": 34
        }
      },
      "source": [
        "print('Accuracy: {}'.format(accuracy_score(y_test, log_model_2.predict(X_test))))"
      ],
      "execution_count": 0,
      "outputs": [
        {
          "output_type": "stream",
          "text": [
            "Accuracy: 0.8670520231213873\n"
          ],
          "name": "stdout"
        }
      ]
    },
    {
      "cell_type": "code",
      "metadata": {
        "id": "-hNYxkLigd7I",
        "colab_type": "code",
        "colab": {}
      },
      "source": [
        "from sklearn.metrics import precision_score, recall_score, confusion_matrix"
      ],
      "execution_count": 0,
      "outputs": []
    },
    {
      "cell_type": "code",
      "metadata": {
        "id": "dJihGj6lg5Cu",
        "colab_type": "code",
        "outputId": "67ef390d-d99c-4ca2-b0db-3a74dcfe4f75",
        "colab": {
          "base_uri": "https://localhost:8080/",
          "height": 106
        }
      },
      "source": [
        "print('Precision: {}'.format(precision_score(y_test, log_model_2.predict(X_test), average=None)))\n",
        "print('Recall: {}'.format(recall_score(y_test, log_model_2.predict(X_test), average=None)))"
      ],
      "execution_count": 0,
      "outputs": [
        {
          "output_type": "stream",
          "text": [
            "Precision: [0.70454545 0.         0.94444444 0.        ]\n",
            "Recall: [0.79487179 0.         0.95967742 0.        ]\n"
          ],
          "name": "stdout"
        },
        {
          "output_type": "stream",
          "text": [
            "/usr/local/lib/python3.6/dist-packages/sklearn/metrics/classification.py:1437: UndefinedMetricWarning: Precision is ill-defined and being set to 0.0 in labels with no predicted samples.\n",
            "  'precision', 'predicted', average, warn_for)\n"
          ],
          "name": "stderr"
        }
      ]
    },
    {
      "cell_type": "code",
      "metadata": {
        "id": "H6eow_mqhJXj",
        "colab_type": "code",
        "outputId": "21065215-a6d6-4f47-a466-a1f3c436dda9",
        "colab": {
          "base_uri": "https://localhost:8080/",
          "height": 103
        }
      },
      "source": [
        "df_cars['car'].value_counts()"
      ],
      "execution_count": 0,
      "outputs": [
        {
          "output_type": "execute_result",
          "data": {
            "text/plain": [
              "unacc    1210\n",
              "acc       384\n",
              "good       69\n",
              "vgood      65\n",
              "Name: car, dtype: int64"
            ]
          },
          "metadata": {
            "tags": []
          },
          "execution_count": 112
        }
      ]
    },
    {
      "cell_type": "code",
      "metadata": {
        "id": "NdQsF0NNhjw4",
        "colab_type": "code",
        "outputId": "a7323840-76dc-46c1-c56a-0f4c8aa76fdd",
        "colab": {
          "base_uri": "https://localhost:8080/",
          "height": 86
        }
      },
      "source": [
        "print(confusion_matrix(y_test, log_model_2.predict(X_test)))"
      ],
      "execution_count": 0,
      "outputs": [
        {
          "output_type": "stream",
          "text": [
            "[[ 31   1   7   0]\n",
            " [  5   0   0   0]\n",
            " [  3   2 119   0]\n",
            " [  5   0   0   0]]\n"
          ],
          "name": "stdout"
        }
      ]
    },
    {
      "cell_type": "code",
      "metadata": {
        "id": "0Qaqh59jh5-_",
        "colab_type": "code",
        "colab": {}
      },
      "source": [
        ""
      ],
      "execution_count": 0,
      "outputs": []
    }
  ]
}