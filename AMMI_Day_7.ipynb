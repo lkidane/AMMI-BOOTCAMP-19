{
  "nbformat": 4,
  "nbformat_minor": 0,
  "metadata": {
    "colab": {
      "name": "AMMI_Day_7.ipynb",
      "provenance": [],
      "collapsed_sections": []
    },
    "kernelspec": {
      "name": "python3",
      "display_name": "Python 3"
    },
    "accelerator": "GPU"
  },
  "cells": [
    {
      "cell_type": "markdown",
      "metadata": {
        "id": "KS6N9_3r8pFf",
        "colab_type": "text"
      },
      "source": [
        "# AMMI Day 7"
      ]
    },
    {
      "cell_type": "markdown",
      "metadata": {
        "id": "hzsOrc2f8rzV",
        "colab_type": "text"
      },
      "source": [
        "## Morning Session\n",
        "\n",
        "### Activation Functions\n",
        "Recall that $\\hat{y} = w.x$\n",
        "* Sigmoid $\\sigma(\\hat{y}) = \\frac{1}{1 + e^{-\\hat{y}}} $\n",
        "* Hyperbolic Tangent\n",
        "* Rectified Linear Unit\n",
        "\n",
        "### Playground\n",
        "* Gradient Descent\n",
        "* Learning Rates\n",
        "\n",
        "* http://playground.tensorflow.org/"
      ]
    },
    {
      "cell_type": "code",
      "metadata": {
        "id": "ozT60RL_Buza",
        "colab_type": "code",
        "outputId": "a9bcecd0-b5a2-4894-8762-da0d25f1fc76",
        "colab": {
          "base_uri": "https://localhost:8080/",
          "height": 575
        }
      },
      "source": [
        "!pip install tensorflow==2.0.0-beta0"
      ],
      "execution_count": 0,
      "outputs": [
        {
          "output_type": "stream",
          "text": [
            "Collecting tensorflow==2.0.0-beta0\n",
            "\u001b[?25l  Downloading https://files.pythonhosted.org/packages/6c/19/0d0c7f240db7bcd6b83783b9a89a67f38584d100e23ad5ae93114be92232/tensorflow-2.0.0b0-cp36-cp36m-manylinux1_x86_64.whl (87.9MB)\n",
            "\u001b[K     |████████████████████████████████| 87.9MB 35.1MB/s \n",
            "\u001b[?25hRequirement already satisfied: numpy<2.0,>=1.14.5 in /usr/local/lib/python3.6/dist-packages (from tensorflow==2.0.0-beta0) (1.16.5)\n",
            "Requirement already satisfied: keras-preprocessing>=1.0.5 in /usr/local/lib/python3.6/dist-packages (from tensorflow==2.0.0-beta0) (1.1.0)\n",
            "Requirement already satisfied: wheel>=0.26 in /usr/local/lib/python3.6/dist-packages (from tensorflow==2.0.0-beta0) (0.33.6)\n",
            "Requirement already satisfied: absl-py>=0.7.0 in /usr/local/lib/python3.6/dist-packages (from tensorflow==2.0.0-beta0) (0.8.0)\n",
            "Requirement already satisfied: google-pasta>=0.1.6 in /usr/local/lib/python3.6/dist-packages (from tensorflow==2.0.0-beta0) (0.1.7)\n",
            "Requirement already satisfied: gast>=0.2.0 in /usr/local/lib/python3.6/dist-packages (from tensorflow==2.0.0-beta0) (0.2.2)\n",
            "Requirement already satisfied: six>=1.10.0 in /usr/local/lib/python3.6/dist-packages (from tensorflow==2.0.0-beta0) (1.12.0)\n",
            "Requirement already satisfied: grpcio>=1.8.6 in /usr/local/lib/python3.6/dist-packages (from tensorflow==2.0.0-beta0) (1.15.0)\n",
            "Requirement already satisfied: astor>=0.6.0 in /usr/local/lib/python3.6/dist-packages (from tensorflow==2.0.0-beta0) (0.8.0)\n",
            "Collecting tb-nightly<1.14.0a20190604,>=1.14.0a20190603 (from tensorflow==2.0.0-beta0)\n",
            "\u001b[?25l  Downloading https://files.pythonhosted.org/packages/a4/96/571b875cd81dda9d5dfa1422a4f9d749e67c0a8d4f4f0b33a4e5f5f35e27/tb_nightly-1.14.0a20190603-py3-none-any.whl (3.1MB)\n",
            "\u001b[K     |████████████████████████████████| 3.1MB 47.3MB/s \n",
            "\u001b[?25hRequirement already satisfied: protobuf>=3.6.1 in /usr/local/lib/python3.6/dist-packages (from tensorflow==2.0.0-beta0) (3.7.1)\n",
            "Collecting tf-estimator-nightly<1.14.0.dev2019060502,>=1.14.0.dev2019060501 (from tensorflow==2.0.0-beta0)\n",
            "\u001b[?25l  Downloading https://files.pythonhosted.org/packages/32/dd/99c47dd007dcf10d63fd895611b063732646f23059c618a373e85019eb0e/tf_estimator_nightly-1.14.0.dev2019060501-py2.py3-none-any.whl (496kB)\n",
            "\u001b[K     |████████████████████████████████| 501kB 47.7MB/s \n",
            "\u001b[?25hRequirement already satisfied: keras-applications>=1.0.6 in /usr/local/lib/python3.6/dist-packages (from tensorflow==2.0.0-beta0) (1.0.8)\n",
            "Requirement already satisfied: termcolor>=1.1.0 in /usr/local/lib/python3.6/dist-packages (from tensorflow==2.0.0-beta0) (1.1.0)\n",
            "Requirement already satisfied: wrapt>=1.11.1 in /usr/local/lib/python3.6/dist-packages (from tensorflow==2.0.0-beta0) (1.11.2)\n",
            "Requirement already satisfied: werkzeug>=0.11.15 in /usr/local/lib/python3.6/dist-packages (from tb-nightly<1.14.0a20190604,>=1.14.0a20190603->tensorflow==2.0.0-beta0) (0.16.0)\n",
            "Requirement already satisfied: setuptools>=41.0.0 in /usr/local/lib/python3.6/dist-packages (from tb-nightly<1.14.0a20190604,>=1.14.0a20190603->tensorflow==2.0.0-beta0) (41.2.0)\n",
            "Requirement already satisfied: markdown>=2.6.8 in /usr/local/lib/python3.6/dist-packages (from tb-nightly<1.14.0a20190604,>=1.14.0a20190603->tensorflow==2.0.0-beta0) (3.1.1)\n",
            "Requirement already satisfied: h5py in /usr/local/lib/python3.6/dist-packages (from keras-applications>=1.0.6->tensorflow==2.0.0-beta0) (2.8.0)\n",
            "Installing collected packages: tb-nightly, tf-estimator-nightly, tensorflow\n",
            "  Found existing installation: tensorflow 1.15.0rc3\n",
            "    Uninstalling tensorflow-1.15.0rc3:\n",
            "      Successfully uninstalled tensorflow-1.15.0rc3\n",
            "Successfully installed tb-nightly-1.14.0a20190603 tensorflow-2.0.0b0 tf-estimator-nightly-1.14.0.dev2019060501\n"
          ],
          "name": "stdout"
        }
      ]
    },
    {
      "cell_type": "code",
      "metadata": {
        "id": "NztJCZiCAxYx",
        "colab_type": "code",
        "colab": {}
      },
      "source": [
        "import tensorflow as tf\n",
        "import numpy as np"
      ],
      "execution_count": 0,
      "outputs": []
    },
    {
      "cell_type": "code",
      "metadata": {
        "id": "xFY0nyT9BqsL",
        "colab_type": "code",
        "outputId": "25953f50-6037-42a9-e800-7ccbb07a3c39",
        "colab": {
          "base_uri": "https://localhost:8080/",
          "height": 35
        }
      },
      "source": [
        "print(tf.__version__)"
      ],
      "execution_count": 0,
      "outputs": [
        {
          "output_type": "stream",
          "text": [
            "2.0.0-beta0\n"
          ],
          "name": "stdout"
        }
      ]
    },
    {
      "cell_type": "code",
      "metadata": {
        "id": "2bkgHniOA0Kk",
        "colab_type": "code",
        "outputId": "457c5c4b-56ed-4a42-8a85-7b8b0f66aa94",
        "colab": {
          "base_uri": "https://localhost:8080/",
          "height": 121
        }
      },
      "source": [
        "a = np.random.normal(0, 1, (5, 2))\n",
        "b = np.random.normal(0, 1, (2, 3))\n",
        "\n",
        "c = tf.matmul(a,b)\n",
        "print(c)"
      ],
      "execution_count": 0,
      "outputs": [
        {
          "output_type": "stream",
          "text": [
            "tf.Tensor(\n",
            "[[-0.77965303 -1.68241699  0.57305434]\n",
            " [ 0.71512504  0.92490428 -0.10120611]\n",
            " [-0.41558034  0.33548567 -0.54045347]\n",
            " [ 0.74015119 -1.52071728  1.59630656]\n",
            " [-1.04718139  1.08824247 -1.52856885]], shape=(5, 3), dtype=float64)\n"
          ],
          "name": "stdout"
        }
      ]
    },
    {
      "cell_type": "code",
      "metadata": {
        "id": "TEP9UfjGCi6P",
        "colab_type": "code",
        "outputId": "8be935b3-8b66-4393-d7d6-c34049b4ebd0",
        "colab": {
          "base_uri": "https://localhost:8080/",
          "height": 104
        }
      },
      "source": [
        "print(c.numpy())"
      ],
      "execution_count": 0,
      "outputs": [
        {
          "output_type": "stream",
          "text": [
            "[[-0.77965303 -1.68241699  0.57305434]\n",
            " [ 0.71512504  0.92490428 -0.10120611]\n",
            " [-0.41558034  0.33548567 -0.54045347]\n",
            " [ 0.74015119 -1.52071728  1.59630656]\n",
            " [-1.04718139  1.08824247 -1.52856885]]\n"
          ],
          "name": "stdout"
        }
      ]
    },
    {
      "cell_type": "code",
      "metadata": {
        "id": "AvKWDIwkEfW6",
        "colab_type": "code",
        "outputId": "3340cfb0-8091-49c6-afe3-26f478bff333",
        "colab": {
          "base_uri": "https://localhost:8080/",
          "height": 208
        }
      },
      "source": [
        "x = np.random.rand(10, 3)\n",
        "w = np.random.randn(1, x.shape[1])\n",
        "b = np.random.randn(x.shape[0], 1)\n",
        "\n",
        "y_pred = tf.matmul(x, w, transpose_b=True) + b\n",
        "print(y_pred)"
      ],
      "execution_count": 0,
      "outputs": [
        {
          "output_type": "stream",
          "text": [
            "tf.Tensor(\n",
            "[[-1.33219625]\n",
            " [ 1.05405803]\n",
            " [-0.51153602]\n",
            " [-0.18726801]\n",
            " [ 0.21037553]\n",
            " [ 0.23572902]\n",
            " [-1.4108347 ]\n",
            " [-0.36349185]\n",
            " [-0.92623722]\n",
            " [-1.36084031]], shape=(10, 1), dtype=float64)\n"
          ],
          "name": "stdout"
        }
      ]
    },
    {
      "cell_type": "markdown",
      "metadata": {
        "id": "yBgiMgxMOb4g",
        "colab_type": "text"
      },
      "source": [
        "### 0D Tensor"
      ]
    },
    {
      "cell_type": "code",
      "metadata": {
        "id": "__NK54WsOflZ",
        "colab_type": "code",
        "outputId": "6d64d373-5714-42df-efbf-8f87bd8d102b",
        "colab": {
          "base_uri": "https://localhost:8080/",
          "height": 35
        }
      },
      "source": [
        "print(tf.add(1,1))"
      ],
      "execution_count": 0,
      "outputs": [
        {
          "output_type": "stream",
          "text": [
            "tf.Tensor(2, shape=(), dtype=int32)\n"
          ],
          "name": "stdout"
        }
      ]
    },
    {
      "cell_type": "markdown",
      "metadata": {
        "id": "a0j3IcJBFlaF",
        "colab_type": "text"
      },
      "source": [
        "### 1D Tensor"
      ]
    },
    {
      "cell_type": "code",
      "metadata": {
        "id": "PMJKTLgSFrCc",
        "colab_type": "code",
        "outputId": "07470ccd-65f5-4e18-c3d6-a9c6e10f872f",
        "colab": {
          "base_uri": "https://localhost:8080/",
          "height": 52
        }
      },
      "source": [
        "_a = np.ones(5)\n",
        "_a = tf.multiply(_a, 1)\n",
        "print(_a)\n",
        "print(_a.shape)"
      ],
      "execution_count": 0,
      "outputs": [
        {
          "output_type": "stream",
          "text": [
            "tf.Tensor([1. 1. 1. 1. 1.], shape=(5,), dtype=float64)\n",
            "(5,)\n"
          ],
          "name": "stdout"
        }
      ]
    },
    {
      "cell_type": "markdown",
      "metadata": {
        "id": "ENwXOmazFsaK",
        "colab_type": "text"
      },
      "source": [
        "### 2D Tensor"
      ]
    },
    {
      "cell_type": "code",
      "metadata": {
        "id": "8xf-1RiQFu_Y",
        "colab_type": "code",
        "outputId": "4571cf23-51ee-4f55-a822-95efe208600e",
        "colab": {
          "base_uri": "https://localhost:8080/",
          "height": 87
        }
      },
      "source": [
        "_b = np.ones([2, 5])\n",
        "_b = tf.multiply(_b, 1)\n",
        "print(_b)\n",
        "print(_b.shape)"
      ],
      "execution_count": 0,
      "outputs": [
        {
          "output_type": "stream",
          "text": [
            "tf.Tensor(\n",
            "[[1. 1. 1. 1. 1.]\n",
            " [1. 1. 1. 1. 1.]], shape=(2, 5), dtype=float64)\n",
            "(2, 5)\n"
          ],
          "name": "stdout"
        }
      ]
    },
    {
      "cell_type": "markdown",
      "metadata": {
        "id": "xz9x4Ha-F5mi",
        "colab_type": "text"
      },
      "source": [
        "### 3D Tensor"
      ]
    },
    {
      "cell_type": "code",
      "metadata": {
        "id": "7f9AP06GF73L",
        "colab_type": "code",
        "outputId": "8b8e4111-fd79-4c2c-d883-09d9d8d3b33b",
        "colab": {
          "base_uri": "https://localhost:8080/",
          "height": 55
        }
      },
      "source": [
        "from tensorflow import keras\n",
        "\n",
        "file_path = keras.utils.get_file('cat.jpg', 'https://www.petmd.com/sites/default/files/what-does-it-mean-when-cat-wags-tail.jpg')\n",
        "img_raw = tf.io.read_file(file_path)\n",
        "print(repr(img_raw)[:100]+\"...\")"
      ],
      "execution_count": 0,
      "outputs": [
        {
          "output_type": "stream",
          "text": [
            "<tf.Tensor: id=1299, shape=(), dtype=string, numpy=b'\\xff\\xd8\\xff\\xe0\\x00\\x10JFIF\\x00\\x01\\x01\\x00\\x0...\n"
          ],
          "name": "stdout"
        }
      ]
    },
    {
      "cell_type": "code",
      "metadata": {
        "id": "SDYHlZ88GDHn",
        "colab_type": "code",
        "outputId": "8219a750-11de-4c9e-d8fe-1694cdbd1ea9",
        "colab": {
          "base_uri": "https://localhost:8080/",
          "height": 52
        }
      },
      "source": [
        "img_tensor = tf.image.decode_image(img_raw)\n",
        "\n",
        "print(img_tensor.shape)\n",
        "print(img_tensor.dtype)"
      ],
      "execution_count": 0,
      "outputs": [
        {
          "output_type": "stream",
          "text": [
            "(428, 590, 3)\n",
            "<dtype: 'uint8'>\n"
          ],
          "name": "stdout"
        }
      ]
    },
    {
      "cell_type": "code",
      "metadata": {
        "id": "h9QiaRztnSD3",
        "colab_type": "code",
        "outputId": "5d6e63c4-0c4b-4d11-d9d4-cc434a54ab5c",
        "colab": {
          "base_uri": "https://localhost:8080/",
          "height": 884
        }
      },
      "source": [
        "print(img_tensor)"
      ],
      "execution_count": 0,
      "outputs": [
        {
          "output_type": "stream",
          "text": [
            "tf.Tensor(\n",
            "[[[253 253 253]\n",
            "  [253 253 253]\n",
            "  [253 253 253]\n",
            "  ...\n",
            "  [253 253 253]\n",
            "  [253 253 253]\n",
            "  [253 253 253]]\n",
            "\n",
            " [[253 253 253]\n",
            "  [253 253 253]\n",
            "  [254 254 254]\n",
            "  ...\n",
            "  [254 254 254]\n",
            "  [254 254 254]\n",
            "  [254 254 254]]\n",
            "\n",
            " [[254 254 254]\n",
            "  [254 254 254]\n",
            "  [255 255 255]\n",
            "  ...\n",
            "  [255 255 255]\n",
            "  [255 255 255]\n",
            "  [255 255 255]]\n",
            "\n",
            " ...\n",
            "\n",
            " [[254 254 254]\n",
            "  [254 254 254]\n",
            "  [255 255 255]\n",
            "  ...\n",
            "  [255 255 255]\n",
            "  [255 255 255]\n",
            "  [255 255 255]]\n",
            "\n",
            " [[254 254 254]\n",
            "  [254 254 254]\n",
            "  [254 254 254]\n",
            "  ...\n",
            "  [254 254 254]\n",
            "  [254 254 254]\n",
            "  [254 254 254]]\n",
            "\n",
            " [[253 253 253]\n",
            "  [253 253 253]\n",
            "  [254 254 254]\n",
            "  ...\n",
            "  [254 254 254]\n",
            "  [254 254 254]\n",
            "  [255 255 255]]], shape=(428, 590, 3), dtype=uint8)\n"
          ],
          "name": "stdout"
        }
      ]
    },
    {
      "cell_type": "code",
      "metadata": {
        "id": "LNlZaf_XGXJd",
        "colab_type": "code",
        "outputId": "cf514d4c-8b42-4f63-8d3b-a91cdbd8e86b",
        "colab": {
          "base_uri": "https://localhost:8080/",
          "height": 69
        }
      },
      "source": [
        "img_final = tf.image.resize(img_tensor, [192, 192])\n",
        "img_final = img_final/255.0\n",
        "print(img_final.shape)\n",
        "print(img_final.numpy().min())\n",
        "print(img_final.numpy().max())"
      ],
      "execution_count": 0,
      "outputs": [
        {
          "output_type": "stream",
          "text": [
            "(192, 192, 3)\n",
            "0.0\n",
            "1.0\n"
          ],
          "name": "stdout"
        }
      ]
    },
    {
      "cell_type": "code",
      "metadata": {
        "id": "ES3Nw1szOv5h",
        "colab_type": "code",
        "colab": {}
      },
      "source": [
        ""
      ],
      "execution_count": 0,
      "outputs": []
    },
    {
      "cell_type": "markdown",
      "metadata": {
        "id": "OYIgSNrLOxBE",
        "colab_type": "text"
      },
      "source": [
        "### Define a Linear Regression Model\n",
        "\n",
        "$\\hat{y} = w.x + b$\n",
        "\n",
        "$L(y, \\hat{y})$"
      ]
    },
    {
      "cell_type": "code",
      "metadata": {
        "id": "wLtJWvxtO2O9",
        "colab_type": "code",
        "colab": {}
      },
      "source": [
        "class Model(object):\n",
        "  def __init__(self):\n",
        "    self.W = None\n",
        "    self.b = None\n",
        "    \n",
        "  def __call__(self, x):\n",
        "    if self.W == None:\n",
        "      self.W = tf.Variable(tf.random.normal(shape=(1, x.shape[1])))\n",
        "    if self.b == None:\n",
        "      self.b = tf.Variable(tf.random.normal(shape=(x.shape[0], 1)))\n",
        "    return tf.matmul(x, self.W, transpose_b=True) + self.b"
      ],
      "execution_count": 0,
      "outputs": []
    },
    {
      "cell_type": "code",
      "metadata": {
        "id": "ZvBxJwv8P27j",
        "colab_type": "code",
        "outputId": "0e460fe2-8f45-40dd-fe65-ff1cec343b8d",
        "colab": {
          "base_uri": "https://localhost:8080/",
          "height": 87
        }
      },
      "source": [
        "model = Model()\n",
        "output = model(tf.constant([3.0, 3.1, 1.9, 2.0, 2.5, 2.9], shape=(3,2)))\n",
        "print(output)"
      ],
      "execution_count": 0,
      "outputs": [
        {
          "output_type": "stream",
          "text": [
            "tf.Tensor(\n",
            "[[-1.1354551]\n",
            " [-2.6164463]\n",
            " [ 1.3604654]], shape=(3, 1), dtype=float32)\n"
          ],
          "name": "stdout"
        }
      ]
    },
    {
      "cell_type": "markdown",
      "metadata": {
        "id": "GONYHg8VSAXw",
        "colab_type": "text"
      },
      "source": [
        "### Define a Loss Function"
      ]
    },
    {
      "cell_type": "code",
      "metadata": {
        "id": "et0MBPYASCdH",
        "colab_type": "code",
        "colab": {}
      },
      "source": [
        "@tf.function\n",
        "def loss(y_pred, y):\n",
        "  return tf.reduce_mean(tf.square(y-y_pred))"
      ],
      "execution_count": 0,
      "outputs": []
    },
    {
      "cell_type": "markdown",
      "metadata": {
        "id": "GWWLWRF0SYly",
        "colab_type": "text"
      },
      "source": [
        "### Define a training function"
      ]
    },
    {
      "cell_type": "code",
      "metadata": {
        "id": "MGRir_F2SbIl",
        "colab_type": "code",
        "colab": {}
      },
      "source": [
        "def train(model, x, y, alpha):\n",
        "  x = tf.convert_to_tensor(x, np.float32) \n",
        "  y = tf.convert_to_tensor(y, np.float32)\n",
        "  with tf.GradientTape() as t:\n",
        "    t.watch(x)\n",
        "    current_loss = loss(model(x), y)\n",
        "  #print(current_loss)\n",
        "  dW, db = t.gradient(current_loss, [model.W, model.b])\n",
        "  #print(dW, db)\n",
        "  model.W.assign_sub(alpha * dW)\n",
        "  model.b.assign_sub(alpha * db)"
      ],
      "execution_count": 0,
      "outputs": []
    },
    {
      "cell_type": "markdown",
      "metadata": {
        "id": "3CKRcBtdGZYd",
        "colab_type": "text"
      },
      "source": [
        ""
      ]
    },
    {
      "cell_type": "code",
      "metadata": {
        "id": "NegvcOd4Vb_H",
        "colab_type": "code",
        "outputId": "5aa936d6-2467-4dd0-904a-c550efa95e20",
        "colab": {
          "base_uri": "https://localhost:8080/",
          "height": 55
        }
      },
      "source": [
        "import pandas as pd\n",
        "\n",
        "from google.colab import drive\n",
        "drive.mount('/content/gdrive')\n",
        "\n",
        "df = pd.read_csv('/content/gdrive/My Drive/boston/train.csv', index_col='ID')"
      ],
      "execution_count": 0,
      "outputs": [
        {
          "output_type": "stream",
          "text": [
            "Drive already mounted at /content/gdrive; to attempt to forcibly remount, call drive.mount(\"/content/gdrive\", force_remount=True).\n"
          ],
          "name": "stdout"
        }
      ]
    },
    {
      "cell_type": "code",
      "metadata": {
        "id": "wdWOnERKWY0T",
        "colab_type": "code",
        "colab": {}
      },
      "source": [
        "train_df = df.sample(frac=0.8,random_state=0)\n",
        "test_df = df.drop(train_df.index)\n",
        "\n",
        "columns = ['nox', 'rm', 'chas', 'dis', 'ptratio', 'lstat', 'rad']\n",
        "\n",
        "X_train = train_df[columns].values\n",
        "X_test = test_df[columns].values\n",
        "y_train = train_df[['medv']].values\n",
        "y_test = test_df[['medv']].values"
      ],
      "execution_count": 0,
      "outputs": []
    },
    {
      "cell_type": "code",
      "metadata": {
        "id": "TKFSncsZTSrm",
        "colab_type": "code",
        "colab": {}
      },
      "source": [
        "model = Model()\n",
        "train(model, X_train, y_train, alpha=0.1)"
      ],
      "execution_count": 0,
      "outputs": []
    },
    {
      "cell_type": "markdown",
      "metadata": {
        "id": "uWZua09J32cw",
        "colab_type": "text"
      },
      "source": [
        "### Logistic Regression"
      ]
    },
    {
      "cell_type": "code",
      "metadata": {
        "id": "s_D1kaxH31zK",
        "colab_type": "code",
        "colab": {}
      },
      "source": [
        "class LogisticModel(object):\n",
        "  def __init__(self):\n",
        "    self.W = None\n",
        "    self.b = None\n",
        "    \n",
        "  def __call__(self, x):\n",
        "    if self.W == None:\n",
        "      self.W = tf.Variable(tf.random.normal(shape=(1, x.shape[1])))\n",
        "    if self.b == None:\n",
        "      self.b = tf.Variable(tf.random.normal(shape=(x.shape[0], 1)))\n",
        "    y = tf.matmul(x, self.W, transpose_b=True) + self.b\n",
        "    return tf.math.sigmoid(y)"
      ],
      "execution_count": 0,
      "outputs": []
    },
    {
      "cell_type": "markdown",
      "metadata": {
        "id": "VL4XiQrjTMUf",
        "colab_type": "text"
      },
      "source": [
        "### Train for 10 epochs"
      ]
    },
    {
      "cell_type": "code",
      "metadata": {
        "id": "GqTaPEZvOrQ2",
        "colab_type": "code",
        "colab": {}
      },
      "source": [
        "epochs = 10\n",
        "model = Model()\n",
        "for i in range(epochs):\n",
        "  train(model, X_train, y_train, alpha=0.1)"
      ],
      "execution_count": 0,
      "outputs": []
    },
    {
      "cell_type": "code",
      "metadata": {
        "id": "1HFwVRUr1i9c",
        "colab_type": "code",
        "outputId": "fc781f81-ebf4-4c4a-f3da-0b396d9a5cbd",
        "colab": {
          "base_uri": "https://localhost:8080/",
          "height": 69
        }
      },
      "source": [
        "print(model.W)"
      ],
      "execution_count": 0,
      "outputs": [
        {
          "output_type": "stream",
          "text": [
            "<tf.Variable 'Variable:0' shape=(1, 7) dtype=float32, numpy=\n",
            "array([[-3.9231674e+18, -4.2280822e+19, -3.9986613e+17, -2.3798404e+19,\n",
            "        -1.2810750e+20, -9.5477420e+19, -7.6335363e+19]], dtype=float32)>\n"
          ],
          "name": "stdout"
        }
      ]
    },
    {
      "cell_type": "markdown",
      "metadata": {
        "id": "2VOpy2p8ZEEN",
        "colab_type": "text"
      },
      "source": [
        "## Tensorflow with Keras API"
      ]
    },
    {
      "cell_type": "code",
      "metadata": {
        "id": "GJ6Ji03UVXHz",
        "colab_type": "code",
        "colab": {}
      },
      "source": [
        "import tensorflow as tf\n",
        "from tensorflow import keras"
      ],
      "execution_count": 0,
      "outputs": []
    },
    {
      "cell_type": "code",
      "metadata": {
        "id": "6CmoYYAyWtsu",
        "colab_type": "code",
        "outputId": "e3707824-5cff-440a-a09b-9b5e38e41b28",
        "colab": {
          "base_uri": "https://localhost:8080/",
          "height": 347
        }
      },
      "source": [
        "model = keras.Sequential([\n",
        "    keras.layers.Dense(50, input_shape=(7,), activation='relu'),\n",
        "    keras.layers.Dense(50, activation='relu'),\n",
        "    keras.layers.Dense(50, activation='relu'),\n",
        "    keras.layers.Dropout(0.5),\n",
        "    keras.layers.Dense(1)\n",
        "])\n",
        "print(model.summary())"
      ],
      "execution_count": 0,
      "outputs": [
        {
          "output_type": "stream",
          "text": [
            "Model: \"sequential\"\n",
            "_________________________________________________________________\n",
            "Layer (type)                 Output Shape              Param #   \n",
            "=================================================================\n",
            "dense (Dense)                (None, 50)                400       \n",
            "_________________________________________________________________\n",
            "dense_1 (Dense)              (None, 50)                2550      \n",
            "_________________________________________________________________\n",
            "dense_2 (Dense)              (None, 50)                2550      \n",
            "_________________________________________________________________\n",
            "dropout (Dropout)            (None, 50)                0         \n",
            "_________________________________________________________________\n",
            "dense_3 (Dense)              (None, 1)                 51        \n",
            "=================================================================\n",
            "Total params: 5,551\n",
            "Trainable params: 5,551\n",
            "Non-trainable params: 0\n",
            "_________________________________________________________________\n",
            "None\n"
          ],
          "name": "stdout"
        }
      ]
    },
    {
      "cell_type": "code",
      "metadata": {
        "id": "A3p1zPIjYz0r",
        "colab_type": "code",
        "colab": {}
      },
      "source": [
        "adam = keras.optimizers.Adam(0.001)\n",
        "model.compile(optimizer=adam, loss='mse')"
      ],
      "execution_count": 0,
      "outputs": []
    },
    {
      "cell_type": "code",
      "metadata": {
        "id": "Tzu3kOpkZBcB",
        "colab_type": "code",
        "colab": {}
      },
      "source": [
        "model.fit(X_train, y_train, epochs=2000, validation_split=0.1)"
      ],
      "execution_count": 0,
      "outputs": []
    },
    {
      "cell_type": "markdown",
      "metadata": {
        "id": "SAS92NoE7tQ-",
        "colab_type": "text"
      },
      "source": [
        "### Can we engineer new features?"
      ]
    },
    {
      "cell_type": "code",
      "metadata": {
        "id": "tfRd65D31SLW",
        "colab_type": "code",
        "colab": {}
      },
      "source": [
        "# we need a new way of getting data into the model\n",
        "def df_to_dataset(df, columns, shuffle=True, batch_size=64):\n",
        "  df = df.copy()\n",
        "  labels = df.pop('medv')\n",
        "  features_df = df[columns]\n",
        "  ds = tf.data.Dataset.from_tensor_slices( (dict(features_df), labels) )\n",
        "  if shuffle:\n",
        "    ds = ds.shuffle(buffer_size=len(df))\n",
        "  ds = ds.batch(batch_size)\n",
        "  return ds"
      ],
      "execution_count": 0,
      "outputs": []
    },
    {
      "cell_type": "code",
      "metadata": {
        "id": "36THDaD75Mvz",
        "colab_type": "code",
        "colab": {}
      },
      "source": [
        "from sklearn.model_selection import train_test_split\n",
        "train, val = train_test_split(df, test_size=0.1)\n",
        "train_ds = df_to_dataset(train, columns)\n",
        "val_ds = df_to_dataset(val, columns)"
      ],
      "execution_count": 0,
      "outputs": []
    },
    {
      "cell_type": "code",
      "metadata": {
        "id": "eZgboWHG6onz",
        "colab_type": "code",
        "outputId": "7b0add91-b31a-49ee-ed34-8bbefca03710",
        "colab": {
          "base_uri": "https://localhost:8080/",
          "height": 294
        }
      },
      "source": [
        "df[columns].describe()"
      ],
      "execution_count": 0,
      "outputs": [
        {
          "output_type": "execute_result",
          "data": {
            "text/html": [
              "<div>\n",
              "<style scoped>\n",
              "    .dataframe tbody tr th:only-of-type {\n",
              "        vertical-align: middle;\n",
              "    }\n",
              "\n",
              "    .dataframe tbody tr th {\n",
              "        vertical-align: top;\n",
              "    }\n",
              "\n",
              "    .dataframe thead th {\n",
              "        text-align: right;\n",
              "    }\n",
              "</style>\n",
              "<table border=\"1\" class=\"dataframe\">\n",
              "  <thead>\n",
              "    <tr style=\"text-align: right;\">\n",
              "      <th></th>\n",
              "      <th>nox</th>\n",
              "      <th>rm</th>\n",
              "      <th>chas</th>\n",
              "      <th>dis</th>\n",
              "      <th>ptratio</th>\n",
              "      <th>lstat</th>\n",
              "      <th>rad</th>\n",
              "    </tr>\n",
              "  </thead>\n",
              "  <tbody>\n",
              "    <tr>\n",
              "      <th>count</th>\n",
              "      <td>333.000000</td>\n",
              "      <td>333.000000</td>\n",
              "      <td>333.000000</td>\n",
              "      <td>333.000000</td>\n",
              "      <td>333.000000</td>\n",
              "      <td>333.000000</td>\n",
              "      <td>333.000000</td>\n",
              "    </tr>\n",
              "    <tr>\n",
              "      <th>mean</th>\n",
              "      <td>0.557144</td>\n",
              "      <td>6.265619</td>\n",
              "      <td>0.060060</td>\n",
              "      <td>3.709934</td>\n",
              "      <td>18.448048</td>\n",
              "      <td>12.515435</td>\n",
              "      <td>9.633634</td>\n",
              "    </tr>\n",
              "    <tr>\n",
              "      <th>std</th>\n",
              "      <td>0.114955</td>\n",
              "      <td>0.703952</td>\n",
              "      <td>0.237956</td>\n",
              "      <td>1.981123</td>\n",
              "      <td>2.151821</td>\n",
              "      <td>7.067781</td>\n",
              "      <td>8.742174</td>\n",
              "    </tr>\n",
              "    <tr>\n",
              "      <th>min</th>\n",
              "      <td>0.385000</td>\n",
              "      <td>3.561000</td>\n",
              "      <td>0.000000</td>\n",
              "      <td>1.129600</td>\n",
              "      <td>12.600000</td>\n",
              "      <td>1.730000</td>\n",
              "      <td>1.000000</td>\n",
              "    </tr>\n",
              "    <tr>\n",
              "      <th>25%</th>\n",
              "      <td>0.453000</td>\n",
              "      <td>5.884000</td>\n",
              "      <td>0.000000</td>\n",
              "      <td>2.122400</td>\n",
              "      <td>17.400000</td>\n",
              "      <td>7.180000</td>\n",
              "      <td>4.000000</td>\n",
              "    </tr>\n",
              "    <tr>\n",
              "      <th>50%</th>\n",
              "      <td>0.538000</td>\n",
              "      <td>6.202000</td>\n",
              "      <td>0.000000</td>\n",
              "      <td>3.092300</td>\n",
              "      <td>19.000000</td>\n",
              "      <td>10.970000</td>\n",
              "      <td>5.000000</td>\n",
              "    </tr>\n",
              "    <tr>\n",
              "      <th>75%</th>\n",
              "      <td>0.631000</td>\n",
              "      <td>6.595000</td>\n",
              "      <td>0.000000</td>\n",
              "      <td>5.116700</td>\n",
              "      <td>20.200000</td>\n",
              "      <td>16.420000</td>\n",
              "      <td>24.000000</td>\n",
              "    </tr>\n",
              "    <tr>\n",
              "      <th>max</th>\n",
              "      <td>0.871000</td>\n",
              "      <td>8.725000</td>\n",
              "      <td>1.000000</td>\n",
              "      <td>10.710300</td>\n",
              "      <td>21.200000</td>\n",
              "      <td>37.970000</td>\n",
              "      <td>24.000000</td>\n",
              "    </tr>\n",
              "  </tbody>\n",
              "</table>\n",
              "</div>"
            ],
            "text/plain": [
              "              nox          rm        chas  ...     ptratio       lstat         rad\n",
              "count  333.000000  333.000000  333.000000  ...  333.000000  333.000000  333.000000\n",
              "mean     0.557144    6.265619    0.060060  ...   18.448048   12.515435    9.633634\n",
              "std      0.114955    0.703952    0.237956  ...    2.151821    7.067781    8.742174\n",
              "min      0.385000    3.561000    0.000000  ...   12.600000    1.730000    1.000000\n",
              "25%      0.453000    5.884000    0.000000  ...   17.400000    7.180000    4.000000\n",
              "50%      0.538000    6.202000    0.000000  ...   19.000000   10.970000    5.000000\n",
              "75%      0.631000    6.595000    0.000000  ...   20.200000   16.420000   24.000000\n",
              "max      0.871000    8.725000    1.000000  ...   21.200000   37.970000   24.000000\n",
              "\n",
              "[8 rows x 7 columns]"
            ]
          },
          "metadata": {
            "tags": []
          },
          "execution_count": 19
        }
      ]
    },
    {
      "cell_type": "code",
      "metadata": {
        "id": "5x6xfP20yLc-",
        "colab_type": "code",
        "colab": {}
      },
      "source": [
        "feature_columns = []\n",
        "\n",
        "# numeric columns\n",
        "for _col in columns:\n",
        "  feature_columns.append(tf.feature_column.numeric_column(_col))\n",
        "  \n",
        "# bucketize number of rooms\n",
        "rm_buckets = tf.feature_column.bucketized_column(tf.feature_column.numeric_column('rm'), boundaries=[1, 2, 3, 4, 5, 6, 7, 8, 9])\n",
        "rad_buckets = tf.feature_column.bucketized_column(tf.feature_column.numeric_column('rad'), boundaries=[1, 5, 10])\n",
        "nox_buckets = tf.feature_column.bucketized_column(tf.feature_column.numeric_column('nox'), boundaries=[0.1, 0.2, 0.3, 0.4, 0.5, 0.6, 0.7, 0.8, 0.9])\n",
        "\n",
        "feature_columns.append(rm_buckets)\n",
        "feature_columns.append(rad_buckets)\n",
        "feature_columns.append(nox_buckets)\n",
        "\n",
        "# cross rooms and nox\n"
      ],
      "execution_count": 0,
      "outputs": []
    },
    {
      "cell_type": "code",
      "metadata": {
        "id": "vE8DshK1zaLD",
        "colab_type": "code",
        "colab": {}
      },
      "source": [
        "featuresLayer = keras.layers.DenseFeatures(feature_columns)\n",
        "model = keras.Sequential([\n",
        "    featuresLayer,\n",
        "    keras.layers.Dense(50, activation='relu'),\n",
        "    keras.layers.Dense(50, activation='relu'),\n",
        "    keras.layers.Dense(50, activation='relu'),\n",
        "    keras.layers.Dropout(0.5),\n",
        "    keras.layers.Dense(1)\n",
        "])\n",
        "\n",
        "model.compile(optimizer='adam', loss='mse')\n",
        "\n",
        "model.fit(train_ds, epochs=50, validation_data=val_ds)"
      ],
      "execution_count": 0,
      "outputs": []
    },
    {
      "cell_type": "markdown",
      "metadata": {
        "id": "nRZr21L_mkBW",
        "colab_type": "text"
      },
      "source": [
        "$$"
      ]
    },
    {
      "cell_type": "markdown",
      "metadata": {
        "id": "P-R8o11vz-GO",
        "colab_type": "text"
      },
      "source": [
        "### TensorFlow Estimators"
      ]
    },
    {
      "cell_type": "code",
      "metadata": {
        "id": "pR1xaQOHMk9r",
        "colab_type": "code",
        "colab": {}
      },
      "source": [
        "def train_fn():\n",
        "  df = train_df.copy()\n",
        "  labels = df.pop('medv')\n",
        "  features_df = df[columns]\n",
        "  ds = tf.data.Dataset.from_tensor_slices( (dict(features_df), labels) )\n",
        "  ds = ds.shuffle(1000).batch(64).repeat(5)\n",
        "  \n",
        "  return ds\n",
        "\n",
        "def val_fn():\n",
        "  df = test_df.copy()\n",
        "  labels = df.pop('medv')\n",
        "  features_df = df[columns]\n",
        "  ds = tf.data.Dataset.from_tensor_slices( (dict(features_df), labels) )\n",
        "  ds = ds.batch(64).repeat(1)\n",
        "  \n",
        "  return ds"
      ],
      "execution_count": 0,
      "outputs": []
    },
    {
      "cell_type": "code",
      "metadata": {
        "id": "TbqiDK2g0BV-",
        "colab_type": "code",
        "outputId": "3c1a3d7f-5fe4-4f03-c5f7-8d9082ee8d4a",
        "colab": {
          "base_uri": "https://localhost:8080/",
          "height": 193
        }
      },
      "source": [
        "estimator = tf.estimator.LinearRegressor(feature_columns=feature_columns)"
      ],
      "execution_count": 0,
      "outputs": [
        {
          "output_type": "stream",
          "text": [
            "INFO:tensorflow:Using default config.\n",
            "WARNING:tensorflow:Using temporary folder as model directory: /tmp/tmpphudyalz\n",
            "INFO:tensorflow:Using config: {'_model_dir': '/tmp/tmpphudyalz', '_tf_random_seed': None, '_save_summary_steps': 100, '_save_checkpoints_steps': None, '_save_checkpoints_secs': 600, '_session_config': allow_soft_placement: true\n",
            "graph_options {\n",
            "  rewrite_options {\n",
            "    meta_optimizer_iterations: ONE\n",
            "  }\n",
            "}\n",
            ", '_keep_checkpoint_max': 5, '_keep_checkpoint_every_n_hours': 10000, '_log_step_count_steps': 100, '_train_distribute': None, '_device_fn': None, '_protocol': None, '_eval_distribute': None, '_experimental_distribute': None, '_experimental_max_worker_delay_secs': None, '_service': None, '_cluster_spec': <tensorflow.python.training.server_lib.ClusterSpec object at 0x7f0971a85390>, '_task_type': 'worker', '_task_id': 0, '_global_id_in_cluster': 0, '_master': '', '_evaluation_master': '', '_is_chief': True, '_num_ps_replicas': 0, '_num_worker_replicas': 1}\n"
          ],
          "name": "stdout"
        }
      ]
    },
    {
      "cell_type": "code",
      "metadata": {
        "id": "_UcNfxrCMVfu",
        "colab_type": "code",
        "outputId": "52b3ed9f-7e69-4304-a09d-e9ff6a6c8c45",
        "colab": {
          "base_uri": "https://localhost:8080/",
          "height": 384
        }
      },
      "source": [
        "estimator.train(input_fn=input_fn, steps=None)"
      ],
      "execution_count": 0,
      "outputs": [
        {
          "output_type": "stream",
          "text": [
            "INFO:tensorflow:Calling model_fn.\n",
            "WARNING:tensorflow:From /usr/local/lib/python3.6/dist-packages/tensorflow/python/ops/sparse_ops.py:1719: add_dispatch_support.<locals>.wrapper (from tensorflow.python.ops.array_ops) is deprecated and will be removed in a future version.\n",
            "Instructions for updating:\n",
            "Use tf.where in 2.0, which has the same broadcast rule as np.where\n",
            "WARNING:tensorflow:From /usr/local/lib/python3.6/dist-packages/tensorflow_estimator/python/estimator/canned/linear.py:308: to_float (from tensorflow.python.ops.math_ops) is deprecated and will be removed in a future version.\n",
            "Instructions for updating:\n",
            "Use `tf.cast` instead.\n",
            "WARNING:tensorflow:From /usr/local/lib/python3.6/dist-packages/tensorflow/python/keras/optimizer_v2/ftrl.py:142: calling Constant.__init__ (from tensorflow.python.ops.init_ops) with dtype is deprecated and will be removed in a future version.\n",
            "Instructions for updating:\n",
            "Call initializer instance with the dtype argument instead of passing it to the constructor\n",
            "INFO:tensorflow:Done calling model_fn.\n",
            "INFO:tensorflow:Create CheckpointSaverHook.\n",
            "INFO:tensorflow:Graph was finalized.\n",
            "INFO:tensorflow:Running local_init_op.\n",
            "INFO:tensorflow:Done running local_init_op.\n",
            "INFO:tensorflow:Saving checkpoints for 0 into /tmp/tmpphudyalz/model.ckpt.\n",
            "INFO:tensorflow:loss = 609.0302, step = 0\n",
            "INFO:tensorflow:Saving checkpoints for 25 into /tmp/tmpphudyalz/model.ckpt.\n",
            "INFO:tensorflow:Loss for final step: 35.415752.\n"
          ],
          "name": "stdout"
        },
        {
          "output_type": "execute_result",
          "data": {
            "text/plain": [
              "<tensorflow_estimator.python.estimator.canned.linear.LinearRegressorV2 at 0x7f09e455fa58>"
            ]
          },
          "metadata": {
            "tags": []
          },
          "execution_count": 80
        }
      ]
    },
    {
      "cell_type": "markdown",
      "metadata": {
        "id": "4gn2TQ8w9M0O",
        "colab_type": "text"
      },
      "source": [
        "## Afternoon\n",
        "### Pytorch 1.0\n",
        "* You should probably restart the runtime at this point"
      ]
    },
    {
      "cell_type": "code",
      "metadata": {
        "id": "QVz0B-Gh8lUr",
        "colab_type": "code",
        "colab": {}
      },
      "source": [
        "! pip install torch torchvision"
      ],
      "execution_count": 0,
      "outputs": []
    },
    {
      "cell_type": "code",
      "metadata": {
        "id": "QV7w1PV6eRLz",
        "colab_type": "code",
        "colab": {}
      },
      "source": [
        "import torch"
      ],
      "execution_count": 0,
      "outputs": []
    },
    {
      "cell_type": "code",
      "metadata": {
        "id": "hLrVRWmidytM",
        "colab_type": "code",
        "outputId": "cc4750fd-0af5-4ebf-f95d-494fd5b35afb",
        "colab": {
          "base_uri": "https://localhost:8080/",
          "height": 52
        }
      },
      "source": [
        "a = torch.rand(2,2)\n",
        "b = torch.rand(2,2)\n",
        "c = a + b\n",
        "print(c)"
      ],
      "execution_count": 0,
      "outputs": [
        {
          "output_type": "stream",
          "text": [
            "tensor([[1.0091, 1.5567],\n",
            "        [0.2449, 1.7678]])\n"
          ],
          "name": "stdout"
        }
      ]
    },
    {
      "cell_type": "code",
      "metadata": {
        "id": "QZxN9EZGePJT",
        "colab_type": "code",
        "outputId": "28eb4b05-234b-4d43-ca73-57c487d3bf11",
        "colab": {
          "base_uri": "https://localhost:8080/",
          "height": 52
        }
      },
      "source": [
        "d = torch.add(a, b)\n",
        "print(d)"
      ],
      "execution_count": 0,
      "outputs": [
        {
          "output_type": "stream",
          "text": [
            "tensor([[0.9202, 0.5588],\n",
            "        [1.1854, 1.7655]])\n"
          ],
          "name": "stdout"
        }
      ]
    },
    {
      "cell_type": "code",
      "metadata": {
        "id": "QhfcL3nWedPP",
        "colab_type": "code",
        "outputId": "fda1a117-5805-434c-8e2f-20c1abf8d6c7",
        "colab": {
          "base_uri": "https://localhost:8080/",
          "height": 87
        }
      },
      "source": [
        "# a += 5\n",
        "print(a)\n",
        "a.add_(5)\n",
        "print(a)"
      ],
      "execution_count": 0,
      "outputs": [
        {
          "output_type": "stream",
          "text": [
            "tensor([[0.9367, 0.6118],\n",
            "        [0.2269, 0.9910]])\n",
            "tensor([[5.9367, 5.6118],\n",
            "        [5.2269, 5.9910]])\n"
          ],
          "name": "stdout"
        }
      ]
    },
    {
      "cell_type": "code",
      "metadata": {
        "id": "XEvEHLwhiaeN",
        "colab_type": "code",
        "outputId": "366ac16a-91c2-4366-eeea-e25c17980f7b",
        "colab": {
          "base_uri": "https://localhost:8080/",
          "height": 35
        }
      },
      "source": [
        "print(a.shape)"
      ],
      "execution_count": 0,
      "outputs": [
        {
          "output_type": "stream",
          "text": [
            "torch.Size([2, 2])\n"
          ],
          "name": "stdout"
        }
      ]
    },
    {
      "cell_type": "code",
      "metadata": {
        "id": "ynXT1y4DernW",
        "colab_type": "code",
        "outputId": "41041433-6616-4b2c-ac83-4475befc54e0",
        "colab": {
          "base_uri": "https://localhost:8080/",
          "height": 156
        }
      },
      "source": [
        "print(a * b)\n",
        "print(a)\n",
        "a.mul(b)\n",
        "print(a)\n",
        "a.mul_(b)\n",
        "print(a)"
      ],
      "execution_count": 0,
      "outputs": [
        {
          "output_type": "stream",
          "text": [
            "tensor([[3.1084e-02, 5.0109e+00],\n",
            "        [1.6914e-03, 3.6155e+00]])\n",
            "tensor([[0.4296, 5.3028],\n",
            "        [0.0940, 4.6541]])\n",
            "tensor([[0.4296, 5.3028],\n",
            "        [0.0940, 4.6541]])\n",
            "tensor([[3.1084e-02, 5.0109e+00],\n",
            "        [1.6914e-03, 3.6155e+00]])\n"
          ],
          "name": "stdout"
        }
      ]
    },
    {
      "cell_type": "code",
      "metadata": {
        "id": "eGnyY6oxe-nN",
        "colab_type": "code",
        "outputId": "9afe7239-5e6f-4433-9509-51f17c7cab10",
        "colab": {
          "base_uri": "https://localhost:8080/",
          "height": 243
        }
      },
      "source": [
        "a = torch.rand(10000, 10000)\n",
        "b = torch.rand(10000, 10000)\n",
        "a.matmul(b)"
      ],
      "execution_count": 0,
      "outputs": [
        {
          "output_type": "execute_result",
          "data": {
            "text/plain": [
              "tensor([[2469.5039, 2511.7175, 2515.6650,  ..., 2511.0210, 2503.0608,\n",
              "         2492.7117],\n",
              "        [2475.8333, 2529.4609, 2542.2546,  ..., 2565.6462, 2542.2822,\n",
              "         2505.0024],\n",
              "        [2453.8730, 2516.9917, 2526.4529,  ..., 2515.3352, 2509.9707,\n",
              "         2495.4531],\n",
              "        ...,\n",
              "        [2500.7844, 2571.1865, 2576.1082,  ..., 2552.0007, 2547.2495,\n",
              "         2534.3420],\n",
              "        [2477.8733, 2544.0698, 2540.1116,  ..., 2526.7979, 2537.8604,\n",
              "         2491.5720],\n",
              "        [2459.9749, 2544.2688, 2524.2395,  ..., 2510.9868, 2512.9731,\n",
              "         2485.2451]])"
            ]
          },
          "metadata": {
            "tags": []
          },
          "execution_count": 88
        }
      ]
    },
    {
      "cell_type": "markdown",
      "metadata": {
        "id": "n54EwRJcgTJZ",
        "colab_type": "text"
      },
      "source": [
        "### Move to GPU"
      ]
    },
    {
      "cell_type": "code",
      "metadata": {
        "id": "MYylNgVDhAJ9",
        "colab_type": "code",
        "outputId": "99c33b5f-37d5-41f2-913c-7dc16e5da906",
        "colab": {
          "base_uri": "https://localhost:8080/",
          "height": 35
        }
      },
      "source": [
        "print(torch.cuda.is_available())"
      ],
      "execution_count": 0,
      "outputs": [
        {
          "output_type": "stream",
          "text": [
            "True\n"
          ],
          "name": "stdout"
        }
      ]
    },
    {
      "cell_type": "code",
      "metadata": {
        "id": "5Rj0xFV2flUx",
        "colab_type": "code",
        "outputId": "008e476b-7dac-4aa7-f300-40517bbc255f",
        "colab": {
          "base_uri": "https://localhost:8080/",
          "height": 243
        }
      },
      "source": [
        "a = a.cuda()\n",
        "b = b.cuda()\n",
        "a.matmul(b)"
      ],
      "execution_count": 0,
      "outputs": [
        {
          "output_type": "execute_result",
          "data": {
            "text/plain": [
              "tensor([[2469.5054, 2511.7136, 2515.6689,  ..., 2511.0144, 2503.0620,\n",
              "         2492.7112],\n",
              "        [2475.8306, 2529.4595, 2542.2600,  ..., 2565.6470, 2542.2781,\n",
              "         2505.0000],\n",
              "        [2453.8689, 2516.9963, 2526.4497,  ..., 2515.3303, 2509.9648,\n",
              "         2495.4561],\n",
              "        ...,\n",
              "        [2500.7859, 2571.1890, 2576.1123,  ..., 2552.0056, 2547.2485,\n",
              "         2534.3398],\n",
              "        [2477.8738, 2544.0691, 2540.1091,  ..., 2526.8013, 2537.8616,\n",
              "         2491.5718],\n",
              "        [2459.9756, 2544.2671, 2524.2366,  ..., 2510.9856, 2512.9712,\n",
              "         2485.2458]], device='cuda:0')"
            ]
          },
          "metadata": {
            "tags": []
          },
          "execution_count": 90
        }
      ]
    },
    {
      "cell_type": "code",
      "metadata": {
        "id": "hxMNFL7Egb5r",
        "colab_type": "code",
        "outputId": "93af7aec-8c7e-4280-da7b-5d1a1728ee99",
        "colab": {
          "base_uri": "https://localhost:8080/",
          "height": 35
        }
      },
      "source": [
        "features = torch.randn( (1,5))\n",
        "weights = torch.randn_like(features)\n",
        "bias = torch.randn( (1,1))\n",
        "\n",
        "print(torch.sum(features * weights + bias) )"
      ],
      "execution_count": 0,
      "outputs": [
        {
          "output_type": "stream",
          "text": [
            "tensor(-10.5711)\n"
          ],
          "name": "stdout"
        }
      ]
    },
    {
      "cell_type": "code",
      "metadata": {
        "id": "Pp_lP1qbiOQo",
        "colab_type": "code",
        "outputId": "05a58eaf-03d3-48fb-b0d3-1dde55a2e863",
        "colab": {
          "base_uri": "https://localhost:8080/",
          "height": 35
        }
      },
      "source": [
        "print(torch.mm(features, weights.view(5,1)) + bias)"
      ],
      "execution_count": 0,
      "outputs": [
        {
          "output_type": "stream",
          "text": [
            "tensor([[-4.1206]])\n"
          ],
          "name": "stdout"
        }
      ]
    },
    {
      "cell_type": "code",
      "metadata": {
        "id": "gC-D7oybivYh",
        "colab_type": "code",
        "colab": {}
      },
      "source": [
        ""
      ],
      "execution_count": 0,
      "outputs": []
    },
    {
      "cell_type": "markdown",
      "metadata": {
        "id": "c675ME8YjH5-",
        "colab_type": "text"
      },
      "source": [
        "### Gradients"
      ]
    },
    {
      "cell_type": "code",
      "metadata": {
        "id": "0sKvPBBAjJXj",
        "colab_type": "code",
        "colab": {}
      },
      "source": [
        "x = torch.autograd.Variable(torch.ones(2, 2), requires_grad=True)"
      ],
      "execution_count": 0,
      "outputs": []
    },
    {
      "cell_type": "code",
      "metadata": {
        "id": "XqEDXzmejmEf",
        "colab_type": "code",
        "outputId": "f062ed95-89db-4df8-95c5-120cbbb9f369",
        "colab": {
          "base_uri": "https://localhost:8080/",
          "height": 35
        }
      },
      "source": [
        "y = x.mean()\n",
        "print(y)"
      ],
      "execution_count": 0,
      "outputs": [
        {
          "output_type": "stream",
          "text": [
            "tensor(1., grad_fn=<MeanBackward0>)\n"
          ],
          "name": "stdout"
        }
      ]
    },
    {
      "cell_type": "code",
      "metadata": {
        "id": "3TqZl2kXjtC7",
        "colab_type": "code",
        "outputId": "c9956dd0-0a2a-45c7-9164-ca35cf03f993",
        "colab": {
          "base_uri": "https://localhost:8080/",
          "height": 35
        }
      },
      "source": [
        "print(y.backward())"
      ],
      "execution_count": 0,
      "outputs": [
        {
          "output_type": "stream",
          "text": [
            "None\n"
          ],
          "name": "stdout"
        }
      ]
    },
    {
      "cell_type": "code",
      "metadata": {
        "id": "zAVKRjzSjvv6",
        "colab_type": "code",
        "outputId": "48480e67-e9ab-478b-f896-41e6bac6dcc0",
        "colab": {
          "base_uri": "https://localhost:8080/",
          "height": 52
        }
      },
      "source": [
        "print(x.grad)"
      ],
      "execution_count": 0,
      "outputs": [
        {
          "output_type": "stream",
          "text": [
            "tensor([[0.2500, 0.2500],\n",
            "        [0.2500, 0.2500]])\n"
          ],
          "name": "stdout"
        }
      ]
    },
    {
      "cell_type": "code",
      "metadata": {
        "id": "bniVkOY5j0hB",
        "colab_type": "code",
        "outputId": "d6c95ec1-86c2-4937-a845-89c4e930782f",
        "colab": {
          "base_uri": "https://localhost:8080/",
          "height": 35
        }
      },
      "source": [
        "print(x.grad_fn)"
      ],
      "execution_count": 0,
      "outputs": [
        {
          "output_type": "stream",
          "text": [
            "None\n"
          ],
          "name": "stdout"
        }
      ]
    },
    {
      "cell_type": "code",
      "metadata": {
        "id": "oKQPHRjRj7Pk",
        "colab_type": "code",
        "outputId": "874ade40-3fc4-4cbb-986b-b37f8f4be291",
        "colab": {
          "base_uri": "https://localhost:8080/",
          "height": 52
        }
      },
      "source": [
        "print(x.data)"
      ],
      "execution_count": 0,
      "outputs": [
        {
          "output_type": "stream",
          "text": [
            "tensor([[1., 1.],\n",
            "        [1., 1.]])\n"
          ],
          "name": "stdout"
        }
      ]
    },
    {
      "cell_type": "code",
      "metadata": {
        "id": "J4w64zCxj-Ht",
        "colab_type": "code",
        "outputId": "8185f31c-358a-404f-ada7-f1b35c956021",
        "colab": {
          "base_uri": "https://localhost:8080/",
          "height": 35
        }
      },
      "source": [
        "print(y.grad_fn)"
      ],
      "execution_count": 0,
      "outputs": [
        {
          "output_type": "stream",
          "text": [
            "<MeanBackward0 object at 0x7f09732910b8>\n"
          ],
          "name": "stdout"
        }
      ]
    },
    {
      "cell_type": "markdown",
      "metadata": {
        "id": "Y3MwrFdHkdax",
        "colab_type": "text"
      },
      "source": [
        "### Import Data"
      ]
    },
    {
      "cell_type": "code",
      "metadata": {
        "id": "TvutX9fakbsj",
        "colab_type": "code",
        "outputId": "fddbbb3b-b1b1-443c-edbd-0c69853c99f0",
        "colab": {
          "base_uri": "https://localhost:8080/",
          "height": 55
        }
      },
      "source": [
        "import pandas as pd\n",
        "\n",
        "from google.colab import drive\n",
        "drive.mount('/content/gdrive')\n",
        "\n",
        "df = pd.read_csv('/content/gdrive/My Drive/boston/train.csv', index_col='ID')"
      ],
      "execution_count": 0,
      "outputs": [
        {
          "output_type": "stream",
          "text": [
            "Drive already mounted at /content/gdrive; to attempt to forcibly remount, call drive.mount(\"/content/gdrive\", force_remount=True).\n"
          ],
          "name": "stdout"
        }
      ]
    },
    {
      "cell_type": "code",
      "metadata": {
        "id": "zBtE_64xkAJ9",
        "colab_type": "code",
        "colab": {}
      },
      "source": [
        "train_df = df.sample(frac=0.8,random_state=0)\n",
        "test_df = df.drop(train_df.index)\n",
        "\n",
        "columns = ['nox', 'rm', 'chas', 'dis', 'ptratio', 'lstat', 'rad']\n",
        "\n",
        "X_train = train_df[columns].values\n",
        "X_test = test_df[columns].values\n",
        "y_train = train_df[['medv']].values\n",
        "y_test = test_df[['medv']].values"
      ],
      "execution_count": 0,
      "outputs": []
    },
    {
      "cell_type": "markdown",
      "metadata": {
        "id": "7SeH5AYvpG4R",
        "colab_type": "text"
      },
      "source": [
        "### Simple Linear Model"
      ]
    },
    {
      "cell_type": "code",
      "metadata": {
        "id": "jZhtjFd4ooiC",
        "colab_type": "code",
        "colab": {}
      },
      "source": [
        "class SimpleModel():\n",
        "  def __init__(self, x, y, lr=0.001):\n",
        "    self.X = torch.autograd.Variable(torch.from_numpy(x).type(torch.FloatTensor))\n",
        "    self.y = torch.autograd.Variable(torch.from_numpy(y).type(torch.FloatTensor))\n",
        "    self.W = torch.autograd.Variable(torch.randn(x.shape[1], 1), requires_grad=True)\n",
        "    self.b = torch.autograd.Variable(torch.randn(1, 1), requires_grad=True)\n",
        "    self.alpha = lr\n",
        "    \n",
        "  def pred(self):\n",
        "    return torch.matmul(self.X, self.W) + self.b\n",
        "  \n",
        "  def loss_fn(self):\n",
        "    loss = (self.y - self.pred()).pow(2).sum()/self.X.shape[0]\n",
        "    for p in [self.W, self.b]:\n",
        "      if not p.grad is None:\n",
        "        p.grad.data.zero_()\n",
        "    loss.backward()\n",
        "    return loss.data.item()\n",
        "  \n",
        "  def optimize(self):\n",
        "    self.W.data -= self.alpha * self.W.grad.data\n",
        "    self.b.data -= self.alpha * self.b.grad.data\n",
        "    \n",
        "  def train(self, epochs=100):\n",
        "    for i in range(epochs):\n",
        "      l = self.loss_fn()\n",
        "      if i%10 == 0:\n",
        "        print('Step:{} -- Current Loss: {}'.format(i, l))\n",
        "      self.optimize()"
      ],
      "execution_count": 0,
      "outputs": []
    },
    {
      "cell_type": "code",
      "metadata": {
        "id": "T6P90baRoRKS",
        "colab_type": "code",
        "colab": {}
      },
      "source": [
        "model = SimpleModel(X_train, y_train)"
      ],
      "execution_count": 0,
      "outputs": []
    },
    {
      "cell_type": "code",
      "metadata": {
        "id": "DDlKGqzxrZXc",
        "colab_type": "code",
        "outputId": "df1e7e80-e8e8-4a9c-bd0f-35ad577d3bba",
        "colab": {
          "base_uri": "https://localhost:8080/",
          "height": 104
        }
      },
      "source": [
        "model.train(50)"
      ],
      "execution_count": 0,
      "outputs": [
        {
          "output_type": "stream",
          "text": [
            "Step:0 -- Current Loss: 2725.74658203125\n",
            "Step:10 -- Current Loss: 162.29730224609375\n",
            "Step:20 -- Current Loss: 92.99630737304688\n",
            "Step:30 -- Current Loss: 74.25244903564453\n",
            "Step:40 -- Current Loss: 67.72014617919922\n"
          ],
          "name": "stdout"
        }
      ]
    },
    {
      "cell_type": "code",
      "metadata": {
        "id": "afGhAYgx8_aM",
        "colab_type": "code",
        "colab": {}
      },
      "source": [
        ""
      ],
      "execution_count": 0,
      "outputs": []
    }
  ]
}