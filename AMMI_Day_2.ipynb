{
  "nbformat": 4,
  "nbformat_minor": 0,
  "metadata": {
    "colab": {
      "name": "AMMI_Day_2.ipynb",
      "provenance": []
    },
    "kernelspec": {
      "name": "python3",
      "display_name": "Python 3"
    }
  },
  "cells": [
    {
      "cell_type": "markdown",
      "metadata": {
        "id": "pc0NejJc5T0i",
        "colab_type": "text"
      },
      "source": [
        "# AMMI Day 2"
      ]
    },
    {
      "cell_type": "markdown",
      "metadata": {
        "id": "SMIRvhvj5W3Q",
        "colab_type": "text"
      },
      "source": [
        "## Morning Session\n",
        "### Python Data Structures\n",
        "* Lists\n",
        "* Dictionaries\n",
        "* Stacks\n",
        "* Queues"
      ]
    },
    {
      "cell_type": "markdown",
      "metadata": {
        "id": "DUp2U4eO6Yis",
        "colab_type": "text"
      },
      "source": [
        "## Lists\n",
        "Collection type that is ordered and changeable"
      ]
    },
    {
      "cell_type": "code",
      "metadata": {
        "id": "iY6lYat36iTs",
        "colab_type": "code",
        "outputId": "92ac3164-87ee-44e5-fab1-c4cac7392b8a",
        "colab": {
          "base_uri": "https://localhost:8080/",
          "height": 51
        }
      },
      "source": [
        "_list1 = ['zero', 'first', 'second', 'third']\n",
        "print(_list1)\n",
        "print(len(_list1))"
      ],
      "execution_count": 0,
      "outputs": [
        {
          "output_type": "stream",
          "text": [
            "['zero', 'first', 'second', 'third']\n",
            "4\n"
          ],
          "name": "stdout"
        }
      ]
    },
    {
      "cell_type": "markdown",
      "metadata": {
        "id": "RcxJ0r7C6u2_",
        "colab_type": "text"
      },
      "source": [
        "0-based index"
      ]
    },
    {
      "cell_type": "code",
      "metadata": {
        "id": "lQbrIsJR68Rk",
        "colab_type": "code",
        "outputId": "f4cdfd88-54b8-437e-8edb-f961f40e7095",
        "colab": {
          "base_uri": "https://localhost:8080/",
          "height": 34
        }
      },
      "source": [
        "print(_list1[2] )"
      ],
      "execution_count": 0,
      "outputs": [
        {
          "output_type": "stream",
          "text": [
            "second\n"
          ],
          "name": "stdout"
        }
      ]
    },
    {
      "cell_type": "markdown",
      "metadata": {
        "id": "tFBvuRi17AxS",
        "colab_type": "text"
      },
      "source": [
        "can we start counting from the end?"
      ]
    },
    {
      "cell_type": "code",
      "metadata": {
        "id": "lqCQGWkZ7D9i",
        "colab_type": "code",
        "outputId": "fe90fcca-dca2-4f0d-bd56-0c537625ccca",
        "colab": {
          "base_uri": "https://localhost:8080/",
          "height": 34
        }
      },
      "source": [
        "print(_list1[-1])"
      ],
      "execution_count": 0,
      "outputs": [
        {
          "output_type": "stream",
          "text": [
            "third\n"
          ],
          "name": "stdout"
        }
      ]
    },
    {
      "cell_type": "markdown",
      "metadata": {
        "id": "PM_Q4MlD7TQU",
        "colab_type": "text"
      },
      "source": [
        "extract a range"
      ]
    },
    {
      "cell_type": "code",
      "metadata": {
        "id": "zeK4dg9x7VyC",
        "colab_type": "code",
        "outputId": "12a68fb2-25f4-4fc1-d868-43a28a4f928f",
        "colab": {
          "base_uri": "https://localhost:8080/",
          "height": 34
        }
      },
      "source": [
        "_list = ['zero', 'one', 'two', 'three', 'four', 'five', 'six', 'seven', 'eight']\n",
        "print(_list[2:5])"
      ],
      "execution_count": 0,
      "outputs": [
        {
          "output_type": "stream",
          "text": [
            "['two', 'three', 'four']\n"
          ],
          "name": "stdout"
        }
      ]
    },
    {
      "cell_type": "markdown",
      "metadata": {
        "id": "o-zTFETW7xFq",
        "colab_type": "text"
      },
      "source": [
        "update the value at index 0"
      ]
    },
    {
      "cell_type": "code",
      "metadata": {
        "id": "4qu6okYv73fB",
        "colab_type": "code",
        "outputId": "7095da0c-ce98-4bf6-cc38-552077b64ed5",
        "colab": {
          "base_uri": "https://localhost:8080/",
          "height": 34
        }
      },
      "source": [
        "_list[0] = 'updated zero'\n",
        "print(_list)"
      ],
      "execution_count": 0,
      "outputs": [
        {
          "output_type": "stream",
          "text": [
            "['updated zero', 'one', 'two', 'three', 'four', 'five', 'six', 'seven', 'eight']\n"
          ],
          "name": "stdout"
        }
      ]
    },
    {
      "cell_type": "markdown",
      "metadata": {
        "id": "h93N_Py8AOmt",
        "colab_type": "text"
      },
      "source": [
        "can we iterate over a list?"
      ]
    },
    {
      "cell_type": "code",
      "metadata": {
        "id": "e9EQAEidAQnN",
        "colab_type": "code",
        "outputId": "41704a9d-24be-404b-aabd-ddd10a496fb6",
        "colab": {
          "base_uri": "https://localhost:8080/",
          "height": 170
        }
      },
      "source": [
        "for i in _list:\n",
        "  print(i)"
      ],
      "execution_count": 0,
      "outputs": [
        {
          "output_type": "stream",
          "text": [
            "updated zero\n",
            "one\n",
            "two\n",
            "three\n",
            "four\n",
            "five\n",
            "six\n",
            "seven\n",
            "eight\n"
          ],
          "name": "stdout"
        }
      ]
    },
    {
      "cell_type": "markdown",
      "metadata": {
        "id": "VfCyOLt7Anmz",
        "colab_type": "text"
      },
      "source": [
        "can we check for an item in a list?"
      ]
    },
    {
      "cell_type": "code",
      "metadata": {
        "id": "nT0D-t37Ap6G",
        "colab_type": "code",
        "outputId": "97e83c4a-2124-4646-a01c-511832f526c9",
        "colab": {
          "base_uri": "https://localhost:8080/",
          "height": 34
        }
      },
      "source": [
        "if 'two' in _list:\n",
        "  print('exists')"
      ],
      "execution_count": 0,
      "outputs": [
        {
          "output_type": "stream",
          "text": [
            "exists\n"
          ],
          "name": "stdout"
        }
      ]
    },
    {
      "cell_type": "code",
      "metadata": {
        "id": "oQS6MHZ6n06y",
        "colab_type": "code",
        "outputId": "1cb62485-f752-4a59-8a25-9196f0ddabce",
        "colab": {
          "base_uri": "https://localhost:8080/",
          "height": 215
        }
      },
      "source": [
        "print(len(_list))\n",
        "_list[9] = 'ten'\n",
        "print(_list)"
      ],
      "execution_count": 0,
      "outputs": [
        {
          "output_type": "stream",
          "text": [
            "9\n"
          ],
          "name": "stdout"
        },
        {
          "output_type": "error",
          "ename": "IndexError",
          "evalue": "ignored",
          "traceback": [
            "\u001b[0;31m---------------------------------------------------------------------------\u001b[0m",
            "\u001b[0;31mIndexError\u001b[0m                                Traceback (most recent call last)",
            "\u001b[0;32m<ipython-input-13-aef391d04074>\u001b[0m in \u001b[0;36m<module>\u001b[0;34m()\u001b[0m\n\u001b[1;32m      1\u001b[0m \u001b[0mprint\u001b[0m\u001b[0;34m(\u001b[0m\u001b[0mlen\u001b[0m\u001b[0;34m(\u001b[0m\u001b[0m_list\u001b[0m\u001b[0;34m)\u001b[0m\u001b[0;34m)\u001b[0m\u001b[0;34m\u001b[0m\u001b[0;34m\u001b[0m\u001b[0m\n\u001b[0;32m----> 2\u001b[0;31m \u001b[0m_list\u001b[0m\u001b[0;34m[\u001b[0m\u001b[0;36m9\u001b[0m\u001b[0;34m]\u001b[0m \u001b[0;34m=\u001b[0m \u001b[0;34m'ten'\u001b[0m\u001b[0;34m\u001b[0m\u001b[0;34m\u001b[0m\u001b[0m\n\u001b[0m\u001b[1;32m      3\u001b[0m \u001b[0mprint\u001b[0m\u001b[0;34m(\u001b[0m\u001b[0m_list\u001b[0m\u001b[0;34m)\u001b[0m\u001b[0;34m\u001b[0m\u001b[0;34m\u001b[0m\u001b[0m\n",
            "\u001b[0;31mIndexError\u001b[0m: list assignment index out of range"
          ]
        }
      ]
    },
    {
      "cell_type": "markdown",
      "metadata": {
        "id": "z8coEKWWBVEg",
        "colab_type": "text"
      },
      "source": [
        "Let's `append()` to the list"
      ]
    },
    {
      "cell_type": "code",
      "metadata": {
        "id": "aFQatDKBBeMJ",
        "colab_type": "code",
        "outputId": "04791388-f2cd-4944-8e87-19165d2ce221",
        "colab": {
          "base_uri": "https://localhost:8080/",
          "height": 51
        }
      },
      "source": [
        "print(len(_list1))\n",
        "_list1.append('four')\n",
        "print(len(_list1))"
      ],
      "execution_count": 0,
      "outputs": [
        {
          "output_type": "stream",
          "text": [
            "4\n",
            "5\n"
          ],
          "name": "stdout"
        }
      ]
    },
    {
      "cell_type": "markdown",
      "metadata": {
        "id": "Bxi00_PxCa3n",
        "colab_type": "text"
      },
      "source": [
        "Let's `insert()` an item at the specified index"
      ]
    },
    {
      "cell_type": "code",
      "metadata": {
        "id": "tPmN210aovy2",
        "colab_type": "code",
        "outputId": "40b3a6ea-7e3b-4012-ff50-5df2b94b8fb7",
        "colab": {
          "base_uri": "https://localhost:8080/",
          "height": 51
        }
      },
      "source": [
        "print(_list)\n",
        "_list.insert(9, 'nine')\n",
        "print(_list)"
      ],
      "execution_count": 0,
      "outputs": [
        {
          "output_type": "stream",
          "text": [
            "['updated zero', 'one', 'two', 'three', 'four', 'five', 'six', 'seven', 'eight']\n",
            "['updated zero', 'one', 'two', 'three', 'four', 'five', 'six', 'seven', 'eight', 'nine']\n"
          ],
          "name": "stdout"
        }
      ]
    },
    {
      "cell_type": "markdown",
      "metadata": {
        "id": "zH1985RiCugi",
        "colab_type": "text"
      },
      "source": [
        "A stack is a collection that lends itself to push and `pop()` operations. We have used `append()` to push, now let's `pop()`"
      ]
    },
    {
      "cell_type": "markdown",
      "metadata": {
        "id": "YZVLqGh1DPIl",
        "colab_type": "text"
      },
      "source": [
        "* By appending to the front and popping from the back, you create a queue\n",
        "* By appending to the back and popping from the back, you create a stack"
      ]
    },
    {
      "cell_type": "markdown",
      "metadata": {
        "id": "YXhTjWmbD7LM",
        "colab_type": "text"
      },
      "source": [
        "To copy a list, subset the entire list"
      ]
    },
    {
      "cell_type": "code",
      "metadata": {
        "id": "L8fMBz-bD-Cd",
        "colab_type": "code",
        "colab": {}
      },
      "source": [
        "_list2 = _list1"
      ],
      "execution_count": 0,
      "outputs": []
    },
    {
      "cell_type": "code",
      "metadata": {
        "id": "nd6guHwUzmIs",
        "colab_type": "code",
        "outputId": "95f07cd8-800c-4ba6-85e0-e146bb776cf4",
        "colab": {
          "base_uri": "https://localhost:8080/",
          "height": 51
        }
      },
      "source": [
        "print(_list1)\n",
        "print(_list2)"
      ],
      "execution_count": 0,
      "outputs": [
        {
          "output_type": "stream",
          "text": [
            "['zero', 'first', 'second', 'third', 'four']\n",
            "['zero', 'first', 'second', 'third', 'four']\n"
          ],
          "name": "stdout"
        }
      ]
    },
    {
      "cell_type": "code",
      "metadata": {
        "id": "ZsNQ869WzrYB",
        "colab_type": "code",
        "outputId": "3a4bbe7f-ae8a-4818-c244-ca90248a7d80",
        "colab": {
          "base_uri": "https://localhost:8080/",
          "height": 51
        }
      },
      "source": [
        "_list1[0] = 'mod zero'\n",
        "print(_list1)\n",
        "print(_list2)"
      ],
      "execution_count": 0,
      "outputs": [
        {
          "output_type": "stream",
          "text": [
            "['mod zero', 'first', 'second', 'third', 'four']\n",
            "['mod zero', 'first', 'second', 'third', 'four']\n"
          ],
          "name": "stdout"
        }
      ]
    },
    {
      "cell_type": "code",
      "metadata": {
        "id": "NZaYoaicz04E",
        "colab_type": "code",
        "outputId": "9078e112-46e6-4078-ff69-d70fa2d357d2",
        "colab": {
          "base_uri": "https://localhost:8080/",
          "height": 34
        }
      },
      "source": [
        "print(_list1 is _list2)"
      ],
      "execution_count": 0,
      "outputs": [
        {
          "output_type": "stream",
          "text": [
            "True\n"
          ],
          "name": "stdout"
        }
      ]
    },
    {
      "cell_type": "code",
      "metadata": {
        "id": "3WYsQSl8z5yO",
        "colab_type": "code",
        "outputId": "466f1e64-28a6-4452-ccbe-509469600825",
        "colab": {
          "base_uri": "https://localhost:8080/",
          "height": 34
        }
      },
      "source": [
        "_list2 = list(_list1)\n",
        "print(_list1 is _list2)"
      ],
      "execution_count": 0,
      "outputs": [
        {
          "output_type": "stream",
          "text": [
            "False\n"
          ],
          "name": "stdout"
        }
      ]
    },
    {
      "cell_type": "code",
      "metadata": {
        "id": "TdIaFeUp0Iei",
        "colab_type": "code",
        "outputId": "ed7a5138-24ca-4123-e3db-bc9313a8422e",
        "colab": {
          "base_uri": "https://localhost:8080/",
          "height": 34
        }
      },
      "source": [
        "_list2 = _list1[:]\n",
        "print(_list1 is _list2)"
      ],
      "execution_count": 0,
      "outputs": [
        {
          "output_type": "stream",
          "text": [
            "False\n"
          ],
          "name": "stdout"
        }
      ]
    },
    {
      "cell_type": "markdown",
      "metadata": {
        "id": "fdsv8MCvEA1k",
        "colab_type": "text"
      },
      "source": [
        "Or use the copy method"
      ]
    },
    {
      "cell_type": "code",
      "metadata": {
        "id": "IawP_TZUECe-",
        "colab_type": "code",
        "outputId": "b789a681-2a61-47b4-c2bb-9ac7feb71528",
        "colab": {
          "base_uri": "https://localhost:8080/",
          "height": 34
        }
      },
      "source": [
        "_list3 = _list1.copy()\n",
        "print(_list1 is _list3)"
      ],
      "execution_count": 0,
      "outputs": [
        {
          "output_type": "stream",
          "text": [
            "True\n"
          ],
          "name": "stdout"
        }
      ]
    },
    {
      "cell_type": "code",
      "metadata": {
        "id": "B2VvCa541F3Z",
        "colab_type": "code",
        "outputId": "238c2c7b-a0c2-4bfa-e638-f6c8ad99c5e4",
        "colab": {
          "base_uri": "https://localhost:8080/",
          "height": 51
        }
      },
      "source": [
        "print(_list1)\n",
        "print(_list3)"
      ],
      "execution_count": 0,
      "outputs": [
        {
          "output_type": "stream",
          "text": [
            "['mod zero', 'first', 'second', 'third', 'four']\n",
            "['mod zero', 'first', 'second', 'third', 'four']\n"
          ],
          "name": "stdout"
        }
      ]
    },
    {
      "cell_type": "code",
      "metadata": {
        "id": "ceVnDclz1Ly_",
        "colab_type": "code",
        "outputId": "6a41f846-6a14-4de0-a2e1-df586dde12bf",
        "colab": {
          "base_uri": "https://localhost:8080/",
          "height": 51
        }
      },
      "source": [
        "_list3[0] = 'zero'\n",
        "print(_list1)\n",
        "print(_list3)"
      ],
      "execution_count": 0,
      "outputs": [
        {
          "output_type": "stream",
          "text": [
            "['zero', 'first', 'second', 'third', 'four']\n",
            "['zero', 'first', 'second', 'third', 'four']\n"
          ],
          "name": "stdout"
        }
      ]
    },
    {
      "cell_type": "markdown",
      "metadata": {
        "id": "IvRpUc7UElz1",
        "colab_type": "text"
      },
      "source": [
        "Use `extend()` to copy the elements of one list to another"
      ]
    },
    {
      "cell_type": "code",
      "metadata": {
        "id": "KDc20YWTEp4-",
        "colab_type": "code",
        "outputId": "60c0e580-e75f-4855-d215-a65dfde85051",
        "colab": {
          "base_uri": "https://localhost:8080/",
          "height": 51
        }
      },
      "source": [
        "print(_list1)\n",
        "print(_list)"
      ],
      "execution_count": 0,
      "outputs": [
        {
          "output_type": "stream",
          "text": [
            "['zero', 'first', 'second', 'third', 'four']\n",
            "['updated zero', 'one', 'two', 'three', 'four', 'five', 'six', 'seven', 'eight', 'nine']\n"
          ],
          "name": "stdout"
        }
      ]
    },
    {
      "cell_type": "code",
      "metadata": {
        "id": "I-Y5GLsp18uZ",
        "colab_type": "code",
        "outputId": "24e0a14a-ad81-4788-c35a-cd67b0934adb",
        "colab": {
          "base_uri": "https://localhost:8080/",
          "height": 34
        }
      },
      "source": [
        "_new_list = _list1.copy()\n",
        "_new_list.extend(_list)\n",
        "print(_new_list)"
      ],
      "execution_count": 0,
      "outputs": [
        {
          "output_type": "stream",
          "text": [
            "['zero', 'first', 'second', 'third', 'four', 'updated zero', 'one', 'two', 'three', 'four', 'five', 'six', 'seven', 'eight', 'nine']\n"
          ],
          "name": "stdout"
        }
      ]
    },
    {
      "cell_type": "markdown",
      "metadata": {
        "id": "5lxuEqrGEzvb",
        "colab_type": "text"
      },
      "source": [
        "Use `sort()` to sort a list"
      ]
    },
    {
      "cell_type": "code",
      "metadata": {
        "id": "qLsvB9YHE2LY",
        "colab_type": "code",
        "outputId": "2e1d3328-3876-4014-bcaa-76d9b0ad0a65",
        "colab": {
          "base_uri": "https://localhost:8080/",
          "height": 34
        }
      },
      "source": [
        "_new_list.sort()\n",
        "print(_new_list)"
      ],
      "execution_count": 0,
      "outputs": [
        {
          "output_type": "stream",
          "text": [
            "['eight', 'first', 'five', 'four', 'four', 'nine', 'one', 'second', 'seven', 'six', 'third', 'three', 'two', 'updated zero', 'zero']\n"
          ],
          "name": "stdout"
        }
      ]
    },
    {
      "cell_type": "code",
      "metadata": {
        "id": "U9dttwMe2uLs",
        "colab_type": "code",
        "outputId": "1973dd27-8ec3-4070-b28f-30f9007210cc",
        "colab": {
          "base_uri": "https://localhost:8080/",
          "height": 34
        }
      },
      "source": [
        "_new_list.sort(reverse=True)\n",
        "print(_new_list)"
      ],
      "execution_count": 0,
      "outputs": [
        {
          "output_type": "stream",
          "text": [
            "['zero', 'updated zero', 'two', 'three', 'third', 'six', 'seven', 'second', 'one', 'nine', 'four', 'four', 'five', 'first', 'eight']\n"
          ],
          "name": "stdout"
        }
      ]
    },
    {
      "cell_type": "markdown",
      "metadata": {
        "id": "vo5rEE0MFw6X",
        "colab_type": "text"
      },
      "source": [
        "Use `reverse()` to reverse a list"
      ]
    },
    {
      "cell_type": "markdown",
      "metadata": {
        "id": "cSnMJybzFTp4",
        "colab_type": "text"
      },
      "source": [
        "## Tuples\n",
        "An immutable collection of ordered items"
      ]
    },
    {
      "cell_type": "code",
      "metadata": {
        "id": "943k0ZrlFY-l",
        "colab_type": "code",
        "colab": {}
      },
      "source": [
        "_tuple1 = ('zero', 'one', 'two')"
      ],
      "execution_count": 0,
      "outputs": []
    },
    {
      "cell_type": "markdown",
      "metadata": {
        "id": "O-gZDf47Fym_",
        "colab_type": "text"
      },
      "source": [
        "print element 0"
      ]
    },
    {
      "cell_type": "code",
      "metadata": {
        "id": "ZW37Mknk3Qu5",
        "colab_type": "code",
        "outputId": "c1f19378-3d52-4b06-86ee-d141505b7af9",
        "colab": {
          "base_uri": "https://localhost:8080/",
          "height": 34
        }
      },
      "source": [
        "print(_tuple1[0])"
      ],
      "execution_count": 0,
      "outputs": [
        {
          "output_type": "stream",
          "text": [
            "zero\n"
          ],
          "name": "stdout"
        }
      ]
    },
    {
      "cell_type": "code",
      "metadata": {
        "id": "ZdfCZlhO3iq6",
        "colab_type": "code",
        "colab": {}
      },
      "source": [
        "def _ret_tuple():\n",
        "  return ('a', 'b')"
      ],
      "execution_count": 0,
      "outputs": []
    },
    {
      "cell_type": "code",
      "metadata": {
        "id": "ha33Dsk63rIH",
        "colab_type": "code",
        "outputId": "0f60a68b-1634-4be7-beaf-3d5d211dcf58",
        "colab": {
          "base_uri": "https://localhost:8080/",
          "height": 34
        }
      },
      "source": [
        "x, y = _ret_tuple()\n",
        "print(x, y)"
      ],
      "execution_count": 0,
      "outputs": [
        {
          "output_type": "stream",
          "text": [
            "a b\n"
          ],
          "name": "stdout"
        }
      ]
    },
    {
      "cell_type": "markdown",
      "metadata": {
        "id": "MyqhIue3GQCc",
        "colab_type": "text"
      },
      "source": [
        "convert tuple to list"
      ]
    },
    {
      "cell_type": "code",
      "metadata": {
        "id": "Ta5BtGqGGSDp",
        "colab_type": "code",
        "colab": {}
      },
      "source": [
        "my_list = list(_tuple1)"
      ],
      "execution_count": 0,
      "outputs": []
    },
    {
      "cell_type": "markdown",
      "metadata": {
        "id": "VWdYaD1qGVr0",
        "colab_type": "text"
      },
      "source": [
        "convert list to tuple"
      ]
    },
    {
      "cell_type": "code",
      "metadata": {
        "id": "0lNJaGc9GYaL",
        "colab_type": "code",
        "colab": {}
      },
      "source": [
        "my_tuple = tuple(my_list)"
      ],
      "execution_count": 0,
      "outputs": []
    },
    {
      "cell_type": "code",
      "metadata": {
        "id": "S1mMlYOM4F5L",
        "colab_type": "code",
        "outputId": "7ae7554f-c097-4bcb-e1e1-56c423f871fc",
        "colab": {
          "base_uri": "https://localhost:8080/",
          "height": 68
        }
      },
      "source": [
        "for i in my_tuple:\n",
        "  print(i)"
      ],
      "execution_count": 0,
      "outputs": [
        {
          "output_type": "stream",
          "text": [
            "zero\n",
            "one\n",
            "two\n"
          ],
          "name": "stdout"
        }
      ]
    },
    {
      "cell_type": "markdown",
      "metadata": {
        "id": "Z3qW9Cf-IsRP",
        "colab_type": "text"
      },
      "source": [
        "## Sets\n",
        "Unordered, unindexed"
      ]
    },
    {
      "cell_type": "code",
      "metadata": {
        "id": "TXmQH1CdIwkQ",
        "colab_type": "code",
        "colab": {}
      },
      "source": [
        "_set1 = {'one', 'nine', 'four'}"
      ],
      "execution_count": 0,
      "outputs": []
    },
    {
      "cell_type": "markdown",
      "metadata": {
        "id": "vLyTp0IpI8ra",
        "colab_type": "text"
      },
      "source": [
        "get the items"
      ]
    },
    {
      "cell_type": "code",
      "metadata": {
        "id": "VEYFJJJ6I9kW",
        "colab_type": "code",
        "outputId": "4c99b641-1c98-475c-f988-58face154e83",
        "colab": {
          "base_uri": "https://localhost:8080/",
          "height": 68
        }
      },
      "source": [
        "for i in _set1:\n",
        "  print(i)"
      ],
      "execution_count": 0,
      "outputs": [
        {
          "output_type": "stream",
          "text": [
            "nine\n",
            "one\n",
            "four\n"
          ],
          "name": "stdout"
        }
      ]
    },
    {
      "cell_type": "markdown",
      "metadata": {
        "id": "_qWk-6Q2KBED",
        "colab_type": "text"
      },
      "source": [
        "`add()` an item"
      ]
    },
    {
      "cell_type": "code",
      "metadata": {
        "id": "ledf5-Ks4zOW",
        "colab_type": "code",
        "outputId": "7960f72a-c732-4ecc-be51-0e81839d07e0",
        "colab": {
          "base_uri": "https://localhost:8080/",
          "height": 51
        }
      },
      "source": [
        "_set1.add('two')\n",
        "print(_set1)\n",
        "\n",
        "_set1.add('two')\n",
        "print(_set1)"
      ],
      "execution_count": 0,
      "outputs": [
        {
          "output_type": "stream",
          "text": [
            "{'nine', 'one', 'two', 'four'}\n",
            "{'nine', 'one', 'two', 'four'}\n"
          ],
          "name": "stdout"
        }
      ]
    },
    {
      "cell_type": "markdown",
      "metadata": {
        "id": "xerPDr0FKKXZ",
        "colab_type": "text"
      },
      "source": [
        "`remove()` an item"
      ]
    },
    {
      "cell_type": "code",
      "metadata": {
        "id": "QekiyxJh5JXJ",
        "colab_type": "code",
        "outputId": "e9dd816f-1ad0-442f-8c72-fffe0b0229d1",
        "colab": {
          "base_uri": "https://localhost:8080/",
          "height": 34
        }
      },
      "source": [
        "_set1.remove('nine')\n",
        "print(_set1)"
      ],
      "execution_count": 0,
      "outputs": [
        {
          "output_type": "stream",
          "text": [
            "{'one', 'two', 'four'}\n"
          ],
          "name": "stdout"
        }
      ]
    },
    {
      "cell_type": "code",
      "metadata": {
        "id": "FDn9tCve5dZc",
        "colab_type": "code",
        "outputId": "fde329b6-3d26-41c4-cc3a-0b4d33b2386e",
        "colab": {
          "base_uri": "https://localhost:8080/",
          "height": 34
        }
      },
      "source": [
        "_set1.add(1)\n",
        "print(_set1)"
      ],
      "execution_count": 0,
      "outputs": [
        {
          "output_type": "stream",
          "text": [
            "{1, 'one', 'two', 'four'}\n"
          ],
          "name": "stdout"
        }
      ]
    },
    {
      "cell_type": "markdown",
      "metadata": {
        "id": "5tNGW2AWLCxq",
        "colab_type": "text"
      },
      "source": [
        "additional methods such as `union()`, `intersect()`, `issubset()`"
      ]
    },
    {
      "cell_type": "markdown",
      "metadata": {
        "id": "Io_Yhg7_NXVs",
        "colab_type": "text"
      },
      "source": [
        "## Dictionary\n",
        "Unordered collection of key-value pairs"
      ]
    },
    {
      "cell_type": "code",
      "metadata": {
        "id": "hZ8qpIh2Nbyf",
        "colab_type": "code",
        "outputId": "48354278-dfc8-4cca-afc8-de01e87f4a48",
        "colab": {
          "base_uri": "https://localhost:8080/",
          "height": 34
        }
      },
      "source": [
        "_dict1 = {'k1':'v1', 'k2':'v2'}\n",
        "print(_dict1)"
      ],
      "execution_count": 0,
      "outputs": [
        {
          "output_type": "stream",
          "text": [
            "{'k1': 'v1', 'k2': 'v2'}\n"
          ],
          "name": "stdout"
        }
      ]
    },
    {
      "cell_type": "code",
      "metadata": {
        "id": "qnKT0JH__FAs",
        "colab_type": "code",
        "outputId": "e45b2a9b-6277-416e-b09e-86228ca4cf88",
        "colab": {
          "base_uri": "https://localhost:8080/",
          "height": 34
        }
      },
      "source": [
        "_dict2 = dict(k1='v1', k2='v2')\n",
        "print(_dict2)"
      ],
      "execution_count": 0,
      "outputs": [
        {
          "output_type": "stream",
          "text": [
            "{'k1': 'v1', 'k2': 'v2'}\n"
          ],
          "name": "stdout"
        }
      ]
    },
    {
      "cell_type": "code",
      "metadata": {
        "id": "fd1DFKs46QPn",
        "colab_type": "code",
        "outputId": "4f218586-efcc-48d6-d77c-080797e8cf6d",
        "colab": {
          "base_uri": "https://localhost:8080/",
          "height": 68
        }
      },
      "source": [
        "_countries_list = ['Kenya', 'Rwanda', 'Uganda']\n",
        "_temperatures_list = [17, 19, 21]\n",
        "\n",
        "for i in range(len(_countries_list)):\n",
        "  print('country: {} temperature: {}'.format(_countries_list[i], _temperatures_list[i]))"
      ],
      "execution_count": 0,
      "outputs": [
        {
          "output_type": "stream",
          "text": [
            "country: Kenya temperature: 17\n",
            "country: Rwanda temperature: 19\n",
            "country: Uganda temperature: 21\n"
          ],
          "name": "stdout"
        }
      ]
    },
    {
      "cell_type": "code",
      "metadata": {
        "id": "cpjNE0Ih6v1a",
        "colab_type": "code",
        "outputId": "339f0eed-412c-4710-a0cb-9adbae8e4454",
        "colab": {
          "base_uri": "https://localhost:8080/",
          "height": 34
        }
      },
      "source": [
        "_countries_dict = {'Kenya': 17, 'Rwanda': 19, 'Uganda': 21}\n",
        "print(_countries_dict)"
      ],
      "execution_count": 0,
      "outputs": [
        {
          "output_type": "stream",
          "text": [
            "{'Kenya': 17, 'Rwanda': 19, 'Uganda': 21}\n"
          ],
          "name": "stdout"
        }
      ]
    },
    {
      "cell_type": "markdown",
      "metadata": {
        "id": "fPU_87BJNozh",
        "colab_type": "text"
      },
      "source": [
        "print the value of `k1`"
      ]
    },
    {
      "cell_type": "code",
      "metadata": {
        "id": "QlDLqB8gNq31",
        "colab_type": "code",
        "outputId": "7436f31e-42fb-4d7b-bca2-7e136294bdd9",
        "colab": {
          "base_uri": "https://localhost:8080/",
          "height": 34
        }
      },
      "source": [
        "print(_countries_dict['Kenya'])"
      ],
      "execution_count": 0,
      "outputs": [
        {
          "output_type": "stream",
          "text": [
            "17\n"
          ],
          "name": "stdout"
        }
      ]
    },
    {
      "cell_type": "markdown",
      "metadata": {
        "id": "DnCw_ZPaNviA",
        "colab_type": "text"
      },
      "source": [
        "use the `get()` method for similar effect"
      ]
    },
    {
      "cell_type": "code",
      "metadata": {
        "id": "t0XEhQq_OBld",
        "colab_type": "code",
        "outputId": "facaab3b-b4be-4fd6-863b-69f17e1b5915",
        "colab": {
          "base_uri": "https://localhost:8080/",
          "height": 34
        }
      },
      "source": [
        "print(_countries_dict.get('Ghana', 0))"
      ],
      "execution_count": 0,
      "outputs": [
        {
          "output_type": "stream",
          "text": [
            "0\n"
          ],
          "name": "stdout"
        }
      ]
    },
    {
      "cell_type": "code",
      "metadata": {
        "id": "rY_AZ2Y88oJU",
        "colab_type": "code",
        "outputId": "c60a8b85-ed29-4375-aa64-e85256013d75",
        "colab": {
          "base_uri": "https://localhost:8080/",
          "height": 54
        }
      },
      "source": [
        "_kenya_temp = {'mon':11, 'tue':11, 'wed':13, 'thu':11, 'fri':12}\n",
        "_rwanda_temp = {'mon':10, 'tue':18, 'wed':17, 'thu':17, 'fri':10}\n",
        "_uganda_temp = {'mon':19, 'tue':18, 'wed':19, 'thu':17, 'fri':18}\n",
        "_countries_2_dict = {'Kenya': _kenya_temp, 'Rwanda': _rwanda_temp, 'Uganda': _uganda_temp}\n",
        "print(_countries_2_dict)"
      ],
      "execution_count": 0,
      "outputs": [
        {
          "output_type": "stream",
          "text": [
            "{'Kenya': {'mon': 11, 'tue': 11, 'wed': 13, 'thu': 11, 'fri': 12}, 'Rwanda': {'mon': 10, 'tue': 18, 'wed': 17, 'thu': 17, 'fri': 10}, 'Uganda': {'mon': 19, 'tue': 18, 'wed': 19, 'thu': 17, 'fri': 18}}\n"
          ],
          "name": "stdout"
        }
      ]
    },
    {
      "cell_type": "markdown",
      "metadata": {
        "id": "AHS6rMO2OB4L",
        "colab_type": "text"
      },
      "source": [
        "update the value of `k1`"
      ]
    },
    {
      "cell_type": "code",
      "metadata": {
        "id": "bMf4DcZF-Wnu",
        "colab_type": "code",
        "outputId": "1867b762-5762-495a-db28-2ab5d748d76c",
        "colab": {
          "base_uri": "https://localhost:8080/",
          "height": 34
        }
      },
      "source": [
        "_countries = ['Kenya', 'Rwanda', 'Uganda']\n",
        "_temps = [17, 14, 21]\n",
        "\n",
        "_countries_dict = {}\n",
        "\n",
        "for i in range(len(_countries)):\n",
        "  _countries_dict[_countries[i]] = _temps[i]\n",
        "print(_countries_dict)"
      ],
      "execution_count": 0,
      "outputs": [
        {
          "output_type": "stream",
          "text": [
            "{'Kenya': 17, 'Rwanda': 14, 'Uganda': 21}\n"
          ],
          "name": "stdout"
        }
      ]
    },
    {
      "cell_type": "code",
      "metadata": {
        "id": "jrW8UntOOLzK",
        "colab_type": "code",
        "outputId": "44c77392-2f13-49a9-ac02-a06c36f74ee8",
        "colab": {
          "base_uri": "https://localhost:8080/",
          "height": 34
        }
      },
      "source": [
        "_countries_dict['Kenya'] = 18\n",
        "print(_countries_dict)"
      ],
      "execution_count": 0,
      "outputs": [
        {
          "output_type": "stream",
          "text": [
            "{'Kenya': 18, 'Rwanda': 14, 'Uganda': 21}\n"
          ],
          "name": "stdout"
        }
      ]
    },
    {
      "cell_type": "markdown",
      "metadata": {
        "id": "Cft71gVaOMEj",
        "colab_type": "text"
      },
      "source": [
        "try looping over a dictionary"
      ]
    },
    {
      "cell_type": "code",
      "metadata": {
        "id": "Y6zXGbtkOcZ0",
        "colab_type": "code",
        "outputId": "20526a0a-eaac-431a-9308-b1396e3a6b42",
        "colab": {
          "base_uri": "https://localhost:8080/",
          "height": 68
        }
      },
      "source": [
        "for i in _countries_dict:\n",
        "  print(i)"
      ],
      "execution_count": 0,
      "outputs": [
        {
          "output_type": "stream",
          "text": [
            "Kenya\n",
            "Rwanda\n",
            "Uganda\n"
          ],
          "name": "stdout"
        }
      ]
    },
    {
      "cell_type": "markdown",
      "metadata": {
        "id": "ZRDAvEl5Ocqn",
        "colab_type": "text"
      },
      "source": [
        "iterate over keys and values"
      ]
    },
    {
      "cell_type": "code",
      "metadata": {
        "id": "3dP73BgSOeop",
        "colab_type": "code",
        "outputId": "10181a09-0ad1-40fc-bda0-111e189fccb5",
        "colab": {
          "base_uri": "https://localhost:8080/",
          "height": 68
        }
      },
      "source": [
        "for _, v in _countries_dict.items():\n",
        "  print('value: {}'.format(v))"
      ],
      "execution_count": 0,
      "outputs": [
        {
          "output_type": "stream",
          "text": [
            "value: 18\n",
            "value: 14\n",
            "value: 21\n"
          ],
          "name": "stdout"
        }
      ]
    },
    {
      "cell_type": "markdown",
      "metadata": {
        "id": "_yi-dejdGzJ9",
        "colab_type": "text"
      },
      "source": [
        "how do we get the length of the dictionary?"
      ]
    },
    {
      "cell_type": "code",
      "metadata": {
        "id": "2rDUdx7UG13Z",
        "colab_type": "code",
        "outputId": "362ea368-9cf4-4448-c1d3-b350e8d3c017",
        "colab": {
          "base_uri": "https://localhost:8080/",
          "height": 34
        }
      },
      "source": [
        "print(len(_countries_dict))"
      ],
      "execution_count": 0,
      "outputs": [
        {
          "output_type": "stream",
          "text": [
            "3\n"
          ],
          "name": "stdout"
        }
      ]
    },
    {
      "cell_type": "markdown",
      "metadata": {
        "id": "WKMW-VVwJT8n",
        "colab_type": "text"
      },
      "source": [
        "how do we add an item to the dictionary?"
      ]
    },
    {
      "cell_type": "code",
      "metadata": {
        "id": "REWK-e9UJXa1",
        "colab_type": "code",
        "colab": {}
      },
      "source": [
        "how do we remove an item?"
      ],
      "execution_count": 0,
      "outputs": []
    },
    {
      "cell_type": "code",
      "metadata": {
        "id": "pg3msgpTA7Y2",
        "colab_type": "code",
        "outputId": "55e76e71-b3f5-44cb-8668-550c10996493",
        "colab": {
          "base_uri": "https://localhost:8080/",
          "height": 34
        }
      },
      "source": [
        "_ = _countries_dict.pop('Uganda')\n",
        "print(_countries_dict)"
      ],
      "execution_count": 0,
      "outputs": [
        {
          "output_type": "stream",
          "text": [
            "{'Kenya': 18, 'Rwanda': 14}\n"
          ],
          "name": "stdout"
        }
      ]
    },
    {
      "cell_type": "code",
      "metadata": {
        "id": "S64zcUV8JcKC",
        "colab_type": "code",
        "colab": {}
      },
      "source": [
        ""
      ],
      "execution_count": 0,
      "outputs": []
    },
    {
      "cell_type": "markdown",
      "metadata": {
        "id": "GDpI0aIQJkp_",
        "colab_type": "text"
      },
      "source": [
        "how do we `copy()` ?"
      ]
    },
    {
      "cell_type": "code",
      "metadata": {
        "id": "B3tbrcs3BTW9",
        "colab_type": "code",
        "outputId": "19aef156-560f-4fd2-ece2-3fa288eb599f",
        "colab": {
          "base_uri": "https://localhost:8080/",
          "height": 34
        }
      },
      "source": [
        "_dict3 = _dict2.copy()\n",
        "print(_dict2 is _dict3)"
      ],
      "execution_count": 0,
      "outputs": [
        {
          "output_type": "stream",
          "text": [
            "False\n"
          ],
          "name": "stdout"
        }
      ]
    },
    {
      "cell_type": "code",
      "metadata": {
        "id": "jvB_5rsvJnRW",
        "colab_type": "code",
        "colab": {}
      },
      "source": [
        "can dictionaries contain other dictionaries?"
      ],
      "execution_count": 0,
      "outputs": []
    },
    {
      "cell_type": "code",
      "metadata": {
        "id": "czXr7WIBJuQS",
        "colab_type": "code",
        "colab": {}
      },
      "source": [
        ""
      ],
      "execution_count": 0,
      "outputs": []
    },
    {
      "cell_type": "markdown",
      "metadata": {
        "id": "jQv5bnyRKAQV",
        "colab_type": "text"
      },
      "source": [
        "what does `get()` do?"
      ]
    },
    {
      "cell_type": "code",
      "metadata": {
        "id": "ECXw1a6mKCqH",
        "colab_type": "code",
        "colab": {}
      },
      "source": [
        ""
      ],
      "execution_count": 0,
      "outputs": []
    },
    {
      "cell_type": "markdown",
      "metadata": {
        "id": "HFTmh3K05xKt",
        "colab_type": "text"
      },
      "source": [
        "## Afternoon Session\n",
        "### An overview of Algorithms in Python"
      ]
    },
    {
      "cell_type": "markdown",
      "metadata": {
        "id": "y7Scr71eVihF",
        "colab_type": "text"
      },
      "source": [
        "Moving in lock-step"
      ]
    },
    {
      "cell_type": "code",
      "metadata": {
        "id": "wPJyLl6NVlZI",
        "colab_type": "code",
        "outputId": "1d8d7119-c575-432a-faf8-86dad42426b9",
        "colab": {
          "base_uri": "https://localhost:8080/",
          "height": 34
        }
      },
      "source": [
        "_countries = ['Kenya', 'Rwanda', 'Uganda']\n",
        "_temps = [17, 14, 21]\n",
        "\n",
        "_countries_dict = {}\n",
        "\n",
        "for i in range(len(_countries)):\n",
        "  _countries_dict[_countries[i]] = _temps[i]\n",
        "print(_countries_dict)"
      ],
      "execution_count": 0,
      "outputs": [
        {
          "output_type": "stream",
          "text": [
            "{'Kenya': 17, 'Rwanda': 14, 'Uganda': 21}\n"
          ],
          "name": "stdout"
        }
      ]
    },
    {
      "cell_type": "code",
      "metadata": {
        "id": "uDPv30dDV0hz",
        "colab_type": "code",
        "outputId": "cb0bbdd0-6748-48d4-96c2-7db87481429a",
        "colab": {
          "base_uri": "https://localhost:8080/",
          "height": 68
        }
      },
      "source": [
        "_countries_dict = {}\n",
        "for k, v in zip(_countries, _temps):\n",
        "  print(k, v)\n",
        "  _countries_dict[k] = v"
      ],
      "execution_count": 0,
      "outputs": [
        {
          "output_type": "stream",
          "text": [
            "Kenya 17\n",
            "Rwanda 14\n",
            "Uganda 21\n"
          ],
          "name": "stdout"
        }
      ]
    },
    {
      "cell_type": "code",
      "metadata": {
        "id": "9R8LpRoXWK4d",
        "colab_type": "code",
        "outputId": "c1d65788-1c4e-4b22-9bfd-921ef99f4faa",
        "colab": {
          "base_uri": "https://localhost:8080/",
          "height": 34
        }
      },
      "source": [
        "my_zip = zip(_countries, _temps)\n",
        "print(*zip(_countries, _temps))"
      ],
      "execution_count": 0,
      "outputs": [
        {
          "output_type": "stream",
          "text": [
            "('Kenya', 17) ('Rwanda', 14) ('Uganda', 21)\n"
          ],
          "name": "stdout"
        }
      ]
    },
    {
      "cell_type": "markdown",
      "metadata": {
        "id": "Y9jAXScQTaNW",
        "colab_type": "text"
      },
      "source": [
        "Operations on Lists"
      ]
    },
    {
      "cell_type": "code",
      "metadata": {
        "id": "dL5SL4hPTcBv",
        "colab_type": "code",
        "outputId": "dd7f36ff-2d7b-41ce-ac32-289e17174da3",
        "colab": {
          "base_uri": "https://localhost:8080/",
          "height": 34
        }
      },
      "source": [
        "print(_temps)"
      ],
      "execution_count": 0,
      "outputs": [
        {
          "output_type": "stream",
          "text": [
            "[17, 14, 21]\n"
          ],
          "name": "stdout"
        }
      ]
    },
    {
      "cell_type": "markdown",
      "metadata": {
        "id": "1H3QwH_sTn55",
        "colab_type": "text"
      },
      "source": [
        "convert our temps to fahrenheit (*9/5 + 32)\n",
        "* use a loop"
      ]
    },
    {
      "cell_type": "code",
      "metadata": {
        "id": "efyvmO72T1VT",
        "colab_type": "code",
        "outputId": "10bb2422-2174-4cf5-e98f-056b5f88aea8",
        "colab": {
          "base_uri": "https://localhost:8080/",
          "height": 34
        }
      },
      "source": [
        "f_temp = []\n",
        "for temp in _temps:\n",
        "  f = temp * 9/5 + 32\n",
        "  f_temp.append(f)\n",
        "  \n",
        "print(f_temp)"
      ],
      "execution_count": 0,
      "outputs": [
        {
          "output_type": "stream",
          "text": [
            "[62.6, 57.2, 69.8]\n"
          ],
          "name": "stdout"
        }
      ]
    },
    {
      "cell_type": "markdown",
      "metadata": {
        "id": "7XNj6CH2T48N",
        "colab_type": "text"
      },
      "source": [
        "Use a map()"
      ]
    },
    {
      "cell_type": "code",
      "metadata": {
        "id": "JV4u-KQfT9_y",
        "colab_type": "code",
        "colab": {}
      },
      "source": [
        "_fah = map(lambda x: x * 9 / 5 + 32, _temps)"
      ],
      "execution_count": 0,
      "outputs": []
    },
    {
      "cell_type": "code",
      "metadata": {
        "id": "obyUF6OqUP9t",
        "colab_type": "code",
        "outputId": "63bcc984-e035-44ce-aa37-d21e97becd0b",
        "colab": {
          "base_uri": "https://localhost:8080/",
          "height": 34
        }
      },
      "source": [
        "print(_fah)"
      ],
      "execution_count": 0,
      "outputs": [
        {
          "output_type": "stream",
          "text": [
            "<map object at 0x7f0dae4c0cc0>\n"
          ],
          "name": "stdout"
        }
      ]
    },
    {
      "cell_type": "code",
      "metadata": {
        "id": "6qLfLg_mUSDl",
        "colab_type": "code",
        "outputId": "77efb5ec-5a77-4217-bbe4-528db127036b",
        "colab": {
          "base_uri": "https://localhost:8080/",
          "height": 34
        }
      },
      "source": [
        "print(list(_fah))"
      ],
      "execution_count": 0,
      "outputs": [
        {
          "output_type": "stream",
          "text": [
            "[62.6, 57.2, 69.8]\n"
          ],
          "name": "stdout"
        }
      ]
    },
    {
      "cell_type": "markdown",
      "metadata": {
        "id": "WA6yzh8VTWy0",
        "colab_type": "text"
      },
      "source": [
        "## Comprehensions"
      ]
    },
    {
      "cell_type": "markdown",
      "metadata": {
        "id": "o-owcwEVTabv",
        "colab_type": "text"
      },
      "source": [
        "How do we convert a dictionary into a list?\n",
        "\n",
        "'Kenya = 17'"
      ]
    },
    {
      "cell_type": "code",
      "metadata": {
        "id": "hf8DRxpNd_KJ",
        "colab_type": "code",
        "outputId": "c3583f9a-9f71-4729-8538-22b0cafae233",
        "colab": {
          "base_uri": "https://localhost:8080/",
          "height": 68
        }
      },
      "source": [
        "for k, v in _countries_dict.items():\n",
        "  print('{} = {}'.format(k, v))\n"
      ],
      "execution_count": 0,
      "outputs": [
        {
          "output_type": "stream",
          "text": [
            "Kenya = 17\n",
            "Rwanda = 14\n",
            "Uganda = 21\n"
          ],
          "name": "stdout"
        }
      ]
    },
    {
      "cell_type": "code",
      "metadata": {
        "id": "LtNYoQnjf-al",
        "colab_type": "code",
        "colab": {}
      },
      "source": [
        "my_list = map(lambda x, y: '{} = {}'.format(x, y), _countries_dict.keys(), _countries_dict.values())\n",
        "print(list(my_list))"
      ],
      "execution_count": 0,
      "outputs": []
    },
    {
      "cell_type": "code",
      "metadata": {
        "id": "csCZ5JEWg3s_",
        "colab_type": "code",
        "outputId": "c4c61e9e-64d5-4f20-a527-e1c8b10788e0",
        "colab": {
          "base_uri": "https://localhost:8080/",
          "height": 34
        }
      },
      "source": [
        "print(_countries_dict.items())"
      ],
      "execution_count": 0,
      "outputs": [
        {
          "output_type": "stream",
          "text": [
            "dict_items([('Kenya', 17), ('Rwanda', 14), ('Uganda', 21)])\n"
          ],
          "name": "stdout"
        }
      ]
    },
    {
      "cell_type": "code",
      "metadata": {
        "id": "ZvRZC30PgGsw",
        "colab_type": "code",
        "outputId": "6767da29-9fa5-4a8d-89df-1bf8296f5845",
        "colab": {
          "base_uri": "https://localhost:8080/",
          "height": 34
        }
      },
      "source": [
        "my_list = ['{} = {}'.format(k, v) for k, v in _countries_dict.items()]\n",
        "print(my_list)"
      ],
      "execution_count": 0,
      "outputs": [
        {
          "output_type": "stream",
          "text": [
            "['Kenya = 17', 'Rwanda = 14', 'Uganda = 21']\n"
          ],
          "name": "stdout"
        }
      ]
    },
    {
      "cell_type": "markdown",
      "metadata": {
        "id": "15ZAKsoRTfZ3",
        "colab_type": "text"
      },
      "source": [
        "How do we convert a list into a dictionary?"
      ]
    },
    {
      "cell_type": "code",
      "metadata": {
        "id": "v3vBZOmuh033",
        "colab_type": "code",
        "outputId": "664fc4c0-72db-4edf-b489-ceebc5708d39",
        "colab": {
          "base_uri": "https://localhost:8080/",
          "height": 68
        }
      },
      "source": [
        "for i in _countries:\n",
        "  print(i, len(i))"
      ],
      "execution_count": 0,
      "outputs": [
        {
          "output_type": "stream",
          "text": [
            "Kenya 5\n",
            "Rwanda 6\n",
            "Uganda 6\n"
          ],
          "name": "stdout"
        }
      ]
    },
    {
      "cell_type": "code",
      "metadata": {
        "id": "BNqO2wtQ5JaD",
        "colab_type": "code",
        "outputId": "8077cb2f-078b-414e-c9a9-8feadcd03a0a",
        "colab": {
          "base_uri": "https://localhost:8080/",
          "height": 51
        }
      },
      "source": [
        "print(_countries)\n",
        "my_dict = {i:len(i) for i in _countries}\n",
        "print(my_dict)"
      ],
      "execution_count": 0,
      "outputs": [
        {
          "output_type": "stream",
          "text": [
            "['Kenya', 'Rwanda', 'Uganda']\n",
            "{'Kenya': 5, 'Rwanda': 6, 'Uganda': 6}\n"
          ],
          "name": "stdout"
        }
      ]
    },
    {
      "cell_type": "markdown",
      "metadata": {
        "id": "U8o7ejcEYYvc",
        "colab_type": "text"
      },
      "source": [
        "Can we nest ranges?"
      ]
    },
    {
      "cell_type": "code",
      "metadata": {
        "id": "2GsOvYH7jMuM",
        "colab_type": "code",
        "outputId": "33e9b62d-62b8-470f-9066-863bd1be6e59",
        "colab": {
          "base_uri": "https://localhost:8080/",
          "height": 1000
        }
      },
      "source": [
        "for week in range(1,3):\n",
        "  for day in ['mon', 'tue', 'wed', 'thu', 'fri']:\n",
        "    for hour in range(24):\n",
        "      print('week {} : {} : {}'.format(week, day, hour))"
      ],
      "execution_count": 0,
      "outputs": [
        {
          "output_type": "stream",
          "text": [
            "week 1 : mon : 0\n",
            "week 1 : mon : 1\n",
            "week 1 : mon : 2\n",
            "week 1 : mon : 3\n",
            "week 1 : mon : 4\n",
            "week 1 : mon : 5\n",
            "week 1 : mon : 6\n",
            "week 1 : mon : 7\n",
            "week 1 : mon : 8\n",
            "week 1 : mon : 9\n",
            "week 1 : mon : 10\n",
            "week 1 : mon : 11\n",
            "week 1 : mon : 12\n",
            "week 1 : mon : 13\n",
            "week 1 : mon : 14\n",
            "week 1 : mon : 15\n",
            "week 1 : mon : 16\n",
            "week 1 : mon : 17\n",
            "week 1 : mon : 18\n",
            "week 1 : mon : 19\n",
            "week 1 : mon : 20\n",
            "week 1 : mon : 21\n",
            "week 1 : mon : 22\n",
            "week 1 : mon : 23\n",
            "week 1 : tue : 0\n",
            "week 1 : tue : 1\n",
            "week 1 : tue : 2\n",
            "week 1 : tue : 3\n",
            "week 1 : tue : 4\n",
            "week 1 : tue : 5\n",
            "week 1 : tue : 6\n",
            "week 1 : tue : 7\n",
            "week 1 : tue : 8\n",
            "week 1 : tue : 9\n",
            "week 1 : tue : 10\n",
            "week 1 : tue : 11\n",
            "week 1 : tue : 12\n",
            "week 1 : tue : 13\n",
            "week 1 : tue : 14\n",
            "week 1 : tue : 15\n",
            "week 1 : tue : 16\n",
            "week 1 : tue : 17\n",
            "week 1 : tue : 18\n",
            "week 1 : tue : 19\n",
            "week 1 : tue : 20\n",
            "week 1 : tue : 21\n",
            "week 1 : tue : 22\n",
            "week 1 : tue : 23\n",
            "week 1 : wed : 0\n",
            "week 1 : wed : 1\n",
            "week 1 : wed : 2\n",
            "week 1 : wed : 3\n",
            "week 1 : wed : 4\n",
            "week 1 : wed : 5\n",
            "week 1 : wed : 6\n",
            "week 1 : wed : 7\n",
            "week 1 : wed : 8\n",
            "week 1 : wed : 9\n",
            "week 1 : wed : 10\n",
            "week 1 : wed : 11\n",
            "week 1 : wed : 12\n",
            "week 1 : wed : 13\n",
            "week 1 : wed : 14\n",
            "week 1 : wed : 15\n",
            "week 1 : wed : 16\n",
            "week 1 : wed : 17\n",
            "week 1 : wed : 18\n",
            "week 1 : wed : 19\n",
            "week 1 : wed : 20\n",
            "week 1 : wed : 21\n",
            "week 1 : wed : 22\n",
            "week 1 : wed : 23\n",
            "week 1 : thu : 0\n",
            "week 1 : thu : 1\n",
            "week 1 : thu : 2\n",
            "week 1 : thu : 3\n",
            "week 1 : thu : 4\n",
            "week 1 : thu : 5\n",
            "week 1 : thu : 6\n",
            "week 1 : thu : 7\n",
            "week 1 : thu : 8\n",
            "week 1 : thu : 9\n",
            "week 1 : thu : 10\n",
            "week 1 : thu : 11\n",
            "week 1 : thu : 12\n",
            "week 1 : thu : 13\n",
            "week 1 : thu : 14\n",
            "week 1 : thu : 15\n",
            "week 1 : thu : 16\n",
            "week 1 : thu : 17\n",
            "week 1 : thu : 18\n",
            "week 1 : thu : 19\n",
            "week 1 : thu : 20\n",
            "week 1 : thu : 21\n",
            "week 1 : thu : 22\n",
            "week 1 : thu : 23\n",
            "week 1 : fri : 0\n",
            "week 1 : fri : 1\n",
            "week 1 : fri : 2\n",
            "week 1 : fri : 3\n",
            "week 1 : fri : 4\n",
            "week 1 : fri : 5\n",
            "week 1 : fri : 6\n",
            "week 1 : fri : 7\n",
            "week 1 : fri : 8\n",
            "week 1 : fri : 9\n",
            "week 1 : fri : 10\n",
            "week 1 : fri : 11\n",
            "week 1 : fri : 12\n",
            "week 1 : fri : 13\n",
            "week 1 : fri : 14\n",
            "week 1 : fri : 15\n",
            "week 1 : fri : 16\n",
            "week 1 : fri : 17\n",
            "week 1 : fri : 18\n",
            "week 1 : fri : 19\n",
            "week 1 : fri : 20\n",
            "week 1 : fri : 21\n",
            "week 1 : fri : 22\n",
            "week 1 : fri : 23\n",
            "week 2 : mon : 0\n",
            "week 2 : mon : 1\n",
            "week 2 : mon : 2\n",
            "week 2 : mon : 3\n",
            "week 2 : mon : 4\n",
            "week 2 : mon : 5\n",
            "week 2 : mon : 6\n",
            "week 2 : mon : 7\n",
            "week 2 : mon : 8\n",
            "week 2 : mon : 9\n",
            "week 2 : mon : 10\n",
            "week 2 : mon : 11\n",
            "week 2 : mon : 12\n",
            "week 2 : mon : 13\n",
            "week 2 : mon : 14\n",
            "week 2 : mon : 15\n",
            "week 2 : mon : 16\n",
            "week 2 : mon : 17\n",
            "week 2 : mon : 18\n",
            "week 2 : mon : 19\n",
            "week 2 : mon : 20\n",
            "week 2 : mon : 21\n",
            "week 2 : mon : 22\n",
            "week 2 : mon : 23\n",
            "week 2 : tue : 0\n",
            "week 2 : tue : 1\n",
            "week 2 : tue : 2\n",
            "week 2 : tue : 3\n",
            "week 2 : tue : 4\n",
            "week 2 : tue : 5\n",
            "week 2 : tue : 6\n",
            "week 2 : tue : 7\n",
            "week 2 : tue : 8\n",
            "week 2 : tue : 9\n",
            "week 2 : tue : 10\n",
            "week 2 : tue : 11\n",
            "week 2 : tue : 12\n",
            "week 2 : tue : 13\n",
            "week 2 : tue : 14\n",
            "week 2 : tue : 15\n",
            "week 2 : tue : 16\n",
            "week 2 : tue : 17\n",
            "week 2 : tue : 18\n",
            "week 2 : tue : 19\n",
            "week 2 : tue : 20\n",
            "week 2 : tue : 21\n",
            "week 2 : tue : 22\n",
            "week 2 : tue : 23\n",
            "week 2 : wed : 0\n",
            "week 2 : wed : 1\n",
            "week 2 : wed : 2\n",
            "week 2 : wed : 3\n",
            "week 2 : wed : 4\n",
            "week 2 : wed : 5\n",
            "week 2 : wed : 6\n",
            "week 2 : wed : 7\n",
            "week 2 : wed : 8\n",
            "week 2 : wed : 9\n",
            "week 2 : wed : 10\n",
            "week 2 : wed : 11\n",
            "week 2 : wed : 12\n",
            "week 2 : wed : 13\n",
            "week 2 : wed : 14\n",
            "week 2 : wed : 15\n",
            "week 2 : wed : 16\n",
            "week 2 : wed : 17\n",
            "week 2 : wed : 18\n",
            "week 2 : wed : 19\n",
            "week 2 : wed : 20\n",
            "week 2 : wed : 21\n",
            "week 2 : wed : 22\n",
            "week 2 : wed : 23\n",
            "week 2 : thu : 0\n",
            "week 2 : thu : 1\n",
            "week 2 : thu : 2\n",
            "week 2 : thu : 3\n",
            "week 2 : thu : 4\n",
            "week 2 : thu : 5\n",
            "week 2 : thu : 6\n",
            "week 2 : thu : 7\n",
            "week 2 : thu : 8\n",
            "week 2 : thu : 9\n",
            "week 2 : thu : 10\n",
            "week 2 : thu : 11\n",
            "week 2 : thu : 12\n",
            "week 2 : thu : 13\n",
            "week 2 : thu : 14\n",
            "week 2 : thu : 15\n",
            "week 2 : thu : 16\n",
            "week 2 : thu : 17\n",
            "week 2 : thu : 18\n",
            "week 2 : thu : 19\n",
            "week 2 : thu : 20\n",
            "week 2 : thu : 21\n",
            "week 2 : thu : 22\n",
            "week 2 : thu : 23\n",
            "week 2 : fri : 0\n",
            "week 2 : fri : 1\n",
            "week 2 : fri : 2\n",
            "week 2 : fri : 3\n",
            "week 2 : fri : 4\n",
            "week 2 : fri : 5\n",
            "week 2 : fri : 6\n",
            "week 2 : fri : 7\n",
            "week 2 : fri : 8\n",
            "week 2 : fri : 9\n",
            "week 2 : fri : 10\n",
            "week 2 : fri : 11\n",
            "week 2 : fri : 12\n",
            "week 2 : fri : 13\n",
            "week 2 : fri : 14\n",
            "week 2 : fri : 15\n",
            "week 2 : fri : 16\n",
            "week 2 : fri : 17\n",
            "week 2 : fri : 18\n",
            "week 2 : fri : 19\n",
            "week 2 : fri : 20\n",
            "week 2 : fri : 21\n",
            "week 2 : fri : 22\n",
            "week 2 : fri : 23\n"
          ],
          "name": "stdout"
        }
      ]
    },
    {
      "cell_type": "code",
      "metadata": {
        "id": "s2tP87psYbGN",
        "colab_type": "code",
        "outputId": "e1dcbbb1-a582-438e-a6bf-5448460fd87d",
        "colab": {
          "base_uri": "https://localhost:8080/",
          "height": 54
        }
      },
      "source": [
        "weeks_and_days = [('week {}'.format(week), day, hour) for week in range (1,3) for day in ['mon', 'tue', 'wed', 'thu', 'fri'] for hour in range(24)]\n",
        "print(weeks_and_days)"
      ],
      "execution_count": 0,
      "outputs": [
        {
          "output_type": "stream",
          "text": [
            "[('week 1', 'mon', 0), ('week 1', 'mon', 1), ('week 1', 'mon', 2), ('week 1', 'mon', 3), ('week 1', 'mon', 4), ('week 1', 'mon', 5), ('week 1', 'mon', 6), ('week 1', 'mon', 7), ('week 1', 'mon', 8), ('week 1', 'mon', 9), ('week 1', 'mon', 10), ('week 1', 'mon', 11), ('week 1', 'mon', 12), ('week 1', 'mon', 13), ('week 1', 'mon', 14), ('week 1', 'mon', 15), ('week 1', 'mon', 16), ('week 1', 'mon', 17), ('week 1', 'mon', 18), ('week 1', 'mon', 19), ('week 1', 'mon', 20), ('week 1', 'mon', 21), ('week 1', 'mon', 22), ('week 1', 'mon', 23), ('week 1', 'tue', 0), ('week 1', 'tue', 1), ('week 1', 'tue', 2), ('week 1', 'tue', 3), ('week 1', 'tue', 4), ('week 1', 'tue', 5), ('week 1', 'tue', 6), ('week 1', 'tue', 7), ('week 1', 'tue', 8), ('week 1', 'tue', 9), ('week 1', 'tue', 10), ('week 1', 'tue', 11), ('week 1', 'tue', 12), ('week 1', 'tue', 13), ('week 1', 'tue', 14), ('week 1', 'tue', 15), ('week 1', 'tue', 16), ('week 1', 'tue', 17), ('week 1', 'tue', 18), ('week 1', 'tue', 19), ('week 1', 'tue', 20), ('week 1', 'tue', 21), ('week 1', 'tue', 22), ('week 1', 'tue', 23), ('week 1', 'wed', 0), ('week 1', 'wed', 1), ('week 1', 'wed', 2), ('week 1', 'wed', 3), ('week 1', 'wed', 4), ('week 1', 'wed', 5), ('week 1', 'wed', 6), ('week 1', 'wed', 7), ('week 1', 'wed', 8), ('week 1', 'wed', 9), ('week 1', 'wed', 10), ('week 1', 'wed', 11), ('week 1', 'wed', 12), ('week 1', 'wed', 13), ('week 1', 'wed', 14), ('week 1', 'wed', 15), ('week 1', 'wed', 16), ('week 1', 'wed', 17), ('week 1', 'wed', 18), ('week 1', 'wed', 19), ('week 1', 'wed', 20), ('week 1', 'wed', 21), ('week 1', 'wed', 22), ('week 1', 'wed', 23), ('week 1', 'thu', 0), ('week 1', 'thu', 1), ('week 1', 'thu', 2), ('week 1', 'thu', 3), ('week 1', 'thu', 4), ('week 1', 'thu', 5), ('week 1', 'thu', 6), ('week 1', 'thu', 7), ('week 1', 'thu', 8), ('week 1', 'thu', 9), ('week 1', 'thu', 10), ('week 1', 'thu', 11), ('week 1', 'thu', 12), ('week 1', 'thu', 13), ('week 1', 'thu', 14), ('week 1', 'thu', 15), ('week 1', 'thu', 16), ('week 1', 'thu', 17), ('week 1', 'thu', 18), ('week 1', 'thu', 19), ('week 1', 'thu', 20), ('week 1', 'thu', 21), ('week 1', 'thu', 22), ('week 1', 'thu', 23), ('week 1', 'fri', 0), ('week 1', 'fri', 1), ('week 1', 'fri', 2), ('week 1', 'fri', 3), ('week 1', 'fri', 4), ('week 1', 'fri', 5), ('week 1', 'fri', 6), ('week 1', 'fri', 7), ('week 1', 'fri', 8), ('week 1', 'fri', 9), ('week 1', 'fri', 10), ('week 1', 'fri', 11), ('week 1', 'fri', 12), ('week 1', 'fri', 13), ('week 1', 'fri', 14), ('week 1', 'fri', 15), ('week 1', 'fri', 16), ('week 1', 'fri', 17), ('week 1', 'fri', 18), ('week 1', 'fri', 19), ('week 1', 'fri', 20), ('week 1', 'fri', 21), ('week 1', 'fri', 22), ('week 1', 'fri', 23), ('week 2', 'mon', 0), ('week 2', 'mon', 1), ('week 2', 'mon', 2), ('week 2', 'mon', 3), ('week 2', 'mon', 4), ('week 2', 'mon', 5), ('week 2', 'mon', 6), ('week 2', 'mon', 7), ('week 2', 'mon', 8), ('week 2', 'mon', 9), ('week 2', 'mon', 10), ('week 2', 'mon', 11), ('week 2', 'mon', 12), ('week 2', 'mon', 13), ('week 2', 'mon', 14), ('week 2', 'mon', 15), ('week 2', 'mon', 16), ('week 2', 'mon', 17), ('week 2', 'mon', 18), ('week 2', 'mon', 19), ('week 2', 'mon', 20), ('week 2', 'mon', 21), ('week 2', 'mon', 22), ('week 2', 'mon', 23), ('week 2', 'tue', 0), ('week 2', 'tue', 1), ('week 2', 'tue', 2), ('week 2', 'tue', 3), ('week 2', 'tue', 4), ('week 2', 'tue', 5), ('week 2', 'tue', 6), ('week 2', 'tue', 7), ('week 2', 'tue', 8), ('week 2', 'tue', 9), ('week 2', 'tue', 10), ('week 2', 'tue', 11), ('week 2', 'tue', 12), ('week 2', 'tue', 13), ('week 2', 'tue', 14), ('week 2', 'tue', 15), ('week 2', 'tue', 16), ('week 2', 'tue', 17), ('week 2', 'tue', 18), ('week 2', 'tue', 19), ('week 2', 'tue', 20), ('week 2', 'tue', 21), ('week 2', 'tue', 22), ('week 2', 'tue', 23), ('week 2', 'wed', 0), ('week 2', 'wed', 1), ('week 2', 'wed', 2), ('week 2', 'wed', 3), ('week 2', 'wed', 4), ('week 2', 'wed', 5), ('week 2', 'wed', 6), ('week 2', 'wed', 7), ('week 2', 'wed', 8), ('week 2', 'wed', 9), ('week 2', 'wed', 10), ('week 2', 'wed', 11), ('week 2', 'wed', 12), ('week 2', 'wed', 13), ('week 2', 'wed', 14), ('week 2', 'wed', 15), ('week 2', 'wed', 16), ('week 2', 'wed', 17), ('week 2', 'wed', 18), ('week 2', 'wed', 19), ('week 2', 'wed', 20), ('week 2', 'wed', 21), ('week 2', 'wed', 22), ('week 2', 'wed', 23), ('week 2', 'thu', 0), ('week 2', 'thu', 1), ('week 2', 'thu', 2), ('week 2', 'thu', 3), ('week 2', 'thu', 4), ('week 2', 'thu', 5), ('week 2', 'thu', 6), ('week 2', 'thu', 7), ('week 2', 'thu', 8), ('week 2', 'thu', 9), ('week 2', 'thu', 10), ('week 2', 'thu', 11), ('week 2', 'thu', 12), ('week 2', 'thu', 13), ('week 2', 'thu', 14), ('week 2', 'thu', 15), ('week 2', 'thu', 16), ('week 2', 'thu', 17), ('week 2', 'thu', 18), ('week 2', 'thu', 19), ('week 2', 'thu', 20), ('week 2', 'thu', 21), ('week 2', 'thu', 22), ('week 2', 'thu', 23), ('week 2', 'fri', 0), ('week 2', 'fri', 1), ('week 2', 'fri', 2), ('week 2', 'fri', 3), ('week 2', 'fri', 4), ('week 2', 'fri', 5), ('week 2', 'fri', 6), ('week 2', 'fri', 7), ('week 2', 'fri', 8), ('week 2', 'fri', 9), ('week 2', 'fri', 10), ('week 2', 'fri', 11), ('week 2', 'fri', 12), ('week 2', 'fri', 13), ('week 2', 'fri', 14), ('week 2', 'fri', 15), ('week 2', 'fri', 16), ('week 2', 'fri', 17), ('week 2', 'fri', 18), ('week 2', 'fri', 19), ('week 2', 'fri', 20), ('week 2', 'fri', 21), ('week 2', 'fri', 22), ('week 2', 'fri', 23)]\n"
          ],
          "name": "stdout"
        }
      ]
    },
    {
      "cell_type": "markdown",
      "metadata": {
        "id": "3kBc2E4jZEz5",
        "colab_type": "text"
      },
      "source": [
        "How about conditionals?"
      ]
    },
    {
      "cell_type": "code",
      "metadata": {
        "id": "ieRu9-G2ZO0m",
        "colab_type": "code",
        "colab": {}
      },
      "source": [
        "div_by_7 = [n ** n for n in range(100) if (n ** n) % 7 == 0]"
      ],
      "execution_count": 0,
      "outputs": []
    },
    {
      "cell_type": "code",
      "metadata": {
        "id": "hzaWwmoPZeij",
        "colab_type": "code",
        "outputId": "f6110eb5-ba15-41f1-a855-d41a87e12c72",
        "colab": {
          "base_uri": "https://localhost:8080/",
          "height": 54
        }
      },
      "source": [
        "print(div_by_7)"
      ],
      "execution_count": 0,
      "outputs": [
        {
          "output_type": "stream",
          "text": [
            "[823543, 11112006825558016, 5842587018385982521381124421, 33145523113253374862572728253364605812736, 1102507499354148695951786433413508348166942596435546875, 150130937545296572356771972164254457814047970568738777235893533016064, 66009724686219550843768321818371771650147004059278069406814190436565131829325062449, 79164324866862966607842406018063254671922245312646690223362402918484170424104310169552592050323456, 228273036346967044979900512337165522400819024722490933829954793073267717315004135590642802687246850771579138342847, 1435036016098684342856030763566710717400773837392460666392490000000000000000000000000000000000000000000000000000000000000000000000, 18188037387806198379277339915556929647807403283187048631478337739929618787870634227045716719924575689062274471430368865388203540672666042530996797, 435973436827325522360279881406914796368935566412408014666801047266959214000936369697318397328752293573138388721289594366953995072735552848220101541587045199118336, 18739875497044403588343023979942190913870699099585922106152367184893220649019310617359174987694158429118066514085327846177870674743597929299970612055662195817332948573029136642691, 1380878341261486750656911803252309726876604105686729638072729543243701479670593033211008001443536626310535980077544691196522513327846303307992442770355560270350429006522588433404602387992091295744]\n"
          ],
          "name": "stdout"
        }
      ]
    },
    {
      "cell_type": "markdown",
      "metadata": {
        "id": "mqPIkyIdTwAw",
        "colab_type": "text"
      },
      "source": [
        "## Iterators\n",
        "Objects that contain a countable number of items"
      ]
    },
    {
      "cell_type": "code",
      "metadata": {
        "id": "7JYAIhuVMamW",
        "colab_type": "code",
        "outputId": "485852d4-dde2-4111-d996-75e9ceb23588",
        "colab": {
          "base_uri": "https://localhost:8080/",
          "height": 181
        }
      },
      "source": [
        "_l = ['one', 'two', 'three', 'four', 'five']\n",
        "print(next(_l))"
      ],
      "execution_count": 0,
      "outputs": [
        {
          "output_type": "error",
          "ename": "TypeError",
          "evalue": "ignored",
          "traceback": [
            "\u001b[0;31m---------------------------------------------------------------------------\u001b[0m",
            "\u001b[0;31mTypeError\u001b[0m                                 Traceback (most recent call last)",
            "\u001b[0;32m<ipython-input-11-652d8a3382ef>\u001b[0m in \u001b[0;36m<module>\u001b[0;34m()\u001b[0m\n\u001b[1;32m      1\u001b[0m \u001b[0m_l\u001b[0m \u001b[0;34m=\u001b[0m \u001b[0;34m[\u001b[0m\u001b[0;34m'one'\u001b[0m\u001b[0;34m,\u001b[0m \u001b[0;34m'two'\u001b[0m\u001b[0;34m,\u001b[0m \u001b[0;34m'three'\u001b[0m\u001b[0;34m,\u001b[0m \u001b[0;34m'four'\u001b[0m\u001b[0;34m,\u001b[0m \u001b[0;34m'five'\u001b[0m\u001b[0;34m]\u001b[0m\u001b[0;34m\u001b[0m\u001b[0;34m\u001b[0m\u001b[0m\n\u001b[0;32m----> 2\u001b[0;31m \u001b[0mprint\u001b[0m\u001b[0;34m(\u001b[0m\u001b[0mnext\u001b[0m\u001b[0;34m(\u001b[0m\u001b[0m_l\u001b[0m\u001b[0;34m)\u001b[0m\u001b[0;34m)\u001b[0m\u001b[0;34m\u001b[0m\u001b[0;34m\u001b[0m\u001b[0m\n\u001b[0m",
            "\u001b[0;31mTypeError\u001b[0m: 'list' object is not an iterator"
          ]
        }
      ]
    },
    {
      "cell_type": "code",
      "metadata": {
        "id": "F5xx7vruUQbV",
        "colab_type": "code",
        "colab": {}
      },
      "source": [
        "_list1 = ['one', 'two', 'three', 'four', 'five']\n",
        "myIter = iter(_list1)\n"
      ],
      "execution_count": 0,
      "outputs": []
    },
    {
      "cell_type": "code",
      "metadata": {
        "id": "4BY2af30KAAq",
        "colab_type": "code",
        "outputId": "e3221d57-ceeb-40c1-bc1d-d0e5c4c1f64e",
        "colab": {
          "base_uri": "https://localhost:8080/",
          "height": 34
        }
      },
      "source": [
        "print(next(myIter))"
      ],
      "execution_count": 0,
      "outputs": [
        {
          "output_type": "stream",
          "text": [
            "one\n"
          ],
          "name": "stdout"
        }
      ]
    },
    {
      "cell_type": "markdown",
      "metadata": {
        "id": "Unui4JtjVSJx",
        "colab_type": "text"
      },
      "source": [
        "lists, dictionaries and sets are iterables that yield iterators. Can we create a class that behaves the same way?"
      ]
    },
    {
      "cell_type": "code",
      "metadata": {
        "id": "8pyWPPfXVa-K",
        "colab_type": "code",
        "colab": {}
      },
      "source": [
        "class MyIterable:\n",
        "  def __iter__(self):\n",
        "    self.value = 2\n",
        "    return self\n",
        "  \n",
        "  def __next__(self):\n",
        "    x = self.value\n",
        "    self.value *= 2\n",
        "    return x"
      ],
      "execution_count": 0,
      "outputs": []
    },
    {
      "cell_type": "code",
      "metadata": {
        "id": "nt8bVLnnPq8u",
        "colab_type": "code",
        "outputId": "56894a2b-d42f-46f7-c864-c66d5bc640ff",
        "colab": {
          "base_uri": "https://localhost:8080/",
          "height": 102
        }
      },
      "source": [
        "_myIterable = MyIterable()\n",
        "_myIterator = iter(_myIterable)\n",
        "\n",
        "print(next(_myIterator))\n",
        "print(next(_myIterator))\n",
        "print(next(_myIterator))\n",
        "print(next(_myIterator))\n",
        "print(next(_myIterator))"
      ],
      "execution_count": 0,
      "outputs": [
        {
          "output_type": "stream",
          "text": [
            "2\n",
            "4\n",
            "8\n",
            "16\n",
            "32\n"
          ],
          "name": "stdout"
        }
      ]
    },
    {
      "cell_type": "markdown",
      "metadata": {
        "id": "2HNDwBN6T3BQ",
        "colab_type": "text"
      },
      "source": [
        "## Generators"
      ]
    },
    {
      "cell_type": "code",
      "metadata": {
        "id": "sxO_8JIYm8fE",
        "colab_type": "code",
        "outputId": "77204295-7171-4fc9-9cac-842fa62bcecd",
        "colab": {
          "base_uri": "https://localhost:8080/",
          "height": 34
        }
      },
      "source": [
        "def _doubles(n):\n",
        "  b = []\n",
        "  a = 2\n",
        "  while a < n:\n",
        "    b.append(a)\n",
        "    a *= 2\n",
        "  return b\n",
        "\n",
        "print(sum(_doubles(60)))"
      ],
      "execution_count": 0,
      "outputs": [
        {
          "output_type": "stream",
          "text": [
            "62\n"
          ],
          "name": "stdout"
        }
      ]
    },
    {
      "cell_type": "code",
      "metadata": {
        "id": "JsBoGA5pQCuf",
        "colab_type": "code",
        "colab": {}
      },
      "source": [
        "def _my_doubles(n):\n",
        "  a = 2\n",
        "  while a < n:\n",
        "    yield a\n",
        "    a *= 2"
      ],
      "execution_count": 0,
      "outputs": []
    },
    {
      "cell_type": "code",
      "metadata": {
        "id": "ibn0zh7mQvmF",
        "colab_type": "code",
        "outputId": "990fae80-b097-4041-a304-eb0167c34570",
        "colab": {
          "base_uri": "https://localhost:8080/",
          "height": 34
        }
      },
      "source": [
        "a = _my_doubles(60)\n",
        "print(type(a))"
      ],
      "execution_count": 0,
      "outputs": [
        {
          "output_type": "stream",
          "text": [
            "<class 'generator'>\n"
          ],
          "name": "stdout"
        }
      ]
    },
    {
      "cell_type": "code",
      "metadata": {
        "id": "MCh4GzTpU16J",
        "colab_type": "code",
        "outputId": "0a2947f8-2b83-479f-b8b4-d0e2ae27950e",
        "colab": {
          "base_uri": "https://localhost:8080/",
          "height": 34
        }
      },
      "source": [
        "print(a)"
      ],
      "execution_count": 0,
      "outputs": [
        {
          "output_type": "stream",
          "text": [
            "<generator object _my_doubles at 0x7f504f0e7fc0>\n"
          ],
          "name": "stdout"
        }
      ]
    },
    {
      "cell_type": "code",
      "metadata": {
        "id": "Js5TlqCfU4zk",
        "colab_type": "code",
        "outputId": "ce683e29-b88e-4e12-eb95-65c306d175a9",
        "colab": {
          "base_uri": "https://localhost:8080/",
          "height": 164
        }
      },
      "source": [
        "print(next(a))"
      ],
      "execution_count": 0,
      "outputs": [
        {
          "output_type": "error",
          "ename": "StopIteration",
          "evalue": "ignored",
          "traceback": [
            "\u001b[0;31m---------------------------------------------------------------------------\u001b[0m",
            "\u001b[0;31mStopIteration\u001b[0m                             Traceback (most recent call last)",
            "\u001b[0;32m<ipython-input-20-94b12d3903f7>\u001b[0m in \u001b[0;36m<module>\u001b[0;34m()\u001b[0m\n\u001b[0;32m----> 1\u001b[0;31m \u001b[0mprint\u001b[0m\u001b[0;34m(\u001b[0m\u001b[0mnext\u001b[0m\u001b[0;34m(\u001b[0m\u001b[0ma\u001b[0m\u001b[0;34m)\u001b[0m\u001b[0;34m)\u001b[0m\u001b[0;34m\u001b[0m\u001b[0;34m\u001b[0m\u001b[0m\n\u001b[0m",
            "\u001b[0;31mStopIteration\u001b[0m: "
          ]
        }
      ]
    },
    {
      "cell_type": "code",
      "metadata": {
        "id": "ZFDn8OTGU62G",
        "colab_type": "code",
        "outputId": "acce41c6-e9a2-48fa-8373-d1089f4f8d9f",
        "colab": {
          "base_uri": "https://localhost:8080/",
          "height": 34
        }
      },
      "source": [
        "print(sum(a))"
      ],
      "execution_count": 0,
      "outputs": [
        {
          "output_type": "stream",
          "text": [
            "62\n"
          ],
          "name": "stdout"
        }
      ]
    },
    {
      "cell_type": "code",
      "metadata": {
        "id": "6OKrvuNaU8hM",
        "colab_type": "code",
        "outputId": "731ac4fd-758b-4605-c951-f483dcf83c35",
        "colab": {
          "base_uri": "https://localhost:8080/",
          "height": 34
        }
      },
      "source": [
        "print(*a)"
      ],
      "execution_count": 0,
      "outputs": [
        {
          "output_type": "stream",
          "text": [
            "2 4 8 16 32\n"
          ],
          "name": "stdout"
        }
      ]
    },
    {
      "cell_type": "code",
      "metadata": {
        "id": "NbBqyAp2uDxq",
        "colab_type": "code",
        "colab": {}
      },
      "source": [
        "for item in a:\n",
        "  print(item)"
      ],
      "execution_count": 0,
      "outputs": []
    },
    {
      "cell_type": "code",
      "metadata": {
        "id": "vMpSkFcLspJn",
        "colab_type": "code",
        "outputId": "c6a987f5-f8b2-4136-9399-a5a0a2ad83d0",
        "colab": {
          "base_uri": "https://localhost:8080/",
          "height": 54
        }
      },
      "source": [
        "weeks_and_days = [('week {}'.format(week), day, hour) for week in range (1,3) for day in ['mon', 'tue', 'wed', 'thu', 'fri'] for hour in range(24)]\n",
        "print(weeks_and_days)"
      ],
      "execution_count": 0,
      "outputs": [
        {
          "output_type": "stream",
          "text": [
            "[('week 1', 'mon', 0), ('week 1', 'mon', 1), ('week 1', 'mon', 2), ('week 1', 'mon', 3), ('week 1', 'mon', 4), ('week 1', 'mon', 5), ('week 1', 'mon', 6), ('week 1', 'mon', 7), ('week 1', 'mon', 8), ('week 1', 'mon', 9), ('week 1', 'mon', 10), ('week 1', 'mon', 11), ('week 1', 'mon', 12), ('week 1', 'mon', 13), ('week 1', 'mon', 14), ('week 1', 'mon', 15), ('week 1', 'mon', 16), ('week 1', 'mon', 17), ('week 1', 'mon', 18), ('week 1', 'mon', 19), ('week 1', 'mon', 20), ('week 1', 'mon', 21), ('week 1', 'mon', 22), ('week 1', 'mon', 23), ('week 1', 'tue', 0), ('week 1', 'tue', 1), ('week 1', 'tue', 2), ('week 1', 'tue', 3), ('week 1', 'tue', 4), ('week 1', 'tue', 5), ('week 1', 'tue', 6), ('week 1', 'tue', 7), ('week 1', 'tue', 8), ('week 1', 'tue', 9), ('week 1', 'tue', 10), ('week 1', 'tue', 11), ('week 1', 'tue', 12), ('week 1', 'tue', 13), ('week 1', 'tue', 14), ('week 1', 'tue', 15), ('week 1', 'tue', 16), ('week 1', 'tue', 17), ('week 1', 'tue', 18), ('week 1', 'tue', 19), ('week 1', 'tue', 20), ('week 1', 'tue', 21), ('week 1', 'tue', 22), ('week 1', 'tue', 23), ('week 1', 'wed', 0), ('week 1', 'wed', 1), ('week 1', 'wed', 2), ('week 1', 'wed', 3), ('week 1', 'wed', 4), ('week 1', 'wed', 5), ('week 1', 'wed', 6), ('week 1', 'wed', 7), ('week 1', 'wed', 8), ('week 1', 'wed', 9), ('week 1', 'wed', 10), ('week 1', 'wed', 11), ('week 1', 'wed', 12), ('week 1', 'wed', 13), ('week 1', 'wed', 14), ('week 1', 'wed', 15), ('week 1', 'wed', 16), ('week 1', 'wed', 17), ('week 1', 'wed', 18), ('week 1', 'wed', 19), ('week 1', 'wed', 20), ('week 1', 'wed', 21), ('week 1', 'wed', 22), ('week 1', 'wed', 23), ('week 1', 'thu', 0), ('week 1', 'thu', 1), ('week 1', 'thu', 2), ('week 1', 'thu', 3), ('week 1', 'thu', 4), ('week 1', 'thu', 5), ('week 1', 'thu', 6), ('week 1', 'thu', 7), ('week 1', 'thu', 8), ('week 1', 'thu', 9), ('week 1', 'thu', 10), ('week 1', 'thu', 11), ('week 1', 'thu', 12), ('week 1', 'thu', 13), ('week 1', 'thu', 14), ('week 1', 'thu', 15), ('week 1', 'thu', 16), ('week 1', 'thu', 17), ('week 1', 'thu', 18), ('week 1', 'thu', 19), ('week 1', 'thu', 20), ('week 1', 'thu', 21), ('week 1', 'thu', 22), ('week 1', 'thu', 23), ('week 1', 'fri', 0), ('week 1', 'fri', 1), ('week 1', 'fri', 2), ('week 1', 'fri', 3), ('week 1', 'fri', 4), ('week 1', 'fri', 5), ('week 1', 'fri', 6), ('week 1', 'fri', 7), ('week 1', 'fri', 8), ('week 1', 'fri', 9), ('week 1', 'fri', 10), ('week 1', 'fri', 11), ('week 1', 'fri', 12), ('week 1', 'fri', 13), ('week 1', 'fri', 14), ('week 1', 'fri', 15), ('week 1', 'fri', 16), ('week 1', 'fri', 17), ('week 1', 'fri', 18), ('week 1', 'fri', 19), ('week 1', 'fri', 20), ('week 1', 'fri', 21), ('week 1', 'fri', 22), ('week 1', 'fri', 23), ('week 2', 'mon', 0), ('week 2', 'mon', 1), ('week 2', 'mon', 2), ('week 2', 'mon', 3), ('week 2', 'mon', 4), ('week 2', 'mon', 5), ('week 2', 'mon', 6), ('week 2', 'mon', 7), ('week 2', 'mon', 8), ('week 2', 'mon', 9), ('week 2', 'mon', 10), ('week 2', 'mon', 11), ('week 2', 'mon', 12), ('week 2', 'mon', 13), ('week 2', 'mon', 14), ('week 2', 'mon', 15), ('week 2', 'mon', 16), ('week 2', 'mon', 17), ('week 2', 'mon', 18), ('week 2', 'mon', 19), ('week 2', 'mon', 20), ('week 2', 'mon', 21), ('week 2', 'mon', 22), ('week 2', 'mon', 23), ('week 2', 'tue', 0), ('week 2', 'tue', 1), ('week 2', 'tue', 2), ('week 2', 'tue', 3), ('week 2', 'tue', 4), ('week 2', 'tue', 5), ('week 2', 'tue', 6), ('week 2', 'tue', 7), ('week 2', 'tue', 8), ('week 2', 'tue', 9), ('week 2', 'tue', 10), ('week 2', 'tue', 11), ('week 2', 'tue', 12), ('week 2', 'tue', 13), ('week 2', 'tue', 14), ('week 2', 'tue', 15), ('week 2', 'tue', 16), ('week 2', 'tue', 17), ('week 2', 'tue', 18), ('week 2', 'tue', 19), ('week 2', 'tue', 20), ('week 2', 'tue', 21), ('week 2', 'tue', 22), ('week 2', 'tue', 23), ('week 2', 'wed', 0), ('week 2', 'wed', 1), ('week 2', 'wed', 2), ('week 2', 'wed', 3), ('week 2', 'wed', 4), ('week 2', 'wed', 5), ('week 2', 'wed', 6), ('week 2', 'wed', 7), ('week 2', 'wed', 8), ('week 2', 'wed', 9), ('week 2', 'wed', 10), ('week 2', 'wed', 11), ('week 2', 'wed', 12), ('week 2', 'wed', 13), ('week 2', 'wed', 14), ('week 2', 'wed', 15), ('week 2', 'wed', 16), ('week 2', 'wed', 17), ('week 2', 'wed', 18), ('week 2', 'wed', 19), ('week 2', 'wed', 20), ('week 2', 'wed', 21), ('week 2', 'wed', 22), ('week 2', 'wed', 23), ('week 2', 'thu', 0), ('week 2', 'thu', 1), ('week 2', 'thu', 2), ('week 2', 'thu', 3), ('week 2', 'thu', 4), ('week 2', 'thu', 5), ('week 2', 'thu', 6), ('week 2', 'thu', 7), ('week 2', 'thu', 8), ('week 2', 'thu', 9), ('week 2', 'thu', 10), ('week 2', 'thu', 11), ('week 2', 'thu', 12), ('week 2', 'thu', 13), ('week 2', 'thu', 14), ('week 2', 'thu', 15), ('week 2', 'thu', 16), ('week 2', 'thu', 17), ('week 2', 'thu', 18), ('week 2', 'thu', 19), ('week 2', 'thu', 20), ('week 2', 'thu', 21), ('week 2', 'thu', 22), ('week 2', 'thu', 23), ('week 2', 'fri', 0), ('week 2', 'fri', 1), ('week 2', 'fri', 2), ('week 2', 'fri', 3), ('week 2', 'fri', 4), ('week 2', 'fri', 5), ('week 2', 'fri', 6), ('week 2', 'fri', 7), ('week 2', 'fri', 8), ('week 2', 'fri', 9), ('week 2', 'fri', 10), ('week 2', 'fri', 11), ('week 2', 'fri', 12), ('week 2', 'fri', 13), ('week 2', 'fri', 14), ('week 2', 'fri', 15), ('week 2', 'fri', 16), ('week 2', 'fri', 17), ('week 2', 'fri', 18), ('week 2', 'fri', 19), ('week 2', 'fri', 20), ('week 2', 'fri', 21), ('week 2', 'fri', 22), ('week 2', 'fri', 23)]\n"
          ],
          "name": "stdout"
        }
      ]
    },
    {
      "cell_type": "code",
      "metadata": {
        "id": "_hmE9ijmsy13",
        "colab_type": "code",
        "outputId": "1a5dc283-b280-419a-c7d4-fdab1e0936c3",
        "colab": {
          "base_uri": "https://localhost:8080/",
          "height": 34
        }
      },
      "source": [
        "weeks_and_days = ( ('week {}'.format(week), day, hour) for week in range (1,3) for day in ['mon', 'tue', 'wed', 'thu', 'fri'] for hour in range(24) )\n",
        "print(weeks_and_days)"
      ],
      "execution_count": 0,
      "outputs": [
        {
          "output_type": "stream",
          "text": [
            "<generator object <genexpr> at 0x7f504f0e7db0>\n"
          ],
          "name": "stdout"
        }
      ]
    },
    {
      "cell_type": "code",
      "metadata": {
        "id": "-I93FaLSs3-S",
        "colab_type": "code",
        "outputId": "7e92a7f1-6186-4a9b-a56d-a4d2a152d488",
        "colab": {
          "base_uri": "https://localhost:8080/",
          "height": 34
        }
      },
      "source": [
        "print(next(weeks_and_days))"
      ],
      "execution_count": 0,
      "outputs": [
        {
          "output_type": "stream",
          "text": [
            "('week 1', 'mon', 3)\n"
          ],
          "name": "stdout"
        }
      ]
    },
    {
      "cell_type": "code",
      "metadata": {
        "id": "Ac1SO8Tds9dZ",
        "colab_type": "code",
        "colab": {}
      },
      "source": [
        "for item in weeks_and_days:\n",
        "  print(item)"
      ],
      "execution_count": 0,
      "outputs": []
    },
    {
      "cell_type": "code",
      "metadata": {
        "id": "3nF5GXakpnLg",
        "colab_type": "code",
        "colab": {}
      },
      "source": [
        ""
      ],
      "execution_count": 0,
      "outputs": []
    },
    {
      "cell_type": "code",
      "metadata": {
        "id": "dEGHp2HUpnOn",
        "colab_type": "code",
        "outputId": "2b218dc5-8f66-472b-b72f-cf43720d7470",
        "colab": {
          "base_uri": "https://localhost:8080/",
          "height": 102
        }
      },
      "source": [
        "n = 6\n",
        "for i in range (1, n):\n",
        "  print(2 ** i)"
      ],
      "execution_count": 0,
      "outputs": [
        {
          "output_type": "stream",
          "text": [
            "2\n",
            "4\n",
            "8\n",
            "16\n",
            "32\n"
          ],
          "name": "stdout"
        }
      ]
    },
    {
      "cell_type": "code",
      "metadata": {
        "id": "6avSOBlOqDAO",
        "colab_type": "code",
        "outputId": "6121b069-eaeb-4aa4-e7fd-71a4789abaaf",
        "colab": {
          "base_uri": "https://localhost:8080/",
          "height": 34
        }
      },
      "source": [
        "_list = [2 ** i for i in range(1,6)]\n",
        "print(_list)"
      ],
      "execution_count": 0,
      "outputs": [
        {
          "output_type": "stream",
          "text": [
            "[2, 4, 8, 16, 32]\n"
          ],
          "name": "stdout"
        }
      ]
    },
    {
      "cell_type": "code",
      "metadata": {
        "id": "8Bl-8Y-xq-UF",
        "colab_type": "code",
        "outputId": "238d604f-08c3-49a0-dd4a-8051ecfd8cdd",
        "colab": {
          "base_uri": "https://localhost:8080/",
          "height": 34
        }
      },
      "source": [
        "_gen = (2 ** i for i in range(1, 6))\n",
        "print(*_gen)"
      ],
      "execution_count": 0,
      "outputs": [
        {
          "output_type": "stream",
          "text": [
            "2 4 8 16 32\n"
          ],
          "name": "stdout"
        }
      ]
    },
    {
      "cell_type": "code",
      "metadata": {
        "id": "Agiyg_kOrFJZ",
        "colab_type": "code",
        "colab": {}
      },
      "source": [
        ""
      ],
      "execution_count": 0,
      "outputs": []
    }
  ]
}