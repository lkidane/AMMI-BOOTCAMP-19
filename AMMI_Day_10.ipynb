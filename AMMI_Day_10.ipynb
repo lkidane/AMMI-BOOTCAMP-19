{
  "nbformat": 4,
  "nbformat_minor": 0,
  "metadata": {
    "colab": {
      "name": "AMMI_Day_10.ipynb",
      "provenance": []
    },
    "kernelspec": {
      "name": "python3",
      "display_name": "Python 3"
    },
    "accelerator": "GPU"
  },
  "cells": [
    {
      "cell_type": "markdown",
      "metadata": {
        "id": "vl2yfoPi_G4S",
        "colab_type": "text"
      },
      "source": [
        "# AMMI Day 10"
      ]
    },
    {
      "cell_type": "markdown",
      "metadata": {
        "id": "POHIhoyy_JEG",
        "colab_type": "text"
      },
      "source": [
        "## Morning Session\n",
        "### Transfer Learning for Computer Vision"
      ]
    },
    {
      "cell_type": "code",
      "metadata": {
        "id": "ENhp26F9P6kz",
        "colab_type": "code",
        "outputId": "211ae180-19ca-4210-f72e-5ea4bf4b0e20",
        "colab": {
          "base_uri": "https://localhost:8080/",
          "height": 513
        }
      },
      "source": [
        "!pip install tensorflow-gpu==2.0.0-beta0"
      ],
      "execution_count": 1,
      "outputs": [
        {
          "output_type": "stream",
          "text": [
            "Collecting tensorflow-gpu==2.0.0-beta0\n",
            "\u001b[?25l  Downloading https://files.pythonhosted.org/packages/e8/7e/87c4c94686cda7066f52cbca4c344248516490acdd6b258ec6b8a805d956/tensorflow_gpu-2.0.0b0-cp36-cp36m-manylinux1_x86_64.whl (348.8MB)\n",
            "\u001b[K     |████████████████████████████████| 348.9MB 34kB/s \n",
            "\u001b[?25hRequirement already satisfied: absl-py>=0.7.0 in /usr/local/lib/python3.6/dist-packages (from tensorflow-gpu==2.0.0-beta0) (0.8.1)\n",
            "Requirement already satisfied: google-pasta>=0.1.6 in /usr/local/lib/python3.6/dist-packages (from tensorflow-gpu==2.0.0-beta0) (0.1.7)\n",
            "Collecting tb-nightly<1.14.0a20190604,>=1.14.0a20190603\n",
            "\u001b[?25l  Downloading https://files.pythonhosted.org/packages/a4/96/571b875cd81dda9d5dfa1422a4f9d749e67c0a8d4f4f0b33a4e5f5f35e27/tb_nightly-1.14.0a20190603-py3-none-any.whl (3.1MB)\n",
            "\u001b[K     |████████████████████████████████| 3.1MB 47.4MB/s \n",
            "\u001b[?25hRequirement already satisfied: numpy<2.0,>=1.14.5 in /usr/local/lib/python3.6/dist-packages (from tensorflow-gpu==2.0.0-beta0) (1.17.3)\n",
            "Requirement already satisfied: grpcio>=1.8.6 in /usr/local/lib/python3.6/dist-packages (from tensorflow-gpu==2.0.0-beta0) (1.15.0)\n",
            "Requirement already satisfied: six>=1.10.0 in /usr/local/lib/python3.6/dist-packages (from tensorflow-gpu==2.0.0-beta0) (1.12.0)\n",
            "Requirement already satisfied: astor>=0.6.0 in /usr/local/lib/python3.6/dist-packages (from tensorflow-gpu==2.0.0-beta0) (0.8.0)\n",
            "Requirement already satisfied: gast>=0.2.0 in /usr/local/lib/python3.6/dist-packages (from tensorflow-gpu==2.0.0-beta0) (0.2.2)\n",
            "Requirement already satisfied: wheel>=0.26 in /usr/local/lib/python3.6/dist-packages (from tensorflow-gpu==2.0.0-beta0) (0.33.6)\n",
            "Requirement already satisfied: protobuf>=3.6.1 in /usr/local/lib/python3.6/dist-packages (from tensorflow-gpu==2.0.0-beta0) (3.10.0)\n",
            "Collecting tf-estimator-nightly<1.14.0.dev2019060502,>=1.14.0.dev2019060501\n",
            "\u001b[?25l  Downloading https://files.pythonhosted.org/packages/32/dd/99c47dd007dcf10d63fd895611b063732646f23059c618a373e85019eb0e/tf_estimator_nightly-1.14.0.dev2019060501-py2.py3-none-any.whl (496kB)\n",
            "\u001b[K     |████████████████████████████████| 501kB 52.6MB/s \n",
            "\u001b[?25hRequirement already satisfied: termcolor>=1.1.0 in /usr/local/lib/python3.6/dist-packages (from tensorflow-gpu==2.0.0-beta0) (1.1.0)\n",
            "Requirement already satisfied: keras-preprocessing>=1.0.5 in /usr/local/lib/python3.6/dist-packages (from tensorflow-gpu==2.0.0-beta0) (1.1.0)\n",
            "Requirement already satisfied: keras-applications>=1.0.6 in /usr/local/lib/python3.6/dist-packages (from tensorflow-gpu==2.0.0-beta0) (1.0.8)\n",
            "Requirement already satisfied: wrapt>=1.11.1 in /usr/local/lib/python3.6/dist-packages (from tensorflow-gpu==2.0.0-beta0) (1.11.2)\n",
            "Requirement already satisfied: markdown>=2.6.8 in /usr/local/lib/python3.6/dist-packages (from tb-nightly<1.14.0a20190604,>=1.14.0a20190603->tensorflow-gpu==2.0.0-beta0) (3.1.1)\n",
            "Requirement already satisfied: werkzeug>=0.11.15 in /usr/local/lib/python3.6/dist-packages (from tb-nightly<1.14.0a20190604,>=1.14.0a20190603->tensorflow-gpu==2.0.0-beta0) (0.16.0)\n",
            "Requirement already satisfied: setuptools>=41.0.0 in /usr/local/lib/python3.6/dist-packages (from tb-nightly<1.14.0a20190604,>=1.14.0a20190603->tensorflow-gpu==2.0.0-beta0) (41.4.0)\n",
            "Requirement already satisfied: h5py in /usr/local/lib/python3.6/dist-packages (from keras-applications>=1.0.6->tensorflow-gpu==2.0.0-beta0) (2.8.0)\n",
            "Installing collected packages: tb-nightly, tf-estimator-nightly, tensorflow-gpu\n",
            "Successfully installed tb-nightly-1.14.0a20190603 tensorflow-gpu-2.0.0b0 tf-estimator-nightly-1.14.0.dev2019060501\n"
          ],
          "name": "stdout"
        }
      ]
    },
    {
      "cell_type": "code",
      "metadata": {
        "id": "OBW_k_0WPzL0",
        "colab_type": "code",
        "outputId": "2ba22f6f-1d46-4c50-ebfd-ac5349db1faf",
        "colab": {
          "base_uri": "https://localhost:8080/",
          "height": 34
        }
      },
      "source": [
        "import tensorflow as tf\n",
        "from tensorflow.keras import datasets, layers, models, optimizers\n",
        "import pandas as pd\n",
        "import numpy as np\n",
        "\n",
        "print(tf.__version__)"
      ],
      "execution_count": 3,
      "outputs": [
        {
          "output_type": "stream",
          "text": [
            "2.0.0-beta0\n"
          ],
          "name": "stdout"
        }
      ]
    },
    {
      "cell_type": "code",
      "metadata": {
        "id": "bY5wAptCRcqV",
        "colab_type": "code",
        "colab": {}
      },
      "source": [
        "LIST_OF_LABELS = \"cirrus,cumulonimbus,cumulus\".split(',')\n",
        "HEIGHT = 300\n",
        "WIDTH = 300\n",
        "NUM_CHANNELS = 3\n",
        "NCLASSES = len(LIST_OF_LABELS)\n",
        "BATCH_SIZE = 32"
      ],
      "execution_count": 0,
      "outputs": []
    },
    {
      "cell_type": "code",
      "metadata": {
        "id": "cyWlY2gnRnlj",
        "colab_type": "code",
        "colab": {}
      },
      "source": [
        "AUTOTUNE = tf.data.experimental.AUTOTUNE"
      ],
      "execution_count": 0,
      "outputs": []
    },
    {
      "cell_type": "code",
      "metadata": {
        "id": "seceerEqRv-f",
        "colab_type": "code",
        "outputId": "526096c5-a862-430f-cc46-1aa05001beba",
        "colab": {
          "base_uri": "https://localhost:8080/",
          "height": 122
        }
      },
      "source": [
        "from google.colab import drive\n",
        "drive.mount('/content/gdrive')"
      ],
      "execution_count": 6,
      "outputs": [
        {
          "output_type": "stream",
          "text": [
            "Go to this URL in a browser: https://accounts.google.com/o/oauth2/auth?client_id=947318989803-6bn6qk8qdgf4n4g3pfee6491hc0brc4i.apps.googleusercontent.com&redirect_uri=urn%3Aietf%3Awg%3Aoauth%3A2.0%3Aoob&scope=email%20https%3A%2F%2Fwww.googleapis.com%2Fauth%2Fdocs.test%20https%3A%2F%2Fwww.googleapis.com%2Fauth%2Fdrive%20https%3A%2F%2Fwww.googleapis.com%2Fauth%2Fdrive.photos.readonly%20https%3A%2F%2Fwww.googleapis.com%2Fauth%2Fpeopleapi.readonly&response_type=code\n",
            "\n",
            "Enter your authorization code:\n",
            "··········\n",
            "Mounted at /content/gdrive\n"
          ],
          "name": "stdout"
        }
      ]
    },
    {
      "cell_type": "markdown",
      "metadata": {
        "id": "58iEgm8wVEfy",
        "colab_type": "text"
      },
      "source": [
        "### Get a list of files and their classes"
      ]
    },
    {
      "cell_type": "code",
      "metadata": {
        "id": "7LC2FWDOR42g",
        "colab_type": "code",
        "colab": {}
      },
      "source": [
        "_path = '/content/gdrive/My Drive/clouds/'\n",
        "_files = list()\n",
        "_classes = list()\n",
        "\n",
        "for i in range(1,21):\n",
        "  _files.append('{}cirrus/{}.jpg'.format(_path,i))\n",
        "  _classes.append(0)\n",
        "  _files.append('{}cumulonimbus/{}.jpg'.format(_path,i))\n",
        "  _classes.append(1)\n",
        "  _files.append('{}cumulus/{}.jpg'.format(_path,i))\n",
        "  _classes.append(2)"
      ],
      "execution_count": 0,
      "outputs": []
    },
    {
      "cell_type": "markdown",
      "metadata": {
        "id": "QZJbdehbVIXU",
        "colab_type": "text"
      },
      "source": [
        "### Load and preprocess images"
      ]
    },
    {
      "cell_type": "code",
      "metadata": {
        "id": "vl1S023iUB0J",
        "colab_type": "code",
        "colab": {}
      },
      "source": [
        "def preprocess_image(image):\n",
        "  image = tf.image.decode_image(contents=image, channels=NUM_CHANNELS, expand_animations=False)\n",
        "  image = tf.image.resize(image, [HEIGHT, WIDTH])\n",
        "  image /= 255.0  # normalize to [0,1] range\n",
        "\n",
        "  return image\n",
        "\n",
        "def load_and_preprocess_image(path):\n",
        "  image = tf.io.read_file(path)\n",
        "  return preprocess_image(image)"
      ],
      "execution_count": 0,
      "outputs": []
    },
    {
      "cell_type": "code",
      "metadata": {
        "id": "6ywG-B3wXQeF",
        "colab_type": "code",
        "outputId": "21749aac-5c66-4200-dd5c-b788987c8ed8",
        "colab": {
          "base_uri": "https://localhost:8080/",
          "height": 867
        }
      },
      "source": [
        "filename = _files[1]\n",
        "img = tf.io.read_file(filename)\n",
        "#img = tf.image.decode_image(contents=img, channels=NUM_CHANNELS, expand_animations=False)\n",
        "img = preprocess_image(img)\n",
        "print(img)"
      ],
      "execution_count": 9,
      "outputs": [
        {
          "output_type": "stream",
          "text": [
            "tf.Tensor(\n",
            "[[[0.07364706 0.18345098 0.26972547]\n",
            "  [0.06332026 0.1848889  0.26724184]\n",
            "  [0.07450981 0.18431373 0.27058825]\n",
            "  ...\n",
            "  [0.00196078 0.04509804 0.1627451 ]\n",
            "  [0.00784314 0.05098039 0.16078432]\n",
            "  [0.00784314 0.05098039 0.16078432]]\n",
            "\n",
            " [[0.07192157 0.18172549 0.26799998]\n",
            "  [0.06949019 0.19105883 0.27341178]\n",
            "  [0.07254902 0.18235295 0.26862746]\n",
            "  ...\n",
            "  [0.00196078 0.04509804 0.1627451 ]\n",
            "  [0.00784314 0.05098039 0.16078432]\n",
            "  [0.00784314 0.05098039 0.16078432]]\n",
            "\n",
            " [[0.0696732  0.17947713 0.26575166]\n",
            "  [0.07542484 0.19699347 0.27934638]\n",
            "  [0.07843138 0.1882353  0.27450982]\n",
            "  ...\n",
            "  [0.00196078 0.04509804 0.1627451 ]\n",
            "  [0.00784314 0.05098039 0.16078432]\n",
            "  [0.00784314 0.05098039 0.16078432]]\n",
            "\n",
            " ...\n",
            "\n",
            " [[0.5960782  0.6385619  0.6792155 ]\n",
            "  [0.         0.00392157 0.        ]\n",
            "  [0.05751546 0.06588147 0.06718858]\n",
            "  ...\n",
            "  [0.34418312 0.4526798  0.4887583 ]\n",
            "  [0.0015686  0.00640522 0.00418294]\n",
            "  [0.         0.00915037 0.        ]]\n",
            "\n",
            " [[0.48533326 0.5390587  0.5778037 ]\n",
            "  [0.0086275  0.00894117 0.00564707]\n",
            "  [0.19317663 0.22674525 0.25074524]\n",
            "  ...\n",
            "  [0.35513714 0.4487057  0.4858821 ]\n",
            "  [0.         0.00219607 0.        ]\n",
            "  [0.00109803 0.         0.00658821]]\n",
            "\n",
            " [[0.0033464  0.00732027 0.00478432]\n",
            "  [0.01816993 0.00894117 0.00224837]\n",
            "  [0.00449674 0.00420915 0.00363399]\n",
            "  ...\n",
            "  [0.09871886 0.12133323 0.14447045]\n",
            "  [0.         0.         0.        ]\n",
            "  [0.         0.         0.        ]]], shape=(300, 300, 3), dtype=float32)\n"
          ],
          "name": "stdout"
        }
      ]
    },
    {
      "cell_type": "code",
      "metadata": {
        "id": "uHEBh66xXnkI",
        "colab_type": "code",
        "outputId": "b150c7a1-efd1-4652-e0ec-88f6e2c35384",
        "colab": {
          "base_uri": "https://localhost:8080/",
          "height": 286
        }
      },
      "source": [
        "import matplotlib.pyplot as plt\n",
        "%matplotlib inline\n",
        "plt.imshow(img)"
      ],
      "execution_count": 10,
      "outputs": [
        {
          "output_type": "execute_result",
          "data": {
            "text/plain": [
              "<matplotlib.image.AxesImage at 0x7f18400e3fd0>"
            ]
          },
          "metadata": {
            "tags": []
          },
          "execution_count": 10
        },
        {
          "output_type": "display_data",
          "data": {
            "image/png": "[encoded data removed]",
            "text/plain": [
              "<Figure size 432x288 with 1 Axes>"
            ]
          },
          "metadata": {
            "tags": []
          }
        }
      ]
    },
    {
      "cell_type": "markdown",
      "metadata": {
        "id": "6g1toF0jX3x_",
        "colab_type": "text"
      },
      "source": [
        "### Image Preprocessing"
      ]
    },
    {
      "cell_type": "code",
      "metadata": {
        "id": "nrZ14HitX6C_",
        "colab_type": "code",
        "outputId": "0ff66a9f-bc8f-4980-c71d-bc7c5b956448",
        "colab": {
          "base_uri": "https://localhost:8080/",
          "height": 34
        }
      },
      "source": [
        "path_ds = tf.data.Dataset.from_tensor_slices(_files)\n",
        "image_ds = path_ds.map(load_and_preprocess_image, num_parallel_calls=AUTOTUNE)\n",
        "image_ds"
      ],
      "execution_count": 11,
      "outputs": [
        {
          "output_type": "execute_result",
          "data": {
            "text/plain": [
              "<ParallelMapDataset shapes: (300, 300, None), types: tf.float32>"
            ]
          },
          "metadata": {
            "tags": []
          },
          "execution_count": 11
        }
      ]
    },
    {
      "cell_type": "code",
      "metadata": {
        "id": "0rbuG6BoX_XZ",
        "colab_type": "code",
        "outputId": "bbb538e1-6ad1-4331-a3da-6d175bbe94be",
        "colab": {
          "base_uri": "https://localhost:8080/",
          "height": 34
        }
      },
      "source": [
        "label_ds = tf.data.Dataset.from_tensor_slices(tf.cast(_classes, tf.int64))\n",
        "image_label_ds = tf.data.Dataset.zip((image_ds, label_ds))\n",
        "image_label_ds"
      ],
      "execution_count": 12,
      "outputs": [
        {
          "output_type": "execute_result",
          "data": {
            "text/plain": [
              "<ZipDataset shapes: ((300, 300, None), ()), types: (tf.float32, tf.int64)>"
            ]
          },
          "metadata": {
            "tags": []
          },
          "execution_count": 12
        }
      ]
    },
    {
      "cell_type": "code",
      "metadata": {
        "id": "AoEKK8ouYGXy",
        "colab_type": "code",
        "outputId": "c941e46f-93f1-4652-b822-667d76b6a409",
        "colab": {
          "base_uri": "https://localhost:8080/",
          "height": 34
        }
      },
      "source": [
        "ds = image_label_ds.shuffle(buffer_size=1000 * BATCH_SIZE)\n",
        "ds = ds.repeat()\n",
        "ds = ds.batch(BATCH_SIZE)\n",
        "# `prefetch` lets the dataset fetch batches, in the background while the model is training.\n",
        "ds = ds.prefetch(buffer_size=AUTOTUNE)\n",
        "ds"
      ],
      "execution_count": 13,
      "outputs": [
        {
          "output_type": "execute_result",
          "data": {
            "text/plain": [
              "<PrefetchDataset shapes: ((None, 300, 300, None), (None,)), types: (tf.float32, tf.int64)>"
            ]
          },
          "metadata": {
            "tags": []
          },
          "execution_count": 13
        }
      ]
    },
    {
      "cell_type": "code",
      "metadata": {
        "id": "z07E9PIfYL0W",
        "colab_type": "code",
        "colab": {}
      },
      "source": [
        ""
      ],
      "execution_count": 0,
      "outputs": []
    },
    {
      "cell_type": "markdown",
      "metadata": {
        "id": "YHDEN8NLYgq_",
        "colab_type": "text"
      },
      "source": [
        "### LeNet-5"
      ]
    },
    {
      "cell_type": "code",
      "metadata": {
        "id": "G1DZs_m1YjVB",
        "colab_type": "code",
        "outputId": "f58b1de3-9df6-40de-dbf9-351d31f0bf4b",
        "colab": {
          "base_uri": "https://localhost:8080/",
          "height": 442
        }
      },
      "source": [
        "model = models.Sequential([\n",
        "    layers.Conv2D(filters=6, kernel_size=(5,5), strides=1, activation='tanh', input_shape=(HEIGHT, HEIGHT, NUM_CHANNELS)),\n",
        "    layers.AveragePooling2D(pool_size=(2,2)),\n",
        "    layers.Conv2D(filters=16, kernel_size=(5,5), strides=1, activation='tanh'),\n",
        "    layers.AveragePooling2D(pool_size=(2,2)),\n",
        "    layers.Flatten(),\n",
        "    layers.Dense(120),\n",
        "    layers.Dense(84),\n",
        "    layers.Dense(NCLASSES)\n",
        "])\n",
        "print(model.summary())"
      ],
      "execution_count": 14,
      "outputs": [
        {
          "output_type": "stream",
          "text": [
            "Model: \"sequential\"\n",
            "_________________________________________________________________\n",
            "Layer (type)                 Output Shape              Param #   \n",
            "=================================================================\n",
            "conv2d (Conv2D)              (None, 296, 296, 6)       456       \n",
            "_________________________________________________________________\n",
            "average_pooling2d (AveragePo (None, 148, 148, 6)       0         \n",
            "_________________________________________________________________\n",
            "conv2d_1 (Conv2D)            (None, 144, 144, 16)      2416      \n",
            "_________________________________________________________________\n",
            "average_pooling2d_1 (Average (None, 72, 72, 16)        0         \n",
            "_________________________________________________________________\n",
            "flatten (Flatten)            (None, 82944)             0         \n",
            "_________________________________________________________________\n",
            "dense (Dense)                (None, 120)               9953400   \n",
            "_________________________________________________________________\n",
            "dense_1 (Dense)              (None, 84)                10164     \n",
            "_________________________________________________________________\n",
            "dense_2 (Dense)              (None, 3)                 255       \n",
            "=================================================================\n",
            "Total params: 9,966,691\n",
            "Trainable params: 9,966,691\n",
            "Non-trainable params: 0\n",
            "_________________________________________________________________\n",
            "None\n"
          ],
          "name": "stdout"
        }
      ]
    },
    {
      "cell_type": "code",
      "metadata": {
        "id": "V749tcQmYlWZ",
        "colab_type": "code",
        "outputId": "09335248-653a-4240-9d6c-ad82b1c5f3ce",
        "colab": {
          "base_uri": "https://localhost:8080/",
          "height": 204
        }
      },
      "source": [
        "optimizer = tf.keras.optimizers.SGD(learning_rate=0.0001, momentum=0.9, decay=0.0005)\n",
        "model.compile(optimizer=optimizer, loss='sparse_categorical_crossentropy', metrics=['accuracy'])\n",
        "model.fit(ds, epochs=5, steps_per_epoch=60)"
      ],
      "execution_count": 17,
      "outputs": [
        {
          "output_type": "stream",
          "text": [
            "Epoch 1/5\n",
            "60/60 [==============================] - 58s 960ms/step - loss: 10.7454 - accuracy: 0.3333\n",
            "Epoch 2/5\n",
            "60/60 [==============================] - 52s 873ms/step - loss: 10.7454 - accuracy: 0.3333\n",
            "Epoch 3/5\n",
            "60/60 [==============================] - 53s 875ms/step - loss: 10.7454 - accuracy: 0.3333\n",
            "Epoch 4/5\n",
            "60/60 [==============================] - 52s 868ms/step - loss: 10.7454 - accuracy: 0.3333\n",
            "Epoch 5/5\n",
            "60/60 [==============================] - 52s 874ms/step - loss: 10.7454 - accuracy: 0.3333\n"
          ],
          "name": "stdout"
        },
        {
          "output_type": "execute_result",
          "data": {
            "text/plain": [
              "<tensorflow.python.keras.callbacks.History at 0x7f177df89eb8>"
            ]
          },
          "metadata": {
            "tags": []
          },
          "execution_count": 17
        }
      ]
    },
    {
      "cell_type": "markdown",
      "metadata": {
        "id": "RQYgBjfJZH78",
        "colab_type": "text"
      },
      "source": [
        "### VGG Architecture"
      ]
    },
    {
      "cell_type": "code",
      "metadata": {
        "id": "ma-FhlUuZMHg",
        "colab_type": "code",
        "outputId": "202315f6-e9c3-4cc1-a063-f0e9961cf6b6",
        "colab": {
          "base_uri": "https://localhost:8080/",
          "height": 748
        }
      },
      "source": [
        "model = models.Sequential([\n",
        "    layers.Conv2D(filters=96, kernel_size=(11, 11), strides=4, activation='relu', input_shape=(HEIGHT, WIDTH, NUM_CHANNELS), bias_initializer=tf.initializers.zeros(), kernel_initializer=tf.initializers.RandomNormal(mean=0, stddev=0.01)),\n",
        "    layers.BatchNormalization(),\n",
        "    layers.MaxPooling2D(),\n",
        "    layers.Conv2D(filters=256, kernel_size=(5, 5), activation='relu', bias_initializer=tf.initializers.ones(), kernel_initializer=tf.initializers.RandomNormal(mean=0, stddev=0.01)),\n",
        "    layers.BatchNormalization(),\n",
        "    layers.MaxPooling2D(),\n",
        "    layers.Conv2D(filters=384, kernel_size=(3, 3), activation='relu', bias_initializer=tf.initializers.zeros(), kernel_initializer=tf.initializers.RandomNormal(mean=0, stddev=0.01)),\n",
        "    layers.Conv2D(filters=384, kernel_size=(3, 3), activation='relu', bias_initializer=tf.initializers.ones(), kernel_initializer=tf.initializers.RandomNormal(mean=0, stddev=0.01)),\n",
        "    layers.Conv2D(filters=256, kernel_size=(3, 3), activation='relu', bias_initializer=tf.initializers.ones(), kernel_initializer=tf.initializers.RandomNormal(mean=0, stddev=0.01)),\n",
        "    layers.MaxPooling2D(),\n",
        "    layers.Flatten(),\n",
        "    layers.Dense(4096, activation='relu', bias_initializer=tf.initializers.ones(), kernel_initializer=tf.initializers.RandomNormal(mean=0, stddev=0.01)),\n",
        "    layers.Dropout(0.5),\n",
        "    layers.Dense(4096, activation='relu', bias_initializer=tf.initializers.ones(), kernel_initializer=tf.initializers.RandomNormal(mean=0, stddev=0.01)),\n",
        "    layers.Dropout(0.5),\n",
        "    layers.Dense(4096, activation='relu', kernel_initializer=tf.initializers.RandomNormal(mean=0, stddev=0.01)),\n",
        "    layers.Dense(NCLASSES, activation='softmax', bias_initializer=tf.initializers.ones())\n",
        "])\n",
        "\n",
        "print(model.summary())"
      ],
      "execution_count": 18,
      "outputs": [
        {
          "output_type": "stream",
          "text": [
            "Model: \"sequential_1\"\n",
            "_________________________________________________________________\n",
            "Layer (type)                 Output Shape              Param #   \n",
            "=================================================================\n",
            "conv2d_2 (Conv2D)            (None, 73, 73, 96)        34944     \n",
            "_________________________________________________________________\n",
            "batch_normalization (BatchNo (None, 73, 73, 96)        384       \n",
            "_________________________________________________________________\n",
            "max_pooling2d (MaxPooling2D) (None, 36, 36, 96)        0         \n",
            "_________________________________________________________________\n",
            "conv2d_3 (Conv2D)            (None, 32, 32, 256)       614656    \n",
            "_________________________________________________________________\n",
            "batch_normalization_1 (Batch (None, 32, 32, 256)       1024      \n",
            "_________________________________________________________________\n",
            "max_pooling2d_1 (MaxPooling2 (None, 16, 16, 256)       0         \n",
            "_________________________________________________________________\n",
            "conv2d_4 (Conv2D)            (None, 14, 14, 384)       885120    \n",
            "_________________________________________________________________\n",
            "conv2d_5 (Conv2D)            (None, 12, 12, 384)       1327488   \n",
            "_________________________________________________________________\n",
            "conv2d_6 (Conv2D)            (None, 10, 10, 256)       884992    \n",
            "_________________________________________________________________\n",
            "max_pooling2d_2 (MaxPooling2 (None, 5, 5, 256)         0         \n",
            "_________________________________________________________________\n",
            "flatten_1 (Flatten)          (None, 6400)              0         \n",
            "_________________________________________________________________\n",
            "dense_3 (Dense)              (None, 4096)              26218496  \n",
            "_________________________________________________________________\n",
            "dropout (Dropout)            (None, 4096)              0         \n",
            "_________________________________________________________________\n",
            "dense_4 (Dense)              (None, 4096)              16781312  \n",
            "_________________________________________________________________\n",
            "dropout_1 (Dropout)          (None, 4096)              0         \n",
            "_________________________________________________________________\n",
            "dense_5 (Dense)              (None, 4096)              16781312  \n",
            "_________________________________________________________________\n",
            "dense_6 (Dense)              (None, 3)                 12291     \n",
            "=================================================================\n",
            "Total params: 63,542,019\n",
            "Trainable params: 63,541,315\n",
            "Non-trainable params: 704\n",
            "_________________________________________________________________\n",
            "None\n"
          ],
          "name": "stdout"
        }
      ]
    },
    {
      "cell_type": "code",
      "metadata": {
        "id": "IOQrWoL3ZZvt",
        "colab_type": "code",
        "colab": {}
      },
      "source": [
        "optimizer = tf.keras.optimizers.SGD(learning_rate=0.01, momentum=0.9, decay=0.0005)\n",
        "model.compile(optimizer=optimizer, loss='sparse_categorical_crossentropy', metrics=['accuracy'])\n",
        "model.fit(ds, epochs=5, steps_per_epoch=60)"
      ],
      "execution_count": 0,
      "outputs": []
    },
    {
      "cell_type": "markdown",
      "metadata": {
        "id": "69dHENKjZhc8",
        "colab_type": "text"
      },
      "source": [
        "### VGG Pre-trained"
      ]
    },
    {
      "cell_type": "code",
      "metadata": {
        "id": "MuyInfedZja0",
        "colab_type": "code",
        "outputId": "4b4eb5c0-906f-4a56-a704-1b641dabcfaf",
        "colab": {
          "base_uri": "https://localhost:8080/",
          "height": 972
        }
      },
      "source": [
        "base_model = tf.keras.applications.vgg19.VGG19(input_shape=(HEIGHT, WIDTH, NUM_CHANNELS), include_top=False, weights='imagenet')\n",
        "base_model.trainable = False\n",
        "print(base_model.summary())"
      ],
      "execution_count": 20,
      "outputs": [
        {
          "output_type": "stream",
          "text": [
            "Downloading data from https://github.com/fchollet/deep-learning-models/releases/download/v0.1/vgg19_weights_tf_dim_ordering_tf_kernels_notop.h5\n",
            "80142336/80134624 [==============================] - 6s 0us/step\n",
            "Model: \"vgg19\"\n",
            "_________________________________________________________________\n",
            "Layer (type)                 Output Shape              Param #   \n",
            "=================================================================\n",
            "input_1 (InputLayer)         [(None, 300, 300, 3)]     0         \n",
            "_________________________________________________________________\n",
            "block1_conv1 (Conv2D)        (None, 300, 300, 64)      1792      \n",
            "_________________________________________________________________\n",
            "block1_conv2 (Conv2D)        (None, 300, 300, 64)      36928     \n",
            "_________________________________________________________________\n",
            "block1_pool (MaxPooling2D)   (None, 150, 150, 64)      0         \n",
            "_________________________________________________________________\n",
            "block2_conv1 (Conv2D)        (None, 150, 150, 128)     73856     \n",
            "_________________________________________________________________\n",
            "block2_conv2 (Conv2D)        (None, 150, 150, 128)     147584    \n",
            "_________________________________________________________________\n",
            "block2_pool (MaxPooling2D)   (None, 75, 75, 128)       0         \n",
            "_________________________________________________________________\n",
            "block3_conv1 (Conv2D)        (None, 75, 75, 256)       295168    \n",
            "_________________________________________________________________\n",
            "block3_conv2 (Conv2D)        (None, 75, 75, 256)       590080    \n",
            "_________________________________________________________________\n",
            "block3_conv3 (Conv2D)        (None, 75, 75, 256)       590080    \n",
            "_________________________________________________________________\n",
            "block3_conv4 (Conv2D)        (None, 75, 75, 256)       590080    \n",
            "_________________________________________________________________\n",
            "block3_pool (MaxPooling2D)   (None, 37, 37, 256)       0         \n",
            "_________________________________________________________________\n",
            "block4_conv1 (Conv2D)        (None, 37, 37, 512)       1180160   \n",
            "_________________________________________________________________\n",
            "block4_conv2 (Conv2D)        (None, 37, 37, 512)       2359808   \n",
            "_________________________________________________________________\n",
            "block4_conv3 (Conv2D)        (None, 37, 37, 512)       2359808   \n",
            "_________________________________________________________________\n",
            "block4_conv4 (Conv2D)        (None, 37, 37, 512)       2359808   \n",
            "_________________________________________________________________\n",
            "block4_pool (MaxPooling2D)   (None, 18, 18, 512)       0         \n",
            "_________________________________________________________________\n",
            "block5_conv1 (Conv2D)        (None, 18, 18, 512)       2359808   \n",
            "_________________________________________________________________\n",
            "block5_conv2 (Conv2D)        (None, 18, 18, 512)       2359808   \n",
            "_________________________________________________________________\n",
            "block5_conv3 (Conv2D)        (None, 18, 18, 512)       2359808   \n",
            "_________________________________________________________________\n",
            "block5_conv4 (Conv2D)        (None, 18, 18, 512)       2359808   \n",
            "_________________________________________________________________\n",
            "block5_pool (MaxPooling2D)   (None, 9, 9, 512)         0         \n",
            "=================================================================\n",
            "Total params: 20,024,384\n",
            "Trainable params: 0\n",
            "Non-trainable params: 20,024,384\n",
            "_________________________________________________________________\n",
            "None\n"
          ],
          "name": "stdout"
        }
      ]
    },
    {
      "cell_type": "code",
      "metadata": {
        "id": "coeFJhbBZs6V",
        "colab_type": "code",
        "outputId": "ff071edf-8a68-44af-85df-a5f783f5ad7f",
        "colab": {
          "base_uri": "https://localhost:8080/",
          "height": 340
        }
      },
      "source": [
        "model = models.Sequential([\n",
        "    base_model,\n",
        "    layers.GlobalAveragePooling2D(),\n",
        "    layers.Dense(128, activation='relu'),\n",
        "    layers.Dropout(0.5),\n",
        "    layers.Dense(NCLASSES, activation='softmax')\n",
        "])\n",
        "print(model.summary())"
      ],
      "execution_count": 21,
      "outputs": [
        {
          "output_type": "stream",
          "text": [
            "Model: \"sequential_2\"\n",
            "_________________________________________________________________\n",
            "Layer (type)                 Output Shape              Param #   \n",
            "=================================================================\n",
            "vgg19 (Model)                (None, 9, 9, 512)         20024384  \n",
            "_________________________________________________________________\n",
            "global_average_pooling2d (Gl (None, 512)               0         \n",
            "_________________________________________________________________\n",
            "dense_7 (Dense)              (None, 128)               65664     \n",
            "_________________________________________________________________\n",
            "dropout_2 (Dropout)          (None, 128)               0         \n",
            "_________________________________________________________________\n",
            "dense_8 (Dense)              (None, 3)                 387       \n",
            "=================================================================\n",
            "Total params: 20,090,435\n",
            "Trainable params: 66,051\n",
            "Non-trainable params: 20,024,384\n",
            "_________________________________________________________________\n",
            "None\n"
          ],
          "name": "stdout"
        }
      ]
    },
    {
      "cell_type": "code",
      "metadata": {
        "id": "RMSvHubxZ6bG",
        "colab_type": "code",
        "outputId": "f525967f-9d1c-430f-b3ce-c0811549f9a1",
        "colab": {
          "base_uri": "https://localhost:8080/",
          "height": 204
        }
      },
      "source": [
        "optimizer = tf.keras.optimizers.SGD(learning_rate=0.01, momentum=0.9, decay=0.0005)\n",
        "model.compile(optimizer=optimizer, loss='sparse_categorical_crossentropy', metrics=['accuracy'])\n",
        "model.fit(ds, epochs=5, steps_per_epoch=60)"
      ],
      "execution_count": 22,
      "outputs": [
        {
          "output_type": "stream",
          "text": [
            "Epoch 1/5\n",
            "60/60 [==============================] - 60s 998ms/step - loss: 0.9291 - accuracy: 0.5500\n",
            "Epoch 2/5\n",
            "60/60 [==============================] - 54s 901ms/step - loss: 0.7036 - accuracy: 0.6958\n",
            "Epoch 3/5\n",
            "60/60 [==============================] - 54s 905ms/step - loss: 0.5936 - accuracy: 0.7568\n",
            "Epoch 4/5\n",
            "60/60 [==============================] - 54s 904ms/step - loss: 0.5574 - accuracy: 0.7656\n",
            "Epoch 5/5\n",
            "60/60 [==============================] - 54s 905ms/step - loss: 0.5016 - accuracy: 0.8083\n"
          ],
          "name": "stdout"
        },
        {
          "output_type": "execute_result",
          "data": {
            "text/plain": [
              "<tensorflow.python.keras.callbacks.History at 0x7f177d41db70>"
            ]
          },
          "metadata": {
            "tags": []
          },
          "execution_count": 22
        }
      ]
    },
    {
      "cell_type": "markdown",
      "metadata": {
        "id": "ENUzIb_CaMAI",
        "colab_type": "text"
      },
      "source": [
        "### Functional API"
      ]
    },
    {
      "cell_type": "code",
      "metadata": {
        "id": "h1wpj4xuaOXV",
        "colab_type": "code",
        "outputId": "85d9a3d5-2926-456c-fea3-f4cd02dd2aba",
        "colab": {
          "base_uri": "https://localhost:8080/",
          "height": 1000
        }
      },
      "source": [
        "x = base_model.output\n",
        "x = layers.GlobalAveragePooling2D()(x)\n",
        "x = layers.Dense(128, activation='relu')(x)\n",
        "x = layers.Dense(3, activation='softmax')(x)\n",
        "\n",
        "model = models.Model(inputs=base_model.input, outputs=x)\n",
        "print(model.summary())"
      ],
      "execution_count": 23,
      "outputs": [
        {
          "output_type": "stream",
          "text": [
            "Model: \"model\"\n",
            "_________________________________________________________________\n",
            "Layer (type)                 Output Shape              Param #   \n",
            "=================================================================\n",
            "input_1 (InputLayer)         [(None, 300, 300, 3)]     0         \n",
            "_________________________________________________________________\n",
            "block1_conv1 (Conv2D)        (None, 300, 300, 64)      1792      \n",
            "_________________________________________________________________\n",
            "block1_conv2 (Conv2D)        (None, 300, 300, 64)      36928     \n",
            "_________________________________________________________________\n",
            "block1_pool (MaxPooling2D)   (None, 150, 150, 64)      0         \n",
            "_________________________________________________________________\n",
            "block2_conv1 (Conv2D)        (None, 150, 150, 128)     73856     \n",
            "_________________________________________________________________\n",
            "block2_conv2 (Conv2D)        (None, 150, 150, 128)     147584    \n",
            "_________________________________________________________________\n",
            "block2_pool (MaxPooling2D)   (None, 75, 75, 128)       0         \n",
            "_________________________________________________________________\n",
            "block3_conv1 (Conv2D)        (None, 75, 75, 256)       295168    \n",
            "_________________________________________________________________\n",
            "block3_conv2 (Conv2D)        (None, 75, 75, 256)       590080    \n",
            "_________________________________________________________________\n",
            "block3_conv3 (Conv2D)        (None, 75, 75, 256)       590080    \n",
            "_________________________________________________________________\n",
            "block3_conv4 (Conv2D)        (None, 75, 75, 256)       590080    \n",
            "_________________________________________________________________\n",
            "block3_pool (MaxPooling2D)   (None, 37, 37, 256)       0         \n",
            "_________________________________________________________________\n",
            "block4_conv1 (Conv2D)        (None, 37, 37, 512)       1180160   \n",
            "_________________________________________________________________\n",
            "block4_conv2 (Conv2D)        (None, 37, 37, 512)       2359808   \n",
            "_________________________________________________________________\n",
            "block4_conv3 (Conv2D)        (None, 37, 37, 512)       2359808   \n",
            "_________________________________________________________________\n",
            "block4_conv4 (Conv2D)        (None, 37, 37, 512)       2359808   \n",
            "_________________________________________________________________\n",
            "block4_pool (MaxPooling2D)   (None, 18, 18, 512)       0         \n",
            "_________________________________________________________________\n",
            "block5_conv1 (Conv2D)        (None, 18, 18, 512)       2359808   \n",
            "_________________________________________________________________\n",
            "block5_conv2 (Conv2D)        (None, 18, 18, 512)       2359808   \n",
            "_________________________________________________________________\n",
            "block5_conv3 (Conv2D)        (None, 18, 18, 512)       2359808   \n",
            "_________________________________________________________________\n",
            "block5_conv4 (Conv2D)        (None, 18, 18, 512)       2359808   \n",
            "_________________________________________________________________\n",
            "block5_pool (MaxPooling2D)   (None, 9, 9, 512)         0         \n",
            "_________________________________________________________________\n",
            "global_average_pooling2d_1 ( (None, 512)               0         \n",
            "_________________________________________________________________\n",
            "dense_9 (Dense)              (None, 128)               65664     \n",
            "_________________________________________________________________\n",
            "dense_10 (Dense)             (None, 3)                 387       \n",
            "=================================================================\n",
            "Total params: 20,090,435\n",
            "Trainable params: 66,051\n",
            "Non-trainable params: 20,024,384\n",
            "_________________________________________________________________\n",
            "None\n"
          ],
          "name": "stdout"
        }
      ]
    },
    {
      "cell_type": "code",
      "metadata": {
        "id": "uGcLuewkaaHc",
        "colab_type": "code",
        "outputId": "f6669747-8056-4655-992a-7bfecad4c06c",
        "colab": {
          "base_uri": "https://localhost:8080/",
          "height": 374
        }
      },
      "source": [
        "optimizer = tf.keras.optimizers.SGD(learning_rate=0.01, momentum=0.9, decay=0.0005)\n",
        "model.compile(optimizer=optimizer, loss='sparse_categorical_crossentropy', metrics=['accuracy'])\n",
        "model.fit(ds, epochs=10, steps_per_epoch=60)"
      ],
      "execution_count": 24,
      "outputs": [
        {
          "output_type": "stream",
          "text": [
            "Epoch 1/10\n",
            "60/60 [==============================] - 60s 1s/step - loss: 0.8066 - accuracy: 0.6359\n",
            "Epoch 2/10\n",
            "60/60 [==============================] - 55s 909ms/step - loss: 0.4878 - accuracy: 0.8359\n",
            "Epoch 3/10\n",
            "60/60 [==============================] - 55s 909ms/step - loss: 0.3394 - accuracy: 0.9036\n",
            "Epoch 4/10\n",
            "60/60 [==============================] - 54s 908ms/step - loss: 0.2507 - accuracy: 0.9359\n",
            "Epoch 5/10\n",
            "60/60 [==============================] - 54s 902ms/step - loss: 0.1742 - accuracy: 0.9531\n",
            "Epoch 6/10\n",
            "60/60 [==============================] - 54s 904ms/step - loss: 0.1301 - accuracy: 0.9719\n",
            "Epoch 7/10\n",
            "60/60 [==============================] - 54s 895ms/step - loss: 0.1032 - accuracy: 0.9818\n",
            "Epoch 8/10\n",
            "60/60 [==============================] - 54s 898ms/step - loss: 0.0844 - accuracy: 0.9849\n",
            "Epoch 9/10\n",
            "60/60 [==============================] - 54s 896ms/step - loss: 0.0686 - accuracy: 0.9880\n",
            "Epoch 10/10\n",
            "60/60 [==============================] - 54s 900ms/step - loss: 0.0612 - accuracy: 0.9917\n"
          ],
          "name": "stdout"
        },
        {
          "output_type": "execute_result",
          "data": {
            "text/plain": [
              "<tensorflow.python.keras.callbacks.History at 0x7f177d385780>"
            ]
          },
          "metadata": {
            "tags": []
          },
          "execution_count": 24
        }
      ]
    },
    {
      "cell_type": "markdown",
      "metadata": {
        "id": "fqZ9381V_UHw",
        "colab_type": "text"
      },
      "source": [
        "## Afternoon Session\n",
        "### Cloud ML Engine\n",
        "### Hyperparameter Tuning\n",
        "### Distributed Training"
      ]
    },
    {
      "cell_type": "code",
      "metadata": {
        "id": "tZlMDYOd-2Y9",
        "colab_type": "code",
        "colab": {}
      },
      "source": [
        ""
      ],
      "execution_count": 0,
      "outputs": []
    }
  ]
}