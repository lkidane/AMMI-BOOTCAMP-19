{
  "nbformat": 4,
  "nbformat_minor": 0,
  "metadata": {
    "colab": {
      "name": "AMMI_Day_1.ipynb",
      "provenance": [],
      "collapsed_sections": []
    },
    "kernelspec": {
      "name": "python3",
      "display_name": "Python 3"
    }
  },
  "cells": [
    {
      "cell_type": "markdown",
      "metadata": {
        "id": "XCG3PWNv4b7-",
        "colab_type": "text"
      },
      "source": [
        "# AMMI DAY 1"
      ]
    },
    {
      "cell_type": "markdown",
      "metadata": {
        "id": "Rh8HCNQP4hnZ",
        "colab_type": "text"
      },
      "source": [
        "## Morning Session\n",
        "### Jupyter Notebooks\n",
        "* Google Colaboratory\n",
        "* Azure Notebooks\n",
        "* Google Datalab\n",
        "* AWS"
      ]
    },
    {
      "cell_type": "markdown",
      "metadata": {
        "id": "1Iglw86vALe6",
        "colab_type": "text"
      },
      "source": [
        "### Jupyter Notebooks\n",
        "* Interactive Programming Environment\n",
        "* Support for Julia, Python, R\n",
        "* Available here: https://jupyter.org/\n",
        "* Popular distribution is Anaconda: https://www.anaconda.com/"
      ]
    },
    {
      "cell_type": "markdown",
      "metadata": {
        "id": "wG3Y6ccrf7Jq",
        "colab_type": "text"
      },
      "source": [
        "### Google Colaboratory\n",
        "* Hosted by Google as a free instance\n",
        "* No need for installation\n",
        "* Makes collaboration easy\n",
        "* Provides GPU (and TPU) on-demand\n",
        "* Limits available memory\n",
        "* Resets virtual machine when not in use\n",
        "* Available at: https://colab.research.google.com/"
      ]
    },
    {
      "cell_type": "markdown",
      "metadata": {
        "id": "4pwOjR8tgfp1",
        "colab_type": "text"
      },
      "source": [
        "### Azure Notebooks\n",
        "* Hosted by Microsoft as a free instance\n",
        "* Available at: https://notebooks.azure.com/"
      ]
    },
    {
      "cell_type": "markdown",
      "metadata": {
        "id": "CzpEuf7Jh-R3",
        "colab_type": "text"
      },
      "source": [
        "### Google Datalab\n",
        "* Provided by Google as a paid service\n",
        "* Provides a virtual machine with Jupyter Labs pre-installed\n",
        "* Can configure number of processors and RAM\n",
        "* Can configure GPU and TPU instances"
      ]
    },
    {
      "cell_type": "markdown",
      "metadata": {
        "id": "VBYn9nazivor",
        "colab_type": "text"
      },
      "source": [
        "### Amazon SageMaker Notebooks\n",
        "* Provided by Amazon as a paid service\n",
        "* Available as part of AWS"
      ]
    },
    {
      "cell_type": "markdown",
      "metadata": {
        "id": "MkI_Egiy4zVh",
        "colab_type": "text"
      },
      "source": [
        "## Afternoon Session\n",
        "### Introduction to Python Programming\n",
        "* Functions\n",
        "* Classes\n",
        "* Operators"
      ]
    },
    {
      "cell_type": "markdown",
      "metadata": {
        "id": "GKJ9TTDNkFLY",
        "colab_type": "text"
      },
      "source": [
        "__Python Variables__"
      ]
    },
    {
      "cell_type": "code",
      "metadata": {
        "id": "xbIphCYD4Yot",
        "colab_type": "code",
        "outputId": "0b8cefc4-f51a-4a6e-b3f9-12c46321992c",
        "colab": {
          "base_uri": "https://localhost:8080/",
          "height": 34
        }
      },
      "source": [
        "a = 1\n",
        "print(type(a))"
      ],
      "execution_count": 0,
      "outputs": [
        {
          "output_type": "stream",
          "text": [
            "<class 'int'>\n"
          ],
          "name": "stdout"
        }
      ]
    },
    {
      "cell_type": "code",
      "metadata": {
        "id": "TzGsQzbkkMW_",
        "colab_type": "code",
        "outputId": "b8aae217-f6bb-46e6-fcc4-5ab8ab850d13",
        "colab": {
          "base_uri": "https://localhost:8080/",
          "height": 34
        }
      },
      "source": [
        "b = 2.0\n",
        "print(type(b))"
      ],
      "execution_count": 0,
      "outputs": [
        {
          "output_type": "stream",
          "text": [
            "<class 'float'>\n"
          ],
          "name": "stdout"
        }
      ]
    },
    {
      "cell_type": "code",
      "metadata": {
        "id": "y3EC98xAkT43",
        "colab_type": "code",
        "outputId": "b0a2b986-8668-49c0-fd02-40da1dead652",
        "colab": {
          "base_uri": "https://localhost:8080/",
          "height": 34
        }
      },
      "source": [
        "c = 'hello'\n",
        "print(type(c))"
      ],
      "execution_count": 0,
      "outputs": [
        {
          "output_type": "stream",
          "text": [
            "<class 'str'>\n"
          ],
          "name": "stdout"
        }
      ]
    },
    {
      "cell_type": "code",
      "metadata": {
        "id": "rI9hJISDkxpr",
        "colab_type": "code",
        "outputId": "4437400a-3007-46a6-d134-ce46181cec43",
        "colab": {
          "base_uri": "https://localhost:8080/",
          "height": 34
        }
      },
      "source": [
        "print(type(a + 0.0))"
      ],
      "execution_count": 0,
      "outputs": [
        {
          "output_type": "stream",
          "text": [
            "<class 'float'>\n"
          ],
          "name": "stdout"
        }
      ]
    },
    {
      "cell_type": "code",
      "metadata": {
        "id": "0wF0nfXsk7Mc",
        "colab_type": "code",
        "colab": {}
      },
      "source": [
        "print('the value of a is {}'.format(a))"
      ],
      "execution_count": 0,
      "outputs": []
    },
    {
      "cell_type": "code",
      "metadata": {
        "id": "2tE8tpXckNsQ",
        "colab_type": "code",
        "outputId": "d715ff5c-9960-484e-c1c1-0fac4aaa3acd",
        "colab": {
          "base_uri": "https://localhost:8080/",
          "height": 34
        }
      },
      "source": [
        "# modulo\n",
        "print(20 % 3)"
      ],
      "execution_count": 0,
      "outputs": [
        {
          "output_type": "stream",
          "text": [
            "2\n"
          ],
          "name": "stdout"
        }
      ]
    },
    {
      "cell_type": "code",
      "metadata": {
        "id": "P3DZNxEJkabu",
        "colab_type": "code",
        "outputId": "5e433edf-0884-47f5-a6d7-9d35e021b10c",
        "colab": {
          "base_uri": "https://localhost:8080/",
          "height": 34
        }
      },
      "source": [
        "# exponential\n",
        "print(3 ** 3)"
      ],
      "execution_count": 0,
      "outputs": [
        {
          "output_type": "stream",
          "text": [
            "27\n"
          ],
          "name": "stdout"
        }
      ]
    },
    {
      "cell_type": "code",
      "metadata": {
        "id": "1X_MbjzfkvX6",
        "colab_type": "code",
        "outputId": "0b6a87f4-d6ea-4307-8bd5-1c091e2a0243",
        "colab": {
          "base_uri": "https://localhost:8080/",
          "height": 34
        }
      },
      "source": [
        "print(40 // 3)"
      ],
      "execution_count": 0,
      "outputs": [
        {
          "output_type": "stream",
          "text": [
            "13\n"
          ],
          "name": "stdout"
        }
      ]
    },
    {
      "cell_type": "markdown",
      "metadata": {
        "id": "9prAiZurlKPz",
        "colab_type": "text"
      },
      "source": [
        "__Conditionals__"
      ]
    },
    {
      "cell_type": "code",
      "metadata": {
        "id": "iXuVxPfPlNSP",
        "colab_type": "code",
        "colab": {}
      },
      "source": [
        "# Equal to\n",
        "x = 40 % 3\n",
        "if x == 2:\n",
        "  print('1 remains')"
      ],
      "execution_count": 0,
      "outputs": []
    },
    {
      "cell_type": "code",
      "metadata": {
        "id": "KCq02JUQlX0a",
        "colab_type": "code",
        "outputId": "e0ee9863-fd46-4ecc-e668-6eafc82f35c6",
        "colab": {
          "base_uri": "https://localhost:8080/",
          "height": 34
        }
      },
      "source": [
        "# Not Equal to\n",
        "if a != 2:\n",
        "  print('not equal to 2')"
      ],
      "execution_count": 0,
      "outputs": [
        {
          "output_type": "stream",
          "text": [
            "not equal to 2\n"
          ],
          "name": "stdout"
        }
      ]
    },
    {
      "cell_type": "code",
      "metadata": {
        "id": "sQikFhIflgjb",
        "colab_type": "code",
        "colab": {}
      },
      "source": [
        "# Greater than\n",
        "if a > 1:\n",
        "  print('satisfied')"
      ],
      "execution_count": 0,
      "outputs": []
    },
    {
      "cell_type": "code",
      "metadata": {
        "id": "IsqXyEqIlm56",
        "colab_type": "code",
        "outputId": "517c7f21-5223-42af-e156-ca1123535118",
        "colab": {
          "base_uri": "https://localhost:8080/",
          "height": 34
        }
      },
      "source": [
        "# Greater than or equal to\n",
        "if a >= 1:\n",
        "  print('condition satisfied')"
      ],
      "execution_count": 0,
      "outputs": [
        {
          "output_type": "stream",
          "text": [
            "condition satisfied\n"
          ],
          "name": "stdout"
        }
      ]
    },
    {
      "cell_type": "code",
      "metadata": {
        "id": "LHiaR3GhluDj",
        "colab_type": "code",
        "outputId": "15b8a12d-cf0a-493e-8bd0-d55862f8c3d0",
        "colab": {
          "base_uri": "https://localhost:8080/",
          "height": 34
        }
      },
      "source": [
        "# Less than\n",
        "if a < 2:\n",
        "  print('satisfied')"
      ],
      "execution_count": 0,
      "outputs": [
        {
          "output_type": "stream",
          "text": [
            "satisfied\n"
          ],
          "name": "stdout"
        }
      ]
    },
    {
      "cell_type": "code",
      "metadata": {
        "id": "24uw4PlYl345",
        "colab_type": "code",
        "outputId": "1d77dc42-dc75-4bd7-d809-ebdeb01400ed",
        "colab": {
          "base_uri": "https://localhost:8080/",
          "height": 34
        }
      },
      "source": [
        "# Less than or equal to\n",
        "if a <= 2:\n",
        "  print('satisfied')"
      ],
      "execution_count": 0,
      "outputs": [
        {
          "output_type": "stream",
          "text": [
            "satisfied\n"
          ],
          "name": "stdout"
        }
      ]
    },
    {
      "cell_type": "code",
      "metadata": {
        "id": "TGtnILgjmAJe",
        "colab_type": "code",
        "colab": {}
      },
      "source": [
        "if a == 2:\n",
        "  print('2')\n",
        "elif a == 1:\n",
        "  print('1')\n",
        "else:\n",
        "  print('neither')"
      ],
      "execution_count": 0,
      "outputs": []
    },
    {
      "cell_type": "code",
      "metadata": {
        "id": "iK6OX3Y_mpZH",
        "colab_type": "code",
        "outputId": "eb1b526f-13f0-46d3-81fd-d284c97208c4",
        "colab": {
          "base_uri": "https://localhost:8080/",
          "height": 34
        }
      },
      "source": [
        "a = 0\n",
        "if 20%3 == 1:\n",
        "  a = 1\n",
        "else:\n",
        "  a = 2\n",
        "print(a)"
      ],
      "execution_count": 0,
      "outputs": [
        {
          "output_type": "stream",
          "text": [
            "2\n"
          ],
          "name": "stdout"
        }
      ]
    },
    {
      "cell_type": "code",
      "metadata": {
        "id": "fL9_JzCtm32_",
        "colab_type": "code",
        "outputId": "fae1b465-6127-4496-9521-6f73c8f81883",
        "colab": {
          "base_uri": "https://localhost:8080/",
          "height": 130
        }
      },
      "source": [
        "x = 2\n",
        "y = 3\n",
        "a = (x == y) ? 1 : 2"
      ],
      "execution_count": 0,
      "outputs": [
        {
          "output_type": "error",
          "ename": "SyntaxError",
          "evalue": "ignored",
          "traceback": [
            "\u001b[0;36m  File \u001b[0;32m\"<ipython-input-25-016f0381db26>\"\u001b[0;36m, line \u001b[0;32m3\u001b[0m\n\u001b[0;31m    a = (x == y) ? 1 : 2\u001b[0m\n\u001b[0m                 ^\u001b[0m\n\u001b[0;31mSyntaxError\u001b[0m\u001b[0;31m:\u001b[0m invalid syntax\n"
          ]
        }
      ]
    },
    {
      "cell_type": "code",
      "metadata": {
        "id": "7xaaNtpJnXdm",
        "colab_type": "code",
        "outputId": "a15ad975-6bd4-4150-82b7-e40826af98ec",
        "colab": {
          "base_uri": "https://localhost:8080/",
          "height": 130
        }
      },
      "source": [
        "try:\n",
        "  if x = 2:\n",
        "    print('2')\n",
        "except:\n",
        "  print('something went wrong')"
      ],
      "execution_count": 0,
      "outputs": [
        {
          "output_type": "error",
          "ename": "SyntaxError",
          "evalue": "ignored",
          "traceback": [
            "\u001b[0;36m  File \u001b[0;32m\"<ipython-input-22-29e3d7d5bfbf>\"\u001b[0;36m, line \u001b[0;32m2\u001b[0m\n\u001b[0;31m    if x = 2:\u001b[0m\n\u001b[0m         ^\u001b[0m\n\u001b[0;31mSyntaxError\u001b[0m\u001b[0;31m:\u001b[0m invalid syntax\n"
          ]
        }
      ]
    },
    {
      "cell_type": "markdown",
      "metadata": {
        "id": "Ux5DhUIsmVei",
        "colab_type": "text"
      },
      "source": [
        "__Loops__"
      ]
    },
    {
      "cell_type": "code",
      "metadata": {
        "id": "66McK2a6mZwu",
        "colab_type": "code",
        "outputId": "9bf27e79-6941-4415-a388-3d74c67bedb8",
        "colab": {
          "base_uri": "https://localhost:8080/",
          "height": 103
        }
      },
      "source": [
        "# do this n times\n",
        "n = 15\n",
        "#[2,15)\n",
        "for i in range(2, n, 3):\n",
        "  print(i)\n",
        "  \n",
        "# in what other ways can we make use of range?"
      ],
      "execution_count": 0,
      "outputs": [
        {
          "output_type": "stream",
          "text": [
            "2\n",
            "5\n",
            "8\n",
            "11\n",
            "14\n"
          ],
          "name": "stdout"
        }
      ]
    },
    {
      "cell_type": "code",
      "metadata": {
        "id": "d_D24c1orG20",
        "colab_type": "code",
        "outputId": "9838af2f-761b-4bcf-dfee-20964aaf7674",
        "colab": {
          "base_uri": "https://localhost:8080/",
          "height": 34
        }
      },
      "source": [
        "_range = range(5)\n",
        "print(_range)"
      ],
      "execution_count": 0,
      "outputs": [
        {
          "output_type": "stream",
          "text": [
            "range(0, 5)\n"
          ],
          "name": "stdout"
        }
      ]
    },
    {
      "cell_type": "code",
      "metadata": {
        "id": "K0n9maSypTiQ",
        "colab_type": "code",
        "outputId": "e1093091-eaab-4516-d493-500aa69752ad",
        "colab": {
          "base_uri": "https://localhost:8080/",
          "height": 103
        }
      },
      "source": [
        "# do this n times\n",
        "n = 10\n",
        "for i in range(1, n, 2):\n",
        "  print(i)\n",
        "  \n",
        "# in what other ways can we make use of range?"
      ],
      "execution_count": 0,
      "outputs": [
        {
          "output_type": "stream",
          "text": [
            "1\n",
            "3\n",
            "5\n",
            "7\n",
            "9\n"
          ],
          "name": "stdout"
        }
      ]
    },
    {
      "cell_type": "code",
      "metadata": {
        "id": "MNgT-mF-pbH-",
        "colab_type": "code",
        "outputId": "0c2213c4-959c-49d0-8fe6-b125edcbd498",
        "colab": {
          "base_uri": "https://localhost:8080/",
          "height": 103
        }
      },
      "source": [
        "# do this n times\n",
        "n = 10\n",
        "for i in range(n, 0, -2):\n",
        "  print(i)\n",
        "  \n",
        "# in what other ways can we make use of range?"
      ],
      "execution_count": 0,
      "outputs": [
        {
          "output_type": "stream",
          "text": [
            "10\n",
            "8\n",
            "6\n",
            "4\n",
            "2\n"
          ],
          "name": "stdout"
        }
      ]
    },
    {
      "cell_type": "code",
      "metadata": {
        "id": "sSUvV-QrmwGS",
        "colab_type": "code",
        "outputId": "36cf13df-5e50-422e-eb06-5af568ce0714",
        "colab": {
          "base_uri": "https://localhost:8080/",
          "height": 103
        }
      },
      "source": [
        "# do this as long as a condition is true\n",
        "n = 5\n",
        "while n > 0:\n",
        "  print(n)\n",
        "  n = n - 1"
      ],
      "execution_count": 0,
      "outputs": [
        {
          "output_type": "stream",
          "text": [
            "5\n",
            "4\n",
            "3\n",
            "2\n",
            "1\n"
          ],
          "name": "stdout"
        }
      ]
    },
    {
      "cell_type": "markdown",
      "metadata": {
        "id": "QKNFFXPinDUk",
        "colab_type": "text"
      },
      "source": [
        "__Some shortcuts__"
      ]
    },
    {
      "cell_type": "code",
      "metadata": {
        "id": "ONFJNaJ1nGUF",
        "colab_type": "code",
        "outputId": "2594cf12-ef51-469d-a859-6cb298ef2a25",
        "colab": {
          "base_uri": "https://localhost:8080/",
          "height": 51
        }
      },
      "source": [
        "n = 2\n",
        "n = n + 3\n",
        "print(n)\n",
        "\n",
        "n = 2\n",
        "n += 3\n",
        "print(n)"
      ],
      "execution_count": 0,
      "outputs": [
        {
          "output_type": "stream",
          "text": [
            "5\n",
            "5\n"
          ],
          "name": "stdout"
        }
      ]
    },
    {
      "cell_type": "code",
      "metadata": {
        "id": "3aNJ0-FHqP7O",
        "colab_type": "code",
        "outputId": "aab33ce2-a691-46b0-a4ca-4cd15f9c1663",
        "colab": {
          "base_uri": "https://localhost:8080/",
          "height": 34
        }
      },
      "source": [
        "n = 3\n",
        "n *= 7\n",
        "print(n)"
      ],
      "execution_count": 0,
      "outputs": [
        {
          "output_type": "stream",
          "text": [
            "21\n"
          ],
          "name": "stdout"
        }
      ]
    },
    {
      "cell_type": "markdown",
      "metadata": {
        "id": "QiE0tnc4h4wf",
        "colab_type": "text"
      },
      "source": [
        "### Functions - making things repeatable"
      ]
    },
    {
      "cell_type": "code",
      "metadata": {
        "id": "0_jpRGbBh8D3",
        "colab_type": "code",
        "colab": {}
      },
      "source": [
        ""
      ],
      "execution_count": 0,
      "outputs": []
    },
    {
      "cell_type": "markdown",
      "metadata": {
        "id": "I7W38Bf9tD0A",
        "colab_type": "text"
      },
      "source": [
        "$f(x) = x + 2$"
      ]
    },
    {
      "cell_type": "code",
      "metadata": {
        "id": "kjA8SBqEtHUf",
        "colab_type": "code",
        "outputId": "40d9830f-9c94-4fcc-ffc5-e5750f25b193",
        "colab": {
          "base_uri": "https://localhost:8080/",
          "height": 68
        }
      },
      "source": [
        "a1 = 7\n",
        "a2 = 332\n",
        "a3 = 19\n",
        "\n",
        "print(a1 + 2)\n",
        "print(a2 - 2)\n",
        "print(a3 + 2)"
      ],
      "execution_count": 0,
      "outputs": [
        {
          "output_type": "stream",
          "text": [
            "9\n",
            "330\n",
            "21\n"
          ],
          "name": "stdout"
        }
      ]
    },
    {
      "cell_type": "code",
      "metadata": {
        "id": "BaatxfBptU4k",
        "colab_type": "code",
        "colab": {}
      },
      "source": [
        "def add_2(x):\n",
        "  return x + 2"
      ],
      "execution_count": 0,
      "outputs": []
    },
    {
      "cell_type": "code",
      "metadata": {
        "id": "cFAeGCfstkjO",
        "colab_type": "code",
        "outputId": "b6d5b3cd-8fa0-4f10-a932-7b99d2e6ae0b",
        "colab": {
          "base_uri": "https://localhost:8080/",
          "height": 68
        }
      },
      "source": [
        "print(add_2(a1))\n",
        "print(add_2(a2))\n",
        "print(add_2(a3))"
      ],
      "execution_count": 0,
      "outputs": [
        {
          "output_type": "stream",
          "text": [
            "9\n",
            "334\n",
            "21\n"
          ],
          "name": "stdout"
        }
      ]
    },
    {
      "cell_type": "code",
      "metadata": {
        "id": "q_NQ65LItugr",
        "colab_type": "code",
        "colab": {}
      },
      "source": [
        ""
      ],
      "execution_count": 0,
      "outputs": []
    },
    {
      "cell_type": "markdown",
      "metadata": {
        "id": "d4lFnDPnu3Fm",
        "colab_type": "text"
      },
      "source": [
        "# Fibonnacci Sequence\n",
        "\n",
        "$f_1 = 0$\n",
        "\n",
        "$f_2 = 1$\n",
        "\n",
        "$f_n = f_{n-1} + f_{n-2}$\n",
        "\n",
        "0 1 1 2 3 5 8 13 ..."
      ]
    },
    {
      "cell_type": "code",
      "metadata": {
        "id": "n0uc5QdGvIFI",
        "colab_type": "code",
        "colab": {}
      },
      "source": [
        "def fib_2(x):\n",
        "  x0 = 0\n",
        "  x1 = 1\n",
        "  x2 = 1\n",
        "  for i in range(x):\n",
        "    x0 = x1\n",
        "    x1 = x2\n",
        "    x2 = x0 + x1\n",
        "  return x2"
      ],
      "execution_count": 0,
      "outputs": []
    },
    {
      "cell_type": "code",
      "metadata": {
        "id": "vV7H92zU2BE2",
        "colab_type": "code",
        "colab": {}
      },
      "source": [
        "def my_abs(x):\n",
        "  if x < 0:\n",
        "    return x * -1\n",
        "  return x"
      ],
      "execution_count": 0,
      "outputs": []
    },
    {
      "cell_type": "code",
      "metadata": {
        "id": "dE7hoPjH2Lsj",
        "colab_type": "code",
        "outputId": "46cb7320-22df-491e-a81b-ba53ddead602",
        "colab": {
          "base_uri": "https://localhost:8080/",
          "height": 34
        }
      },
      "source": [
        "print(my_abs(-9))"
      ],
      "execution_count": 0,
      "outputs": [
        {
          "output_type": "stream",
          "text": [
            "9\n"
          ],
          "name": "stdout"
        }
      ]
    },
    {
      "cell_type": "code",
      "metadata": {
        "id": "KoRw63CM2N0M",
        "colab_type": "code",
        "outputId": "6164132c-2621-48a3-a2c2-a420d5a77e78",
        "colab": {
          "base_uri": "https://localhost:8080/",
          "height": 34
        }
      },
      "source": [
        "print(my_abs(7))"
      ],
      "execution_count": 0,
      "outputs": [
        {
          "output_type": "stream",
          "text": [
            "7\n"
          ],
          "name": "stdout"
        }
      ]
    },
    {
      "cell_type": "code",
      "metadata": {
        "id": "j43XAm2U2PkW",
        "colab_type": "code",
        "colab": {}
      },
      "source": [
        "def ibrahim_sqrt(x):\n",
        "  return x ** 0.5"
      ],
      "execution_count": 0,
      "outputs": []
    },
    {
      "cell_type": "code",
      "metadata": {
        "id": "rxYkfzAi2f48",
        "colab_type": "code",
        "outputId": "70db2b08-e4fc-46b6-e90b-927a46064a60",
        "colab": {
          "base_uri": "https://localhost:8080/",
          "height": 34
        }
      },
      "source": [
        "print(ibrahim_sqrt(9))"
      ],
      "execution_count": 0,
      "outputs": [
        {
          "output_type": "stream",
          "text": [
            "3.0\n"
          ],
          "name": "stdout"
        }
      ]
    },
    {
      "cell_type": "markdown",
      "metadata": {
        "id": "cpuuIybdDNBy",
        "colab_type": "text"
      },
      "source": [
        "### Question:\n",
        "Can we pass functions as parameters to other functions?"
      ]
    },
    {
      "cell_type": "code",
      "metadata": {
        "id": "CI2z0ENt2pIh",
        "colab_type": "code",
        "colab": {}
      },
      "source": [
        ""
      ],
      "execution_count": 0,
      "outputs": []
    },
    {
      "cell_type": "markdown",
      "metadata": {
        "id": "XKbB6D2pJDrz",
        "colab_type": "text"
      },
      "source": [
        "### Question:\n",
        "Can we pass default parameters to functions?"
      ]
    },
    {
      "cell_type": "code",
      "metadata": {
        "id": "jmyt0FA6MCT3",
        "colab_type": "code",
        "outputId": "2f4a09f6-2928-4cc8-97ca-0024964b56a1",
        "colab": {
          "base_uri": "https://localhost:8080/",
          "height": 85
        }
      },
      "source": [
        "def f(x=2):\n",
        "  return x\n",
        "  \n",
        "print(f())\n",
        "print(f(3))\n",
        "print(f(4))\n",
        "print(f())"
      ],
      "execution_count": 0,
      "outputs": [
        {
          "output_type": "stream",
          "text": [
            "2\n",
            "3\n",
            "4\n",
            "2\n"
          ],
          "name": "stdout"
        }
      ]
    },
    {
      "cell_type": "code",
      "metadata": {
        "id": "ya_uLw2tc_Dh",
        "colab_type": "code",
        "outputId": "d5e6cc0c-7793-4ba2-c7b1-1a69a898f64a",
        "colab": {
          "base_uri": "https://localhost:8080/",
          "height": 34
        }
      },
      "source": [
        "a = f(3)\n",
        "print(a)\n",
        "\n",
        "_ = f(3)"
      ],
      "execution_count": 0,
      "outputs": [
        {
          "output_type": "stream",
          "text": [
            "3\n"
          ],
          "name": "stdout"
        }
      ]
    },
    {
      "cell_type": "markdown",
      "metadata": {
        "id": "hObTnUAYEgh1",
        "colab_type": "text"
      },
      "source": [
        "### Lambda Functions"
      ]
    },
    {
      "cell_type": "code",
      "metadata": {
        "id": "ZoWYznG6EjDk",
        "colab_type": "code",
        "colab": {}
      },
      "source": [
        "f = lambda x: x ** 2"
      ],
      "execution_count": 0,
      "outputs": []
    },
    {
      "cell_type": "code",
      "metadata": {
        "id": "VqXfLVJRG4wm",
        "colab_type": "code",
        "outputId": "d96ffb25-133b-472d-fea7-d9cd361b3a04",
        "colab": {
          "base_uri": "https://localhost:8080/",
          "height": 34
        }
      },
      "source": [
        "print(f(3))"
      ],
      "execution_count": 0,
      "outputs": [
        {
          "output_type": "stream",
          "text": [
            "9\n"
          ],
          "name": "stdout"
        }
      ]
    },
    {
      "cell_type": "code",
      "metadata": {
        "id": "8cfUBGBhdj1U",
        "colab_type": "code",
        "outputId": "c8e42f01-c5ea-4620-fa35-3315dc6d3219",
        "colab": {
          "base_uri": "https://localhost:8080/",
          "height": 34
        }
      },
      "source": [
        "g = lambda x,y: x ** y\n",
        "print(g(3,4))"
      ],
      "execution_count": 0,
      "outputs": [
        {
          "output_type": "stream",
          "text": [
            "81\n"
          ],
          "name": "stdout"
        }
      ]
    },
    {
      "cell_type": "code",
      "metadata": {
        "id": "elXsoVm3geLp",
        "colab_type": "code",
        "colab": {}
      },
      "source": [
        "def my_pow(base, power):\n",
        "  return base ** power"
      ],
      "execution_count": 0,
      "outputs": []
    },
    {
      "cell_type": "code",
      "metadata": {
        "id": "TTSJYPgrgl7-",
        "colab_type": "code",
        "outputId": "e23c0f50-e933-431f-af74-857fd2067bba",
        "colab": {
          "base_uri": "https://localhost:8080/",
          "height": 51
        }
      },
      "source": [
        "print(my_pow(2, 9))\n",
        "print(my_pow(3, 3))"
      ],
      "execution_count": 0,
      "outputs": [
        {
          "output_type": "stream",
          "text": [
            "512\n",
            "27\n"
          ],
          "name": "stdout"
        }
      ]
    },
    {
      "cell_type": "code",
      "metadata": {
        "id": "JY1hTr_kHU6k",
        "colab_type": "code",
        "colab": {}
      },
      "source": [
        "def f_pow(n):\n",
        "  return lambda a: a ** n"
      ],
      "execution_count": 0,
      "outputs": []
    },
    {
      "cell_type": "code",
      "metadata": {
        "id": "mzuxHl3DHf0J",
        "colab_type": "code",
        "outputId": "e6136c29-cacf-43ec-964b-32c89fc0b63e",
        "colab": {
          "base_uri": "https://localhost:8080/",
          "height": 34
        }
      },
      "source": [
        "sqr = f_pow(2)\n",
        "print(sqr(9))"
      ],
      "execution_count": 0,
      "outputs": [
        {
          "output_type": "stream",
          "text": [
            "81\n"
          ],
          "name": "stdout"
        }
      ]
    },
    {
      "cell_type": "code",
      "metadata": {
        "id": "DY_8L5VYHmWo",
        "colab_type": "code",
        "outputId": "089f39c0-1221-4fdf-bc6f-9d784abbf735",
        "colab": {
          "base_uri": "https://localhost:8080/",
          "height": 34
        }
      },
      "source": [
        "cube = f_pow(3)\n",
        "print(cube(3))"
      ],
      "execution_count": 0,
      "outputs": [
        {
          "output_type": "stream",
          "text": [
            "27\n"
          ],
          "name": "stdout"
        }
      ]
    },
    {
      "cell_type": "markdown",
      "metadata": {
        "id": "-Qdwmp99Sf94",
        "colab_type": "text"
      },
      "source": [
        "$f(x) = w.x + b$\n",
        "\n",
        "2, 5\n",
        "\n",
        "3, 10\n",
        "\n",
        "4, 17"
      ]
    },
    {
      "cell_type": "markdown",
      "metadata": {
        "id": "WYyM7WCeMpBC",
        "colab_type": "text"
      },
      "source": [
        "## Classes\n",
        "\n",
        "Think of classes as recipes. An object is an instance of a class."
      ]
    },
    {
      "cell_type": "code",
      "metadata": {
        "id": "GmBvR0DeMv0G",
        "colab_type": "code",
        "colab": {}
      },
      "source": [
        "class Class1:\n",
        "  x = 0"
      ],
      "execution_count": 0,
      "outputs": []
    },
    {
      "cell_type": "code",
      "metadata": {
        "id": "V2IJCKRgM14C",
        "colab_type": "code",
        "outputId": "55d0d72d-79c9-4aa2-db64-3a2f5be9a580",
        "colab": {
          "base_uri": "https://localhost:8080/",
          "height": 34
        }
      },
      "source": [
        "_c1 = Class1()\n",
        "_c2 = Class1()\n",
        "_c3 = Class1()\n",
        "print(_c1.x, _c2.x, _c3.x)"
      ],
      "execution_count": 0,
      "outputs": [
        {
          "output_type": "stream",
          "text": [
            "0 0 0\n"
          ],
          "name": "stdout"
        }
      ]
    },
    {
      "cell_type": "code",
      "metadata": {
        "id": "PLUwo1YNiDe-",
        "colab_type": "code",
        "outputId": "8690cce3-d46f-479a-926f-81b5e2ced557",
        "colab": {
          "base_uri": "https://localhost:8080/",
          "height": 34
        }
      },
      "source": [
        "print(_c1 is _c2)"
      ],
      "execution_count": 0,
      "outputs": [
        {
          "output_type": "stream",
          "text": [
            "False\n"
          ],
          "name": "stdout"
        }
      ]
    },
    {
      "cell_type": "code",
      "metadata": {
        "id": "OZw6erkgiq_9",
        "colab_type": "code",
        "colab": {}
      },
      "source": [
        "class Class1:\n",
        "  x = 0"
      ],
      "execution_count": 0,
      "outputs": []
    },
    {
      "cell_type": "code",
      "metadata": {
        "id": "H3l21aFINEEc",
        "colab_type": "code",
        "colab": {}
      },
      "source": [
        "class Class2:\n",
        "  def __init__(self, a, b):\n",
        "    self.a = a #this is the length\n",
        "    self.b = b #this is the width\n",
        "    self.c = a ** b\n",
        "    \n",
        "  def doSomething(self):\n",
        "    return self.a / self.b\n",
        "  \n",
        "  def doSomethingElse(self, multiplier):\n",
        "    return self.a / self.b * multiplier"
      ],
      "execution_count": 0,
      "outputs": []
    },
    {
      "cell_type": "code",
      "metadata": {
        "id": "vqXfes1LWbJ2",
        "colab_type": "code",
        "outputId": "0482691b-5b76-4fed-b0c1-d51ecaac4fce",
        "colab": {
          "base_uri": "https://localhost:8080/",
          "height": 34
        }
      },
      "source": [
        "_c = Class2(2,3.5)\n",
        "print(_c.c)"
      ],
      "execution_count": 0,
      "outputs": [
        {
          "output_type": "stream",
          "text": [
            "11.313708498984761\n"
          ],
          "name": "stdout"
        }
      ]
    },
    {
      "cell_type": "code",
      "metadata": {
        "id": "RcZO2jxJjbPw",
        "colab_type": "code",
        "outputId": "3f4d39c7-5879-4f19-9247-996d91643725",
        "colab": {
          "base_uri": "https://localhost:8080/",
          "height": 68
        }
      },
      "source": [
        "_d = Class2(3,4)\n",
        "print(_d.c)\n",
        "print(_d.doSomething())\n",
        "print(_d.doSomethingElse(8))"
      ],
      "execution_count": 0,
      "outputs": [
        {
          "output_type": "stream",
          "text": [
            "81\n",
            "0.75\n",
            "6.0\n"
          ],
          "name": "stdout"
        }
      ]
    },
    {
      "cell_type": "code",
      "metadata": {
        "id": "hsuXuf5La9Lf",
        "colab_type": "code",
        "colab": {}
      },
      "source": [
        "c1 = Class2(4,5)\n",
        "c2 = Class2(5,6)\n",
        "c3 = Class2(6,7)"
      ],
      "execution_count": 0,
      "outputs": []
    },
    {
      "cell_type": "code",
      "metadata": {
        "id": "Quqzl8GKbH_P",
        "colab_type": "code",
        "outputId": "31a4b016-8ec9-4f85-d2d2-f53985e67996",
        "colab": {
          "base_uri": "https://localhost:8080/",
          "height": 51
        }
      },
      "source": [
        "print(c2.doSomething())\n",
        "print(c2.c)"
      ],
      "execution_count": 0,
      "outputs": [
        {
          "output_type": "stream",
          "text": [
            "30\n",
            "30\n"
          ],
          "name": "stdout"
        }
      ]
    },
    {
      "cell_type": "markdown",
      "metadata": {
        "id": "FOS35hndOQMv",
        "colab_type": "text"
      },
      "source": [
        "## Question:\n",
        "Can we have a class that does what Class2 does, and then more?\n",
        "\n",
        "a = 5\n",
        "\n",
        "b = 6\n",
        "\n",
        "c = Class2(a,b)"
      ]
    },
    {
      "cell_type": "code",
      "metadata": {
        "id": "OCCZu50wNekX",
        "colab_type": "code",
        "colab": {}
      },
      "source": [
        "class Class3(Class2):\n",
        "  def __init__(self, a, b, d):\n",
        "    super().__init__(a, b)\n",
        "    self.d = d\n",
        "    self.e = (self.a + self.b) * d * self.c\n",
        "    \n",
        "  def _toString(self):\n",
        "    print('a: {}, b: {}, c: {}, d: {}, e: {}'.format(self.a, self.b, self.c, self.d, self.e))"
      ],
      "execution_count": 0,
      "outputs": []
    },
    {
      "cell_type": "markdown",
      "metadata": {
        "id": "YNvla4LLpdtw",
        "colab_type": "text"
      },
      "source": [
        ""
      ]
    },
    {
      "cell_type": "code",
      "metadata": {
        "id": "z1P-g9VaO-oo",
        "colab_type": "code",
        "colab": {}
      },
      "source": [
        "c = Class3(4, 5, 6)"
      ],
      "execution_count": 0,
      "outputs": []
    },
    {
      "cell_type": "code",
      "metadata": {
        "id": "UcUKSbTYZzDj",
        "colab_type": "code",
        "outputId": "0853b679-031e-4c13-ad62-facf0a225e8f",
        "colab": {
          "base_uri": "https://localhost:8080/",
          "height": 34
        }
      },
      "source": [
        "print(c.a, c.b, c.c, c.d, c.e)"
      ],
      "execution_count": 0,
      "outputs": [
        {
          "output_type": "stream",
          "text": [
            "4 5 1024 6 55296\n"
          ],
          "name": "stdout"
        }
      ]
    },
    {
      "cell_type": "code",
      "metadata": {
        "id": "ToRfUttMZ2L3",
        "colab_type": "code",
        "outputId": "b9934380-f0c9-4ab1-849b-02bf6d083ddd",
        "colab": {
          "base_uri": "https://localhost:8080/",
          "height": 34
        }
      },
      "source": [
        "c._toString()"
      ],
      "execution_count": 0,
      "outputs": [
        {
          "output_type": "stream",
          "text": [
            "a: 4, b: 5, c: 1024, d: 6, e: 55296\n"
          ],
          "name": "stdout"
        }
      ]
    },
    {
      "cell_type": "code",
      "metadata": {
        "id": "VoPnKaIjZ5rO",
        "colab_type": "code",
        "colab": {}
      },
      "source": [
        ""
      ],
      "execution_count": 0,
      "outputs": []
    },
    {
      "cell_type": "markdown",
      "metadata": {
        "id": "3tj-erzCeQYG",
        "colab_type": "text"
      },
      "source": [
        "## Problem\n",
        "\n",
        "$ \\frac{x - a}{b} = \\frac{x + c}{d} $\n",
        "\n",
        "Create a class to solve for x"
      ]
    },
    {
      "cell_type": "markdown",
      "metadata": {
        "id": "HzUEAhkPfThO",
        "colab_type": "text"
      },
      "source": [
        "## Problem\n",
        "\n",
        "$ a[b - (c.x - d) + a.x] = 0 $\n",
        "\n",
        "Solve for x"
      ]
    },
    {
      "cell_type": "code",
      "metadata": {
        "id": "TDGwx2osfR03",
        "colab_type": "code",
        "colab": {}
      },
      "source": [
        ""
      ],
      "execution_count": 0,
      "outputs": []
    },
    {
      "cell_type": "markdown",
      "metadata": {
        "id": "QtKOLmRfpe7E",
        "colab_type": "text"
      },
      "source": [
        "## After the quiz\n"
      ]
    },
    {
      "cell_type": "code",
      "metadata": {
        "id": "xkYP60AWpi5F",
        "colab_type": "code",
        "outputId": "c09e7d5a-4ade-42db-f2a0-c0bcecb8b65a",
        "colab": {
          "base_uri": "https://localhost:8080/",
          "height": 51
        }
      },
      "source": [
        "for i in range(8,10):\n",
        "  print(i)"
      ],
      "execution_count": 0,
      "outputs": [
        {
          "output_type": "stream",
          "text": [
            "8\n",
            "9\n"
          ],
          "name": "stdout"
        }
      ]
    },
    {
      "cell_type": "code",
      "metadata": {
        "id": "W2oNeUmFpws-",
        "colab_type": "code",
        "colab": {}
      },
      "source": [
        "i = 0\n",
        "n = 10\n",
        "f = open('file.txt')\n",
        "while not f.next():\n",
        "  print(i)"
      ],
      "execution_count": 0,
      "outputs": []
    },
    {
      "cell_type": "code",
      "metadata": {
        "id": "O5ijy2YFtNX4",
        "colab_type": "code",
        "outputId": "0be72680-4244-4d01-ea33-8ca70a9b326e",
        "colab": {
          "base_uri": "https://localhost:8080/",
          "height": 34
        }
      },
      "source": [
        "x = 0\n",
        "x = x + 2\n",
        "print(x)"
      ],
      "execution_count": 0,
      "outputs": [
        {
          "output_type": "stream",
          "text": [
            "2\n"
          ],
          "name": "stdout"
        }
      ]
    },
    {
      "cell_type": "code",
      "metadata": {
        "id": "jf3h6kddtQDH",
        "colab_type": "code",
        "outputId": "4d4f00a4-c464-4bf3-c97d-872ab0412586",
        "colab": {
          "base_uri": "https://localhost:8080/",
          "height": 34
        }
      },
      "source": [
        "x = 0\n",
        "x =+ 2\n",
        "print(x)"
      ],
      "execution_count": 0,
      "outputs": [
        {
          "output_type": "stream",
          "text": [
            "2\n"
          ],
          "name": "stdout"
        }
      ]
    },
    {
      "cell_type": "code",
      "metadata": {
        "id": "KLu7kJ0LtT84",
        "colab_type": "code",
        "outputId": "5a7e5bba-a6ce-48c6-f633-84717451e0a7",
        "colab": {
          "base_uri": "https://localhost:8080/",
          "height": 34
        }
      },
      "source": [
        "x = 0\n",
        "x += 2\n",
        "print(x)"
      ],
      "execution_count": 0,
      "outputs": [
        {
          "output_type": "stream",
          "text": [
            "2\n"
          ],
          "name": "stdout"
        }
      ]
    },
    {
      "cell_type": "code",
      "metadata": {
        "id": "MwmuWhGCtXCH",
        "colab_type": "code",
        "colab": {}
      },
      "source": [
        "y = 2"
      ],
      "execution_count": 0,
      "outputs": []
    },
    {
      "cell_type": "code",
      "metadata": {
        "id": "P4ZmIFXXuCIF",
        "colab_type": "code",
        "colab": {}
      },
      "source": [
        "y =- 7"
      ],
      "execution_count": 0,
      "outputs": []
    },
    {
      "cell_type": "code",
      "metadata": {
        "id": "8oHpGxsGuEBJ",
        "colab_type": "code",
        "outputId": "4442f8dc-0fc7-4ef7-baad-94e212b4cbbd",
        "colab": {
          "base_uri": "https://localhost:8080/",
          "height": 34
        }
      },
      "source": [
        "y"
      ],
      "execution_count": 0,
      "outputs": [
        {
          "output_type": "execute_result",
          "data": {
            "text/plain": [
              "-7"
            ]
          },
          "metadata": {
            "tags": []
          },
          "execution_count": 11
        }
      ]
    },
    {
      "cell_type": "code",
      "metadata": {
        "id": "4h6HnQYAuE6L",
        "colab_type": "code",
        "colab": {}
      },
      "source": [
        ""
      ],
      "execution_count": 0,
      "outputs": []
    }
  ]
}