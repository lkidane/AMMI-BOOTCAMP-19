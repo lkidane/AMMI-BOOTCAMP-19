{
  "nbformat": 4,
  "nbformat_minor": 0,
  "metadata": {
    "colab": {
      "name": "AMMI_DAY_4",
      "provenance": [],
      "collapsed_sections": []
    },
    "kernelspec": {
      "name": "python3",
      "display_name": "Python 3"
    }
  },
  "cells": [
    {
      "cell_type": "markdown",
      "metadata": {
        "id": "X8WxpaYP6uPX",
        "colab_type": "text"
      },
      "source": [
        "# AMMI Day 4"
      ]
    },
    {
      "cell_type": "markdown",
      "metadata": {
        "id": "0W1vbXwI6-UJ",
        "colab_type": "text"
      },
      "source": [
        "## Morning Session\n",
        "### Linear Regression"
      ]
    },
    {
      "cell_type": "code",
      "metadata": {
        "id": "qV8hZNOCNNeX",
        "colab_type": "code",
        "colab": {}
      },
      "source": [
        "import pandas as pd\n",
        "import numpy as np\n",
        "import matplotlib.pyplot as plt\n",
        "import seaborn as sns\n",
        "from math import sqrt\n",
        "\n",
        "%matplotlib inline"
      ],
      "execution_count": 0,
      "outputs": []
    },
    {
      "cell_type": "code",
      "metadata": {
        "id": "NN_brdW9Npse",
        "colab_type": "code",
        "outputId": "b7706cda-124e-4651-9bf0-aba993b3c82d",
        "colab": {
          "base_uri": "https://localhost:8080/",
          "height": 122
        }
      },
      "source": [
        "from google.colab import drive\n",
        "drive.mount('/content/gdrive')"
      ],
      "execution_count": 0,
      "outputs": [
        {
          "output_type": "stream",
          "text": [
            "Go to this URL in a browser: https://accounts.google.com/o/oauth2/auth?client_id=947318989803-6bn6qk8qdgf4n4g3pfee6491hc0brc4i.apps.googleusercontent.com&redirect_uri=urn%3Aietf%3Awg%3Aoauth%3A2.0%3Aoob&scope=email%20https%3A%2F%2Fwww.googleapis.com%2Fauth%2Fdocs.test%20https%3A%2F%2Fwww.googleapis.com%2Fauth%2Fdrive%20https%3A%2F%2Fwww.googleapis.com%2Fauth%2Fdrive.photos.readonly%20https%3A%2F%2Fwww.googleapis.com%2Fauth%2Fpeopleapi.readonly&response_type=code\n",
            "\n",
            "Enter your authorization code:\n",
            "··········\n",
            "Mounted at /content/gdrive\n"
          ],
          "name": "stdout"
        }
      ]
    },
    {
      "cell_type": "code",
      "metadata": {
        "id": "r1X-crpiNqmS",
        "colab_type": "code",
        "colab": {}
      },
      "source": [
        "train_df = pd.read_csv('/content/gdrive/My Drive/boston/train.csv', index_col='ID')"
      ],
      "execution_count": 0,
      "outputs": []
    },
    {
      "cell_type": "code",
      "metadata": {
        "id": "N7cRBmfMOJFv",
        "colab_type": "code",
        "outputId": "fcac39ea-ff1a-4245-e39f-1269ab82c509",
        "colab": {
          "base_uri": "https://localhost:8080/",
          "height": 343
        }
      },
      "source": [
        "train_df.info()"
      ],
      "execution_count": 0,
      "outputs": [
        {
          "output_type": "stream",
          "text": [
            "<class 'pandas.core.frame.DataFrame'>\n",
            "Int64Index: 333 entries, 1 to 506\n",
            "Data columns (total 14 columns):\n",
            "crim       333 non-null float64\n",
            "zn         333 non-null float64\n",
            "indus      333 non-null float64\n",
            "chas       333 non-null int64\n",
            "nox        333 non-null float64\n",
            "rm         333 non-null float64\n",
            "age        333 non-null float64\n",
            "dis        333 non-null float64\n",
            "rad        333 non-null int64\n",
            "tax        333 non-null int64\n",
            "ptratio    333 non-null float64\n",
            "black      333 non-null float64\n",
            "lstat      333 non-null float64\n",
            "medv       333 non-null float64\n",
            "dtypes: float64(11), int64(3)\n",
            "memory usage: 39.0 KB\n"
          ],
          "name": "stdout"
        }
      ]
    },
    {
      "cell_type": "code",
      "metadata": {
        "id": "8gWpqu3b52_H",
        "colab_type": "code",
        "outputId": "ec5e06f4-c62e-409b-fd99-ec230787ef20",
        "colab": {
          "base_uri": "https://localhost:8080/",
          "height": 254
        }
      },
      "source": [
        "train_df.head()"
      ],
      "execution_count": 0,
      "outputs": [
        {
          "output_type": "execute_result",
          "data": {
            "text/html": [
              "<div>\n",
              "<style scoped>\n",
              "    .dataframe tbody tr th:only-of-type {\n",
              "        vertical-align: middle;\n",
              "    }\n",
              "\n",
              "    .dataframe tbody tr th {\n",
              "        vertical-align: top;\n",
              "    }\n",
              "\n",
              "    .dataframe thead th {\n",
              "        text-align: right;\n",
              "    }\n",
              "</style>\n",
              "<table border=\"1\" class=\"dataframe\">\n",
              "  <thead>\n",
              "    <tr style=\"text-align: right;\">\n",
              "      <th></th>\n",
              "      <th>crim</th>\n",
              "      <th>zn</th>\n",
              "      <th>indus</th>\n",
              "      <th>chas</th>\n",
              "      <th>nox</th>\n",
              "      <th>rm</th>\n",
              "      <th>age</th>\n",
              "      <th>dis</th>\n",
              "      <th>rad</th>\n",
              "      <th>tax</th>\n",
              "      <th>ptratio</th>\n",
              "      <th>black</th>\n",
              "      <th>lstat</th>\n",
              "      <th>medv</th>\n",
              "    </tr>\n",
              "    <tr>\n",
              "      <th>ID</th>\n",
              "      <th></th>\n",
              "      <th></th>\n",
              "      <th></th>\n",
              "      <th></th>\n",
              "      <th></th>\n",
              "      <th></th>\n",
              "      <th></th>\n",
              "      <th></th>\n",
              "      <th></th>\n",
              "      <th></th>\n",
              "      <th></th>\n",
              "      <th></th>\n",
              "      <th></th>\n",
              "      <th></th>\n",
              "    </tr>\n",
              "  </thead>\n",
              "  <tbody>\n",
              "    <tr>\n",
              "      <th>1</th>\n",
              "      <td>0.00632</td>\n",
              "      <td>18.0</td>\n",
              "      <td>2.31</td>\n",
              "      <td>0</td>\n",
              "      <td>0.538</td>\n",
              "      <td>6.575</td>\n",
              "      <td>65.2</td>\n",
              "      <td>4.0900</td>\n",
              "      <td>1</td>\n",
              "      <td>296</td>\n",
              "      <td>15.3</td>\n",
              "      <td>396.90</td>\n",
              "      <td>4.98</td>\n",
              "      <td>24.0</td>\n",
              "    </tr>\n",
              "    <tr>\n",
              "      <th>2</th>\n",
              "      <td>0.02731</td>\n",
              "      <td>0.0</td>\n",
              "      <td>7.07</td>\n",
              "      <td>0</td>\n",
              "      <td>0.469</td>\n",
              "      <td>6.421</td>\n",
              "      <td>78.9</td>\n",
              "      <td>4.9671</td>\n",
              "      <td>2</td>\n",
              "      <td>242</td>\n",
              "      <td>17.8</td>\n",
              "      <td>396.90</td>\n",
              "      <td>9.14</td>\n",
              "      <td>21.6</td>\n",
              "    </tr>\n",
              "    <tr>\n",
              "      <th>4</th>\n",
              "      <td>0.03237</td>\n",
              "      <td>0.0</td>\n",
              "      <td>2.18</td>\n",
              "      <td>0</td>\n",
              "      <td>0.458</td>\n",
              "      <td>6.998</td>\n",
              "      <td>45.8</td>\n",
              "      <td>6.0622</td>\n",
              "      <td>3</td>\n",
              "      <td>222</td>\n",
              "      <td>18.7</td>\n",
              "      <td>394.63</td>\n",
              "      <td>2.94</td>\n",
              "      <td>33.4</td>\n",
              "    </tr>\n",
              "    <tr>\n",
              "      <th>5</th>\n",
              "      <td>0.06905</td>\n",
              "      <td>0.0</td>\n",
              "      <td>2.18</td>\n",
              "      <td>0</td>\n",
              "      <td>0.458</td>\n",
              "      <td>7.147</td>\n",
              "      <td>54.2</td>\n",
              "      <td>6.0622</td>\n",
              "      <td>3</td>\n",
              "      <td>222</td>\n",
              "      <td>18.7</td>\n",
              "      <td>396.90</td>\n",
              "      <td>5.33</td>\n",
              "      <td>36.2</td>\n",
              "    </tr>\n",
              "    <tr>\n",
              "      <th>7</th>\n",
              "      <td>0.08829</td>\n",
              "      <td>12.5</td>\n",
              "      <td>7.87</td>\n",
              "      <td>0</td>\n",
              "      <td>0.524</td>\n",
              "      <td>6.012</td>\n",
              "      <td>66.6</td>\n",
              "      <td>5.5605</td>\n",
              "      <td>5</td>\n",
              "      <td>311</td>\n",
              "      <td>15.2</td>\n",
              "      <td>395.60</td>\n",
              "      <td>12.43</td>\n",
              "      <td>22.9</td>\n",
              "    </tr>\n",
              "  </tbody>\n",
              "</table>\n",
              "</div>"
            ],
            "text/plain": [
              "       crim    zn  indus  chas    nox  ...  tax  ptratio   black  lstat  medv\n",
              "ID                                     ...                                   \n",
              "1   0.00632  18.0   2.31     0  0.538  ...  296     15.3  396.90   4.98  24.0\n",
              "2   0.02731   0.0   7.07     0  0.469  ...  242     17.8  396.90   9.14  21.6\n",
              "4   0.03237   0.0   2.18     0  0.458  ...  222     18.7  394.63   2.94  33.4\n",
              "5   0.06905   0.0   2.18     0  0.458  ...  222     18.7  396.90   5.33  36.2\n",
              "7   0.08829  12.5   7.87     0  0.524  ...  311     15.2  395.60  12.43  22.9\n",
              "\n",
              "[5 rows x 14 columns]"
            ]
          },
          "metadata": {
            "tags": []
          },
          "execution_count": 4
        }
      ]
    },
    {
      "cell_type": "markdown",
      "metadata": {
        "id": "3B4mGk3fXwDr",
        "colab_type": "text"
      },
      "source": [
        "Can we see a visual relationship between rooms and medv?"
      ]
    },
    {
      "cell_type": "code",
      "metadata": {
        "id": "iwsExw2O6Ez4",
        "colab_type": "code",
        "outputId": "3a947174-9516-4055-cbae-40fbd187d30b",
        "colab": {
          "base_uri": "https://localhost:8080/",
          "height": 234
        }
      },
      "source": [
        "train_df[['rm', 'medv']].head()"
      ],
      "execution_count": 0,
      "outputs": [
        {
          "output_type": "execute_result",
          "data": {
            "text/html": [
              "<div>\n",
              "<style scoped>\n",
              "    .dataframe tbody tr th:only-of-type {\n",
              "        vertical-align: middle;\n",
              "    }\n",
              "\n",
              "    .dataframe tbody tr th {\n",
              "        vertical-align: top;\n",
              "    }\n",
              "\n",
              "    .dataframe thead th {\n",
              "        text-align: right;\n",
              "    }\n",
              "</style>\n",
              "<table border=\"1\" class=\"dataframe\">\n",
              "  <thead>\n",
              "    <tr style=\"text-align: right;\">\n",
              "      <th></th>\n",
              "      <th>rm</th>\n",
              "      <th>medv</th>\n",
              "    </tr>\n",
              "    <tr>\n",
              "      <th>ID</th>\n",
              "      <th></th>\n",
              "      <th></th>\n",
              "    </tr>\n",
              "  </thead>\n",
              "  <tbody>\n",
              "    <tr>\n",
              "      <th>1</th>\n",
              "      <td>6.575</td>\n",
              "      <td>24.0</td>\n",
              "    </tr>\n",
              "    <tr>\n",
              "      <th>2</th>\n",
              "      <td>6.421</td>\n",
              "      <td>21.6</td>\n",
              "    </tr>\n",
              "    <tr>\n",
              "      <th>4</th>\n",
              "      <td>6.998</td>\n",
              "      <td>33.4</td>\n",
              "    </tr>\n",
              "    <tr>\n",
              "      <th>5</th>\n",
              "      <td>7.147</td>\n",
              "      <td>36.2</td>\n",
              "    </tr>\n",
              "    <tr>\n",
              "      <th>7</th>\n",
              "      <td>6.012</td>\n",
              "      <td>22.9</td>\n",
              "    </tr>\n",
              "  </tbody>\n",
              "</table>\n",
              "</div>"
            ],
            "text/plain": [
              "       rm  medv\n",
              "ID             \n",
              "1   6.575  24.0\n",
              "2   6.421  21.6\n",
              "4   6.998  33.4\n",
              "5   7.147  36.2\n",
              "7   6.012  22.9"
            ]
          },
          "metadata": {
            "tags": []
          },
          "execution_count": 5
        }
      ]
    },
    {
      "cell_type": "code",
      "metadata": {
        "id": "YldJI8yKYLFc",
        "colab_type": "code",
        "outputId": "b70ceb88-9d80-4e80-ddeb-040847548404",
        "colab": {
          "base_uri": "https://localhost:8080/",
          "height": 283
        }
      },
      "source": [
        "_rooms = train_df['rm'].values\n",
        "_medv = train_df['medv'].values\n",
        "\n",
        "plt.scatter(_rooms, _medv)\n",
        "plt.xlabel('No of Rooms')\n",
        "plt.ylabel('Median Value')\n",
        "plt.show()"
      ],
      "execution_count": 0,
      "outputs": [
        {
          "output_type": "display_data",
          "data": {
            "image/png": "[encoded data removed]",
            "text/plain": [
              "<Figure size 432x288 with 1 Axes>"
            ]
          },
          "metadata": {
            "tags": []
          }
        }
      ]
    },
    {
      "cell_type": "markdown",
      "metadata": {
        "id": "3y9yg5vsX8bj",
        "colab_type": "text"
      },
      "source": [
        "Can we find an equation for this line?"
      ]
    },
    {
      "cell_type": "code",
      "metadata": {
        "id": "qkEXZpM-qEqF",
        "colab_type": "code",
        "outputId": "e55c493b-8f3b-401c-fb3c-0e1e61d8854d",
        "colab": {
          "base_uri": "https://localhost:8080/",
          "height": 283
        }
      },
      "source": [
        "_r = np.linspace(min(_rooms), max(_rooms)).reshape(-1, 1)\n",
        "_m = np.linspace(min(_medv), max(_medv)).reshape(-1, 1)\n",
        "\n",
        "plt.scatter(_rooms, _medv)\n",
        "plt.plot(_r, _m, color='red', linewidth=3)\n",
        "plt.xlabel('No of Rooms')\n",
        "plt.ylabel('Median Value')\n",
        "plt.show()"
      ],
      "execution_count": 0,
      "outputs": [
        {
          "output_type": "display_data",
          "data": {
            "image/png": "[encoded data removed]",
            "text/plain": [
              "<Figure size 432x288 with 1 Axes>"
            ]
          },
          "metadata": {
            "tags": []
          }
        }
      ]
    },
    {
      "cell_type": "markdown",
      "metadata": {
        "id": "B5M70FCDOTcJ",
        "colab_type": "text"
      },
      "source": [
        "# Function\n",
        "* $y = wx + b$\n",
        "* $y = w_0.x_0 + w_1.x_1$\n",
        "* $y = w.x$\n",
        "* $y$ is a predicted variable also called $y_{pred}$\n",
        "* $w$ is a vector of weights\n",
        "* $x$ is a vector of predictors\n",
        "\n",
        "# Cost\n",
        "* $L = \\frac{\\sqrt{\\sum{(y - y_{pred})^2}}}{n}$"
      ]
    },
    {
      "cell_type": "markdown",
      "metadata": {
        "id": "yZSa8puHOfLU",
        "colab_type": "text"
      },
      "source": [
        "* $y_{pred} = a + wx$\n",
        "* vectorize the operation\n",
        "* $y_{pred} = a.w_0 + x.w_1$\n",
        "* $y_{pred} = (a x) * (w_0 w_1)$\n",
        "* $y_{pred} = x * w$"
      ]
    },
    {
      "cell_type": "markdown",
      "metadata": {
        "id": "27UynBdTOk6P",
        "colab_type": "text"
      },
      "source": [
        "# Define y"
      ]
    },
    {
      "cell_type": "code",
      "metadata": {
        "id": "vhdjInBBOpps",
        "colab_type": "code",
        "outputId": "f2b33284-222c-4594-d1ec-34ca8247c107",
        "colab": {
          "base_uri": "https://localhost:8080/",
          "height": 68
        }
      },
      "source": [
        "y = train_df['medv'].values\n",
        "print(type(y))\n",
        "print(y.shape)\n",
        "y = y.reshape(-1, 1)\n",
        "print(y.shape)"
      ],
      "execution_count": 0,
      "outputs": [
        {
          "output_type": "stream",
          "text": [
            "<class 'numpy.ndarray'>\n",
            "(333,)\n",
            "(333, 1)\n"
          ],
          "name": "stdout"
        }
      ]
    },
    {
      "cell_type": "markdown",
      "metadata": {
        "id": "elhnciquOvSV",
        "colab_type": "text"
      },
      "source": [
        "# Define x"
      ]
    },
    {
      "cell_type": "code",
      "metadata": {
        "id": "2LhwldCyOzHB",
        "colab_type": "code",
        "colab": {}
      },
      "source": [
        "train_df['constant'] = 1"
      ],
      "execution_count": 0,
      "outputs": []
    },
    {
      "cell_type": "code",
      "metadata": {
        "id": "toYfsRa7O3hc",
        "colab_type": "code",
        "outputId": "59a38da6-1bf8-4ca1-c9ba-f63ea1bcba30",
        "colab": {
          "base_uri": "https://localhost:8080/",
          "height": 254
        }
      },
      "source": [
        "train_df.head()"
      ],
      "execution_count": 0,
      "outputs": [
        {
          "output_type": "execute_result",
          "data": {
            "text/html": [
              "<div>\n",
              "<style scoped>\n",
              "    .dataframe tbody tr th:only-of-type {\n",
              "        vertical-align: middle;\n",
              "    }\n",
              "\n",
              "    .dataframe tbody tr th {\n",
              "        vertical-align: top;\n",
              "    }\n",
              "\n",
              "    .dataframe thead th {\n",
              "        text-align: right;\n",
              "    }\n",
              "</style>\n",
              "<table border=\"1\" class=\"dataframe\">\n",
              "  <thead>\n",
              "    <tr style=\"text-align: right;\">\n",
              "      <th></th>\n",
              "      <th>crim</th>\n",
              "      <th>zn</th>\n",
              "      <th>indus</th>\n",
              "      <th>chas</th>\n",
              "      <th>nox</th>\n",
              "      <th>rm</th>\n",
              "      <th>age</th>\n",
              "      <th>dis</th>\n",
              "      <th>rad</th>\n",
              "      <th>tax</th>\n",
              "      <th>ptratio</th>\n",
              "      <th>black</th>\n",
              "      <th>lstat</th>\n",
              "      <th>medv</th>\n",
              "      <th>constant</th>\n",
              "    </tr>\n",
              "    <tr>\n",
              "      <th>ID</th>\n",
              "      <th></th>\n",
              "      <th></th>\n",
              "      <th></th>\n",
              "      <th></th>\n",
              "      <th></th>\n",
              "      <th></th>\n",
              "      <th></th>\n",
              "      <th></th>\n",
              "      <th></th>\n",
              "      <th></th>\n",
              "      <th></th>\n",
              "      <th></th>\n",
              "      <th></th>\n",
              "      <th></th>\n",
              "      <th></th>\n",
              "    </tr>\n",
              "  </thead>\n",
              "  <tbody>\n",
              "    <tr>\n",
              "      <th>1</th>\n",
              "      <td>0.00632</td>\n",
              "      <td>18.0</td>\n",
              "      <td>2.31</td>\n",
              "      <td>0</td>\n",
              "      <td>0.538</td>\n",
              "      <td>6.575</td>\n",
              "      <td>65.2</td>\n",
              "      <td>4.0900</td>\n",
              "      <td>1</td>\n",
              "      <td>296</td>\n",
              "      <td>15.3</td>\n",
              "      <td>396.90</td>\n",
              "      <td>4.98</td>\n",
              "      <td>24.0</td>\n",
              "      <td>1</td>\n",
              "    </tr>\n",
              "    <tr>\n",
              "      <th>2</th>\n",
              "      <td>0.02731</td>\n",
              "      <td>0.0</td>\n",
              "      <td>7.07</td>\n",
              "      <td>0</td>\n",
              "      <td>0.469</td>\n",
              "      <td>6.421</td>\n",
              "      <td>78.9</td>\n",
              "      <td>4.9671</td>\n",
              "      <td>2</td>\n",
              "      <td>242</td>\n",
              "      <td>17.8</td>\n",
              "      <td>396.90</td>\n",
              "      <td>9.14</td>\n",
              "      <td>21.6</td>\n",
              "      <td>1</td>\n",
              "    </tr>\n",
              "    <tr>\n",
              "      <th>4</th>\n",
              "      <td>0.03237</td>\n",
              "      <td>0.0</td>\n",
              "      <td>2.18</td>\n",
              "      <td>0</td>\n",
              "      <td>0.458</td>\n",
              "      <td>6.998</td>\n",
              "      <td>45.8</td>\n",
              "      <td>6.0622</td>\n",
              "      <td>3</td>\n",
              "      <td>222</td>\n",
              "      <td>18.7</td>\n",
              "      <td>394.63</td>\n",
              "      <td>2.94</td>\n",
              "      <td>33.4</td>\n",
              "      <td>1</td>\n",
              "    </tr>\n",
              "    <tr>\n",
              "      <th>5</th>\n",
              "      <td>0.06905</td>\n",
              "      <td>0.0</td>\n",
              "      <td>2.18</td>\n",
              "      <td>0</td>\n",
              "      <td>0.458</td>\n",
              "      <td>7.147</td>\n",
              "      <td>54.2</td>\n",
              "      <td>6.0622</td>\n",
              "      <td>3</td>\n",
              "      <td>222</td>\n",
              "      <td>18.7</td>\n",
              "      <td>396.90</td>\n",
              "      <td>5.33</td>\n",
              "      <td>36.2</td>\n",
              "      <td>1</td>\n",
              "    </tr>\n",
              "    <tr>\n",
              "      <th>7</th>\n",
              "      <td>0.08829</td>\n",
              "      <td>12.5</td>\n",
              "      <td>7.87</td>\n",
              "      <td>0</td>\n",
              "      <td>0.524</td>\n",
              "      <td>6.012</td>\n",
              "      <td>66.6</td>\n",
              "      <td>5.5605</td>\n",
              "      <td>5</td>\n",
              "      <td>311</td>\n",
              "      <td>15.2</td>\n",
              "      <td>395.60</td>\n",
              "      <td>12.43</td>\n",
              "      <td>22.9</td>\n",
              "      <td>1</td>\n",
              "    </tr>\n",
              "  </tbody>\n",
              "</table>\n",
              "</div>"
            ],
            "text/plain": [
              "       crim    zn  indus  chas    nox  ...  ptratio   black  lstat  medv  constant\n",
              "ID                                     ...                                        \n",
              "1   0.00632  18.0   2.31     0  0.538  ...     15.3  396.90   4.98  24.0         1\n",
              "2   0.02731   0.0   7.07     0  0.469  ...     17.8  396.90   9.14  21.6         1\n",
              "4   0.03237   0.0   2.18     0  0.458  ...     18.7  394.63   2.94  33.4         1\n",
              "5   0.06905   0.0   2.18     0  0.458  ...     18.7  396.90   5.33  36.2         1\n",
              "7   0.08829  12.5   7.87     0  0.524  ...     15.2  395.60  12.43  22.9         1\n",
              "\n",
              "[5 rows x 15 columns]"
            ]
          },
          "metadata": {
            "tags": []
          },
          "execution_count": 10
        }
      ]
    },
    {
      "cell_type": "code",
      "metadata": {
        "id": "94v_CwmxO-qr",
        "colab_type": "code",
        "outputId": "ea7f2756-62ea-4722-f1bc-aa8574da1379",
        "colab": {
          "base_uri": "https://localhost:8080/",
          "height": 34
        }
      },
      "source": [
        "columns = ['constant', 'rm', 'zn', 'indus']\n",
        "x = train_df[columns].values\n",
        "print(type(x))"
      ],
      "execution_count": 0,
      "outputs": [
        {
          "output_type": "stream",
          "text": [
            "<class 'numpy.ndarray'>\n"
          ],
          "name": "stdout"
        }
      ]
    },
    {
      "cell_type": "code",
      "metadata": {
        "id": "HGgzflWzPDrW",
        "colab_type": "code",
        "outputId": "7f4d7a62-77e7-423d-adfb-d201fd3c6c29",
        "colab": {
          "base_uri": "https://localhost:8080/",
          "height": 34
        }
      },
      "source": [
        "print(x.shape)"
      ],
      "execution_count": 0,
      "outputs": [
        {
          "output_type": "stream",
          "text": [
            "(333, 4)\n"
          ],
          "name": "stdout"
        }
      ]
    },
    {
      "cell_type": "code",
      "metadata": {
        "id": "xQF6Ux3iPMCH",
        "colab_type": "code",
        "outputId": "f8665829-fd0a-4632-97d6-fbc1de0a38fc",
        "colab": {
          "base_uri": "https://localhost:8080/",
          "height": 120
        }
      },
      "source": [
        "w = np.zeros((x.shape[1], 1))\n",
        "print(type(w))\n",
        "print(w.shape)\n",
        "print(w)"
      ],
      "execution_count": 0,
      "outputs": [
        {
          "output_type": "stream",
          "text": [
            "<class 'numpy.ndarray'>\n",
            "(4, 1)\n",
            "[[0.]\n",
            " [0.]\n",
            " [0.]\n",
            " [0.]]\n"
          ],
          "name": "stdout"
        }
      ]
    },
    {
      "cell_type": "code",
      "metadata": {
        "id": "vstCFENDPRs9",
        "colab_type": "code",
        "colab": {}
      },
      "source": [
        "y_pred = np.dot(x, w)"
      ],
      "execution_count": 0,
      "outputs": []
    },
    {
      "cell_type": "code",
      "metadata": {
        "id": "R_M2eh6FPW3A",
        "colab_type": "code",
        "outputId": "ea87acb4-df07-43eb-d0c4-edf03b55fbb9",
        "colab": {
          "base_uri": "https://localhost:8080/",
          "height": 34
        }
      },
      "source": [
        "print(y_pred.shape)"
      ],
      "execution_count": 0,
      "outputs": [
        {
          "output_type": "stream",
          "text": [
            "(333, 1)\n"
          ],
          "name": "stdout"
        }
      ]
    },
    {
      "cell_type": "code",
      "metadata": {
        "id": "dNyfpGSMPchn",
        "colab_type": "code",
        "outputId": "d26fa7a9-9a7b-403d-b5f4-31160987ac67",
        "colab": {
          "base_uri": "https://localhost:8080/",
          "height": 34
        }
      },
      "source": [
        "error = y - y_pred\n",
        "print(error.shape)\n",
        "squared_error = np.power(error, 2)\n",
        "root_mean_squared_error = sqrt(squared_error.sum()) / y_pred.shape[0]"
      ],
      "execution_count": 0,
      "outputs": [
        {
          "output_type": "stream",
          "text": [
            "(333, 1)\n"
          ],
          "name": "stdout"
        }
      ]
    },
    {
      "cell_type": "code",
      "metadata": {
        "id": "iRpPLkc0Pjfs",
        "colab_type": "code",
        "outputId": "274c2c18-7d85-4f1c-d0f4-ae628608f8f4",
        "colab": {
          "base_uri": "https://localhost:8080/",
          "height": 34
        }
      },
      "source": [
        "print(root_mean_squared_error)"
      ],
      "execution_count": 0,
      "outputs": [
        {
          "output_type": "stream",
          "text": [
            "1.3449009883922638\n"
          ],
          "name": "stdout"
        }
      ]
    },
    {
      "cell_type": "markdown",
      "metadata": {
        "id": "NRkv52DTPrlI",
        "colab_type": "text"
      },
      "source": [
        "## Implement Gradient Descent\n",
        "* learning rate $\\alpha$\n",
        "* gradient\n",
        "\n",
        "* gradient is $2 * error$\n",
        "* gradient update rule is $w = w - gradient * \\alpha$"
      ]
    },
    {
      "cell_type": "code",
      "metadata": {
        "id": "_aQwNU9bPyVH",
        "colab_type": "code",
        "colab": {}
      },
      "source": [
        "costs = []\n",
        "w_0_s = []\n",
        "w_1_s = []\n",
        "\n",
        "learning_rate = 1e-3\n",
        "steps = 20"
      ],
      "execution_count": 0,
      "outputs": []
    },
    {
      "cell_type": "code",
      "metadata": {
        "id": "0zyVz-Q7P4eH",
        "colab_type": "code",
        "colab": {}
      },
      "source": [
        "for a in range(steps):\n",
        "    \n",
        "    w_0 = w[0][0]\n",
        "    w_1 = w[1][0]\n",
        "    \n",
        "    \n",
        "    # make prediction\n",
        "    y_pred = np.dot(x, w)\n",
        "    error = y - y_pred\n",
        "    error_squared = np.power(error, 2)\n",
        "    # cost function is LMS\n",
        "    LMS = error_squared.sum() / (2 * y.shape[0])\n",
        "    \n",
        "    costs.append(LMS)\n",
        "    w_0_s.append(w_0)\n",
        "    w_1_s.append(w_1)\n",
        "    \n",
        "    # update \n",
        "    \n",
        "    w_0 = w_0 + learning_rate/y.shape[0] * error.sum()\n",
        "    w_1 = w_1 + learning_rate/y.shape[0] * (error * x[1]).sum()\n",
        "    \n",
        "    w[0][0] = w_0\n",
        "    w[1][0] = w_1"
      ],
      "execution_count": 0,
      "outputs": []
    },
    {
      "cell_type": "code",
      "metadata": {
        "id": "_Fh-DpnoP__u",
        "colab_type": "code",
        "outputId": "9c639567-779a-4158-feea-864fd38875a9",
        "colab": {
          "base_uri": "https://localhost:8080/",
          "height": 286
        }
      },
      "source": [
        "cost_df = pd.DataFrame({'cost': pd.Series(costs), 'w_0': pd.Series(w_0_s), 'w_1': pd.Series(w_1_s)})\n",
        "cost_df['cost'].plot()"
      ],
      "execution_count": 0,
      "outputs": [
        {
          "output_type": "execute_result",
          "data": {
            "text/plain": [
              "<matplotlib.axes._subplots.AxesSubplot at 0x7f20a8cd6400>"
            ]
          },
          "metadata": {
            "tags": []
          },
          "execution_count": 21
        },
        {
          "output_type": "display_data",
          "data": {
            "image/png": "[encoded data removed]",
            "text/plain": [
              "<Figure size 432x288 with 1 Axes>"
            ]
          },
          "metadata": {
            "tags": []
          }
        }
      ]
    },
    {
      "cell_type": "code",
      "metadata": {
        "id": "vNmeq4axC-NC",
        "colab_type": "code",
        "outputId": "98b66ba9-cd64-4f0e-a3f5-d3a4144ab50d",
        "colab": {
          "base_uri": "https://localhost:8080/",
          "height": 377
        }
      },
      "source": [
        "print(cost_df)"
      ],
      "execution_count": 0,
      "outputs": [
        {
          "output_type": "stream",
          "text": [
            "          cost       w_0       w_1\n",
            "0   301.158318  0.000000  0.000000\n",
            "1   254.316387  0.022769  0.329942\n",
            "2   215.606188  0.043447  0.629597\n",
            "3   183.610064  0.062228  0.901746\n",
            "4   157.158060  0.079285  1.148912\n",
            "5   135.284596  0.094775  1.373390\n",
            "6   117.192716  0.108844  1.577262\n",
            "7   102.224599  0.121622  1.762419\n",
            "8    89.837233  0.133226  1.930580\n",
            "9    79.582337  0.143765  2.083304\n",
            "10   71.089809  0.153337  2.222009\n",
            "11   64.054059  0.162030  2.347982\n",
            "12   58.222739  0.169926  2.462391\n",
            "13   53.387446  0.177096  2.566298\n",
            "14   49.376044  0.183608  2.660667\n",
            "15   46.046336  0.189523  2.746373\n",
            "16   43.280837  0.194894  2.824212\n",
            "17   40.982466  0.199773  2.894905\n",
            "18   39.070986  0.204203  2.959109\n",
            "19   37.480069  0.208227  3.017420\n"
          ],
          "name": "stdout"
        }
      ]
    },
    {
      "cell_type": "code",
      "metadata": {
        "id": "nbjNhVSNQFnu",
        "colab_type": "code",
        "outputId": "5b17f35a-812c-4c20-f862-c841dd64f791",
        "colab": {
          "base_uri": "https://localhost:8080/",
          "height": 34
        }
      },
      "source": [
        "print(w_0, w_1)"
      ],
      "execution_count": 0,
      "outputs": [
        {
          "output_type": "stream",
          "text": [
            "0.24802277183964103 3.594097986728238\n"
          ],
          "name": "stdout"
        }
      ]
    },
    {
      "cell_type": "markdown",
      "metadata": {
        "id": "U-_jZGpMS4HE",
        "colab_type": "text"
      },
      "source": [
        "Make a Prediction"
      ]
    },
    {
      "cell_type": "code",
      "metadata": {
        "id": "iEF6X1N6DKM_",
        "colab_type": "code",
        "colab": {}
      },
      "source": [
        "_w = [w_0, w_1]\n",
        "_w = np.asarray(_w)\n",
        "_x = train_df[['constant', 'rm']].values\n",
        "y_pred = np.dot(_x, _w)"
      ],
      "execution_count": 0,
      "outputs": []
    },
    {
      "cell_type": "code",
      "metadata": {
        "id": "bx1RCR0DDoRH",
        "colab_type": "code",
        "outputId": "71646da6-d6ae-4ec7-c5d1-a265ce9576e9",
        "colab": {
          "base_uri": "https://localhost:8080/",
          "height": 203
        }
      },
      "source": [
        "_p = pd.DataFrame(dict(actual=train_df['medv'].values, predicted=y_pred.reshape(-1)))\n",
        "_p.head()"
      ],
      "execution_count": 0,
      "outputs": [
        {
          "output_type": "execute_result",
          "data": {
            "text/html": [
              "<div>\n",
              "<style scoped>\n",
              "    .dataframe tbody tr th:only-of-type {\n",
              "        vertical-align: middle;\n",
              "    }\n",
              "\n",
              "    .dataframe tbody tr th {\n",
              "        vertical-align: top;\n",
              "    }\n",
              "\n",
              "    .dataframe thead th {\n",
              "        text-align: right;\n",
              "    }\n",
              "</style>\n",
              "<table border=\"1\" class=\"dataframe\">\n",
              "  <thead>\n",
              "    <tr style=\"text-align: right;\">\n",
              "      <th></th>\n",
              "      <th>actual</th>\n",
              "      <th>predicted</th>\n",
              "    </tr>\n",
              "  </thead>\n",
              "  <tbody>\n",
              "    <tr>\n",
              "      <th>0</th>\n",
              "      <td>24.0</td>\n",
              "      <td>20.399615</td>\n",
              "    </tr>\n",
              "    <tr>\n",
              "      <th>1</th>\n",
              "      <td>21.6</td>\n",
              "      <td>19.926777</td>\n",
              "    </tr>\n",
              "    <tr>\n",
              "      <th>2</th>\n",
              "      <td>33.4</td>\n",
              "      <td>21.698385</td>\n",
              "    </tr>\n",
              "    <tr>\n",
              "      <th>3</th>\n",
              "      <td>36.2</td>\n",
              "      <td>22.155871</td>\n",
              "    </tr>\n",
              "    <tr>\n",
              "      <th>4</th>\n",
              "      <td>22.9</td>\n",
              "      <td>18.670993</td>\n",
              "    </tr>\n",
              "  </tbody>\n",
              "</table>\n",
              "</div>"
            ],
            "text/plain": [
              "   actual  predicted\n",
              "0    24.0  20.399615\n",
              "1    21.6  19.926777\n",
              "2    33.4  21.698385\n",
              "3    36.2  22.155871\n",
              "4    22.9  18.670993"
            ]
          },
          "metadata": {
            "tags": []
          },
          "execution_count": 26
        }
      ]
    },
    {
      "cell_type": "markdown",
      "metadata": {
        "id": "8JE05xPlNNXb",
        "colab_type": "text"
      },
      "source": [
        "## Matrix Multiplication Refresher\n",
        "\n",
        "$y = w.x + b = w.x$\n",
        "\n",
        "$\\begin{bmatrix} y_{11} \\\\ y_{21} \\\\ y_{31} \\\\ y_{41} \\end{bmatrix} = \\begin{bmatrix} w_{11}  \\\\ w_{21}  \\end{bmatrix}  \\begin{bmatrix} x_{11}  & x_{12} \\\\ x_{21} & x_{22} \\\\ x_{31} & x_{32} \\\\  x_{41} & x_{42} \\end{bmatrix} + \\begin{bmatrix} b_{11} \\\\ b_{21} \\\\ b_{31} \\\\ b_{41} \\end{bmatrix} $\n",
        "\n",
        "$\\begin{bmatrix} y_{11} \\\\ y_{21} \\\\ y_{31} \\\\ y_{41} \\end{bmatrix} = \\begin{bmatrix} w_{11} * x_{11} + w_{21} * x_{12} \\\\ w_{11} * x_{21} + w_{21} * x_{22} \\\\ w_{11} * x_{31} + w_{21} * x_{32} \\\\ w_{11} * x_{41} + w_{21} * x_{42} \\end{bmatrix} + \\begin{bmatrix} b_{11} * 1 \\\\ b_{21} * 1 \\\\ b_{31} * 1 \\\\ b_{41} * 1 \\end{bmatrix} $\n",
        "\n",
        "$\\begin{bmatrix} y_{11} \\\\ y_{21} \\\\ y_{31} \\\\ y_{41} \\end{bmatrix} = \\begin{bmatrix} w_{11} * x_{11} + w_{21} * x_{12} + b * 1 \\\\ w_{11} * x_{21} + w_{21} * x_{22} + b * 1 \\\\ w_{11} * x_{31} + w_{21} * x_{32} + b * 1 \\\\ w_{11} * x_{41} + w_{21} * x_{42} + b * 1 \\end{bmatrix}$\n",
        "\n",
        "$\\begin{bmatrix} y_{11} \\\\ y_{21} \\\\ y_{31} \\\\ y_{41} \\end{bmatrix} = \\begin{bmatrix} w_{11} \\\\ w_{21} \\\\ w_{31}  \\end{bmatrix} \\bullet \\begin{bmatrix}  x_{11} & x_{12} & 1 \\\\  x_{21} & x_{22} & 1 \\\\  x_{31} & x_{32} & 1 \\\\  x_{41} & x_{42} & 1 \\end{bmatrix}$"
      ]
    },
    {
      "cell_type": "markdown",
      "metadata": {
        "id": "hYdTrwflS5vy",
        "colab_type": "text"
      },
      "source": [
        "### Implement SciPY"
      ]
    },
    {
      "cell_type": "code",
      "metadata": {
        "id": "WnxJMB9kS7d_",
        "colab_type": "code",
        "colab": {}
      },
      "source": [
        "import pandas as pd\n",
        "import numpy as np\n",
        "from scipy.optimize import fmin, minimize"
      ],
      "execution_count": 0,
      "outputs": []
    },
    {
      "cell_type": "code",
      "metadata": {
        "id": "eytbhDTLTAQe",
        "colab_type": "code",
        "colab": {}
      },
      "source": [
        "y = train_df['medv'].values\n",
        "y = y.reshape(-1, 1)"
      ],
      "execution_count": 0,
      "outputs": []
    },
    {
      "cell_type": "code",
      "metadata": {
        "id": "ntnCxVcWTXzZ",
        "colab_type": "code",
        "colab": {}
      },
      "source": [
        "train_df['constant'] = 1\n",
        "columns = ['constant', 'crim', 'zn', 'indus', 'chas', 'nox', 'rm', 'age', 'dis', 'rad', 'tax', 'ptratio', 'black', 'lstat']\n",
        "x = train_df[columns].values"
      ],
      "execution_count": 0,
      "outputs": []
    },
    {
      "cell_type": "code",
      "metadata": {
        "id": "eX13pTsYTae-",
        "colab_type": "code",
        "colab": {}
      },
      "source": [
        "w = np.zeros([x.shape[1], 1])"
      ],
      "execution_count": 0,
      "outputs": []
    },
    {
      "cell_type": "code",
      "metadata": {
        "id": "jgBgI9OxUNnq",
        "colab_type": "code",
        "outputId": "babb3d35-b8f5-4adf-993a-5839b3a65341",
        "colab": {
          "base_uri": "https://localhost:8080/",
          "height": 257
        }
      },
      "source": [
        "print(w)"
      ],
      "execution_count": 0,
      "outputs": [
        {
          "output_type": "stream",
          "text": [
            "[[0.]\n",
            " [0.]\n",
            " [0.]\n",
            " [0.]\n",
            " [0.]\n",
            " [0.]\n",
            " [0.]\n",
            " [0.]\n",
            " [0.]\n",
            " [0.]\n",
            " [0.]\n",
            " [0.]\n",
            " [0.]\n",
            " [0.]]\n"
          ],
          "name": "stdout"
        }
      ]
    },
    {
      "cell_type": "code",
      "metadata": {
        "id": "XTPHDgWzUQ3G",
        "colab_type": "code",
        "colab": {}
      },
      "source": [
        "def pred(x, w):\n",
        "    return np.dot(x, w)"
      ],
      "execution_count": 0,
      "outputs": []
    },
    {
      "cell_type": "code",
      "metadata": {
        "id": "8NqXDXjvUT2b",
        "colab_type": "code",
        "colab": {}
      },
      "source": [
        "y_pred = pred(x, w)"
      ],
      "execution_count": 0,
      "outputs": []
    },
    {
      "cell_type": "code",
      "metadata": {
        "id": "S39eUcdkUYzX",
        "colab_type": "code",
        "colab": {}
      },
      "source": [
        "def loss(_w):\n",
        "    p = pred(x, _w)\n",
        "    e = y - p\n",
        "    se = np.power(e, 2)\n",
        "    rse = np.sqrt(np.sum(se))\n",
        "    rmse = rse / y.shape[0]\n",
        "    return rmse"
      ],
      "execution_count": 0,
      "outputs": []
    },
    {
      "cell_type": "code",
      "metadata": {
        "id": "IEtN36mXUd-h",
        "colab_type": "code",
        "colab": {}
      },
      "source": [
        "l = loss(w)"
      ],
      "execution_count": 0,
      "outputs": []
    },
    {
      "cell_type": "code",
      "metadata": {
        "id": "-Qfx0AxtUh_F",
        "colab_type": "code",
        "outputId": "c723809f-ed33-4088-b9c2-52ab8abe5038",
        "colab": {
          "base_uri": "https://localhost:8080/",
          "height": 34
        }
      },
      "source": [
        "l"
      ],
      "execution_count": 0,
      "outputs": [
        {
          "output_type": "execute_result",
          "data": {
            "text/plain": [
              "1.3449009883922638"
            ]
          },
          "metadata": {
            "tags": []
          },
          "execution_count": 39
        }
      ]
    },
    {
      "cell_type": "code",
      "metadata": {
        "id": "u3imUJRfUq_8",
        "colab_type": "code",
        "outputId": "2bd65c5b-53a2-48a0-a443-3eafb5d6d7e7",
        "colab": {
          "base_uri": "https://localhost:8080/",
          "height": 34
        }
      },
      "source": [
        "min = fmin(loss, w, maxiter=1000)"
      ],
      "execution_count": 0,
      "outputs": [
        {
          "output_type": "stream",
          "text": [
            "Warning: Maximum number of iterations has been exceeded.\n"
          ],
          "name": "stdout"
        }
      ]
    },
    {
      "cell_type": "code",
      "metadata": {
        "id": "TRuvp_v-Ut6P",
        "colab_type": "code",
        "outputId": "744a13b8-20e9-4c52-ad0b-40a369adc80a",
        "colab": {
          "base_uri": "https://localhost:8080/",
          "height": 88
        }
      },
      "source": [
        "min"
      ],
      "execution_count": 0,
      "outputs": [
        {
          "output_type": "execute_result",
          "data": {
            "text/plain": [
              "array([-0.00666563, -0.03605829,  0.04495306,  0.01109164,  0.04641392,\n",
              "       -0.11383605, -0.00518238,  0.05799832, -0.03884004, -0.06830298,\n",
              "        0.01235407,  0.02862037,  0.03404354,  0.07511245])"
            ]
          },
          "metadata": {
            "tags": []
          },
          "execution_count": 41
        }
      ]
    },
    {
      "cell_type": "code",
      "metadata": {
        "id": "3BTvTHjGUypi",
        "colab_type": "code",
        "outputId": "b78b5d4d-727a-415e-f1f9-833a66a24a01",
        "colab": {
          "base_uri": "https://localhost:8080/",
          "height": 34
        }
      },
      "source": [
        "loss(min)"
      ],
      "execution_count": 0,
      "outputs": [
        {
          "output_type": "execute_result",
          "data": {
            "text/plain": [
              "9.728897700864076"
            ]
          },
          "metadata": {
            "tags": []
          },
          "execution_count": 42
        }
      ]
    },
    {
      "cell_type": "code",
      "metadata": {
        "id": "1Wmxkm21U19k",
        "colab_type": "code",
        "colab": {}
      },
      "source": [
        "y_min = pred(x, min)"
      ],
      "execution_count": 0,
      "outputs": []
    },
    {
      "cell_type": "code",
      "metadata": {
        "id": "zGgi7cBZU5Q5",
        "colab_type": "code",
        "colab": {}
      },
      "source": [
        "out = pd.DataFrame({'y': y[:,0], 'y_pred': y_pred[:,0], 'y_min': pred(x, min)})"
      ],
      "execution_count": 0,
      "outputs": []
    },
    {
      "cell_type": "code",
      "metadata": {
        "id": "Fth3YfdKU8KW",
        "colab_type": "code",
        "outputId": "25cce4f4-b9c6-42f3-ec07-a1d1cdaa3505",
        "colab": {
          "base_uri": "https://localhost:8080/",
          "height": 511
        }
      },
      "source": [
        "out.head(n=15)"
      ],
      "execution_count": 0,
      "outputs": [
        {
          "output_type": "execute_result",
          "data": {
            "text/html": [
              "<div>\n",
              "<style scoped>\n",
              "    .dataframe tbody tr th:only-of-type {\n",
              "        vertical-align: middle;\n",
              "    }\n",
              "\n",
              "    .dataframe tbody tr th {\n",
              "        vertical-align: top;\n",
              "    }\n",
              "\n",
              "    .dataframe thead th {\n",
              "        text-align: right;\n",
              "    }\n",
              "</style>\n",
              "<table border=\"1\" class=\"dataframe\">\n",
              "  <thead>\n",
              "    <tr style=\"text-align: right;\">\n",
              "      <th></th>\n",
              "      <th>y</th>\n",
              "      <th>y_pred</th>\n",
              "      <th>y_min</th>\n",
              "    </tr>\n",
              "  </thead>\n",
              "  <tbody>\n",
              "    <tr>\n",
              "      <th>0</th>\n",
              "      <td>24.0</td>\n",
              "      <td>0.0</td>\n",
              "      <td>22.267535</td>\n",
              "    </tr>\n",
              "    <tr>\n",
              "      <th>1</th>\n",
              "      <td>21.6</td>\n",
              "      <td>0.0</td>\n",
              "      <td>21.928179</td>\n",
              "    </tr>\n",
              "    <tr>\n",
              "      <th>2</th>\n",
              "      <td>33.4</td>\n",
              "      <td>0.0</td>\n",
              "      <td>19.077140</td>\n",
              "    </tr>\n",
              "    <tr>\n",
              "      <th>3</th>\n",
              "      <td>36.2</td>\n",
              "      <td>0.0</td>\n",
              "      <td>19.819029</td>\n",
              "    </tr>\n",
              "    <tr>\n",
              "      <th>4</th>\n",
              "      <td>22.9</td>\n",
              "      <td>0.0</td>\n",
              "      <td>22.532170</td>\n",
              "    </tr>\n",
              "    <tr>\n",
              "      <th>5</th>\n",
              "      <td>15.0</td>\n",
              "      <td>0.0</td>\n",
              "      <td>24.598919</td>\n",
              "    </tr>\n",
              "    <tr>\n",
              "      <th>6</th>\n",
              "      <td>18.9</td>\n",
              "      <td>0.0</td>\n",
              "      <td>23.557982</td>\n",
              "    </tr>\n",
              "    <tr>\n",
              "      <th>7</th>\n",
              "      <td>21.7</td>\n",
              "      <td>0.0</td>\n",
              "      <td>21.008860</td>\n",
              "    </tr>\n",
              "    <tr>\n",
              "      <th>8</th>\n",
              "      <td>20.4</td>\n",
              "      <td>0.0</td>\n",
              "      <td>21.623121</td>\n",
              "    </tr>\n",
              "    <tr>\n",
              "      <th>9</th>\n",
              "      <td>18.2</td>\n",
              "      <td>0.0</td>\n",
              "      <td>22.523735</td>\n",
              "    </tr>\n",
              "    <tr>\n",
              "      <th>10</th>\n",
              "      <td>19.9</td>\n",
              "      <td>0.0</td>\n",
              "      <td>21.296723</td>\n",
              "    </tr>\n",
              "    <tr>\n",
              "      <th>11</th>\n",
              "      <td>23.1</td>\n",
              "      <td>0.0</td>\n",
              "      <td>19.262741</td>\n",
              "    </tr>\n",
              "    <tr>\n",
              "      <th>12</th>\n",
              "      <td>20.2</td>\n",
              "      <td>0.0</td>\n",
              "      <td>16.777263</td>\n",
              "    </tr>\n",
              "    <tr>\n",
              "      <th>13</th>\n",
              "      <td>13.6</td>\n",
              "      <td>0.0</td>\n",
              "      <td>24.009654</td>\n",
              "    </tr>\n",
              "    <tr>\n",
              "      <th>14</th>\n",
              "      <td>19.6</td>\n",
              "      <td>0.0</td>\n",
              "      <td>23.500785</td>\n",
              "    </tr>\n",
              "  </tbody>\n",
              "</table>\n",
              "</div>"
            ],
            "text/plain": [
              "       y  y_pred      y_min\n",
              "0   24.0     0.0  22.267535\n",
              "1   21.6     0.0  21.928179\n",
              "2   33.4     0.0  19.077140\n",
              "3   36.2     0.0  19.819029\n",
              "4   22.9     0.0  22.532170\n",
              "5   15.0     0.0  24.598919\n",
              "6   18.9     0.0  23.557982\n",
              "7   21.7     0.0  21.008860\n",
              "8   20.4     0.0  21.623121\n",
              "9   18.2     0.0  22.523735\n",
              "10  19.9     0.0  21.296723\n",
              "11  23.1     0.0  19.262741\n",
              "12  20.2     0.0  16.777263\n",
              "13  13.6     0.0  24.009654\n",
              "14  19.6     0.0  23.500785"
            ]
          },
          "metadata": {
            "tags": []
          },
          "execution_count": 45
        }
      ]
    },
    {
      "cell_type": "code",
      "metadata": {
        "id": "KPKbrbByVAgA",
        "colab_type": "code",
        "colab": {}
      },
      "source": [
        "nms = minimize(loss, w, method='nelder-mead')"
      ],
      "execution_count": 0,
      "outputs": []
    },
    {
      "cell_type": "code",
      "metadata": {
        "id": "IgtHiVvoVFOc",
        "colab_type": "code",
        "outputId": "f75c3696-4c74-46e4-9bec-c9fe1915b66b",
        "colab": {
          "base_uri": "https://localhost:8080/",
          "height": 34
        }
      },
      "source": [
        "nms.x.shape"
      ],
      "execution_count": 0,
      "outputs": [
        {
          "output_type": "execute_result",
          "data": {
            "text/plain": [
              "(14,)"
            ]
          },
          "metadata": {
            "tags": []
          },
          "execution_count": 47
        }
      ]
    },
    {
      "cell_type": "code",
      "metadata": {
        "id": "4d1kNqSrVH-o",
        "colab_type": "code",
        "colab": {}
      },
      "source": [
        "out_2 = pd.DataFrame({'y': y[:,0], 'y_pred': y_pred[:,0], 'y_min': pred(x, nms.x)})"
      ],
      "execution_count": 0,
      "outputs": []
    },
    {
      "cell_type": "code",
      "metadata": {
        "id": "bdFuEpj8VKT3",
        "colab_type": "code",
        "outputId": "d7550a56-d67d-4a82-fbd5-f1c6e940342b",
        "colab": {
          "base_uri": "https://localhost:8080/",
          "height": 203
        }
      },
      "source": [
        "out_2.head()"
      ],
      "execution_count": 0,
      "outputs": [
        {
          "output_type": "execute_result",
          "data": {
            "text/html": [
              "<div>\n",
              "<style scoped>\n",
              "    .dataframe tbody tr th:only-of-type {\n",
              "        vertical-align: middle;\n",
              "    }\n",
              "\n",
              "    .dataframe tbody tr th {\n",
              "        vertical-align: top;\n",
              "    }\n",
              "\n",
              "    .dataframe thead th {\n",
              "        text-align: right;\n",
              "    }\n",
              "</style>\n",
              "<table border=\"1\" class=\"dataframe\">\n",
              "  <thead>\n",
              "    <tr style=\"text-align: right;\">\n",
              "      <th></th>\n",
              "      <th>y</th>\n",
              "      <th>y_pred</th>\n",
              "      <th>y_min</th>\n",
              "    </tr>\n",
              "  </thead>\n",
              "  <tbody>\n",
              "    <tr>\n",
              "      <th>0</th>\n",
              "      <td>24.0</td>\n",
              "      <td>0.0</td>\n",
              "      <td>23.943220</td>\n",
              "    </tr>\n",
              "    <tr>\n",
              "      <th>1</th>\n",
              "      <td>21.6</td>\n",
              "      <td>0.0</td>\n",
              "      <td>23.307230</td>\n",
              "    </tr>\n",
              "    <tr>\n",
              "      <th>2</th>\n",
              "      <td>33.4</td>\n",
              "      <td>0.0</td>\n",
              "      <td>21.672159</td>\n",
              "    </tr>\n",
              "    <tr>\n",
              "      <th>3</th>\n",
              "      <td>36.2</td>\n",
              "      <td>0.0</td>\n",
              "      <td>22.230856</td>\n",
              "    </tr>\n",
              "    <tr>\n",
              "      <th>4</th>\n",
              "      <td>22.9</td>\n",
              "      <td>0.0</td>\n",
              "      <td>23.130217</td>\n",
              "    </tr>\n",
              "  </tbody>\n",
              "</table>\n",
              "</div>"
            ],
            "text/plain": [
              "      y  y_pred      y_min\n",
              "0  24.0     0.0  23.943220\n",
              "1  21.6     0.0  23.307230\n",
              "2  33.4     0.0  21.672159\n",
              "3  36.2     0.0  22.230856\n",
              "4  22.9     0.0  23.130217"
            ]
          },
          "metadata": {
            "tags": []
          },
          "execution_count": 49
        }
      ]
    },
    {
      "cell_type": "markdown",
      "metadata": {
        "id": "uGTcBtw_7K03",
        "colab_type": "text"
      },
      "source": [
        "## Afternoon Session\n",
        "### Scikit-Learn"
      ]
    },
    {
      "cell_type": "code",
      "metadata": {
        "id": "UWVind_a6p3N",
        "colab_type": "code",
        "colab": {}
      },
      "source": [
        "import pandas as pd\n",
        "import numpy as np\n",
        "import math\n",
        "\n",
        "from scipy import stats\n",
        "\n",
        "import matplotlib.pyplot as plt\n",
        "import seaborn as sns\n",
        "\n",
        "%matplotlib inline\n",
        "\n",
        "# model selection\n",
        "from sklearn.model_selection import train_test_split\n",
        "from sklearn.model_selection import GridSearchCV\n",
        "\n",
        "# feature selection\n",
        "from sklearn.feature_selection import RFECV\n",
        "\n",
        "# pipeline\n",
        "from sklearn.pipeline import Pipeline\n",
        "\n",
        "# preprocessing\n",
        "from sklearn.preprocessing import MinMaxScaler\n",
        "from sklearn.preprocessing import StandardScaler\n",
        "from sklearn.preprocessing import PolynomialFeatures\n",
        "\n",
        "# metrics\n",
        "from sklearn.metrics import mean_squared_error\n",
        "from sklearn.metrics import accuracy_score\n",
        "\n",
        "# LinearRegression\n",
        "from sklearn.linear_model import LinearRegression\n",
        "from sklearn.linear_model import Ridge\n",
        "from sklearn.linear_model import Lasso\n",
        "\n",
        "# Neighbors\n",
        "from sklearn.neighbors import KNeighborsRegressor\n",
        "\n",
        "# Clustering\n",
        "from sklearn.cluster import KMeans\n",
        "from scipy.cluster.hierarchy import linkage, dendrogram, fcluster\n",
        "\n",
        "# t-SNE\n",
        "from sklearn.manifold import TSNE\n",
        "\n",
        "# PCA\n",
        "from sklearn.decomposition import PCA"
      ],
      "execution_count": 0,
      "outputs": []
    },
    {
      "cell_type": "code",
      "metadata": {
        "id": "KGP0zoTPRKmv",
        "colab_type": "code",
        "colab": {}
      },
      "source": [
        "train_df = pd.read_csv('/content/gdrive/My Drive/boston/train.csv', index_col='ID')\n",
        "test_df = pd.read_csv('/content/gdrive/My Drive/boston/test.csv', index_col='ID')"
      ],
      "execution_count": 0,
      "outputs": []
    },
    {
      "cell_type": "code",
      "metadata": {
        "id": "X7LsmvjTROB8",
        "colab_type": "code",
        "outputId": "77770b35-6727-4eb4-cb55-2e0a351a7316",
        "colab": {
          "base_uri": "https://localhost:8080/",
          "height": 340
        }
      },
      "source": [
        "train_df.info()"
      ],
      "execution_count": 0,
      "outputs": [
        {
          "output_type": "stream",
          "text": [
            "<class 'pandas.core.frame.DataFrame'>\n",
            "Int64Index: 333 entries, 1 to 506\n",
            "Data columns (total 14 columns):\n",
            "crim       333 non-null float64\n",
            "zn         333 non-null float64\n",
            "indus      333 non-null float64\n",
            "chas       333 non-null int64\n",
            "nox        333 non-null float64\n",
            "rm         333 non-null float64\n",
            "age        333 non-null float64\n",
            "dis        333 non-null float64\n",
            "rad        333 non-null int64\n",
            "tax        333 non-null int64\n",
            "ptratio    333 non-null float64\n",
            "black      333 non-null float64\n",
            "lstat      333 non-null float64\n",
            "medv       333 non-null float64\n",
            "dtypes: float64(11), int64(3)\n",
            "memory usage: 39.0 KB\n"
          ],
          "name": "stdout"
        }
      ]
    },
    {
      "cell_type": "markdown",
      "metadata": {
        "id": "n4cMDLVjRcSF",
        "colab_type": "text"
      },
      "source": [
        "Create a subset of data to work with"
      ]
    },
    {
      "cell_type": "code",
      "metadata": {
        "id": "9GdT860dRbfc",
        "colab_type": "code",
        "outputId": "edd2f1f5-bf62-4184-97bf-a08c0a9294f4",
        "colab": {
          "base_uri": "https://localhost:8080/",
          "height": 51
        }
      },
      "source": [
        "use_cols = ['chas', 'nox', 'rm', 'dis', 'ptratio', 'lstat']\n",
        "#predictors = train_df.drop('medv', axis=1)\n",
        "predictors = train_df[['rm']]\n",
        "target = train_df['medv']\n",
        "print(predictors.shape)\n",
        "print(target.shape)"
      ],
      "execution_count": 0,
      "outputs": [
        {
          "output_type": "stream",
          "text": [
            "(333, 1)\n",
            "(333,)\n"
          ],
          "name": "stdout"
        }
      ]
    },
    {
      "cell_type": "markdown",
      "metadata": {
        "id": "QC0ONWZqRlNg",
        "colab_type": "text"
      },
      "source": [
        "Create training and validation datasets"
      ]
    },
    {
      "cell_type": "code",
      "metadata": {
        "id": "rcOABBaoRnxb",
        "colab_type": "code",
        "colab": {}
      },
      "source": [
        "# train test split\n",
        "X_train, X_test, y_train, y_test = train_test_split(predictors, target, test_size=0.3, random_state=40)"
      ],
      "execution_count": 0,
      "outputs": []
    },
    {
      "cell_type": "markdown",
      "metadata": {
        "id": "KPV2zpy7SRC3",
        "colab_type": "text"
      },
      "source": [
        "### Implement Linear Regression"
      ]
    },
    {
      "cell_type": "code",
      "metadata": {
        "id": "zmIO4eeKSN9D",
        "colab_type": "code",
        "colab": {}
      },
      "source": [
        "lr = LinearRegression()"
      ],
      "execution_count": 0,
      "outputs": []
    },
    {
      "cell_type": "code",
      "metadata": {
        "id": "dayJbW_ZVxvi",
        "colab_type": "code",
        "outputId": "6dbe8e37-31f1-44c3-ed81-783b5b28b751",
        "colab": {
          "base_uri": "https://localhost:8080/",
          "height": 34
        }
      },
      "source": [
        "lr.fit(X_train, y_train)"
      ],
      "execution_count": 0,
      "outputs": [
        {
          "output_type": "execute_result",
          "data": {
            "text/plain": [
              "LinearRegression(copy_X=True, fit_intercept=True, n_jobs=None, normalize=False)"
            ]
          },
          "metadata": {
            "tags": []
          },
          "execution_count": 9
        }
      ]
    },
    {
      "cell_type": "code",
      "metadata": {
        "id": "kdPk3q7WV1qW",
        "colab_type": "code",
        "colab": {}
      },
      "source": [
        "y_pred = lr.predict(X_test)"
      ],
      "execution_count": 0,
      "outputs": []
    },
    {
      "cell_type": "code",
      "metadata": {
        "id": "YfNVqh5FV9Md",
        "colab_type": "code",
        "outputId": "9bd9d296-74a7-46aa-8f20-3e64bd833b3a",
        "colab": {
          "base_uri": "https://localhost:8080/",
          "height": 235
        }
      },
      "source": [
        "_preds_df = pd.DataFrame(dict(observed=y_test, predicted=y_pred))\n",
        "_preds_df.head()"
      ],
      "execution_count": 0,
      "outputs": [
        {
          "output_type": "execute_result",
          "data": {
            "text/html": [
              "<div>\n",
              "<style scoped>\n",
              "    .dataframe tbody tr th:only-of-type {\n",
              "        vertical-align: middle;\n",
              "    }\n",
              "\n",
              "    .dataframe tbody tr th {\n",
              "        vertical-align: top;\n",
              "    }\n",
              "\n",
              "    .dataframe thead th {\n",
              "        text-align: right;\n",
              "    }\n",
              "</style>\n",
              "<table border=\"1\" class=\"dataframe\">\n",
              "  <thead>\n",
              "    <tr style=\"text-align: right;\">\n",
              "      <th></th>\n",
              "      <th>observed</th>\n",
              "      <th>predicted</th>\n",
              "    </tr>\n",
              "    <tr>\n",
              "      <th>ID</th>\n",
              "      <th></th>\n",
              "      <th></th>\n",
              "    </tr>\n",
              "  </thead>\n",
              "  <tbody>\n",
              "    <tr>\n",
              "      <th>250</th>\n",
              "      <td>26.2</td>\n",
              "      <td>27.250909</td>\n",
              "    </tr>\n",
              "    <tr>\n",
              "      <th>395</th>\n",
              "      <td>12.7</td>\n",
              "      <td>19.037975</td>\n",
              "    </tr>\n",
              "    <tr>\n",
              "      <th>212</th>\n",
              "      <td>19.3</td>\n",
              "      <td>14.264393</td>\n",
              "    </tr>\n",
              "    <tr>\n",
              "      <th>19</th>\n",
              "      <td>20.2</td>\n",
              "      <td>14.778319</td>\n",
              "    </tr>\n",
              "    <tr>\n",
              "      <th>452</th>\n",
              "      <td>15.2</td>\n",
              "      <td>26.628267</td>\n",
              "    </tr>\n",
              "  </tbody>\n",
              "</table>\n",
              "</div>"
            ],
            "text/plain": [
              "     observed  predicted\n",
              "ID                      \n",
              "250      26.2  27.250909\n",
              "395      12.7  19.037975\n",
              "212      19.3  14.264393\n",
              "19       20.2  14.778319\n",
              "452      15.2  26.628267"
            ]
          },
          "metadata": {
            "tags": []
          },
          "execution_count": 11
        }
      ]
    },
    {
      "cell_type": "markdown",
      "metadata": {
        "id": "6VJlu3FNtKHo",
        "colab_type": "text"
      },
      "source": [
        "How do we evaluate the accuracy of our model?"
      ]
    },
    {
      "cell_type": "code",
      "metadata": {
        "id": "hJLkp0QGs-jC",
        "colab_type": "code",
        "outputId": "ad5910e8-ac7f-45e8-c464-36fda7313933",
        "colab": {
          "base_uri": "https://localhost:8080/",
          "height": 51
        }
      },
      "source": [
        "print('Score: {}'.format(lr.score(X_test, y_test)))\n",
        "print('MSE: {}'.format(mean_squared_error(y_test, y_pred)))"
      ],
      "execution_count": 0,
      "outputs": [
        {
          "output_type": "stream",
          "text": [
            "Score: 0.307533457797038\n",
            "MSE: 53.2580691757458\n"
          ],
          "name": "stdout"
        }
      ]
    },
    {
      "cell_type": "markdown",
      "metadata": {
        "id": "qiP2_m1cupW1",
        "colab_type": "text"
      },
      "source": [
        "### Can we build a better model?\n",
        "* Let's start by looking at our data again."
      ]
    },
    {
      "cell_type": "code",
      "metadata": {
        "id": "sK5xVaSetsVI",
        "colab_type": "code",
        "outputId": "2656d006-4d46-46b4-c5a0-c275c1deebed",
        "colab": {
          "base_uri": "https://localhost:8080/",
          "height": 232
        }
      },
      "source": [
        "plt.scatter(_rooms, _medv)\n",
        "plt.plot(_r, _m, color='red', linewidth=3)\n",
        "plt.xlabel('No of Rooms')\n",
        "plt.ylabel('Median Value')\n",
        "plt.show()"
      ],
      "execution_count": 0,
      "outputs": [
        {
          "output_type": "error",
          "ename": "NameError",
          "evalue": "ignored",
          "traceback": [
            "\u001b[0;31m---------------------------------------------------------------------------\u001b[0m",
            "\u001b[0;31mNameError\u001b[0m                                 Traceback (most recent call last)",
            "\u001b[0;32m<ipython-input-13-3892029e3e2c>\u001b[0m in \u001b[0;36m<module>\u001b[0;34m()\u001b[0m\n\u001b[0;32m----> 1\u001b[0;31m \u001b[0mplt\u001b[0m\u001b[0;34m.\u001b[0m\u001b[0mscatter\u001b[0m\u001b[0;34m(\u001b[0m\u001b[0m_rooms\u001b[0m\u001b[0;34m,\u001b[0m \u001b[0m_medv\u001b[0m\u001b[0;34m)\u001b[0m\u001b[0;34m\u001b[0m\u001b[0;34m\u001b[0m\u001b[0m\n\u001b[0m\u001b[1;32m      2\u001b[0m \u001b[0mplt\u001b[0m\u001b[0;34m.\u001b[0m\u001b[0mplot\u001b[0m\u001b[0;34m(\u001b[0m\u001b[0m_r\u001b[0m\u001b[0;34m,\u001b[0m \u001b[0m_m\u001b[0m\u001b[0;34m,\u001b[0m \u001b[0mcolor\u001b[0m\u001b[0;34m=\u001b[0m\u001b[0;34m'red'\u001b[0m\u001b[0;34m,\u001b[0m \u001b[0mlinewidth\u001b[0m\u001b[0;34m=\u001b[0m\u001b[0;36m3\u001b[0m\u001b[0;34m)\u001b[0m\u001b[0;34m\u001b[0m\u001b[0;34m\u001b[0m\u001b[0m\n\u001b[1;32m      3\u001b[0m \u001b[0mplt\u001b[0m\u001b[0;34m.\u001b[0m\u001b[0mxlabel\u001b[0m\u001b[0;34m(\u001b[0m\u001b[0;34m'No of Rooms'\u001b[0m\u001b[0;34m)\u001b[0m\u001b[0;34m\u001b[0m\u001b[0;34m\u001b[0m\u001b[0m\n\u001b[1;32m      4\u001b[0m \u001b[0mplt\u001b[0m\u001b[0;34m.\u001b[0m\u001b[0mylabel\u001b[0m\u001b[0;34m(\u001b[0m\u001b[0;34m'Median Value'\u001b[0m\u001b[0;34m)\u001b[0m\u001b[0;34m\u001b[0m\u001b[0;34m\u001b[0m\u001b[0m\n\u001b[1;32m      5\u001b[0m \u001b[0mplt\u001b[0m\u001b[0;34m.\u001b[0m\u001b[0mshow\u001b[0m\u001b[0;34m(\u001b[0m\u001b[0;34m)\u001b[0m\u001b[0;34m\u001b[0m\u001b[0;34m\u001b[0m\u001b[0m\n",
            "\u001b[0;31mNameError\u001b[0m: name '_rooms' is not defined"
          ]
        }
      ]
    },
    {
      "cell_type": "markdown",
      "metadata": {
        "id": "VNU2Z700u-Q9",
        "colab_type": "text"
      },
      "source": [
        "* do the data points form a linear relationship? What if we hypothesize a quadratic relationship?\n",
        "\n",
        "$y = w_0 + w_1.x_1 + w_2.x_1^2$"
      ]
    },
    {
      "cell_type": "code",
      "metadata": {
        "id": "Cf3JqKVsu7he",
        "colab_type": "code",
        "outputId": "92fd854c-05fc-48d3-b94e-d585bb2f0e46",
        "colab": {
          "base_uri": "https://localhost:8080/",
          "height": 235
        }
      },
      "source": [
        "predictors.head()"
      ],
      "execution_count": 0,
      "outputs": [
        {
          "output_type": "execute_result",
          "data": {
            "text/html": [
              "<div>\n",
              "<style scoped>\n",
              "    .dataframe tbody tr th:only-of-type {\n",
              "        vertical-align: middle;\n",
              "    }\n",
              "\n",
              "    .dataframe tbody tr th {\n",
              "        vertical-align: top;\n",
              "    }\n",
              "\n",
              "    .dataframe thead th {\n",
              "        text-align: right;\n",
              "    }\n",
              "</style>\n",
              "<table border=\"1\" class=\"dataframe\">\n",
              "  <thead>\n",
              "    <tr style=\"text-align: right;\">\n",
              "      <th></th>\n",
              "      <th>rm</th>\n",
              "    </tr>\n",
              "    <tr>\n",
              "      <th>ID</th>\n",
              "      <th></th>\n",
              "    </tr>\n",
              "  </thead>\n",
              "  <tbody>\n",
              "    <tr>\n",
              "      <th>1</th>\n",
              "      <td>6.575</td>\n",
              "    </tr>\n",
              "    <tr>\n",
              "      <th>2</th>\n",
              "      <td>6.421</td>\n",
              "    </tr>\n",
              "    <tr>\n",
              "      <th>4</th>\n",
              "      <td>6.998</td>\n",
              "    </tr>\n",
              "    <tr>\n",
              "      <th>5</th>\n",
              "      <td>7.147</td>\n",
              "    </tr>\n",
              "    <tr>\n",
              "      <th>7</th>\n",
              "      <td>6.012</td>\n",
              "    </tr>\n",
              "  </tbody>\n",
              "</table>\n",
              "</div>"
            ],
            "text/plain": [
              "       rm\n",
              "ID       \n",
              "1   6.575\n",
              "2   6.421\n",
              "4   6.998\n",
              "5   7.147\n",
              "7   6.012"
            ]
          },
          "metadata": {
            "tags": []
          },
          "execution_count": 14
        }
      ]
    },
    {
      "cell_type": "markdown",
      "metadata": {
        "id": "pxXnabwrv0uJ",
        "colab_type": "text"
      },
      "source": [
        "* Let's engineer a new feature by taking the square of the rooms"
      ]
    },
    {
      "cell_type": "code",
      "metadata": {
        "id": "bS6LPxaSvyeO",
        "colab_type": "code",
        "outputId": "1272ffac-9d39-450e-aac1-23cc2c619965",
        "colab": {
          "base_uri": "https://localhost:8080/",
          "height": 119
        }
      },
      "source": [
        "predictors['rm_2'] = predictors['rm'].map(lambda x: x ** 2)"
      ],
      "execution_count": 0,
      "outputs": [
        {
          "output_type": "stream",
          "text": [
            "/usr/local/lib/python3.6/dist-packages/ipykernel_launcher.py:1: SettingWithCopyWarning: \n",
            "A value is trying to be set on a copy of a slice from a DataFrame.\n",
            "Try using .loc[row_indexer,col_indexer] = value instead\n",
            "\n",
            "See the caveats in the documentation: http://pandas.pydata.org/pandas-docs/stable/indexing.html#indexing-view-versus-copy\n",
            "  \"\"\"Entry point for launching an IPython kernel.\n"
          ],
          "name": "stderr"
        }
      ]
    },
    {
      "cell_type": "code",
      "metadata": {
        "id": "Lm0Uls-LwEx-",
        "colab_type": "code",
        "outputId": "8daac134-157d-4af1-f9fe-1fa13ee5788b",
        "colab": {
          "base_uri": "https://localhost:8080/",
          "height": 235
        }
      },
      "source": [
        "predictors.head()"
      ],
      "execution_count": 0,
      "outputs": [
        {
          "output_type": "execute_result",
          "data": {
            "text/html": [
              "<div>\n",
              "<style scoped>\n",
              "    .dataframe tbody tr th:only-of-type {\n",
              "        vertical-align: middle;\n",
              "    }\n",
              "\n",
              "    .dataframe tbody tr th {\n",
              "        vertical-align: top;\n",
              "    }\n",
              "\n",
              "    .dataframe thead th {\n",
              "        text-align: right;\n",
              "    }\n",
              "</style>\n",
              "<table border=\"1\" class=\"dataframe\">\n",
              "  <thead>\n",
              "    <tr style=\"text-align: right;\">\n",
              "      <th></th>\n",
              "      <th>rm</th>\n",
              "      <th>rm_2</th>\n",
              "    </tr>\n",
              "    <tr>\n",
              "      <th>ID</th>\n",
              "      <th></th>\n",
              "      <th></th>\n",
              "    </tr>\n",
              "  </thead>\n",
              "  <tbody>\n",
              "    <tr>\n",
              "      <th>1</th>\n",
              "      <td>6.575</td>\n",
              "      <td>43.230625</td>\n",
              "    </tr>\n",
              "    <tr>\n",
              "      <th>2</th>\n",
              "      <td>6.421</td>\n",
              "      <td>41.229241</td>\n",
              "    </tr>\n",
              "    <tr>\n",
              "      <th>4</th>\n",
              "      <td>6.998</td>\n",
              "      <td>48.972004</td>\n",
              "    </tr>\n",
              "    <tr>\n",
              "      <th>5</th>\n",
              "      <td>7.147</td>\n",
              "      <td>51.079609</td>\n",
              "    </tr>\n",
              "    <tr>\n",
              "      <th>7</th>\n",
              "      <td>6.012</td>\n",
              "      <td>36.144144</td>\n",
              "    </tr>\n",
              "  </tbody>\n",
              "</table>\n",
              "</div>"
            ],
            "text/plain": [
              "       rm       rm_2\n",
              "ID                  \n",
              "1   6.575  43.230625\n",
              "2   6.421  41.229241\n",
              "4   6.998  48.972004\n",
              "5   7.147  51.079609\n",
              "7   6.012  36.144144"
            ]
          },
          "metadata": {
            "tags": []
          },
          "execution_count": 16
        }
      ]
    },
    {
      "cell_type": "markdown",
      "metadata": {
        "id": "tQffR7B3xq0T",
        "colab_type": "text"
      },
      "source": [
        "### Let's train a new model"
      ]
    },
    {
      "cell_type": "code",
      "metadata": {
        "id": "LvnHjbOHwNBL",
        "colab_type": "code",
        "outputId": "536ae103-625d-4465-ee6f-71c94ba8b589",
        "colab": {
          "base_uri": "https://localhost:8080/",
          "height": 51
        }
      },
      "source": [
        "# train test split\n",
        "X_train, X_test, y_train, y_test = train_test_split(predictors, target, test_size=0.3, random_state=40)\n",
        "\n",
        "lr_2 = LinearRegression()\n",
        "lr_2.fit(X_train, y_train)\n",
        "y_pred = lr_2.predict(X_test)\n",
        "\n",
        "_preds_df = pd.DataFrame(dict(observed=y_test, predicted=y_pred))\n",
        "_preds_df.head()\n",
        "\n",
        "print('Score: {}'.format(lr_2.score(X_test, y_test)))\n",
        "print('MSE: {}'.format(mean_squared_error(y_test, y_pred)))"
      ],
      "execution_count": 0,
      "outputs": [
        {
          "output_type": "stream",
          "text": [
            "Score: 0.5010585241130413\n",
            "MSE: 38.37392569596222\n"
          ],
          "name": "stdout"
        }
      ]
    },
    {
      "cell_type": "markdown",
      "metadata": {
        "id": "A6iJNkc-027k",
        "colab_type": "text"
      },
      "source": [
        "## Train a new model using more features"
      ]
    },
    {
      "cell_type": "code",
      "metadata": {
        "id": "eQJSv1nh0514",
        "colab_type": "code",
        "outputId": "b3179a8f-a827-4f39-d548-8bc9f0192511",
        "colab": {
          "base_uri": "https://localhost:8080/",
          "height": 340
        }
      },
      "source": [
        "train_df.info()"
      ],
      "execution_count": 0,
      "outputs": [
        {
          "output_type": "stream",
          "text": [
            "<class 'pandas.core.frame.DataFrame'>\n",
            "Int64Index: 333 entries, 1 to 506\n",
            "Data columns (total 14 columns):\n",
            "crim       333 non-null float64\n",
            "zn         333 non-null float64\n",
            "indus      333 non-null float64\n",
            "chas       333 non-null int64\n",
            "nox        333 non-null float64\n",
            "rm         333 non-null float64\n",
            "age        333 non-null float64\n",
            "dis        333 non-null float64\n",
            "rad        333 non-null int64\n",
            "tax        333 non-null int64\n",
            "ptratio    333 non-null float64\n",
            "black      333 non-null float64\n",
            "lstat      333 non-null float64\n",
            "medv       333 non-null float64\n",
            "dtypes: float64(11), int64(3)\n",
            "memory usage: 39.0 KB\n"
          ],
          "name": "stdout"
        }
      ]
    },
    {
      "cell_type": "code",
      "metadata": {
        "id": "09UML2UD22RF",
        "colab_type": "code",
        "colab": {}
      },
      "source": [
        "#extract y\n",
        "y = train_df['medv'].values\n",
        "\n",
        "#engineer new features (optional)\n",
        "train_df['new_feature'] = train_df['tax'].map(lambda x: x ** 3)\n",
        "#extract x\n",
        "x = train_df[['crim', 'tax', 'black', 'new_feature']].values"
      ],
      "execution_count": 0,
      "outputs": []
    },
    {
      "cell_type": "code",
      "metadata": {
        "id": "VdeH-kiF3UXc",
        "colab_type": "code",
        "colab": {}
      },
      "source": [
        "#split the data using train_test_split"
      ],
      "execution_count": 0,
      "outputs": []
    },
    {
      "cell_type": "code",
      "metadata": {
        "id": "HKCm898A3bOp",
        "colab_type": "code",
        "colab": {}
      },
      "source": [
        "#use LinearRegresson to `.fit()`"
      ],
      "execution_count": 0,
      "outputs": []
    },
    {
      "cell_type": "code",
      "metadata": {
        "id": "dWt5IPVp3_me",
        "colab_type": "code",
        "colab": {}
      },
      "source": [
        "#evaluate using `.score()`"
      ],
      "execution_count": 0,
      "outputs": []
    },
    {
      "cell_type": "code",
      "metadata": {
        "id": "4Y8L0-RqEmxz",
        "colab_type": "code",
        "colab": {}
      },
      "source": [
        "sns."
      ],
      "execution_count": 0,
      "outputs": []
    },
    {
      "cell_type": "code",
      "metadata": {
        "id": "J6Fu6LzdDTUg",
        "colab_type": "code",
        "outputId": "9f015fb7-90b2-46d5-d6e9-a5c3d53d5acf",
        "colab": {
          "base_uri": "https://localhost:8080/",
          "height": 51
        }
      },
      "source": [
        "use_cols = ['chas', 'nox', 'rm', 'dis', 'ptratio', 'lstat']\n",
        "predictors = train_df.drop('medv', axis=1)\n",
        "#predictors = train_df[use_cols]\n",
        "target = train_df['medv']\n",
        "print(predictors.shape)\n",
        "print(target.shape)"
      ],
      "execution_count": 0,
      "outputs": [
        {
          "output_type": "stream",
          "text": [
            "(333, 13)\n",
            "(333,)\n"
          ],
          "name": "stdout"
        }
      ]
    },
    {
      "cell_type": "code",
      "metadata": {
        "id": "IS5eRLizDaN0",
        "colab_type": "code",
        "colab": {}
      },
      "source": [
        "# train test split\n",
        "X_train, X_test, y_train, y_test = train_test_split(predictors, target, test_size=0.3, random_state=40)"
      ],
      "execution_count": 0,
      "outputs": []
    },
    {
      "cell_type": "code",
      "metadata": {
        "id": "xq9FY1FZDbAv",
        "colab_type": "code",
        "colab": {}
      },
      "source": [
        "steps = [\n",
        "    ('scaler', MinMaxScaler()),\n",
        "    ('model', LinearRegression())\n",
        "]\n",
        "pipeline = Pipeline(steps)"
      ],
      "execution_count": 0,
      "outputs": []
    },
    {
      "cell_type": "code",
      "metadata": {
        "id": "pQjE0ECIEIxp",
        "colab_type": "code",
        "colab": {}
      },
      "source": [
        "parameters = {\n",
        "    'model__normalize': [False, True]\n",
        "}"
      ],
      "execution_count": 0,
      "outputs": []
    },
    {
      "cell_type": "code",
      "metadata": {
        "id": "4GVYMidcD3mo",
        "colab_type": "code",
        "outputId": "d853ca01-5f8f-42c7-9e8b-017ef194b2c9",
        "colab": {
          "base_uri": "https://localhost:8080/",
          "height": 326
        }
      },
      "source": [
        "model = GridSearchCV(pipeline, parameters)\n",
        "model.fit(X_train, y_train)"
      ],
      "execution_count": 0,
      "outputs": [
        {
          "output_type": "stream",
          "text": [
            "/usr/local/lib/python3.6/dist-packages/sklearn/model_selection/_split.py:1978: FutureWarning: The default value of cv will change from 3 to 5 in version 0.22. Specify it explicitly to silence this warning.\n",
            "  warnings.warn(CV_WARNING, FutureWarning)\n"
          ],
          "name": "stderr"
        },
        {
          "output_type": "execute_result",
          "data": {
            "text/plain": [
              "GridSearchCV(cv='warn', error_score='raise-deprecating',\n",
              "             estimator=Pipeline(memory=None,\n",
              "                                steps=[('scaler',\n",
              "                                        MinMaxScaler(copy=True,\n",
              "                                                     feature_range=(0, 1))),\n",
              "                                       ('model',\n",
              "                                        LinearRegression(copy_X=True,\n",
              "                                                         fit_intercept=True,\n",
              "                                                         n_jobs=None,\n",
              "                                                         normalize=False))],\n",
              "                                verbose=False),\n",
              "             iid='warn', n_jobs=None,\n",
              "             param_grid={'model__normalize': [False, True]},\n",
              "             pre_dispatch='2*n_jobs', refit=True, return_train_score=False,\n",
              "             scoring=None, verbose=0)"
            ]
          },
          "metadata": {
            "tags": []
          },
          "execution_count": 103
        }
      ]
    },
    {
      "cell_type": "code",
      "metadata": {
        "id": "3OOeKmnMFY0X",
        "colab_type": "code",
        "outputId": "bb317274-8357-4bf0-e996-53a338d3f62b",
        "colab": {
          "base_uri": "https://localhost:8080/",
          "height": 51
        }
      },
      "source": [
        "print('Score: {}'.format(model.score(X_test, y_test)))\n",
        "print('MSE: {}'.format(mean_squared_error(y_test, model.predict(X_test))))"
      ],
      "execution_count": 0,
      "outputs": [
        {
          "output_type": "stream",
          "text": [
            "Score: 0.6767518235607499\n",
            "MSE: 24.86123544246182\n"
          ],
          "name": "stdout"
        }
      ]
    },
    {
      "cell_type": "code",
      "metadata": {
        "colab_type": "code",
        "id": "3fBTKXLaJdQy",
        "outputId": "04a0086f-2e93-47cb-eb72-6717c60531d4",
        "colab": {
          "base_uri": "https://localhost:8080/",
          "height": 371
        }
      },
      "source": [
        "predictors = train_df.drop('medv', axis=1)\n",
        "predictors['rm_2'] = predictors['rm'].map(lambda x: x ** 2)\n",
        "X_train, X_test, y_train, y_test = train_test_split(predictors, target, test_size=0.3, random_state=40)\n",
        "columns = predictors.columns\n",
        "lr_3 = LinearRegression()\n",
        "lr_3.fit(X_train, y_train)\n",
        "print('Score: {}'.format(lr_3.score(X_test, y_test)))\n",
        "print('MSE: {}'.format(mean_squared_error(y_test, lr_3.predict(X_test))))\n",
        "coefficients = lr_3.coef_\n",
        "print(coefficients)\n",
        "feature_importance = pd.Series(coefficients, index=columns)\n",
        "ordered_feature_importance = feature_importance.abs().sort_values()\n",
        "ordered_feature_importance.plot.barh()\n",
        "plt.show()"
      ],
      "execution_count": 0,
      "outputs": [
        {
          "output_type": "stream",
          "text": [
            "Score: 0.7035216636828385\n",
            "MSE: 22.802348969029907\n",
            "[-2.24552371e-01  4.35007576e-02  8.74381441e-02  2.06301378e+00\n",
            " -1.70554962e+01 -4.68774794e+01 -8.46627654e-03 -1.32067806e+00\n",
            "  2.19934264e-01 -2.22118159e-02 -5.90076361e-01  5.39114730e-03\n",
            " -6.52934010e-01  2.25278759e-08  3.92999780e+00]\n"
          ],
          "name": "stdout"
        },
        {
          "output_type": "display_data",
          "data": {
            "image/png": "[encoded data removed]",
            "text/plain": [
              "<Figure size 432x288 with 1 Axes>"
            ]
          },
          "metadata": {
            "tags": []
          }
        }
      ]
    },
    {
      "cell_type": "code",
      "metadata": {
        "id": "xzKZeaZDMaz3",
        "colab_type": "code",
        "outputId": "812a6cd9-1f71-4071-c982-cc0fec0c5c8d",
        "colab": {
          "base_uri": "https://localhost:8080/",
          "height": 153
        }
      },
      "source": [
        "predictors = train_df[['nox', 'rm', 'chas', 'dis', 'ptratio', 'lstat', 'rad']]\n",
        "predictors['rm_2'] = predictors['rm'].map(lambda x: x ** 2)\n",
        "X_train, X_test, y_train, y_test = train_test_split(predictors, target, test_size=0.3, random_state=40)\n",
        "columns = predictors.columns\n",
        "lr_4 = LinearRegression()\n",
        "lr_4.fit(X_train, y_train)\n",
        "print('Score: {}'.format(lr_4.score(X_test, y_test)))\n",
        "print('MSE: {}'.format(mean_squared_error(y_test, lr_4.predict(X_test))))"
      ],
      "execution_count": 0,
      "outputs": [
        {
          "output_type": "stream",
          "text": [
            "Score: 0.7128291443501316\n",
            "MSE: 22.08650434835895\n"
          ],
          "name": "stdout"
        },
        {
          "output_type": "stream",
          "text": [
            "/usr/local/lib/python3.6/dist-packages/ipykernel_launcher.py:2: SettingWithCopyWarning: \n",
            "A value is trying to be set on a copy of a slice from a DataFrame.\n",
            "Try using .loc[row_indexer,col_indexer] = value instead\n",
            "\n",
            "See the caveats in the documentation: http://pandas.pydata.org/pandas-docs/stable/indexing.html#indexing-view-versus-copy\n",
            "  \n"
          ],
          "name": "stderr"
        }
      ]
    },
    {
      "cell_type": "code",
      "metadata": {
        "id": "VuaYT-npPdWu",
        "colab_type": "code",
        "outputId": "1163e48e-8b10-4d61-bbe4-a1541556f01b",
        "colab": {
          "base_uri": "https://localhost:8080/",
          "height": 51
        }
      },
      "source": [
        "predictors = train_df[['nox', 'rm', 'chas', 'dis', 'ptratio', 'lstat', 'rad']]\n",
        "steps = [\n",
        "    ('scaler', MinMaxScaler()),\n",
        "    ('poly', PolynomialFeatures(3)),\n",
        "    ('model', LinearRegression())\n",
        "]\n",
        "X_train, X_test, y_train, y_test = train_test_split(predictors, target, test_size=0.3, random_state=40)\n",
        "columns = predictors.columns\n",
        "lr_5 = Pipeline(steps)\n",
        "lr_5.fit(X_train, y_train)\n",
        "print('Score: {}'.format(lr_5.score(X_test, y_test)))\n",
        "print('MSE: {}'.format(mean_squared_error(y_test, lr_5.predict(X_test))))"
      ],
      "execution_count": 0,
      "outputs": [
        {
          "output_type": "stream",
          "text": [
            "Score: -0.028930654560475055\n",
            "MSE: 79.13575117043798\n"
          ],
          "name": "stdout"
        }
      ]
    },
    {
      "cell_type": "code",
      "metadata": {
        "id": "IwmEd3e1JgNy",
        "colab_type": "code",
        "colab": {}
      },
      "source": [
        ""
      ],
      "execution_count": 0,
      "outputs": []
    }
  ]
}